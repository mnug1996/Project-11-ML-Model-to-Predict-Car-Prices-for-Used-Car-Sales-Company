{
 "cells": [
  {
   "cell_type": "markdown",
   "metadata": {},
   "source": [
    "<div class=\"alert alert-success\">\n",
    "<b>Reviewer's comment V3</b>\n",
    "\n",
    "Please take a look at the new comment below: as it turns out, the data is not actually lost after encoding. The other problem was fixed.\n",
    "    \n",
    "Thanks for taking the time to improve the project, it is accepted now, and you can move on to the next sprint. Good luck!\n",
    "\n",
    "</div>"
   ]
  },
  {
   "cell_type": "markdown",
   "metadata": {},
   "source": [
    "<div class=\"alert alert-success\">\n",
    "<b>Reviewer's comment V2</b>\n",
    "\n",
    "Most of the problems were fixed, but could you please take another look at the OrdinalEncoder and outlier removal? It seems that we're corrupting some data in the process, which shouldn't happen if we want to trust our models. \n",
    "    \n",
    "</div>"
   ]
  },
  {
   "cell_type": "markdown",
   "metadata": {},
   "source": [
    "**Review**\n",
    "\n",
    "Hi, my name is Dmitry and I will be reviewing your project.\n",
    "  \n",
    "You can find my comments in colored markdown cells:\n",
    "  \n",
    "<div class=\"alert alert-success\">\n",
    "  If everything is done successfully.\n",
    "</div>\n",
    "  \n",
    "<div class=\"alert alert-warning\">\n",
    "  If I have some (optional) suggestions, or questions to think about, or general comments.\n",
    "</div>\n",
    "  \n",
    "<div class=\"alert alert-danger\">\n",
    "  If a section requires some corrections. Work can't be accepted with red comments.\n",
    "</div>\n",
    "  \n",
    "Please don't remove my comments, as it will make further review iterations much harder for me.\n",
    "  \n",
    "Feel free to reply to my comments or ask questions using the following template:\n",
    "  \n",
    "<div class=\"alert alert-info\">\n",
    "  For your comments and questions.\n",
    "</div>\n",
    "  \n",
    "First of all, thank you for turning in the project! You did a pretty good job overall, but there are a few problems that need to be fixed before the project is accepted. Let me know if you have any questions!"
   ]
  },
  {
   "cell_type": "markdown",
   "metadata": {},
   "source": [
    "Rusty Bargain used car sales service is developing an app to attract new customers. In that app, you can quickly find out the market value of your car. You have access to historical data: technical specifications, trim versions, and prices. You need to build the model to determine the value. \n",
    "\n",
    "Rusty Bargain is interested in:\n",
    "\n",
    "- the quality of the prediction;\n",
    "- the speed of the prediction;\n",
    "- the time required for training"
   ]
  },
  {
   "cell_type": "code",
   "execution_count": 32,
   "metadata": {},
   "outputs": [],
   "source": [
    "import numpy as np\n",
    "import math\n",
    "import pandas as pd\n",
    "import timeit\n",
    "import seaborn as sns\n",
    "import matplotlib.pyplot as plt\n",
    "\n",
    "from sklearn.experimental import enable_iterative_imputer\n",
    "from sklearn.impute import IterativeImputer\n",
    "import sklearn.metrics\n",
    "import sklearn.preprocessing\n",
    "\n",
    "from sklearn.preprocessing import LabelEncoder\n",
    "from sklearn.preprocessing import OrdinalEncoder\n",
    "from sklearn.preprocessing import OneHotEncoder\n",
    "\n",
    "from sklearn.model_selection import train_test_split\n",
    "from sklearn.metrics import mean_squared_error\n",
    "from sklearn.model_selection import GridSearchCV\n",
    "import catboost as cb\n",
    "from catboost import CatBoostRegressor, Pool\n",
    "import lightgbm as lgb\n",
    "import xgboost as xgb\n",
    "from sklearn.linear_model import LinearRegression\n",
    "from sklearn.ensemble import RandomForestRegressor\n",
    "\n",
    "from sklearn.utils import shuffle\n",
    "from IPython.display import display\n",
    "from collections import Counter"
   ]
  },
  {
   "cell_type": "markdown",
   "metadata": {},
   "source": [
    "## Data preparation"
   ]
  },
  {
   "cell_type": "code",
   "execution_count": 115,
   "metadata": {},
   "outputs": [
    {
     "name": "stdout",
     "output_type": "stream",
     "text": [
      "<class 'pandas.core.frame.DataFrame'>\n",
      "RangeIndex: 354369 entries, 0 to 354368\n",
      "Data columns (total 16 columns):\n",
      " #   Column             Non-Null Count   Dtype \n",
      "---  ------             --------------   ----- \n",
      " 0   DateCrawled        354369 non-null  object\n",
      " 1   Price              354369 non-null  int64 \n",
      " 2   VehicleType        316879 non-null  object\n",
      " 3   RegistrationYear   354369 non-null  int64 \n",
      " 4   Gearbox            334536 non-null  object\n",
      " 5   Power              354369 non-null  int64 \n",
      " 6   Model              334664 non-null  object\n",
      " 7   Mileage            354369 non-null  int64 \n",
      " 8   RegistrationMonth  354369 non-null  int64 \n",
      " 9   FuelType           321474 non-null  object\n",
      " 10  Brand              354369 non-null  object\n",
      " 11  NotRepaired        283215 non-null  object\n",
      " 12  DateCreated        354369 non-null  object\n",
      " 13  NumberOfPictures   354369 non-null  int64 \n",
      " 14  PostalCode         354369 non-null  int64 \n",
      " 15  LastSeen           354369 non-null  object\n",
      "dtypes: int64(7), object(9)\n",
      "memory usage: 43.3+ MB\n"
     ]
    },
    {
     "data": {
      "text/html": [
       "<div>\n",
       "<style scoped>\n",
       "    .dataframe tbody tr th:only-of-type {\n",
       "        vertical-align: middle;\n",
       "    }\n",
       "\n",
       "    .dataframe tbody tr th {\n",
       "        vertical-align: top;\n",
       "    }\n",
       "\n",
       "    .dataframe thead th {\n",
       "        text-align: right;\n",
       "    }\n",
       "</style>\n",
       "<table border=\"1\" class=\"dataframe\">\n",
       "  <thead>\n",
       "    <tr style=\"text-align: right;\">\n",
       "      <th></th>\n",
       "      <th>DateCrawled</th>\n",
       "      <th>Price</th>\n",
       "      <th>VehicleType</th>\n",
       "      <th>RegistrationYear</th>\n",
       "      <th>Gearbox</th>\n",
       "      <th>Power</th>\n",
       "      <th>Model</th>\n",
       "      <th>Mileage</th>\n",
       "      <th>RegistrationMonth</th>\n",
       "      <th>FuelType</th>\n",
       "      <th>Brand</th>\n",
       "      <th>NotRepaired</th>\n",
       "      <th>DateCreated</th>\n",
       "      <th>NumberOfPictures</th>\n",
       "      <th>PostalCode</th>\n",
       "      <th>LastSeen</th>\n",
       "    </tr>\n",
       "  </thead>\n",
       "  <tbody>\n",
       "    <tr>\n",
       "      <th>0</th>\n",
       "      <td>24/03/2016 11:52</td>\n",
       "      <td>480</td>\n",
       "      <td>NaN</td>\n",
       "      <td>1993</td>\n",
       "      <td>manual</td>\n",
       "      <td>0</td>\n",
       "      <td>golf</td>\n",
       "      <td>150000</td>\n",
       "      <td>0</td>\n",
       "      <td>petrol</td>\n",
       "      <td>volkswagen</td>\n",
       "      <td>NaN</td>\n",
       "      <td>24/03/2016 00:00</td>\n",
       "      <td>0</td>\n",
       "      <td>70435</td>\n",
       "      <td>07/04/2016 03:16</td>\n",
       "    </tr>\n",
       "    <tr>\n",
       "      <th>1</th>\n",
       "      <td>24/03/2016 10:58</td>\n",
       "      <td>18300</td>\n",
       "      <td>coupe</td>\n",
       "      <td>2011</td>\n",
       "      <td>manual</td>\n",
       "      <td>190</td>\n",
       "      <td>NaN</td>\n",
       "      <td>125000</td>\n",
       "      <td>5</td>\n",
       "      <td>gasoline</td>\n",
       "      <td>audi</td>\n",
       "      <td>yes</td>\n",
       "      <td>24/03/2016 00:00</td>\n",
       "      <td>0</td>\n",
       "      <td>66954</td>\n",
       "      <td>07/04/2016 01:46</td>\n",
       "    </tr>\n",
       "    <tr>\n",
       "      <th>2</th>\n",
       "      <td>14/03/2016 12:52</td>\n",
       "      <td>9800</td>\n",
       "      <td>suv</td>\n",
       "      <td>2004</td>\n",
       "      <td>auto</td>\n",
       "      <td>163</td>\n",
       "      <td>grand</td>\n",
       "      <td>125000</td>\n",
       "      <td>8</td>\n",
       "      <td>gasoline</td>\n",
       "      <td>jeep</td>\n",
       "      <td>NaN</td>\n",
       "      <td>14/03/2016 00:00</td>\n",
       "      <td>0</td>\n",
       "      <td>90480</td>\n",
       "      <td>05/04/2016 12:47</td>\n",
       "    </tr>\n",
       "    <tr>\n",
       "      <th>3</th>\n",
       "      <td>17/03/2016 16:54</td>\n",
       "      <td>1500</td>\n",
       "      <td>small</td>\n",
       "      <td>2001</td>\n",
       "      <td>manual</td>\n",
       "      <td>75</td>\n",
       "      <td>golf</td>\n",
       "      <td>150000</td>\n",
       "      <td>6</td>\n",
       "      <td>petrol</td>\n",
       "      <td>volkswagen</td>\n",
       "      <td>no</td>\n",
       "      <td>17/03/2016 00:00</td>\n",
       "      <td>0</td>\n",
       "      <td>91074</td>\n",
       "      <td>17/03/2016 17:40</td>\n",
       "    </tr>\n",
       "    <tr>\n",
       "      <th>4</th>\n",
       "      <td>31/03/2016 17:25</td>\n",
       "      <td>3600</td>\n",
       "      <td>small</td>\n",
       "      <td>2008</td>\n",
       "      <td>manual</td>\n",
       "      <td>69</td>\n",
       "      <td>fabia</td>\n",
       "      <td>90000</td>\n",
       "      <td>7</td>\n",
       "      <td>gasoline</td>\n",
       "      <td>skoda</td>\n",
       "      <td>no</td>\n",
       "      <td>31/03/2016 00:00</td>\n",
       "      <td>0</td>\n",
       "      <td>60437</td>\n",
       "      <td>06/04/2016 10:17</td>\n",
       "    </tr>\n",
       "  </tbody>\n",
       "</table>\n",
       "</div>"
      ],
      "text/plain": [
       "        DateCrawled  Price VehicleType  RegistrationYear Gearbox  Power  \\\n",
       "0  24/03/2016 11:52    480         NaN              1993  manual      0   \n",
       "1  24/03/2016 10:58  18300       coupe              2011  manual    190   \n",
       "2  14/03/2016 12:52   9800         suv              2004    auto    163   \n",
       "3  17/03/2016 16:54   1500       small              2001  manual     75   \n",
       "4  31/03/2016 17:25   3600       small              2008  manual     69   \n",
       "\n",
       "   Model  Mileage  RegistrationMonth  FuelType       Brand NotRepaired  \\\n",
       "0   golf   150000                  0    petrol  volkswagen         NaN   \n",
       "1    NaN   125000                  5  gasoline        audi         yes   \n",
       "2  grand   125000                  8  gasoline        jeep         NaN   \n",
       "3   golf   150000                  6    petrol  volkswagen          no   \n",
       "4  fabia    90000                  7  gasoline       skoda          no   \n",
       "\n",
       "        DateCreated  NumberOfPictures  PostalCode          LastSeen  \n",
       "0  24/03/2016 00:00                 0       70435  07/04/2016 03:16  \n",
       "1  24/03/2016 00:00                 0       66954  07/04/2016 01:46  \n",
       "2  14/03/2016 00:00                 0       90480  05/04/2016 12:47  \n",
       "3  17/03/2016 00:00                 0       91074  17/03/2016 17:40  \n",
       "4  31/03/2016 00:00                 0       60437  06/04/2016 10:17  "
      ]
     },
     "metadata": {},
     "output_type": "display_data"
    },
    {
     "data": {
      "text/plain": [
       "None"
      ]
     },
     "metadata": {},
     "output_type": "display_data"
    }
   ],
   "source": [
    "df = pd.read_csv('/datasets/car_data.csv')\n",
    "display(df.head(), df.info())"
   ]
  },
  {
   "cell_type": "markdown",
   "metadata": {},
   "source": [
    "<div class=\"alert alert-success\">\n",
    "<b>Reviewer's comment</b>\n",
    "\n",
    "The data was loaded and inspected!\n",
    "\n",
    "</div>"
   ]
  },
  {
   "cell_type": "markdown",
   "metadata": {},
   "source": [
    "Renaming the columns for consistant style"
   ]
  },
  {
   "cell_type": "code",
   "execution_count": 116,
   "metadata": {
    "scrolled": false
   },
   "outputs": [
    {
     "data": {
      "text/html": [
       "<div>\n",
       "<style scoped>\n",
       "    .dataframe tbody tr th:only-of-type {\n",
       "        vertical-align: middle;\n",
       "    }\n",
       "\n",
       "    .dataframe tbody tr th {\n",
       "        vertical-align: top;\n",
       "    }\n",
       "\n",
       "    .dataframe thead th {\n",
       "        text-align: right;\n",
       "    }\n",
       "</style>\n",
       "<table border=\"1\" class=\"dataframe\">\n",
       "  <thead>\n",
       "    <tr style=\"text-align: right;\">\n",
       "      <th></th>\n",
       "      <th>date_crawled</th>\n",
       "      <th>price</th>\n",
       "      <th>vehicle_type</th>\n",
       "      <th>registration_year</th>\n",
       "      <th>gearbox</th>\n",
       "      <th>power</th>\n",
       "      <th>model</th>\n",
       "      <th>mileage</th>\n",
       "      <th>registration_month</th>\n",
       "      <th>fuel_type</th>\n",
       "      <th>brand</th>\n",
       "      <th>not_repaired</th>\n",
       "      <th>date_created</th>\n",
       "      <th>pictures</th>\n",
       "      <th>postal_code</th>\n",
       "      <th>last_seen</th>\n",
       "    </tr>\n",
       "  </thead>\n",
       "  <tbody>\n",
       "    <tr>\n",
       "      <th>0</th>\n",
       "      <td>24/03/2016 11:52</td>\n",
       "      <td>480</td>\n",
       "      <td>NaN</td>\n",
       "      <td>1993</td>\n",
       "      <td>manual</td>\n",
       "      <td>0</td>\n",
       "      <td>golf</td>\n",
       "      <td>150000</td>\n",
       "      <td>0</td>\n",
       "      <td>petrol</td>\n",
       "      <td>volkswagen</td>\n",
       "      <td>NaN</td>\n",
       "      <td>24/03/2016 00:00</td>\n",
       "      <td>0</td>\n",
       "      <td>70435</td>\n",
       "      <td>07/04/2016 03:16</td>\n",
       "    </tr>\n",
       "    <tr>\n",
       "      <th>1</th>\n",
       "      <td>24/03/2016 10:58</td>\n",
       "      <td>18300</td>\n",
       "      <td>coupe</td>\n",
       "      <td>2011</td>\n",
       "      <td>manual</td>\n",
       "      <td>190</td>\n",
       "      <td>NaN</td>\n",
       "      <td>125000</td>\n",
       "      <td>5</td>\n",
       "      <td>gasoline</td>\n",
       "      <td>audi</td>\n",
       "      <td>yes</td>\n",
       "      <td>24/03/2016 00:00</td>\n",
       "      <td>0</td>\n",
       "      <td>66954</td>\n",
       "      <td>07/04/2016 01:46</td>\n",
       "    </tr>\n",
       "    <tr>\n",
       "      <th>2</th>\n",
       "      <td>14/03/2016 12:52</td>\n",
       "      <td>9800</td>\n",
       "      <td>suv</td>\n",
       "      <td>2004</td>\n",
       "      <td>auto</td>\n",
       "      <td>163</td>\n",
       "      <td>grand</td>\n",
       "      <td>125000</td>\n",
       "      <td>8</td>\n",
       "      <td>gasoline</td>\n",
       "      <td>jeep</td>\n",
       "      <td>NaN</td>\n",
       "      <td>14/03/2016 00:00</td>\n",
       "      <td>0</td>\n",
       "      <td>90480</td>\n",
       "      <td>05/04/2016 12:47</td>\n",
       "    </tr>\n",
       "    <tr>\n",
       "      <th>3</th>\n",
       "      <td>17/03/2016 16:54</td>\n",
       "      <td>1500</td>\n",
       "      <td>small</td>\n",
       "      <td>2001</td>\n",
       "      <td>manual</td>\n",
       "      <td>75</td>\n",
       "      <td>golf</td>\n",
       "      <td>150000</td>\n",
       "      <td>6</td>\n",
       "      <td>petrol</td>\n",
       "      <td>volkswagen</td>\n",
       "      <td>no</td>\n",
       "      <td>17/03/2016 00:00</td>\n",
       "      <td>0</td>\n",
       "      <td>91074</td>\n",
       "      <td>17/03/2016 17:40</td>\n",
       "    </tr>\n",
       "    <tr>\n",
       "      <th>4</th>\n",
       "      <td>31/03/2016 17:25</td>\n",
       "      <td>3600</td>\n",
       "      <td>small</td>\n",
       "      <td>2008</td>\n",
       "      <td>manual</td>\n",
       "      <td>69</td>\n",
       "      <td>fabia</td>\n",
       "      <td>90000</td>\n",
       "      <td>7</td>\n",
       "      <td>gasoline</td>\n",
       "      <td>skoda</td>\n",
       "      <td>no</td>\n",
       "      <td>31/03/2016 00:00</td>\n",
       "      <td>0</td>\n",
       "      <td>60437</td>\n",
       "      <td>06/04/2016 10:17</td>\n",
       "    </tr>\n",
       "  </tbody>\n",
       "</table>\n",
       "</div>"
      ],
      "text/plain": [
       "       date_crawled  price vehicle_type  registration_year gearbox  power  \\\n",
       "0  24/03/2016 11:52    480          NaN               1993  manual      0   \n",
       "1  24/03/2016 10:58  18300        coupe               2011  manual    190   \n",
       "2  14/03/2016 12:52   9800          suv               2004    auto    163   \n",
       "3  17/03/2016 16:54   1500        small               2001  manual     75   \n",
       "4  31/03/2016 17:25   3600        small               2008  manual     69   \n",
       "\n",
       "   model  mileage  registration_month fuel_type       brand not_repaired  \\\n",
       "0   golf   150000                   0    petrol  volkswagen          NaN   \n",
       "1    NaN   125000                   5  gasoline        audi          yes   \n",
       "2  grand   125000                   8  gasoline        jeep          NaN   \n",
       "3   golf   150000                   6    petrol  volkswagen           no   \n",
       "4  fabia    90000                   7  gasoline       skoda           no   \n",
       "\n",
       "       date_created  pictures  postal_code         last_seen  \n",
       "0  24/03/2016 00:00         0        70435  07/04/2016 03:16  \n",
       "1  24/03/2016 00:00         0        66954  07/04/2016 01:46  \n",
       "2  14/03/2016 00:00         0        90480  05/04/2016 12:47  \n",
       "3  17/03/2016 00:00         0        91074  17/03/2016 17:40  \n",
       "4  31/03/2016 00:00         0        60437  06/04/2016 10:17  "
      ]
     },
     "execution_count": 116,
     "metadata": {},
     "output_type": "execute_result"
    }
   ],
   "source": [
    "df = df.rename(columns={'DateCrawled':'date_crawled', 'Price':'price', 'VehicleType':'vehicle_type', \n",
    "                        'RegistrationYear':'registration_year', 'Gearbox':'gearbox', 'Power':'power', \n",
    "                       'Model':'model', 'Mileage':'mileage', 'RegistrationMonth':'registration_month', \n",
    "                       'FuelType':'fuel_type', 'Brand':'brand', 'NotRepaired':'not_repaired', 'DateCreated':\n",
    "                       'date_created', 'NumberOfPictures':'pictures', 'PostalCode':'postal_code', 'LastSeen':\n",
    "                       'last_seen'})\n",
    "df.head()"
   ]
  },
  {
   "cell_type": "markdown",
   "metadata": {},
   "source": [
    "Since Rusty Bargain is only interested in accurate prediction of price, we can remove any features that don't really affect out target"
   ]
  },
  {
   "cell_type": "markdown",
   "metadata": {},
   "source": [
    "<div class=\"alert alert-success\">\n",
    "<b>Reviewer's comment</b>\n",
    "\n",
    "Makes sense!\n",
    "\n",
    "</div>"
   ]
  },
  {
   "cell_type": "code",
   "execution_count": 117,
   "metadata": {
    "scrolled": true
   },
   "outputs": [
    {
     "data": {
      "text/html": [
       "<div>\n",
       "<style scoped>\n",
       "    .dataframe tbody tr th:only-of-type {\n",
       "        vertical-align: middle;\n",
       "    }\n",
       "\n",
       "    .dataframe tbody tr th {\n",
       "        vertical-align: top;\n",
       "    }\n",
       "\n",
       "    .dataframe thead th {\n",
       "        text-align: right;\n",
       "    }\n",
       "</style>\n",
       "<table border=\"1\" class=\"dataframe\">\n",
       "  <thead>\n",
       "    <tr style=\"text-align: right;\">\n",
       "      <th></th>\n",
       "      <th>price</th>\n",
       "      <th>vehicle_type</th>\n",
       "      <th>registration_year</th>\n",
       "      <th>gearbox</th>\n",
       "      <th>power</th>\n",
       "      <th>model</th>\n",
       "      <th>mileage</th>\n",
       "      <th>fuel_type</th>\n",
       "      <th>brand</th>\n",
       "      <th>not_repaired</th>\n",
       "    </tr>\n",
       "  </thead>\n",
       "  <tbody>\n",
       "    <tr>\n",
       "      <th>0</th>\n",
       "      <td>480</td>\n",
       "      <td>NaN</td>\n",
       "      <td>1993</td>\n",
       "      <td>manual</td>\n",
       "      <td>0</td>\n",
       "      <td>golf</td>\n",
       "      <td>150000</td>\n",
       "      <td>petrol</td>\n",
       "      <td>volkswagen</td>\n",
       "      <td>NaN</td>\n",
       "    </tr>\n",
       "    <tr>\n",
       "      <th>1</th>\n",
       "      <td>18300</td>\n",
       "      <td>coupe</td>\n",
       "      <td>2011</td>\n",
       "      <td>manual</td>\n",
       "      <td>190</td>\n",
       "      <td>NaN</td>\n",
       "      <td>125000</td>\n",
       "      <td>gasoline</td>\n",
       "      <td>audi</td>\n",
       "      <td>yes</td>\n",
       "    </tr>\n",
       "    <tr>\n",
       "      <th>2</th>\n",
       "      <td>9800</td>\n",
       "      <td>suv</td>\n",
       "      <td>2004</td>\n",
       "      <td>auto</td>\n",
       "      <td>163</td>\n",
       "      <td>grand</td>\n",
       "      <td>125000</td>\n",
       "      <td>gasoline</td>\n",
       "      <td>jeep</td>\n",
       "      <td>NaN</td>\n",
       "    </tr>\n",
       "    <tr>\n",
       "      <th>3</th>\n",
       "      <td>1500</td>\n",
       "      <td>small</td>\n",
       "      <td>2001</td>\n",
       "      <td>manual</td>\n",
       "      <td>75</td>\n",
       "      <td>golf</td>\n",
       "      <td>150000</td>\n",
       "      <td>petrol</td>\n",
       "      <td>volkswagen</td>\n",
       "      <td>no</td>\n",
       "    </tr>\n",
       "    <tr>\n",
       "      <th>4</th>\n",
       "      <td>3600</td>\n",
       "      <td>small</td>\n",
       "      <td>2008</td>\n",
       "      <td>manual</td>\n",
       "      <td>69</td>\n",
       "      <td>fabia</td>\n",
       "      <td>90000</td>\n",
       "      <td>gasoline</td>\n",
       "      <td>skoda</td>\n",
       "      <td>no</td>\n",
       "    </tr>\n",
       "    <tr>\n",
       "      <th>...</th>\n",
       "      <td>...</td>\n",
       "      <td>...</td>\n",
       "      <td>...</td>\n",
       "      <td>...</td>\n",
       "      <td>...</td>\n",
       "      <td>...</td>\n",
       "      <td>...</td>\n",
       "      <td>...</td>\n",
       "      <td>...</td>\n",
       "      <td>...</td>\n",
       "    </tr>\n",
       "    <tr>\n",
       "      <th>354364</th>\n",
       "      <td>0</td>\n",
       "      <td>NaN</td>\n",
       "      <td>2005</td>\n",
       "      <td>manual</td>\n",
       "      <td>0</td>\n",
       "      <td>colt</td>\n",
       "      <td>150000</td>\n",
       "      <td>petrol</td>\n",
       "      <td>mitsubishi</td>\n",
       "      <td>yes</td>\n",
       "    </tr>\n",
       "    <tr>\n",
       "      <th>354365</th>\n",
       "      <td>2200</td>\n",
       "      <td>NaN</td>\n",
       "      <td>2005</td>\n",
       "      <td>NaN</td>\n",
       "      <td>0</td>\n",
       "      <td>NaN</td>\n",
       "      <td>20000</td>\n",
       "      <td>NaN</td>\n",
       "      <td>sonstige_autos</td>\n",
       "      <td>NaN</td>\n",
       "    </tr>\n",
       "    <tr>\n",
       "      <th>354366</th>\n",
       "      <td>1199</td>\n",
       "      <td>convertible</td>\n",
       "      <td>2000</td>\n",
       "      <td>auto</td>\n",
       "      <td>101</td>\n",
       "      <td>fortwo</td>\n",
       "      <td>125000</td>\n",
       "      <td>petrol</td>\n",
       "      <td>smart</td>\n",
       "      <td>no</td>\n",
       "    </tr>\n",
       "    <tr>\n",
       "      <th>354367</th>\n",
       "      <td>9200</td>\n",
       "      <td>bus</td>\n",
       "      <td>1996</td>\n",
       "      <td>manual</td>\n",
       "      <td>102</td>\n",
       "      <td>transporter</td>\n",
       "      <td>150000</td>\n",
       "      <td>gasoline</td>\n",
       "      <td>volkswagen</td>\n",
       "      <td>no</td>\n",
       "    </tr>\n",
       "    <tr>\n",
       "      <th>354368</th>\n",
       "      <td>3400</td>\n",
       "      <td>wagon</td>\n",
       "      <td>2002</td>\n",
       "      <td>manual</td>\n",
       "      <td>100</td>\n",
       "      <td>golf</td>\n",
       "      <td>150000</td>\n",
       "      <td>gasoline</td>\n",
       "      <td>volkswagen</td>\n",
       "      <td>NaN</td>\n",
       "    </tr>\n",
       "  </tbody>\n",
       "</table>\n",
       "<p>354369 rows × 10 columns</p>\n",
       "</div>"
      ],
      "text/plain": [
       "        price vehicle_type  registration_year gearbox  power        model  \\\n",
       "0         480          NaN               1993  manual      0         golf   \n",
       "1       18300        coupe               2011  manual    190          NaN   \n",
       "2        9800          suv               2004    auto    163        grand   \n",
       "3        1500        small               2001  manual     75         golf   \n",
       "4        3600        small               2008  manual     69        fabia   \n",
       "...       ...          ...                ...     ...    ...          ...   \n",
       "354364      0          NaN               2005  manual      0         colt   \n",
       "354365   2200          NaN               2005     NaN      0          NaN   \n",
       "354366   1199  convertible               2000    auto    101       fortwo   \n",
       "354367   9200          bus               1996  manual    102  transporter   \n",
       "354368   3400        wagon               2002  manual    100         golf   \n",
       "\n",
       "        mileage fuel_type           brand not_repaired  \n",
       "0        150000    petrol      volkswagen          NaN  \n",
       "1        125000  gasoline            audi          yes  \n",
       "2        125000  gasoline            jeep          NaN  \n",
       "3        150000    petrol      volkswagen           no  \n",
       "4         90000  gasoline           skoda           no  \n",
       "...         ...       ...             ...          ...  \n",
       "354364   150000    petrol      mitsubishi          yes  \n",
       "354365    20000       NaN  sonstige_autos          NaN  \n",
       "354366   125000    petrol           smart           no  \n",
       "354367   150000  gasoline      volkswagen           no  \n",
       "354368   150000  gasoline      volkswagen          NaN  \n",
       "\n",
       "[354369 rows x 10 columns]"
      ]
     },
     "execution_count": 117,
     "metadata": {},
     "output_type": "execute_result"
    }
   ],
   "source": [
    "df = df.drop(['date_crawled', 'registration_month', 'date_created', 'postal_code', 'pictures', 'last_seen'], axis=1)\n",
    "df"
   ]
  },
  {
   "cell_type": "code",
   "execution_count": 118,
   "metadata": {},
   "outputs": [
    {
     "data": {
      "text/plain": [
       "45040"
      ]
     },
     "execution_count": 118,
     "metadata": {},
     "output_type": "execute_result"
    }
   ],
   "source": [
    "#searching for duplicate rows\n",
    "len(df) - len(df.drop_duplicates())"
   ]
  },
  {
   "cell_type": "code",
   "execution_count": 119,
   "metadata": {},
   "outputs": [
    {
     "data": {
      "text/plain": [
       "0"
      ]
     },
     "execution_count": 119,
     "metadata": {},
     "output_type": "execute_result"
    }
   ],
   "source": [
    "df = df.drop_duplicates()\n",
    "len(df) - len(df.drop_duplicates())"
   ]
  },
  {
   "cell_type": "code",
   "execution_count": 120,
   "metadata": {
    "scrolled": true
   },
   "outputs": [
    {
     "data": {
      "text/plain": [
       "price                0.0\n",
       "vehicle_type           0\n",
       "registration_year    0.0\n",
       "gearbox                0\n",
       "power                0.0\n",
       "model                  0\n",
       "mileage              0.0\n",
       "fuel_type              0\n",
       "brand                  0\n",
       "not_repaired           0\n",
       "dtype: object"
      ]
     },
     "execution_count": 120,
     "metadata": {},
     "output_type": "execute_result"
    }
   ],
   "source": [
    "#Looking for 'none' str. values\n",
    "df[df == 'None'].sum()"
   ]
  },
  {
   "cell_type": "markdown",
   "metadata": {},
   "source": [
    "No 'none' values in the features"
   ]
  },
  {
   "cell_type": "markdown",
   "metadata": {},
   "source": [
    "Next, checking percentage impact of null values on the data"
   ]
  },
  {
   "cell_type": "code",
   "execution_count": 121,
   "metadata": {
    "scrolled": false
   },
   "outputs": [
    {
     "data": {
      "text/html": [
       "<div>\n",
       "<style scoped>\n",
       "    .dataframe tbody tr th:only-of-type {\n",
       "        vertical-align: middle;\n",
       "    }\n",
       "\n",
       "    .dataframe tbody tr th {\n",
       "        vertical-align: top;\n",
       "    }\n",
       "\n",
       "    .dataframe thead th {\n",
       "        text-align: right;\n",
       "    }\n",
       "</style>\n",
       "<table border=\"1\" class=\"dataframe\">\n",
       "  <thead>\n",
       "    <tr style=\"text-align: right;\">\n",
       "      <th></th>\n",
       "      <th>missing_values</th>\n",
       "      <th>% of total</th>\n",
       "    </tr>\n",
       "  </thead>\n",
       "  <tbody>\n",
       "    <tr>\n",
       "      <th>not_repaired</th>\n",
       "      <td>64558</td>\n",
       "      <td>0.21</td>\n",
       "    </tr>\n",
       "    <tr>\n",
       "      <th>vehicle_type</th>\n",
       "      <td>34559</td>\n",
       "      <td>0.11</td>\n",
       "    </tr>\n",
       "    <tr>\n",
       "      <th>fuel_type</th>\n",
       "      <td>30764</td>\n",
       "      <td>0.10</td>\n",
       "    </tr>\n",
       "    <tr>\n",
       "      <th>model</th>\n",
       "      <td>18361</td>\n",
       "      <td>0.06</td>\n",
       "    </tr>\n",
       "    <tr>\n",
       "      <th>gearbox</th>\n",
       "      <td>17207</td>\n",
       "      <td>0.06</td>\n",
       "    </tr>\n",
       "    <tr>\n",
       "      <th>price</th>\n",
       "      <td>0</td>\n",
       "      <td>0.00</td>\n",
       "    </tr>\n",
       "    <tr>\n",
       "      <th>registration_year</th>\n",
       "      <td>0</td>\n",
       "      <td>0.00</td>\n",
       "    </tr>\n",
       "    <tr>\n",
       "      <th>power</th>\n",
       "      <td>0</td>\n",
       "      <td>0.00</td>\n",
       "    </tr>\n",
       "    <tr>\n",
       "      <th>mileage</th>\n",
       "      <td>0</td>\n",
       "      <td>0.00</td>\n",
       "    </tr>\n",
       "    <tr>\n",
       "      <th>brand</th>\n",
       "      <td>0</td>\n",
       "      <td>0.00</td>\n",
       "    </tr>\n",
       "  </tbody>\n",
       "</table>\n",
       "</div>"
      ],
      "text/plain": [
       "                   missing_values  % of total\n",
       "not_repaired                64558        0.21\n",
       "vehicle_type                34559        0.11\n",
       "fuel_type                   30764        0.10\n",
       "model                       18361        0.06\n",
       "gearbox                     17207        0.06\n",
       "price                           0        0.00\n",
       "registration_year               0        0.00\n",
       "power                           0        0.00\n",
       "mileage                         0        0.00\n",
       "brand                           0        0.00"
      ]
     },
     "execution_count": 121,
     "metadata": {},
     "output_type": "execute_result"
    }
   ],
   "source": [
    "report = df.isna().sum().to_frame()\n",
    "report = report.rename(columns = {0: 'missing_values'})\n",
    "report['% of total'] = (report['missing_values'] / df.shape[0]).round(2)\n",
    "report.sort_values(by = 'missing_values', ascending = False)"
   ]
  },
  {
   "cell_type": "code",
   "execution_count": 122,
   "metadata": {
    "scrolled": true
   },
   "outputs": [
    {
     "data": {
      "text/plain": [
       "price                    0\n",
       "vehicle_type         34559\n",
       "registration_year        0\n",
       "gearbox              17207\n",
       "power                    0\n",
       "model                18361\n",
       "mileage                  0\n",
       "fuel_type            30764\n",
       "brand                    0\n",
       "not_repaired         64558\n",
       "dtype: int64"
      ]
     },
     "execution_count": 122,
     "metadata": {},
     "output_type": "execute_result"
    }
   ],
   "source": [
    "df.isna().sum()"
   ]
  },
  {
   "cell_type": "markdown",
   "metadata": {},
   "source": [
    "There are missing values for vehicle type, gearbox, model, not_repaired and fuel_type (all are categorical). \n",
    "\n",
    "We can first handle 'gearbox' and 'not_repaired' easily"
   ]
  },
  {
   "cell_type": "code",
   "execution_count": 123,
   "metadata": {},
   "outputs": [
    {
     "data": {
      "text/plain": [
       "manual    232774\n",
       "auto       59348\n",
       "Name: gearbox, dtype: int64"
      ]
     },
     "execution_count": 123,
     "metadata": {},
     "output_type": "execute_result"
    }
   ],
   "source": [
    "df['gearbox'].value_counts()"
   ]
  },
  {
   "cell_type": "code",
   "execution_count": 124,
   "metadata": {
    "scrolled": false
   },
   "outputs": [
    {
     "name": "stderr",
     "output_type": "stream",
     "text": [
      "/tmp/ipykernel_53/606906564.py:2: SettingWithCopyWarning: \n",
      "A value is trying to be set on a copy of a slice from a DataFrame.\n",
      "Try using .loc[row_indexer,col_indexer] = value instead\n",
      "\n",
      "See the caveats in the documentation: https://pandas.pydata.org/pandas-docs/stable/user_guide/indexing.html#returning-a-view-versus-a-copy\n",
      "  df[\"gearbox\"] = (df['gearbox'] == 'auto').astype('int')\n"
     ]
    },
    {
     "data": {
      "text/plain": [
       "0    249981\n",
       "1     59348\n",
       "Name: gearbox, dtype: int64"
      ]
     },
     "metadata": {},
     "output_type": "display_data"
    },
    {
     "data": {
      "text/plain": [
       "price                    0\n",
       "vehicle_type         34559\n",
       "registration_year        0\n",
       "gearbox                  0\n",
       "power                    0\n",
       "model                18361\n",
       "mileage                  0\n",
       "fuel_type            30764\n",
       "brand                    0\n",
       "not_repaired         64558\n",
       "dtype: int64"
      ]
     },
     "metadata": {},
     "output_type": "display_data"
    }
   ],
   "source": [
    "#encoding gearbox\n",
    "df[\"gearbox\"] = (df['gearbox'] == 'auto').astype('int')\n",
    "display(df['gearbox'].value_counts(), df.isna().sum())\n",
    "#auto is now '1', manual '0'\n",
    "#missing values became the majority class '0' or 'manual'"
   ]
  },
  {
   "cell_type": "markdown",
   "metadata": {},
   "source": [
    "For 'not_repaired' if it is unknown whether the vehicle was repaired or not, intuitively, it is most likely safe to assume that it was not. "
   ]
  },
  {
   "cell_type": "markdown",
   "metadata": {},
   "source": [
    "<div class=\"alert alert-success\">\n",
    "<b>Reviewer's comment</b>\n",
    "\n",
    "Yeah, it seems plausible!\n",
    "\n",
    "</div>"
   ]
  },
  {
   "cell_type": "code",
   "execution_count": 125,
   "metadata": {
    "scrolled": true
   },
   "outputs": [
    {
     "name": "stderr",
     "output_type": "stream",
     "text": [
      "/tmp/ipykernel_53/2071015503.py:1: SettingWithCopyWarning: \n",
      "A value is trying to be set on a copy of a slice from a DataFrame.\n",
      "Try using .loc[row_indexer,col_indexer] = value instead\n",
      "\n",
      "See the caveats in the documentation: https://pandas.pydata.org/pandas-docs/stable/user_guide/indexing.html#returning-a-view-versus-a-copy\n",
      "  df['not_repaired'] = df['not_repaired'].fillna('yes')\n",
      "/tmp/ipykernel_53/2071015503.py:2: SettingWithCopyWarning: \n",
      "A value is trying to be set on a copy of a slice from a DataFrame.\n",
      "Try using .loc[row_indexer,col_indexer] = value instead\n",
      "\n",
      "See the caveats in the documentation: https://pandas.pydata.org/pandas-docs/stable/user_guide/indexing.html#returning-a-view-versus-a-copy\n",
      "  df['not_repaired'] = (df['not_repaired'] == 'yes').astype('int')\n"
     ]
    },
    {
     "data": {
      "text/plain": [
       "price                    0\n",
       "vehicle_type         34559\n",
       "registration_year        0\n",
       "gearbox                  0\n",
       "power                    0\n",
       "model                18361\n",
       "mileage                  0\n",
       "fuel_type            30764\n",
       "brand                    0\n",
       "not_repaired             0\n",
       "dtype: int64"
      ]
     },
     "execution_count": 125,
     "metadata": {},
     "output_type": "execute_result"
    }
   ],
   "source": [
    "df['not_repaired'] = df['not_repaired'].fillna('yes')\n",
    "df['not_repaired'] = (df['not_repaired'] == 'yes').astype('int')\n",
    "df.isnull().sum()\n",
    "#missing values & encoding has been handled"
   ]
  },
  {
   "cell_type": "markdown",
   "metadata": {},
   "source": [
    "### Missing Values\n",
    "\n",
    "There are missing values in vehicle_type, model, and fuel_type"
   ]
  },
  {
   "cell_type": "code",
   "execution_count": 126,
   "metadata": {},
   "outputs": [
    {
     "data": {
      "text/plain": [
       "sedan          78206\n",
       "small          67548\n",
       "wagon          56367\n",
       "bus            25830\n",
       "convertible    18195\n",
       "coupe          14690\n",
       "suv            10776\n",
       "other           3158\n",
       "Name: vehicle_type, dtype: int64"
      ]
     },
     "execution_count": 126,
     "metadata": {},
     "output_type": "execute_result"
    }
   ],
   "source": [
    "#First, checking if there are any strange values\n",
    "\n",
    "df['vehicle_type'].value_counts()\n",
    "#nothing strange"
   ]
  },
  {
   "cell_type": "code",
   "execution_count": 127,
   "metadata": {},
   "outputs": [
    {
     "data": {
      "text/plain": [
       "golf                  23639\n",
       "other                 22934\n",
       "3er                   16700\n",
       "polo                  10494\n",
       "corsa                  9738\n",
       "                      ...  \n",
       "kalina                    7\n",
       "serie_3                   4\n",
       "rangerover                4\n",
       "serie_1                   2\n",
       "range_rover_evoque        1\n",
       "Name: model, Length: 250, dtype: int64"
      ]
     },
     "execution_count": 127,
     "metadata": {},
     "output_type": "execute_result"
    }
   ],
   "source": [
    "df['model'].value_counts()"
   ]
  },
  {
   "cell_type": "code",
   "execution_count": 128,
   "metadata": {
    "scrolled": true
   },
   "outputs": [
    {
     "data": {
      "text/plain": [
       "petrol      187848\n",
       "gasoline     84794\n",
       "lpg           4888\n",
       "cng            524\n",
       "hybrid         222\n",
       "other          200\n",
       "electric        89\n",
       "Name: fuel_type, dtype: int64"
      ]
     },
     "execution_count": 128,
     "metadata": {},
     "output_type": "execute_result"
    }
   ],
   "source": [
    "df['fuel_type'].value_counts()"
   ]
  },
  {
   "cell_type": "markdown",
   "metadata": {},
   "source": [
    "**The features with missing values appear to be skewed based on the values counts, therefore the mode should be used to represent the missing data.**"
   ]
  },
  {
   "cell_type": "code",
   "execution_count": 129,
   "metadata": {},
   "outputs": [
    {
     "name": "stderr",
     "output_type": "stream",
     "text": [
      "/tmp/ipykernel_53/1816488202.py:3: SettingWithCopyWarning: \n",
      "A value is trying to be set on a copy of a slice from a DataFrame.\n",
      "Try using .loc[row_indexer,col_indexer] = value instead\n",
      "\n",
      "See the caveats in the documentation: https://pandas.pydata.org/pandas-docs/stable/user_guide/indexing.html#returning-a-view-versus-a-copy\n",
      "  df['vehicle_type'] = df['vehicle_type'].fillna('sedan')\n"
     ]
    },
    {
     "data": {
      "text/plain": [
       "0"
      ]
     },
     "execution_count": 129,
     "metadata": {},
     "output_type": "execute_result"
    }
   ],
   "source": [
    "#vehicle_type mode is 'sedan'\n",
    "\n",
    "df['vehicle_type'] = df['vehicle_type'].fillna('sedan')\n",
    "df['vehicle_type'].isnull().sum()"
   ]
  },
  {
   "cell_type": "code",
   "execution_count": 130,
   "metadata": {},
   "outputs": [
    {
     "name": "stderr",
     "output_type": "stream",
     "text": [
      "/tmp/ipykernel_53/1563800342.py:1: SettingWithCopyWarning: \n",
      "A value is trying to be set on a copy of a slice from a DataFrame.\n",
      "Try using .loc[row_indexer,col_indexer] = value instead\n",
      "\n",
      "See the caveats in the documentation: https://pandas.pydata.org/pandas-docs/stable/user_guide/indexing.html#returning-a-view-versus-a-copy\n",
      "  df['model'] = df['model'].fillna('golf')\n"
     ]
    },
    {
     "data": {
      "text/plain": [
       "0"
      ]
     },
     "execution_count": 130,
     "metadata": {},
     "output_type": "execute_result"
    }
   ],
   "source": [
    "df['model'] = df['model'].fillna('golf')\n",
    "df['model'].isnull().sum()"
   ]
  },
  {
   "cell_type": "code",
   "execution_count": 131,
   "metadata": {
    "scrolled": true
   },
   "outputs": [
    {
     "name": "stderr",
     "output_type": "stream",
     "text": [
      "/tmp/ipykernel_53/1322158909.py:1: SettingWithCopyWarning: \n",
      "A value is trying to be set on a copy of a slice from a DataFrame.\n",
      "Try using .loc[row_indexer,col_indexer] = value instead\n",
      "\n",
      "See the caveats in the documentation: https://pandas.pydata.org/pandas-docs/stable/user_guide/indexing.html#returning-a-view-versus-a-copy\n",
      "  df['fuel_type'] = df['fuel_type'].fillna('petrol')\n"
     ]
    },
    {
     "data": {
      "text/plain": [
       "0"
      ]
     },
     "execution_count": 131,
     "metadata": {},
     "output_type": "execute_result"
    }
   ],
   "source": [
    "df['fuel_type'] = df['fuel_type'].fillna('petrol')\n",
    "df['fuel_type'].isnull().sum()"
   ]
  },
  {
   "cell_type": "code",
   "execution_count": 132,
   "metadata": {},
   "outputs": [
    {
     "data": {
      "text/plain": [
       "price                0\n",
       "vehicle_type         0\n",
       "registration_year    0\n",
       "gearbox              0\n",
       "power                0\n",
       "model                0\n",
       "mileage              0\n",
       "fuel_type            0\n",
       "brand                0\n",
       "not_repaired         0\n",
       "dtype: int64"
      ]
     },
     "execution_count": 132,
     "metadata": {},
     "output_type": "execute_result"
    }
   ],
   "source": [
    "df.isnull().sum()"
   ]
  },
  {
   "cell_type": "code",
   "execution_count": 133,
   "metadata": {
    "scrolled": false
   },
   "outputs": [],
   "source": [
    "#Encoding only the categorical features\n",
    "\n",
    "#encoders = {}\n",
    "#for column_name in ['vehicle_type', 'model', 'fuel_type', 'brand']:\n",
    "    #encoders[column_name] = OrdinalEncoder()\n",
    "    #df[column_name] = encoders[column_name].fit_transform((df[column_name].values.reshape(-1,1)))\n",
    "#df"
   ]
  },
  {
   "cell_type": "code",
   "execution_count": 134,
   "metadata": {},
   "outputs": [
    {
     "data": {
      "text/html": [
       "<div>\n",
       "<style scoped>\n",
       "    .dataframe tbody tr th:only-of-type {\n",
       "        vertical-align: middle;\n",
       "    }\n",
       "\n",
       "    .dataframe tbody tr th {\n",
       "        vertical-align: top;\n",
       "    }\n",
       "\n",
       "    .dataframe thead th {\n",
       "        text-align: right;\n",
       "    }\n",
       "</style>\n",
       "<table border=\"1\" class=\"dataframe\">\n",
       "  <thead>\n",
       "    <tr style=\"text-align: right;\">\n",
       "      <th></th>\n",
       "      <th>price</th>\n",
       "      <th>vehicle_type</th>\n",
       "      <th>registration_year</th>\n",
       "      <th>gearbox</th>\n",
       "      <th>power</th>\n",
       "      <th>model</th>\n",
       "      <th>mileage</th>\n",
       "      <th>fuel_type</th>\n",
       "      <th>brand</th>\n",
       "      <th>not_repaired</th>\n",
       "    </tr>\n",
       "  </thead>\n",
       "  <tbody>\n",
       "    <tr>\n",
       "      <th>0</th>\n",
       "      <td>480</td>\n",
       "      <td>sedan</td>\n",
       "      <td>1993</td>\n",
       "      <td>0</td>\n",
       "      <td>0</td>\n",
       "      <td>golf</td>\n",
       "      <td>150000</td>\n",
       "      <td>petrol</td>\n",
       "      <td>volkswagen</td>\n",
       "      <td>1</td>\n",
       "    </tr>\n",
       "    <tr>\n",
       "      <th>1</th>\n",
       "      <td>18300</td>\n",
       "      <td>coupe</td>\n",
       "      <td>2011</td>\n",
       "      <td>0</td>\n",
       "      <td>190</td>\n",
       "      <td>golf</td>\n",
       "      <td>125000</td>\n",
       "      <td>gasoline</td>\n",
       "      <td>audi</td>\n",
       "      <td>1</td>\n",
       "    </tr>\n",
       "    <tr>\n",
       "      <th>2</th>\n",
       "      <td>9800</td>\n",
       "      <td>suv</td>\n",
       "      <td>2004</td>\n",
       "      <td>1</td>\n",
       "      <td>163</td>\n",
       "      <td>grand</td>\n",
       "      <td>125000</td>\n",
       "      <td>gasoline</td>\n",
       "      <td>jeep</td>\n",
       "      <td>1</td>\n",
       "    </tr>\n",
       "    <tr>\n",
       "      <th>3</th>\n",
       "      <td>1500</td>\n",
       "      <td>small</td>\n",
       "      <td>2001</td>\n",
       "      <td>0</td>\n",
       "      <td>75</td>\n",
       "      <td>golf</td>\n",
       "      <td>150000</td>\n",
       "      <td>petrol</td>\n",
       "      <td>volkswagen</td>\n",
       "      <td>0</td>\n",
       "    </tr>\n",
       "    <tr>\n",
       "      <th>4</th>\n",
       "      <td>3600</td>\n",
       "      <td>small</td>\n",
       "      <td>2008</td>\n",
       "      <td>0</td>\n",
       "      <td>69</td>\n",
       "      <td>fabia</td>\n",
       "      <td>90000</td>\n",
       "      <td>gasoline</td>\n",
       "      <td>skoda</td>\n",
       "      <td>0</td>\n",
       "    </tr>\n",
       "    <tr>\n",
       "      <th>...</th>\n",
       "      <td>...</td>\n",
       "      <td>...</td>\n",
       "      <td>...</td>\n",
       "      <td>...</td>\n",
       "      <td>...</td>\n",
       "      <td>...</td>\n",
       "      <td>...</td>\n",
       "      <td>...</td>\n",
       "      <td>...</td>\n",
       "      <td>...</td>\n",
       "    </tr>\n",
       "    <tr>\n",
       "      <th>354364</th>\n",
       "      <td>0</td>\n",
       "      <td>sedan</td>\n",
       "      <td>2005</td>\n",
       "      <td>0</td>\n",
       "      <td>0</td>\n",
       "      <td>colt</td>\n",
       "      <td>150000</td>\n",
       "      <td>petrol</td>\n",
       "      <td>mitsubishi</td>\n",
       "      <td>1</td>\n",
       "    </tr>\n",
       "    <tr>\n",
       "      <th>354365</th>\n",
       "      <td>2200</td>\n",
       "      <td>sedan</td>\n",
       "      <td>2005</td>\n",
       "      <td>0</td>\n",
       "      <td>0</td>\n",
       "      <td>golf</td>\n",
       "      <td>20000</td>\n",
       "      <td>petrol</td>\n",
       "      <td>sonstige_autos</td>\n",
       "      <td>1</td>\n",
       "    </tr>\n",
       "    <tr>\n",
       "      <th>354366</th>\n",
       "      <td>1199</td>\n",
       "      <td>convertible</td>\n",
       "      <td>2000</td>\n",
       "      <td>1</td>\n",
       "      <td>101</td>\n",
       "      <td>fortwo</td>\n",
       "      <td>125000</td>\n",
       "      <td>petrol</td>\n",
       "      <td>smart</td>\n",
       "      <td>0</td>\n",
       "    </tr>\n",
       "    <tr>\n",
       "      <th>354367</th>\n",
       "      <td>9200</td>\n",
       "      <td>bus</td>\n",
       "      <td>1996</td>\n",
       "      <td>0</td>\n",
       "      <td>102</td>\n",
       "      <td>transporter</td>\n",
       "      <td>150000</td>\n",
       "      <td>gasoline</td>\n",
       "      <td>volkswagen</td>\n",
       "      <td>0</td>\n",
       "    </tr>\n",
       "    <tr>\n",
       "      <th>354368</th>\n",
       "      <td>3400</td>\n",
       "      <td>wagon</td>\n",
       "      <td>2002</td>\n",
       "      <td>0</td>\n",
       "      <td>100</td>\n",
       "      <td>golf</td>\n",
       "      <td>150000</td>\n",
       "      <td>gasoline</td>\n",
       "      <td>volkswagen</td>\n",
       "      <td>1</td>\n",
       "    </tr>\n",
       "  </tbody>\n",
       "</table>\n",
       "<p>309329 rows × 10 columns</p>\n",
       "</div>"
      ],
      "text/plain": [
       "        price vehicle_type  registration_year  gearbox  power        model  \\\n",
       "0         480        sedan               1993        0      0         golf   \n",
       "1       18300        coupe               2011        0    190         golf   \n",
       "2        9800          suv               2004        1    163        grand   \n",
       "3        1500        small               2001        0     75         golf   \n",
       "4        3600        small               2008        0     69        fabia   \n",
       "...       ...          ...                ...      ...    ...          ...   \n",
       "354364      0        sedan               2005        0      0         colt   \n",
       "354365   2200        sedan               2005        0      0         golf   \n",
       "354366   1199  convertible               2000        1    101       fortwo   \n",
       "354367   9200          bus               1996        0    102  transporter   \n",
       "354368   3400        wagon               2002        0    100         golf   \n",
       "\n",
       "        mileage fuel_type           brand  not_repaired  \n",
       "0        150000    petrol      volkswagen             1  \n",
       "1        125000  gasoline            audi             1  \n",
       "2        125000  gasoline            jeep             1  \n",
       "3        150000    petrol      volkswagen             0  \n",
       "4         90000  gasoline           skoda             0  \n",
       "...         ...       ...             ...           ...  \n",
       "354364   150000    petrol      mitsubishi             1  \n",
       "354365    20000    petrol  sonstige_autos             1  \n",
       "354366   125000    petrol           smart             0  \n",
       "354367   150000  gasoline      volkswagen             0  \n",
       "354368   150000  gasoline      volkswagen             1  \n",
       "\n",
       "[309329 rows x 10 columns]"
      ]
     },
     "execution_count": 134,
     "metadata": {},
     "output_type": "execute_result"
    }
   ],
   "source": [
    "df"
   ]
  },
  {
   "cell_type": "markdown",
   "metadata": {},
   "source": [
    "Try using .loc[row_indexer,col_indexer] = value instead"
   ]
  },
  {
   "cell_type": "code",
   "execution_count": 135,
   "metadata": {},
   "outputs": [
    {
     "name": "stderr",
     "output_type": "stream",
     "text": [
      "/opt/conda/lib/python3.9/site-packages/pandas/core/indexing.py:1738: SettingWithCopyWarning: \n",
      "A value is trying to be set on a copy of a slice from a DataFrame.\n",
      "Try using .loc[row_indexer,col_indexer] = value instead\n",
      "\n",
      "See the caveats in the documentation: https://pandas.pydata.org/pandas-docs/stable/user_guide/indexing.html#returning-a-view-versus-a-copy\n",
      "  self._setitem_single_column(loc, value[:, i].tolist(), pi)\n",
      "/opt/conda/lib/python3.9/site-packages/pandas/core/indexing.py:1738: SettingWithCopyWarning: \n",
      "A value is trying to be set on a copy of a slice from a DataFrame.\n",
      "Try using .loc[row_indexer,col_indexer] = value instead\n",
      "\n",
      "See the caveats in the documentation: https://pandas.pydata.org/pandas-docs/stable/user_guide/indexing.html#returning-a-view-versus-a-copy\n",
      "  self._setitem_single_column(loc, value[:, i].tolist(), pi)\n",
      "/opt/conda/lib/python3.9/site-packages/pandas/core/indexing.py:1738: SettingWithCopyWarning: \n",
      "A value is trying to be set on a copy of a slice from a DataFrame.\n",
      "Try using .loc[row_indexer,col_indexer] = value instead\n",
      "\n",
      "See the caveats in the documentation: https://pandas.pydata.org/pandas-docs/stable/user_guide/indexing.html#returning-a-view-versus-a-copy\n",
      "  self._setitem_single_column(loc, value[:, i].tolist(), pi)\n",
      "/opt/conda/lib/python3.9/site-packages/pandas/core/indexing.py:1738: SettingWithCopyWarning: \n",
      "A value is trying to be set on a copy of a slice from a DataFrame.\n",
      "Try using .loc[row_indexer,col_indexer] = value instead\n",
      "\n",
      "See the caveats in the documentation: https://pandas.pydata.org/pandas-docs/stable/user_guide/indexing.html#returning-a-view-versus-a-copy\n",
      "  self._setitem_single_column(loc, value[:, i].tolist(), pi)\n"
     ]
    },
    {
     "data": {
      "text/html": [
       "<div>\n",
       "<style scoped>\n",
       "    .dataframe tbody tr th:only-of-type {\n",
       "        vertical-align: middle;\n",
       "    }\n",
       "\n",
       "    .dataframe tbody tr th {\n",
       "        vertical-align: top;\n",
       "    }\n",
       "\n",
       "    .dataframe thead th {\n",
       "        text-align: right;\n",
       "    }\n",
       "</style>\n",
       "<table border=\"1\" class=\"dataframe\">\n",
       "  <thead>\n",
       "    <tr style=\"text-align: right;\">\n",
       "      <th></th>\n",
       "      <th>price</th>\n",
       "      <th>vehicle_type</th>\n",
       "      <th>registration_year</th>\n",
       "      <th>gearbox</th>\n",
       "      <th>power</th>\n",
       "      <th>model</th>\n",
       "      <th>mileage</th>\n",
       "      <th>fuel_type</th>\n",
       "      <th>brand</th>\n",
       "      <th>not_repaired</th>\n",
       "    </tr>\n",
       "  </thead>\n",
       "  <tbody>\n",
       "    <tr>\n",
       "      <th>0</th>\n",
       "      <td>480</td>\n",
       "      <td>4.0</td>\n",
       "      <td>1993</td>\n",
       "      <td>0</td>\n",
       "      <td>0</td>\n",
       "      <td>116.0</td>\n",
       "      <td>150000</td>\n",
       "      <td>6.0</td>\n",
       "      <td>38.0</td>\n",
       "      <td>1</td>\n",
       "    </tr>\n",
       "    <tr>\n",
       "      <th>1</th>\n",
       "      <td>18300</td>\n",
       "      <td>2.0</td>\n",
       "      <td>2011</td>\n",
       "      <td>0</td>\n",
       "      <td>190</td>\n",
       "      <td>116.0</td>\n",
       "      <td>125000</td>\n",
       "      <td>2.0</td>\n",
       "      <td>1.0</td>\n",
       "      <td>1</td>\n",
       "    </tr>\n",
       "    <tr>\n",
       "      <th>2</th>\n",
       "      <td>9800</td>\n",
       "      <td>6.0</td>\n",
       "      <td>2004</td>\n",
       "      <td>1</td>\n",
       "      <td>163</td>\n",
       "      <td>117.0</td>\n",
       "      <td>125000</td>\n",
       "      <td>2.0</td>\n",
       "      <td>14.0</td>\n",
       "      <td>1</td>\n",
       "    </tr>\n",
       "    <tr>\n",
       "      <th>3</th>\n",
       "      <td>1500</td>\n",
       "      <td>5.0</td>\n",
       "      <td>2001</td>\n",
       "      <td>0</td>\n",
       "      <td>75</td>\n",
       "      <td>116.0</td>\n",
       "      <td>150000</td>\n",
       "      <td>6.0</td>\n",
       "      <td>38.0</td>\n",
       "      <td>0</td>\n",
       "    </tr>\n",
       "    <tr>\n",
       "      <th>4</th>\n",
       "      <td>3600</td>\n",
       "      <td>5.0</td>\n",
       "      <td>2008</td>\n",
       "      <td>0</td>\n",
       "      <td>69</td>\n",
       "      <td>101.0</td>\n",
       "      <td>90000</td>\n",
       "      <td>2.0</td>\n",
       "      <td>31.0</td>\n",
       "      <td>0</td>\n",
       "    </tr>\n",
       "    <tr>\n",
       "      <th>...</th>\n",
       "      <td>...</td>\n",
       "      <td>...</td>\n",
       "      <td>...</td>\n",
       "      <td>...</td>\n",
       "      <td>...</td>\n",
       "      <td>...</td>\n",
       "      <td>...</td>\n",
       "      <td>...</td>\n",
       "      <td>...</td>\n",
       "      <td>...</td>\n",
       "    </tr>\n",
       "    <tr>\n",
       "      <th>354364</th>\n",
       "      <td>0</td>\n",
       "      <td>4.0</td>\n",
       "      <td>2005</td>\n",
       "      <td>0</td>\n",
       "      <td>0</td>\n",
       "      <td>78.0</td>\n",
       "      <td>150000</td>\n",
       "      <td>6.0</td>\n",
       "      <td>22.0</td>\n",
       "      <td>1</td>\n",
       "    </tr>\n",
       "    <tr>\n",
       "      <th>354365</th>\n",
       "      <td>2200</td>\n",
       "      <td>4.0</td>\n",
       "      <td>2005</td>\n",
       "      <td>0</td>\n",
       "      <td>0</td>\n",
       "      <td>116.0</td>\n",
       "      <td>20000</td>\n",
       "      <td>6.0</td>\n",
       "      <td>33.0</td>\n",
       "      <td>1</td>\n",
       "    </tr>\n",
       "    <tr>\n",
       "      <th>354366</th>\n",
       "      <td>1199</td>\n",
       "      <td>1.0</td>\n",
       "      <td>2000</td>\n",
       "      <td>1</td>\n",
       "      <td>101</td>\n",
       "      <td>106.0</td>\n",
       "      <td>125000</td>\n",
       "      <td>6.0</td>\n",
       "      <td>32.0</td>\n",
       "      <td>0</td>\n",
       "    </tr>\n",
       "    <tr>\n",
       "      <th>354367</th>\n",
       "      <td>9200</td>\n",
       "      <td>0.0</td>\n",
       "      <td>1996</td>\n",
       "      <td>0</td>\n",
       "      <td>102</td>\n",
       "      <td>224.0</td>\n",
       "      <td>150000</td>\n",
       "      <td>2.0</td>\n",
       "      <td>38.0</td>\n",
       "      <td>0</td>\n",
       "    </tr>\n",
       "    <tr>\n",
       "      <th>354368</th>\n",
       "      <td>3400</td>\n",
       "      <td>7.0</td>\n",
       "      <td>2002</td>\n",
       "      <td>0</td>\n",
       "      <td>100</td>\n",
       "      <td>116.0</td>\n",
       "      <td>150000</td>\n",
       "      <td>2.0</td>\n",
       "      <td>38.0</td>\n",
       "      <td>1</td>\n",
       "    </tr>\n",
       "  </tbody>\n",
       "</table>\n",
       "<p>309329 rows × 10 columns</p>\n",
       "</div>"
      ],
      "text/plain": [
       "        price  vehicle_type  registration_year  gearbox  power  model  \\\n",
       "0         480           4.0               1993        0      0  116.0   \n",
       "1       18300           2.0               2011        0    190  116.0   \n",
       "2        9800           6.0               2004        1    163  117.0   \n",
       "3        1500           5.0               2001        0     75  116.0   \n",
       "4        3600           5.0               2008        0     69  101.0   \n",
       "...       ...           ...                ...      ...    ...    ...   \n",
       "354364      0           4.0               2005        0      0   78.0   \n",
       "354365   2200           4.0               2005        0      0  116.0   \n",
       "354366   1199           1.0               2000        1    101  106.0   \n",
       "354367   9200           0.0               1996        0    102  224.0   \n",
       "354368   3400           7.0               2002        0    100  116.0   \n",
       "\n",
       "        mileage  fuel_type  brand  not_repaired  \n",
       "0        150000        6.0   38.0             1  \n",
       "1        125000        2.0    1.0             1  \n",
       "2        125000        2.0   14.0             1  \n",
       "3        150000        6.0   38.0             0  \n",
       "4         90000        2.0   31.0             0  \n",
       "...         ...        ...    ...           ...  \n",
       "354364   150000        6.0   22.0             1  \n",
       "354365    20000        6.0   33.0             1  \n",
       "354366   125000        6.0   32.0             0  \n",
       "354367   150000        2.0   38.0             0  \n",
       "354368   150000        2.0   38.0             1  \n",
       "\n",
       "[309329 rows x 10 columns]"
      ]
     },
     "execution_count": 135,
     "metadata": {},
     "output_type": "execute_result"
    }
   ],
   "source": [
    "encoders = {}\n",
    "\n",
    "for column_name in ['vehicle_type', 'model', 'fuel_type', 'brand']:\n",
    "    encoders[column_name] = OrdinalEncoder()\n",
    "    df.loc[:, [column_name]] = encoders[column_name].fit_transform(df[column_name].values.reshape(-1,1))\n",
    "                                                               \n",
    "df"
   ]
  },
  {
   "cell_type": "markdown",
   "metadata": {},
   "source": [
    "<div class=\"alert alert-danger\">\n",
    "<s><b>Reviewer's comment</b>\n",
    "\n",
    "- Using label encoding is ok for tree-based models, but it is problematic for linear regression: there is no intrinsic order on fuel_type or brand for example. So you need to use different encoding for it.\n",
    "- Also note that LabelEncoder is intended to be used for targets, a similar class to use with features is called OrdinalEncoder\n",
    "\n",
    "</div>"
   ]
  },
  {
   "cell_type": "markdown",
   "metadata": {},
   "source": [
    "<div class=\"alert alert-info\">\n",
    "  I used the Ordinal Encoder but for some reason, it has removed almost 50,000 rows from the df and I haven't been able to find any solutions for this.\n",
    "</div>"
   ]
  },
  {
   "cell_type": "markdown",
   "metadata": {},
   "source": [
    "<div class=\"alert alert-danger\">\n",
    "<s><b>Reviewer's comment V2</b>\n",
    "\n",
    "Hmm, maybe it's connected to the warning that's printed above. Try using `.loc` as it suggests (also OrdinalEncoder can fit/transform multiple categorical columns, and then you wouldn't need reshaping):\n",
    "    \n",
    "```python \n",
    "df.loc[:, ['vehicle_type', 'model', 'fuel_type', 'brand']] = ...\n",
    "```\n",
    "\n",
    "</div>"
   ]
  },
  {
   "cell_type": "markdown",
   "metadata": {},
   "source": [
    "<div class=\"alert alert-info\">\n",
    "<b>Student's comment V2</b>\n",
    "\n",
    "So I tried to use ``` df.loc[:, [column_name]]``` in a variety of ways, but it still removes the rows. Also, I can't seem to get the code to work without the '''values.reshape(-1,1)''', it will produce an error no matter what I do.\n",
    "    \n",
    "Sorry this isn't fixed yet, I posted for help in Slack but I haven't gotten any feedback yet.\n",
    "    \n",
    "Is there something else that I needed to differently as well to make it all work? Thanks!\n",
    "</div>"
   ]
  },
  {
   "cell_type": "markdown",
   "metadata": {},
   "source": [
    "<div class=\"alert alert-warning\">\n",
    "<b>Reviewer's comment V3</b>\n",
    "\n",
    "Ok, I just realized that after encoding the categorical columns the dataframe has exactly the same number of rows as before the encoding and 45040 rows were removed earlier when you dropped duplicates! So, I guess we both got confused here!\n",
    "\n",
    "In any case, while your way works fine, you can still do it more efficiently as follows:\n",
    "    \n",
    "```python\n",
    "categorical_features = ['vehicle_type', 'model', 'fuel_type', 'brand']\n",
    "encoder = OrdinalEncoder()\n",
    "df.loc[:, categorical_features] = encoder.fit_transform(df[categorical_features])\n",
    "```\n",
    "\n",
    "About the `SettingWithCopyWarning` warning you get, I found out that it is because after executing \n",
    "    \n",
    "```python\n",
    "df = df.drop_duplicates()\n",
    "```\n",
    "    \n",
    "we end up working with a copy of a slice of the original dataframe.\n",
    "    \n",
    "To fix this, we can create a new dataframe like this:\n",
    "    \n",
    "```\n",
    "df = df.drop_duplicates().copy()\n",
    "```\n",
    "    \n",
    "and then the warnings go away :)\n",
    "    \n",
    "    \n",
    "</div>"
   ]
  },
  {
   "cell_type": "markdown",
   "metadata": {},
   "source": [
    "## Exploratory Data Analysis\n",
    "\n",
    "**The main purpose for this step is to:** \n",
    "\n",
    "1) explore feature distributions \n",
    "\n",
    "2) remove any outliers in the data."
   ]
  },
  {
   "cell_type": "markdown",
   "metadata": {},
   "source": [
    "### Initial Feature Boxplots"
   ]
  },
  {
   "cell_type": "code",
   "execution_count": 22,
   "metadata": {},
   "outputs": [
    {
     "data": {
      "image/png": "[encoded data removed]",
      "text/plain": [
       "<Figure size 432x288 with 1 Axes>"
      ]
     },
     "metadata": {
      "needs_background": "light"
     },
     "output_type": "display_data"
    },
    {
     "data": {
      "image/png": "[encoded data removed]",
      "text/plain": [
       "<Figure size 432x288 with 1 Axes>"
      ]
     },
     "metadata": {
      "needs_background": "light"
     },
     "output_type": "display_data"
    },
    {
     "data": {
      "image/png": "[encoded data removed]",
      "text/plain": [
       "<Figure size 432x288 with 1 Axes>"
      ]
     },
     "metadata": {
      "needs_background": "light"
     },
     "output_type": "display_data"
    },
    {
     "data": {
      "image/png": "[encoded data removed]",
      "text/plain": [
       "<Figure size 432x288 with 1 Axes>"
      ]
     },
     "metadata": {
      "needs_background": "light"
     },
     "output_type": "display_data"
    },
    {
     "data": {
      "image/png": "[encoded data removed]",
      "text/plain": [
       "<Figure size 432x288 with 1 Axes>"
      ]
     },
     "metadata": {
      "needs_background": "light"
     },
     "output_type": "display_data"
    },
    {
     "data": {
      "image/png": "[encoded data removed]",
      "text/plain": [
       "<Figure size 432x288 with 1 Axes>"
      ]
     },
     "metadata": {
      "needs_background": "light"
     },
     "output_type": "display_data"
    },
    {
     "data": {
      "image/png": "[encoded data removed]",
      "text/plain": [
       "<Figure size 432x288 with 1 Axes>"
      ]
     },
     "metadata": {
      "needs_background": "light"
     },
     "output_type": "display_data"
    },
    {
     "data": {
      "image/png": "[encoded data removed]",
      "text/plain": [
       "<Figure size 432x288 with 1 Axes>"
      ]
     },
     "metadata": {
      "needs_background": "light"
     },
     "output_type": "display_data"
    },
    {
     "data": {
      "image/png": "[encoded data removed]",
      "text/plain": [
       "<Figure size 432x288 with 1 Axes>"
      ]
     },
     "metadata": {
      "needs_background": "light"
     },
     "output_type": "display_data"
    },
    {
     "data": {
      "image/png": "[encoded data removed]",
      "text/plain": [
       "<Figure size 432x288 with 1 Axes>"
      ]
     },
     "metadata": {
      "needs_background": "light"
     },
     "output_type": "display_data"
    }
   ],
   "source": [
    "#Next, exploring the features for outliers \n",
    "\n",
    "for column in df:\n",
    "    plt.figure()\n",
    "    df.boxplot([column])"
   ]
  },
  {
   "cell_type": "markdown",
   "metadata": {},
   "source": [
    "#### Initial Feature Boxplots: Conclusion\n",
    "\n",
    "1)  The boxplots for registration_year and power are suspicious because the IQR box is hidden from all the extreme values. This needs to be further explored and fixed before outliers are removed amongst the entire dataset"
   ]
  },
  {
   "cell_type": "markdown",
   "metadata": {},
   "source": [
    "### Handling Strange Boxplot Distributions\n",
    "\n",
    "The strange values corrupting the distributions of power and registration_year are mostly likely errors in data input that represent themselves as outliers in the boxplots. To fix this, we will remove them."
   ]
  },
  {
   "cell_type": "code",
   "execution_count": 23,
   "metadata": {},
   "outputs": [],
   "source": [
    "#using IterativeImputer to predict the new missing values\n",
    "#imp = IterativeImputer(random_state=0)\n",
    "#imp.fit(df)"
   ]
  },
  {
   "cell_type": "markdown",
   "metadata": {},
   "source": [
    "### Removing Outliers"
   ]
  },
  {
   "cell_type": "code",
   "execution_count": 24,
   "metadata": {},
   "outputs": [
    {
     "name": "stdout",
     "output_type": "stream",
     "text": [
      "<class 'pandas.core.frame.DataFrame'>\n",
      "Int64Index: 309329 entries, 0 to 354368\n",
      "Data columns (total 10 columns):\n",
      " #   Column             Non-Null Count   Dtype  \n",
      "---  ------             --------------   -----  \n",
      " 0   price              309329 non-null  int64  \n",
      " 1   vehicle_type       309329 non-null  float64\n",
      " 2   registration_year  309329 non-null  int64  \n",
      " 3   gearbox            309329 non-null  int64  \n",
      " 4   power              309329 non-null  int64  \n",
      " 5   model              309329 non-null  float64\n",
      " 6   mileage            309329 non-null  int64  \n",
      " 7   fuel_type          309329 non-null  float64\n",
      " 8   brand              309329 non-null  float64\n",
      " 9   not_repaired       309329 non-null  int64  \n",
      "dtypes: float64(4), int64(6)\n",
      "memory usage: 26.0 MB\n"
     ]
    }
   ],
   "source": [
    "df.info()"
   ]
  },
  {
   "cell_type": "code",
   "execution_count": 25,
   "metadata": {},
   "outputs": [
    {
     "data": {
      "text/html": [
       "<div>\n",
       "<style scoped>\n",
       "    .dataframe tbody tr th:only-of-type {\n",
       "        vertical-align: middle;\n",
       "    }\n",
       "\n",
       "    .dataframe tbody tr th {\n",
       "        vertical-align: top;\n",
       "    }\n",
       "\n",
       "    .dataframe thead th {\n",
       "        text-align: right;\n",
       "    }\n",
       "</style>\n",
       "<table border=\"1\" class=\"dataframe\">\n",
       "  <thead>\n",
       "    <tr style=\"text-align: right;\">\n",
       "      <th></th>\n",
       "      <th>price</th>\n",
       "      <th>mileage</th>\n",
       "      <th>power</th>\n",
       "      <th>registration_year</th>\n",
       "    </tr>\n",
       "  </thead>\n",
       "  <tbody>\n",
       "    <tr>\n",
       "      <th>0</th>\n",
       "      <td>480</td>\n",
       "      <td>150000</td>\n",
       "      <td>0</td>\n",
       "      <td>1993</td>\n",
       "    </tr>\n",
       "    <tr>\n",
       "      <th>1</th>\n",
       "      <td>18300</td>\n",
       "      <td>125000</td>\n",
       "      <td>190</td>\n",
       "      <td>2011</td>\n",
       "    </tr>\n",
       "    <tr>\n",
       "      <th>2</th>\n",
       "      <td>9800</td>\n",
       "      <td>125000</td>\n",
       "      <td>163</td>\n",
       "      <td>2004</td>\n",
       "    </tr>\n",
       "    <tr>\n",
       "      <th>3</th>\n",
       "      <td>1500</td>\n",
       "      <td>150000</td>\n",
       "      <td>75</td>\n",
       "      <td>2001</td>\n",
       "    </tr>\n",
       "    <tr>\n",
       "      <th>4</th>\n",
       "      <td>3600</td>\n",
       "      <td>90000</td>\n",
       "      <td>69</td>\n",
       "      <td>2008</td>\n",
       "    </tr>\n",
       "    <tr>\n",
       "      <th>5</th>\n",
       "      <td>650</td>\n",
       "      <td>150000</td>\n",
       "      <td>102</td>\n",
       "      <td>1995</td>\n",
       "    </tr>\n",
       "    <tr>\n",
       "      <th>6</th>\n",
       "      <td>2200</td>\n",
       "      <td>150000</td>\n",
       "      <td>109</td>\n",
       "      <td>2004</td>\n",
       "    </tr>\n",
       "    <tr>\n",
       "      <th>7</th>\n",
       "      <td>0</td>\n",
       "      <td>40000</td>\n",
       "      <td>50</td>\n",
       "      <td>1980</td>\n",
       "    </tr>\n",
       "    <tr>\n",
       "      <th>8</th>\n",
       "      <td>14500</td>\n",
       "      <td>30000</td>\n",
       "      <td>125</td>\n",
       "      <td>2014</td>\n",
       "    </tr>\n",
       "    <tr>\n",
       "      <th>9</th>\n",
       "      <td>999</td>\n",
       "      <td>150000</td>\n",
       "      <td>101</td>\n",
       "      <td>1998</td>\n",
       "    </tr>\n",
       "  </tbody>\n",
       "</table>\n",
       "</div>"
      ],
      "text/plain": [
       "   price  mileage  power  registration_year\n",
       "0    480   150000      0               1993\n",
       "1  18300   125000    190               2011\n",
       "2   9800   125000    163               2004\n",
       "3   1500   150000     75               2001\n",
       "4   3600    90000     69               2008\n",
       "5    650   150000    102               1995\n",
       "6   2200   150000    109               2004\n",
       "7      0    40000     50               1980\n",
       "8  14500    30000    125               2014\n",
       "9    999   150000    101               1998"
      ]
     },
     "execution_count": 25,
     "metadata": {},
     "output_type": "execute_result"
    }
   ],
   "source": [
    "#new df for features that make sense to eliminate outliers for \n",
    "df_parameters = df[['price', 'mileage', 'power', 'registration_year']].copy() #new df for parameters\n",
    "df_parameters.head(10)"
   ]
  },
  {
   "cell_type": "code",
   "execution_count": 26,
   "metadata": {},
   "outputs": [
    {
     "name": "stdout",
     "output_type": "stream",
     "text": [
      "price                 5400.0\n",
      "mileage              25000.0\n",
      "power                   74.0\n",
      "registration_year        9.0\n",
      "dtype: float64\n"
     ]
    }
   ],
   "source": [
    "Q1 = df_parameters.quantile(0.25)\n",
    "Q3 = df_parameters.quantile(0.75)\n",
    "IQR = Q3 - Q1\n",
    "print(IQR)"
   ]
  },
  {
   "cell_type": "code",
   "execution_count": 27,
   "metadata": {
    "scrolled": true
   },
   "outputs": [
    {
     "name": "stdout",
     "output_type": "stream",
     "text": [
      "<class 'pandas.core.frame.DataFrame'>\n",
      "Int64Index: 64881 entries, 1 to 354365\n",
      "Data columns (total 4 columns):\n",
      " #   Column             Non-Null Count  Dtype\n",
      "---  ------             --------------  -----\n",
      " 0   price              64881 non-null  int64\n",
      " 1   mileage            64881 non-null  int64\n",
      " 2   power              64881 non-null  int64\n",
      " 3   registration_year  64881 non-null  int64\n",
      "dtypes: int64(4)\n",
      "memory usage: 2.5 MB\n",
      "<class 'pandas.core.frame.DataFrame'>\n",
      "Int64Index: 244448 entries, 0 to 354368\n",
      "Data columns (total 4 columns):\n",
      " #   Column             Non-Null Count   Dtype\n",
      "---  ------             --------------   -----\n",
      " 0   price              244448 non-null  int64\n",
      " 1   mileage            244448 non-null  int64\n",
      " 2   power              244448 non-null  int64\n",
      " 3   registration_year  244448 non-null  int64\n",
      "dtypes: int64(4)\n",
      "memory usage: 9.3 MB\n"
     ]
    }
   ],
   "source": [
    "df_outliers = df_parameters[((df_parameters < (Q1 - 1.5 * IQR)) |(df_parameters > (Q3 + 1.5 * IQR))).any(axis=1)]\n",
    "df_parameters = df_parameters[~((df_parameters < (Q1 - 1.5 * IQR)) |(df_parameters > (Q3 + 1.5 * IQR))).any(axis=1)] #excluding the outliers\n",
    "df_outliers.info() #there were 64,881 outliers\n",
    "df_parameters.info()\n"
   ]
  },
  {
   "cell_type": "markdown",
   "metadata": {},
   "source": [
    "Re-examining the previous boxplots"
   ]
  },
  {
   "cell_type": "code",
   "execution_count": 28,
   "metadata": {
    "scrolled": false
   },
   "outputs": [
    {
     "data": {
      "image/png": "[encoded data removed]",
      "text/plain": [
       "<Figure size 432x288 with 1 Axes>"
      ]
     },
     "metadata": {
      "needs_background": "light"
     },
     "output_type": "display_data"
    },
    {
     "data": {
      "image/png": "[encoded data removed]",
      "text/plain": [
       "<Figure size 432x288 with 1 Axes>"
      ]
     },
     "metadata": {
      "needs_background": "light"
     },
     "output_type": "display_data"
    },
    {
     "data": {
      "image/png": "[encoded data removed]",
      "text/plain": [
       "<Figure size 432x288 with 1 Axes>"
      ]
     },
     "metadata": {
      "needs_background": "light"
     },
     "output_type": "display_data"
    },
    {
     "data": {
      "image/png": "[encoded data removed]",
      "text/plain": [
       "<Figure size 432x288 with 1 Axes>"
      ]
     },
     "metadata": {
      "needs_background": "light"
     },
     "output_type": "display_data"
    }
   ],
   "source": [
    "for column in df_parameters:\n",
    "    plt.figure()\n",
    "    df_parameters.boxplot([column])"
   ]
  },
  {
   "cell_type": "markdown",
   "metadata": {},
   "source": [
    "The boxplots look better than before"
   ]
  },
  {
   "cell_type": "code",
   "execution_count": 29,
   "metadata": {
    "scrolled": true
   },
   "outputs": [
    {
     "data": {
      "image/png": "[encoded data removed]",
      "text/plain": [
       "<Figure size 648x648 with 4 Axes>"
      ]
     },
     "metadata": {
      "needs_background": "light"
     },
     "output_type": "display_data"
    }
   ],
   "source": [
    "#viewing the histograms\n",
    "df_parameters.hist(figsize=(9,9))\n",
    "plt.show()"
   ]
  },
  {
   "cell_type": "code",
   "execution_count": 30,
   "metadata": {},
   "outputs": [
    {
     "name": "stdout",
     "output_type": "stream",
     "text": [
      "<class 'pandas.core.frame.DataFrame'>\n",
      "Int64Index: 244448 entries, 0 to 354368\n",
      "Data columns (total 4 columns):\n",
      " #   Column             Non-Null Count   Dtype\n",
      "---  ------             --------------   -----\n",
      " 0   price              244448 non-null  int64\n",
      " 1   mileage            244448 non-null  int64\n",
      " 2   power              244448 non-null  int64\n",
      " 3   registration_year  244448 non-null  int64\n",
      "dtypes: int64(4)\n",
      "memory usage: 9.3 MB\n",
      "<class 'pandas.core.frame.DataFrame'>\n",
      "Int64Index: 309329 entries, 0 to 354368\n",
      "Data columns (total 10 columns):\n",
      " #   Column             Non-Null Count   Dtype  \n",
      "---  ------             --------------   -----  \n",
      " 0   price              309329 non-null  int64  \n",
      " 1   vehicle_type       309329 non-null  float64\n",
      " 2   registration_year  309329 non-null  int64  \n",
      " 3   gearbox            309329 non-null  int64  \n",
      " 4   power              309329 non-null  int64  \n",
      " 5   model              309329 non-null  float64\n",
      " 6   mileage            309329 non-null  int64  \n",
      " 7   fuel_type          309329 non-null  float64\n",
      " 8   brand              309329 non-null  float64\n",
      " 9   not_repaired       309329 non-null  int64  \n",
      "dtypes: float64(4), int64(6)\n",
      "memory usage: 26.0 MB\n"
     ]
    }
   ],
   "source": [
    "df_parameters.info()\n",
    "df.info()"
   ]
  },
  {
   "cell_type": "code",
   "execution_count": 31,
   "metadata": {},
   "outputs": [],
   "source": [
    "#df = pd.merge(df, df_parameters,  how='right', on=['price', 'mileage', 'power', 'registration_year'])\n",
    "\n",
    "#df.hist(column=['price', 'mileage', 'power', 'registration_year'], figsize=(9,9))\n",
    "#plt.show()"
   ]
  },
  {
   "cell_type": "code",
   "execution_count": 32,
   "metadata": {},
   "outputs": [
    {
     "data": {
      "image/png": "[encoded data removed]",
      "text/plain": [
       "<Figure size 648x648 with 4 Axes>"
      ]
     },
     "metadata": {
      "needs_background": "light"
     },
     "output_type": "display_data"
    }
   ],
   "source": [
    "df = df.drop(df_outliers.index) #dropping the outliers from original df\n",
    "df \n",
    "\n",
    "df.hist(column=['price', 'mileage', 'power', 'registration_year'], figsize=(9,9))\n",
    "plt.show()"
   ]
  },
  {
   "cell_type": "code",
   "execution_count": 33,
   "metadata": {},
   "outputs": [
    {
     "name": "stdout",
     "output_type": "stream",
     "text": [
      "<class 'pandas.core.frame.DataFrame'>\n",
      "Int64Index: 244448 entries, 0 to 354368\n",
      "Data columns (total 10 columns):\n",
      " #   Column             Non-Null Count   Dtype  \n",
      "---  ------             --------------   -----  \n",
      " 0   price              244448 non-null  int64  \n",
      " 1   vehicle_type       244448 non-null  float64\n",
      " 2   registration_year  244448 non-null  int64  \n",
      " 3   gearbox            244448 non-null  int64  \n",
      " 4   power              244448 non-null  int64  \n",
      " 5   model              244448 non-null  float64\n",
      " 6   mileage            244448 non-null  int64  \n",
      " 7   fuel_type          244448 non-null  float64\n",
      " 8   brand              244448 non-null  float64\n",
      " 9   not_repaired       244448 non-null  int64  \n",
      "dtypes: float64(4), int64(6)\n",
      "memory usage: 20.5 MB\n"
     ]
    }
   ],
   "source": [
    "df.info()"
   ]
  },
  {
   "cell_type": "markdown",
   "metadata": {},
   "source": [
    "<div class=\"alert alert-info\">\n",
    "  The histograms are slightly different after the merge (it is apparent especially in the registration_year feature)\n",
    "</div>"
   ]
  },
  {
   "cell_type": "markdown",
   "metadata": {},
   "source": [
    "<div class=\"alert alert-danger\">\n",
    "<s><b>Reviewer's comment V2</b>\n",
    "\n",
    "Great analysis of outliers, but it seems that merging `df` and `df_parameter` produced an incorrect result. I suggest doing one of the following:\n",
    "    \n",
    "1. Filtering `df` directly\n",
    "2. Or finding the indices to be removed using the copy dataframe, and then dropping them from the original dataframe using `drop` method\n",
    "\n",
    "</div>"
   ]
  },
  {
   "cell_type": "markdown",
   "metadata": {},
   "source": [
    "<div class=\"alert alert-success\">\n",
    "<b>Reviewer's comment V3</b>\n",
    "\n",
    "Ok, that works!\n",
    "\n",
    "</div>"
   ]
  },
  {
   "cell_type": "markdown",
   "metadata": {},
   "source": [
    "<div class=\"alert alert-success\">\n",
    "<b>Reviewer's comment</b>\n",
    "\n",
    "Nice work on missing values!\n",
    "\n",
    "</div>"
   ]
  },
  {
   "cell_type": "markdown",
   "metadata": {},
   "source": [
    "<div class=\"alert alert-warning\">\n",
    "<b>Reviewer's comment</b>\n",
    "\n",
    "I would suggest digging a bit deeper in the data, as there are some other problems apart from missing values. Checking feature distributions and making sure that they are reasonable would be a good first step\n",
    "\n",
    "</div>"
   ]
  },
  {
   "cell_type": "markdown",
   "metadata": {},
   "source": [
    "## Model training\n",
    "\n",
    "- Train different models with various hyperparameters (You should make at least two different models, but more is better. Remember, various implementations of gradient boosting don't count as different models.) The main point of this step is to compare gradient boosting methods with random forest, decision tree, and linear regression.\n",
    "\n",
    "1) Create a Linear Regression model as a sanity check for future methods\n",
    "\n",
    "2) Create a Random Forest model with hyperparameter tuning\n",
    "\n",
    "3) Create a LightGBM model with hyperparameter tuning \n",
    "\n",
    "4) Create a CatBoost model \n",
    "\n",
    "5) Create a XGBoost model \n",
    "\n",
    "**Since the training of a gradient boosting model can take a long time, change only a few model parameters.**"
   ]
  },
  {
   "cell_type": "markdown",
   "metadata": {},
   "source": [
    "### Linear Regression Sanity Check"
   ]
  },
  {
   "cell_type": "code",
   "execution_count": 34,
   "metadata": {
    "scrolled": true
   },
   "outputs": [
    {
     "name": "stdout",
     "output_type": "stream",
     "text": [
      "RMSE: 2318.432011093467\n"
     ]
    }
   ],
   "source": [
    "features = df.drop(['price'], axis=1)\n",
    "target = df['price']\n",
    "X_train, X_test, y_train, y_test = train_test_split(features, target, train_size=0.70, \n",
    "                                                    random_state=12345)\n",
    "\n",
    "\n",
    "model = LinearRegression()\n",
    "model.fit(X_train, y_train)\n",
    "predictions = model.predict(X_test)\n",
    "mse = mean_squared_error(y_test, predictions)\n",
    "rmse = mse**0.5\n",
    "print('RMSE:', rmse)"
   ]
  },
  {
   "cell_type": "markdown",
   "metadata": {},
   "source": [
    "<div class=\"alert alert-warning\">\n",
    "<b>Reviewer's comment</b>\n",
    "\n",
    "I don't quite see the point of dividing the target by 10000 to 'avoid large numbers': as you're printing quite a few numbers after the decimal point this just amounts to moving the decimal point. And it seems more useful to see the original RMSE measured in dollars.\n",
    "\n",
    "</div>"
   ]
  },
  {
   "cell_type": "markdown",
   "metadata": {},
   "source": [
    "<div class=\"alert alert-success\">\n",
    "<b>Reviewer's comment</b>\n",
    "\n",
    "The data was split into train and test reasonably\n",
    "\n",
    "</div>"
   ]
  },
  {
   "cell_type": "markdown",
   "metadata": {},
   "source": [
    "### Random Forest Model"
   ]
  },
  {
   "cell_type": "markdown",
   "metadata": {},
   "source": [
    "Splitting the data for validation and test sets"
   ]
  },
  {
   "cell_type": "code",
   "execution_count": 35,
   "metadata": {},
   "outputs": [],
   "source": [
    "#train: 0.8\n",
    "#valid: 0.1\n",
    "#test: 0.1\n",
    "\n",
    "X_train, X_rem, y_train, y_rem = train_test_split(features, target, train_size=0.80, \n",
    "                                                    random_state=12345)\n",
    "\n",
    "X_valid, X_test, y_valid, y_test = train_test_split(X_rem, y_rem, train_size=0.5, \n",
    "                                                    random_state=12345)"
   ]
  },
  {
   "cell_type": "code",
   "execution_count": 36,
   "metadata": {
    "scrolled": true
   },
   "outputs": [
    {
     "data": {
      "text/html": [
       "<div>\n",
       "<style scoped>\n",
       "    .dataframe tbody tr th:only-of-type {\n",
       "        vertical-align: middle;\n",
       "    }\n",
       "\n",
       "    .dataframe tbody tr th {\n",
       "        vertical-align: top;\n",
       "    }\n",
       "\n",
       "    .dataframe thead th {\n",
       "        text-align: right;\n",
       "    }\n",
       "</style>\n",
       "<table border=\"1\" class=\"dataframe\">\n",
       "  <thead>\n",
       "    <tr style=\"text-align: right;\">\n",
       "      <th></th>\n",
       "      <th>RMSE</th>\n",
       "      <th>n_estimator</th>\n",
       "    </tr>\n",
       "  </thead>\n",
       "  <tbody>\n",
       "    <tr>\n",
       "      <th>0</th>\n",
       "      <td>1774.831369</td>\n",
       "      <td>1</td>\n",
       "    </tr>\n",
       "    <tr>\n",
       "      <th>1</th>\n",
       "      <td>1617.685857</td>\n",
       "      <td>2</td>\n",
       "    </tr>\n",
       "    <tr>\n",
       "      <th>2</th>\n",
       "      <td>1557.199221</td>\n",
       "      <td>3</td>\n",
       "    </tr>\n",
       "    <tr>\n",
       "      <th>3</th>\n",
       "      <td>1527.859985</td>\n",
       "      <td>4</td>\n",
       "    </tr>\n",
       "    <tr>\n",
       "      <th>4</th>\n",
       "      <td>1503.780746</td>\n",
       "      <td>5</td>\n",
       "    </tr>\n",
       "  </tbody>\n",
       "</table>\n",
       "</div>"
      ],
      "text/plain": [
       "          RMSE  n_estimator\n",
       "0  1774.831369            1\n",
       "1  1617.685857            2\n",
       "2  1557.199221            3\n",
       "3  1527.859985            4\n",
       "4  1503.780746            5"
      ]
     },
     "execution_count": 36,
     "metadata": {},
     "output_type": "execute_result"
    }
   ],
   "source": [
    "results_rf = []\n",
    "\n",
    "for estimator in range(1, 6):\n",
    "    model = RandomForestRegressor(random_state=12345, n_estimators=estimator)\n",
    "    model.fit(X_train, y_train)\n",
    "    preds = model.predict(X_valid)\n",
    "    results_rf.append({\n",
    "                'RMSE': mean_squared_error(y_valid, preds)**0.5,\n",
    "                'n_estimator': estimator})\n",
    "    \n",
    "results_rf = pd.DataFrame(results_rf)\n",
    "results_rf = results_rf.sort_values(by='RMSE', ascending=False)\n",
    "results_rf"
   ]
  },
  {
   "cell_type": "markdown",
   "metadata": {},
   "source": [
    "<div class=\"alert alert-danger\">\n",
    "<s><b>Reviewer's comment</b>\n",
    "\n",
    "Using the test set for hyperparameter tuning leads to a biased test set score. You need to either use a separate validation set or cross-validation on the train set to tune hyperparameters, and then evaluate the final model on the test set.\n",
    "\n",
    "</div>"
   ]
  },
  {
   "cell_type": "markdown",
   "metadata": {},
   "source": [
    "<div class=\"alert alert-success\">\n",
    "<b>Reviewer's comment V2</b>\n",
    "\n",
    "Great, validation set works!\n",
    "\n",
    "</div>"
   ]
  },
  {
   "cell_type": "markdown",
   "metadata": {},
   "source": [
    "**n_estimator 5 had the best RMSE  score**"
   ]
  },
  {
   "cell_type": "code",
   "execution_count": 37,
   "metadata": {},
   "outputs": [
    {
     "name": "stdout",
     "output_type": "stream",
     "text": [
      "RMSE: 1530.9715127261368\n",
      "CPU times: user 1.82 s, sys: 6.65 ms, total: 1.82 s\n",
      "Wall time: 1.83 s\n"
     ]
    }
   ],
   "source": [
    "%%time\n",
    "\n",
    "#final model eval\n",
    "model = RandomForestRegressor(random_state=12345, n_estimators=5)\n",
    "model.fit(X_train, y_train)\n",
    "preds = model.predict(X_test)\n",
    "rmse = mean_squared_error(y_test, preds)**0.5\n",
    "print('RMSE:', rmse)\n",
    "#print('time:', timeit.timeit(preds))"
   ]
  },
  {
   "cell_type": "markdown",
   "metadata": {},
   "source": [
    "### CatBoost Model"
   ]
  },
  {
   "cell_type": "code",
   "execution_count": 38,
   "metadata": {
    "scrolled": false
   },
   "outputs": [
    {
     "name": "stdout",
     "output_type": "stream",
     "text": [
      "<class 'pandas.core.frame.DataFrame'>\n",
      "Int64Index: 244448 entries, 0 to 354368\n",
      "Data columns (total 10 columns):\n",
      " #   Column             Non-Null Count   Dtype\n",
      "---  ------             --------------   -----\n",
      " 0   price              244448 non-null  int64\n",
      " 1   vehicle_type       244448 non-null  int64\n",
      " 2   registration_year  244448 non-null  int64\n",
      " 3   gearbox            244448 non-null  int64\n",
      " 4   power              244448 non-null  int64\n",
      " 5   model              244448 non-null  int64\n",
      " 6   mileage            244448 non-null  int64\n",
      " 7   fuel_type          244448 non-null  int64\n",
      " 8   brand              244448 non-null  int64\n",
      " 9   not_repaired       244448 non-null  int64\n",
      "dtypes: int64(10)\n",
      "memory usage: 20.5 MB\n"
     ]
    }
   ],
   "source": [
    "df = df.astype('int')\n",
    "df.info()"
   ]
  },
  {
   "cell_type": "code",
   "execution_count": 39,
   "metadata": {
    "scrolled": true
   },
   "outputs": [
    {
     "data": {
      "text/html": [
       "<div>\n",
       "<style scoped>\n",
       "    .dataframe tbody tr th:only-of-type {\n",
       "        vertical-align: middle;\n",
       "    }\n",
       "\n",
       "    .dataframe tbody tr th {\n",
       "        vertical-align: top;\n",
       "    }\n",
       "\n",
       "    .dataframe thead th {\n",
       "        text-align: right;\n",
       "    }\n",
       "</style>\n",
       "<table border=\"1\" class=\"dataframe\">\n",
       "  <thead>\n",
       "    <tr style=\"text-align: right;\">\n",
       "      <th></th>\n",
       "      <th>price</th>\n",
       "      <th>vehicle_type</th>\n",
       "      <th>registration_year</th>\n",
       "      <th>gearbox</th>\n",
       "      <th>power</th>\n",
       "      <th>model</th>\n",
       "      <th>mileage</th>\n",
       "      <th>fuel_type</th>\n",
       "      <th>brand</th>\n",
       "      <th>not_repaired</th>\n",
       "    </tr>\n",
       "  </thead>\n",
       "  <tbody>\n",
       "    <tr>\n",
       "      <th>0</th>\n",
       "      <td>480</td>\n",
       "      <td>4</td>\n",
       "      <td>1993</td>\n",
       "      <td>0</td>\n",
       "      <td>0</td>\n",
       "      <td>116</td>\n",
       "      <td>150000</td>\n",
       "      <td>6</td>\n",
       "      <td>38</td>\n",
       "      <td>1</td>\n",
       "    </tr>\n",
       "    <tr>\n",
       "      <th>2</th>\n",
       "      <td>9800</td>\n",
       "      <td>6</td>\n",
       "      <td>2004</td>\n",
       "      <td>1</td>\n",
       "      <td>163</td>\n",
       "      <td>117</td>\n",
       "      <td>125000</td>\n",
       "      <td>2</td>\n",
       "      <td>14</td>\n",
       "      <td>1</td>\n",
       "    </tr>\n",
       "    <tr>\n",
       "      <th>3</th>\n",
       "      <td>1500</td>\n",
       "      <td>5</td>\n",
       "      <td>2001</td>\n",
       "      <td>0</td>\n",
       "      <td>75</td>\n",
       "      <td>116</td>\n",
       "      <td>150000</td>\n",
       "      <td>6</td>\n",
       "      <td>38</td>\n",
       "      <td>0</td>\n",
       "    </tr>\n",
       "    <tr>\n",
       "      <th>4</th>\n",
       "      <td>3600</td>\n",
       "      <td>5</td>\n",
       "      <td>2008</td>\n",
       "      <td>0</td>\n",
       "      <td>69</td>\n",
       "      <td>101</td>\n",
       "      <td>90000</td>\n",
       "      <td>2</td>\n",
       "      <td>31</td>\n",
       "      <td>0</td>\n",
       "    </tr>\n",
       "    <tr>\n",
       "      <th>5</th>\n",
       "      <td>650</td>\n",
       "      <td>4</td>\n",
       "      <td>1995</td>\n",
       "      <td>0</td>\n",
       "      <td>102</td>\n",
       "      <td>11</td>\n",
       "      <td>150000</td>\n",
       "      <td>6</td>\n",
       "      <td>2</td>\n",
       "      <td>1</td>\n",
       "    </tr>\n",
       "  </tbody>\n",
       "</table>\n",
       "</div>"
      ],
      "text/plain": [
       "   price  vehicle_type  registration_year  gearbox  power  model  mileage  \\\n",
       "0    480             4               1993        0      0    116   150000   \n",
       "2   9800             6               2004        1    163    117   125000   \n",
       "3   1500             5               2001        0     75    116   150000   \n",
       "4   3600             5               2008        0     69    101    90000   \n",
       "5    650             4               1995        0    102     11   150000   \n",
       "\n",
       "   fuel_type  brand  not_repaired  \n",
       "0          6     38             1  \n",
       "2          2     14             1  \n",
       "3          6     38             0  \n",
       "4          2     31             0  \n",
       "5          6      2             1  "
      ]
     },
     "execution_count": 39,
     "metadata": {},
     "output_type": "execute_result"
    }
   ],
   "source": [
    "df.head()"
   ]
  },
  {
   "cell_type": "code",
   "execution_count": 40,
   "metadata": {},
   "outputs": [],
   "source": [
    "#redefining features & target for required int dtype in cat_features\n",
    "\n",
    "features = df.drop(['price'], axis=1)\n",
    "target = df['price']"
   ]
  },
  {
   "cell_type": "code",
   "execution_count": 41,
   "metadata": {},
   "outputs": [],
   "source": [
    "#No need for validation set for now since we are limiting hyperparameter tuning\n",
    "\n",
    "X_train, X_test, y_train, y_test = train_test_split(features, target, train_size=0.80, \n",
    "                                                    random_state=12345)\n",
    "\n",
    "#Pool is required to pinpoint the target variables & predictors to be fitted to the model\n",
    "\n",
    "pool_train = Pool(X_train, y_train,\n",
    "                  cat_features = ['vehicle_type', 'gearbox', 'model', 'fuel_type', \n",
    "                                         'brand', 'not_repaired'])\n",
    "\n",
    "pool_test = Pool(X_test, cat_features = ['vehicle_type', 'gearbox', 'model', 'fuel_type', \n",
    "                                         'brand', 'not_repaired'])"
   ]
  },
  {
   "cell_type": "markdown",
   "metadata": {},
   "source": [
    "<div class=\"alert alert-warning\">\n",
    "<b>Reviewer's comment V2</b>\n",
    "\n",
    "Yeah, that's one way! Another would be to just specify the `cat_features` when initializing `CatBoostRegressor`\n",
    "\n",
    "</div>"
   ]
  },
  {
   "cell_type": "code",
   "execution_count": 42,
   "metadata": {},
   "outputs": [
    {
     "name": "stdout",
     "output_type": "stream",
     "text": [
      "0:\tlearn: 3065.3598301\ttotal: 101ms\tremaining: 4.96s\n",
      "1:\tlearn: 2928.1849326\ttotal: 149ms\tremaining: 3.57s\n",
      "2:\tlearn: 2808.7434551\ttotal: 187ms\tremaining: 2.92s\n",
      "3:\tlearn: 2707.3794065\ttotal: 221ms\tremaining: 2.54s\n",
      "4:\tlearn: 2608.5229008\ttotal: 255ms\tremaining: 2.29s\n",
      "5:\tlearn: 2530.3965684\ttotal: 299ms\tremaining: 2.19s\n",
      "6:\tlearn: 2454.4913322\ttotal: 339ms\tremaining: 2.08s\n",
      "7:\tlearn: 2393.9387375\ttotal: 372ms\tremaining: 1.96s\n",
      "8:\tlearn: 2337.5377026\ttotal: 406ms\tremaining: 1.85s\n",
      "9:\tlearn: 2284.0504601\ttotal: 441ms\tremaining: 1.76s\n",
      "10:\tlearn: 2231.5217908\ttotal: 478ms\tremaining: 1.7s\n",
      "11:\tlearn: 2179.6545630\ttotal: 512ms\tremaining: 1.62s\n",
      "12:\tlearn: 2137.6948404\ttotal: 548ms\tremaining: 1.56s\n",
      "13:\tlearn: 2099.4171036\ttotal: 581ms\tremaining: 1.49s\n",
      "14:\tlearn: 2064.0756262\ttotal: 615ms\tremaining: 1.44s\n",
      "15:\tlearn: 2033.9096865\ttotal: 648ms\tremaining: 1.38s\n",
      "16:\tlearn: 1999.1003922\ttotal: 682ms\tremaining: 1.32s\n",
      "17:\tlearn: 1973.0236496\ttotal: 722ms\tremaining: 1.28s\n",
      "18:\tlearn: 1949.7611928\ttotal: 754ms\tremaining: 1.23s\n",
      "19:\tlearn: 1927.5318031\ttotal: 787ms\tremaining: 1.18s\n",
      "20:\tlearn: 1907.4573147\ttotal: 820ms\tremaining: 1.13s\n",
      "21:\tlearn: 1889.4473425\ttotal: 853ms\tremaining: 1.08s\n",
      "22:\tlearn: 1869.3614835\ttotal: 890ms\tremaining: 1.04s\n",
      "23:\tlearn: 1849.3112050\ttotal: 922ms\tremaining: 999ms\n",
      "24:\tlearn: 1832.2313516\ttotal: 955ms\tremaining: 955ms\n",
      "25:\tlearn: 1817.8682091\ttotal: 988ms\tremaining: 912ms\n",
      "26:\tlearn: 1804.1136430\ttotal: 1.02s\tremaining: 869ms\n",
      "27:\tlearn: 1793.1319913\ttotal: 1.05s\tremaining: 828ms\n",
      "28:\tlearn: 1782.4467378\ttotal: 1.09s\tremaining: 787ms\n",
      "29:\tlearn: 1772.6190382\ttotal: 1.12s\tremaining: 747ms\n",
      "30:\tlearn: 1764.7441618\ttotal: 1.15s\tremaining: 707ms\n",
      "31:\tlearn: 1755.2568654\ttotal: 1.19s\tremaining: 667ms\n",
      "32:\tlearn: 1742.4354181\ttotal: 1.22s\tremaining: 628ms\n",
      "33:\tlearn: 1733.0801325\ttotal: 1.25s\tremaining: 589ms\n",
      "34:\tlearn: 1725.6776554\ttotal: 1.28s\tremaining: 551ms\n",
      "35:\tlearn: 1719.1543285\ttotal: 1.32s\tremaining: 512ms\n",
      "36:\tlearn: 1713.5139377\ttotal: 1.35s\tremaining: 475ms\n",
      "37:\tlearn: 1707.7394168\ttotal: 1.38s\tremaining: 437ms\n",
      "38:\tlearn: 1702.2316558\ttotal: 1.42s\tremaining: 399ms\n",
      "39:\tlearn: 1697.2681048\ttotal: 1.45s\tremaining: 363ms\n",
      "40:\tlearn: 1692.8669807\ttotal: 1.48s\tremaining: 325ms\n",
      "41:\tlearn: 1685.9368999\ttotal: 1.51s\tremaining: 288ms\n",
      "42:\tlearn: 1680.9164004\ttotal: 1.55s\tremaining: 252ms\n",
      "43:\tlearn: 1677.1049625\ttotal: 1.58s\tremaining: 215ms\n",
      "44:\tlearn: 1674.1101530\ttotal: 1.61s\tremaining: 179ms\n",
      "45:\tlearn: 1666.9034710\ttotal: 1.65s\tremaining: 143ms\n",
      "46:\tlearn: 1663.4010952\ttotal: 1.68s\tremaining: 107ms\n",
      "47:\tlearn: 1659.8957380\ttotal: 1.71s\tremaining: 71.4ms\n",
      "48:\tlearn: 1656.3169277\ttotal: 1.75s\tremaining: 35.6ms\n",
      "49:\tlearn: 1654.0411069\ttotal: 1.78s\tremaining: 0us\n",
      "Testing performance\n",
      "RMSE: 1644.1790241188426\n",
      "CPU times: user 1.85 s, sys: 48.4 ms, total: 1.9 s\n",
      "Wall time: 2.82 s\n"
     ]
    }
   ],
   "source": [
    "%%time\n",
    "\n",
    "model=CatBoostRegressor(iterations=50, depth=3, learning_rate=0.1, loss_function='RMSE')\n",
    "\n",
    "#model.fit(X_train, y_train, eval_set=(X_valid, y_valid),plot=True)\n",
    "\n",
    "model.fit(pool_train)\n",
    "pred = model.predict(pool_test)\n",
    "rmse = (np.sqrt(mean_squared_error(y_test, pred)))\n",
    "print('Testing performance')\n",
    "print('RMSE:', rmse)"
   ]
  },
  {
   "cell_type": "markdown",
   "metadata": {},
   "source": [
    "### LightGBM Model"
   ]
  },
  {
   "cell_type": "code",
   "execution_count": 43,
   "metadata": {
    "scrolled": true
   },
   "outputs": [
    {
     "name": "stderr",
     "output_type": "stream",
     "text": [
      "/opt/conda/lib/python3.9/site-packages/lightgbm/basic.py:2065: UserWarning: Using categorical_feature in Dataset.\n",
      "  _log_warning('Using categorical_feature in Dataset.')\n"
     ]
    },
    {
     "name": "stdout",
     "output_type": "stream",
     "text": [
      "Testing performance\n",
      "RMSE: 1416.098941858433\n",
      "CPU times: user 2.78 s, sys: 17.2 ms, total: 2.79 s\n",
      "Wall time: 2.77 s\n"
     ]
    }
   ],
   "source": [
    "%%time\n",
    "\n",
    "model = lgb.LGBMRegressor(learning_rate=0.1, n_estimators=50, random_state=42)\n",
    "model.fit(X_train, y_train, categorical_feature=['vehicle_type', 'gearbox', 'model', 'fuel_type', \n",
    "                                         'brand', 'not_repaired'])\n",
    "pred = model.predict(X_test)\n",
    "rmse = (np.sqrt(mean_squared_error(y_test, pred)))\n",
    "\n",
    "print('Testing performance')\n",
    "print('RMSE:', rmse)"
   ]
  },
  {
   "cell_type": "markdown",
   "metadata": {},
   "source": [
    "<div class=\"alert alert-danger\">\n",
    "<s><b>Reviewer's comment</b>\n",
    "\n",
    "Lightgbm and catboost need you to specify which features are to be treated as categorical: you can pass a list of categorical feature names in `categorical_feature` and `cat_features` respectively when initializing the models\n",
    "\n",
    "</div>"
   ]
  },
  {
   "cell_type": "markdown",
   "metadata": {},
   "source": [
    "<div class=\"alert alert-success\">\n",
    "<b>Reviewer's comment V2</b>\n",
    "\n",
    "Great!\n",
    "\n",
    "</div>"
   ]
  },
  {
   "cell_type": "markdown",
   "metadata": {},
   "source": [
    "### XGBoost Model"
   ]
  },
  {
   "cell_type": "code",
   "execution_count": 44,
   "metadata": {},
   "outputs": [
    {
     "name": "stdout",
     "output_type": "stream",
     "text": [
      "Testing performance\n",
      "RMSE: 1487.5134594771823\n",
      "CPU times: user 15.7 s, sys: 37.5 ms, total: 15.8 s\n",
      "Wall time: 15.9 s\n"
     ]
    }
   ],
   "source": [
    "%%time\n",
    "\n",
    "model = xgb.XGBRegressor(n_estimators=100, max_depth=3)\n",
    "model.fit(X_train, y_train)\n",
    "pred = model.predict(X_test)\n",
    "rmse = (np.sqrt(mean_squared_error(y_test, pred)))\n",
    "\n",
    "print('Testing performance')\n",
    "print('RMSE:', rmse)"
   ]
  },
  {
   "cell_type": "markdown",
   "metadata": {},
   "source": [
    "<div class=\"alert alert-danger\">\n",
    "<s><b>Reviewer's comment</b>\n",
    "\n",
    "While you tried a couple of different models and did some hyperparameter tuning, the time it takes to train or make predictions was never measured: `timeit.timeit()` measure the time it takes to run the function it is given as an argument. As you're giving it nothing, it doesn't measure anything useful. \n",
    "\n",
    "</div>"
   ]
  },
  {
   "cell_type": "markdown",
   "metadata": {},
   "source": [
    "<div class=\"alert alert-warning\">\n",
    "<b>Reviewer's comment V2</b>\n",
    "\n",
    "Excellent, now the time is measured correctly! One way to improve our analysis would be to separately measure the time it takes to fit each model and the time it takes to make predictions on the test set.\n",
    "\n",
    "</div>"
   ]
  },
  {
   "cell_type": "markdown",
   "metadata": {},
   "source": [
    "## Model analysis"
   ]
  },
  {
   "cell_type": "markdown",
   "metadata": {},
   "source": [
    "**Linear model**:\n",
    "\n",
    "RMSE: 2318\n",
    "\n",
    "**Random Forest model**:\n",
    "\n",
    "RMSE: 1530\n",
    "time: 1.84s\n",
    "\n",
    "**Catboost model**: \n",
    "\n",
    "RMSE: 1644\n",
    "time 2.82s\n",
    "\n",
    "**LightGBM model**:\n",
    "\n",
    "RMSE: 1416\n",
    "time 2.65s\n",
    "\n",
    "**XGBoost model**:\n",
    "\n",
    "RMSE: 1487\n",
    "time 24.4s"
   ]
  },
  {
   "cell_type": "markdown",
   "metadata": {},
   "source": [
    "#### Conclusion:\n",
    "\n",
    "1) All models exceeded the linear model sanity check.\n",
    "\n",
    "2) Of the gradient boosting models, LightGBM had the least amount of error with 1415 RMSE while Catboost had the most error with 1644 RMSE.\n",
    "\n",
    "3) Of the gradient boosting models, LightGBM was the fastest at 2.65s while XGBoost was the slowest at 24.4s.\n",
    "\n",
    "4) Of all the methods used, the LightGBM model was both fast and more accurate than the GB methods. This is the model I recommend Rusty Bargain uses."
   ]
  },
  {
   "cell_type": "markdown",
   "metadata": {},
   "source": [
    "<div class=\"alert alert-danger\">\n",
    "<s><b>Reviewer's comment</b>\n",
    "\n",
    "Please review the conclusions after fixing the problems above\n",
    "\n",
    "</div>"
   ]
  },
  {
   "cell_type": "markdown",
   "metadata": {},
   "source": [
    "<div class=\"alert alert-success\">\n",
    "<b>Reviewer's comment V2</b>\n",
    "\n",
    "Alright!\n",
    "\n",
    "</div>"
   ]
  },
  {
   "cell_type": "markdown",
   "metadata": {},
   "source": [
    "# Checklist"
   ]
  },
  {
   "cell_type": "markdown",
   "metadata": {},
   "source": [
    "Type 'x' to check. Then press Shift+Enter."
   ]
  },
  {
   "cell_type": "markdown",
   "metadata": {},
   "source": [
    "- [x]  Jupyter Notebook is open\n",
    "- [ ]  Code is error free\n",
    "- [ ]  The cells with the code have been arranged in order of execution\n",
    "- [ ]  The data has been downloaded and prepared\n",
    "- [ ]  The models have been trained\n",
    "- [ ]  The analysis of speed and quality of the models has been performed"
   ]
  },
  {
   "cell_type": "code",
   "execution_count": null,
   "metadata": {},
   "outputs": [],
   "source": []
  }
 ],
 "metadata": {
  "ExecuteTimeLog": [
   {
    "duration": 384,
    "start_time": "2022-03-16T17:58:42.349Z"
   },
   {
    "duration": 1554,
    "start_time": "2022-03-16T17:59:09.825Z"
   },
   {
    "duration": 9782,
    "start_time": "2022-03-16T17:59:13.795Z"
   },
   {
    "duration": 155,
    "start_time": "2022-03-16T18:31:01.255Z"
   },
   {
    "duration": 156,
    "start_time": "2022-03-16T18:31:32.002Z"
   },
   {
    "duration": 345,
    "start_time": "2022-03-16T22:50:18.320Z"
   },
   {
    "duration": 1079,
    "start_time": "2022-03-16T22:50:27.258Z"
   },
   {
    "duration": 4606,
    "start_time": "2022-03-16T22:50:28.339Z"
   },
   {
    "duration": 106,
    "start_time": "2022-03-16T22:50:32.946Z"
   },
   {
    "duration": 936,
    "start_time": "2022-03-16T22:50:33.053Z"
   },
   {
    "duration": 107,
    "start_time": "2022-03-16T22:53:04.145Z"
   },
   {
    "duration": 102,
    "start_time": "2022-03-16T22:53:45.050Z"
   },
   {
    "duration": 81,
    "start_time": "2022-03-17T22:33:43.431Z"
   },
   {
    "duration": 2316,
    "start_time": "2022-03-17T22:33:49.336Z"
   },
   {
    "duration": 4652,
    "start_time": "2022-03-17T22:33:51.655Z"
   },
   {
    "duration": 95,
    "start_time": "2022-03-17T22:33:56.310Z"
   },
   {
    "duration": 738,
    "start_time": "2022-03-17T22:33:56.407Z"
   },
   {
    "duration": 180,
    "start_time": "2022-03-17T22:33:57.148Z"
   },
   {
    "duration": 66,
    "start_time": "2022-03-17T22:33:57.330Z"
   },
   {
    "duration": 11,
    "start_time": "2022-03-17T22:34:56.240Z"
   },
   {
    "duration": 13,
    "start_time": "2022-03-17T22:40:44.124Z"
   },
   {
    "duration": 2087,
    "start_time": "2022-03-17T22:42:17.482Z"
   },
   {
    "duration": 0,
    "start_time": "2022-03-17T22:42:19.573Z"
   },
   {
    "duration": 0,
    "start_time": "2022-03-17T22:42:19.574Z"
   },
   {
    "duration": 0,
    "start_time": "2022-03-17T22:42:19.577Z"
   },
   {
    "duration": 0,
    "start_time": "2022-03-17T22:42:19.579Z"
   },
   {
    "duration": 0,
    "start_time": "2022-03-17T22:42:19.580Z"
   },
   {
    "duration": 0,
    "start_time": "2022-03-17T22:42:19.582Z"
   },
   {
    "duration": 0,
    "start_time": "2022-03-17T22:42:19.584Z"
   },
   {
    "duration": 1937,
    "start_time": "2022-03-17T22:43:00.503Z"
   },
   {
    "duration": 991,
    "start_time": "2022-03-17T22:43:02.443Z"
   },
   {
    "duration": 102,
    "start_time": "2022-03-17T22:43:03.437Z"
   },
   {
    "duration": 713,
    "start_time": "2022-03-17T22:43:03.541Z"
   },
   {
    "duration": 167,
    "start_time": "2022-03-17T22:43:04.256Z"
   },
   {
    "duration": 58,
    "start_time": "2022-03-17T22:43:04.426Z"
   },
   {
    "duration": 16,
    "start_time": "2022-03-17T22:43:04.487Z"
   },
   {
    "duration": 12,
    "start_time": "2022-03-17T22:43:04.506Z"
   },
   {
    "duration": 82,
    "start_time": "2022-03-17T22:46:06.305Z"
   },
   {
    "duration": 81,
    "start_time": "2022-03-17T22:48:25.413Z"
   },
   {
    "duration": 45,
    "start_time": "2022-03-22T18:36:13.140Z"
   },
   {
    "duration": 2301,
    "start_time": "2022-03-22T18:36:21.770Z"
   },
   {
    "duration": 8106,
    "start_time": "2022-03-22T18:36:24.073Z"
   },
   {
    "duration": 74,
    "start_time": "2022-03-22T18:36:32.181Z"
   },
   {
    "duration": 470,
    "start_time": "2022-03-22T18:36:32.258Z"
   },
   {
    "duration": 130,
    "start_time": "2022-03-22T18:36:32.730Z"
   },
   {
    "duration": 40,
    "start_time": "2022-03-22T18:36:32.861Z"
   },
   {
    "duration": 8,
    "start_time": "2022-03-22T18:36:32.903Z"
   },
   {
    "duration": 54,
    "start_time": "2022-03-22T18:36:32.912Z"
   },
   {
    "duration": 55,
    "start_time": "2022-03-22T18:36:32.968Z"
   },
   {
    "duration": 7,
    "start_time": "2022-03-22T18:37:47.602Z"
   },
   {
    "duration": 369,
    "start_time": "2022-03-22T18:40:02.583Z"
   },
   {
    "duration": 4,
    "start_time": "2022-03-22T18:40:07.118Z"
   },
   {
    "duration": 5,
    "start_time": "2022-03-22T18:48:59.980Z"
   },
   {
    "duration": 4,
    "start_time": "2022-03-22T18:49:05.539Z"
   },
   {
    "duration": 8,
    "start_time": "2022-03-22T18:49:14.777Z"
   },
   {
    "duration": 49,
    "start_time": "2022-03-22T19:08:00.756Z"
   },
   {
    "duration": 105,
    "start_time": "2022-03-22T19:08:36.137Z"
   },
   {
    "duration": 2050,
    "start_time": "2022-03-22T19:08:52.679Z"
   },
   {
    "duration": 1024,
    "start_time": "2022-03-22T19:08:54.731Z"
   },
   {
    "duration": 77,
    "start_time": "2022-03-22T19:08:55.757Z"
   },
   {
    "duration": 48,
    "start_time": "2022-03-22T19:08:55.835Z"
   },
   {
    "duration": 470,
    "start_time": "2022-03-22T19:08:55.900Z"
   },
   {
    "duration": 157,
    "start_time": "2022-03-22T19:08:56.372Z"
   },
   {
    "duration": 71,
    "start_time": "2022-03-22T19:08:56.531Z"
   },
   {
    "duration": 25,
    "start_time": "2022-03-22T19:08:56.604Z"
   },
   {
    "duration": 6,
    "start_time": "2022-03-22T19:08:56.631Z"
   },
   {
    "duration": 81,
    "start_time": "2022-03-22T19:08:56.639Z"
   },
   {
    "duration": 53,
    "start_time": "2022-03-22T19:08:56.722Z"
   },
   {
    "duration": 194,
    "start_time": "2022-03-22T19:08:56.777Z"
   },
   {
    "duration": 0,
    "start_time": "2022-03-22T19:08:56.973Z"
   },
   {
    "duration": 83,
    "start_time": "2022-03-22T19:12:28.062Z"
   },
   {
    "duration": 33,
    "start_time": "2022-03-22T19:18:44.935Z"
   },
   {
    "duration": 51,
    "start_time": "2022-03-22T19:23:00.059Z"
   },
   {
    "duration": 142,
    "start_time": "2022-03-22T19:54:45.057Z"
   },
   {
    "duration": 1694,
    "start_time": "2022-03-23T23:18:04.939Z"
   },
   {
    "duration": 1173,
    "start_time": "2022-03-23T23:18:06.635Z"
   },
   {
    "duration": 73,
    "start_time": "2022-03-23T23:18:07.809Z"
   },
   {
    "duration": 41,
    "start_time": "2022-03-23T23:18:07.884Z"
   },
   {
    "duration": 302,
    "start_time": "2022-03-23T23:18:07.938Z"
   },
   {
    "duration": 82,
    "start_time": "2022-03-23T23:18:08.241Z"
   },
   {
    "duration": 78,
    "start_time": "2022-03-23T23:18:08.337Z"
   },
   {
    "duration": 6,
    "start_time": "2022-03-23T23:18:08.416Z"
   },
   {
    "duration": 126,
    "start_time": "2022-03-23T23:18:08.423Z"
   },
   {
    "duration": 0,
    "start_time": "2022-03-23T23:18:08.551Z"
   },
   {
    "duration": 1461,
    "start_time": "2022-03-23T23:20:22.000Z"
   },
   {
    "duration": 809,
    "start_time": "2022-03-23T23:20:23.463Z"
   },
   {
    "duration": 82,
    "start_time": "2022-03-23T23:20:24.273Z"
   },
   {
    "duration": 40,
    "start_time": "2022-03-23T23:20:24.357Z"
   },
   {
    "duration": 312,
    "start_time": "2022-03-23T23:20:24.398Z"
   },
   {
    "duration": 87,
    "start_time": "2022-03-23T23:20:24.712Z"
   },
   {
    "duration": 84,
    "start_time": "2022-03-23T23:20:24.801Z"
   },
   {
    "duration": 5,
    "start_time": "2022-03-23T23:20:24.887Z"
   },
   {
    "duration": 122,
    "start_time": "2022-03-23T23:20:24.894Z"
   },
   {
    "duration": 0,
    "start_time": "2022-03-23T23:20:25.018Z"
   },
   {
    "duration": 47,
    "start_time": "2022-03-23T23:22:23.159Z"
   },
   {
    "duration": 44,
    "start_time": "2022-03-23T23:22:38.099Z"
   },
   {
    "duration": 1408,
    "start_time": "2022-03-23T23:22:52.939Z"
   },
   {
    "duration": 779,
    "start_time": "2022-03-23T23:22:54.349Z"
   },
   {
    "duration": 74,
    "start_time": "2022-03-23T23:22:55.137Z"
   },
   {
    "duration": 44,
    "start_time": "2022-03-23T23:22:55.213Z"
   },
   {
    "duration": 297,
    "start_time": "2022-03-23T23:22:55.259Z"
   },
   {
    "duration": 87,
    "start_time": "2022-03-23T23:22:55.559Z"
   },
   {
    "duration": 91,
    "start_time": "2022-03-23T23:22:55.648Z"
   },
   {
    "duration": 143,
    "start_time": "2022-03-23T23:22:55.742Z"
   },
   {
    "duration": 0,
    "start_time": "2022-03-23T23:22:55.887Z"
   },
   {
    "duration": 0,
    "start_time": "2022-03-23T23:22:55.889Z"
   },
   {
    "duration": 0,
    "start_time": "2022-03-23T23:22:55.890Z"
   },
   {
    "duration": 17,
    "start_time": "2022-03-23T23:23:18.452Z"
   },
   {
    "duration": 38,
    "start_time": "2022-03-23T23:23:43.639Z"
   },
   {
    "duration": 1370,
    "start_time": "2022-03-23T23:23:55.067Z"
   },
   {
    "duration": 809,
    "start_time": "2022-03-23T23:23:56.438Z"
   },
   {
    "duration": 74,
    "start_time": "2022-03-23T23:23:57.248Z"
   },
   {
    "duration": 47,
    "start_time": "2022-03-23T23:23:57.323Z"
   },
   {
    "duration": 332,
    "start_time": "2022-03-23T23:23:57.372Z"
   },
   {
    "duration": 96,
    "start_time": "2022-03-23T23:23:57.705Z"
   },
   {
    "duration": 83,
    "start_time": "2022-03-23T23:23:57.803Z"
   },
   {
    "duration": 26,
    "start_time": "2022-03-23T23:23:57.888Z"
   },
   {
    "duration": 23,
    "start_time": "2022-03-23T23:23:57.916Z"
   },
   {
    "duration": 113,
    "start_time": "2022-03-23T23:23:57.941Z"
   },
   {
    "duration": 0,
    "start_time": "2022-03-23T23:23:58.056Z"
   },
   {
    "duration": 31,
    "start_time": "2022-03-23T23:26:17.045Z"
   },
   {
    "duration": 1466,
    "start_time": "2022-03-23T23:26:23.123Z"
   },
   {
    "duration": 811,
    "start_time": "2022-03-23T23:26:24.591Z"
   },
   {
    "duration": 78,
    "start_time": "2022-03-23T23:26:25.403Z"
   },
   {
    "duration": 42,
    "start_time": "2022-03-23T23:26:25.482Z"
   },
   {
    "duration": 301,
    "start_time": "2022-03-23T23:26:25.538Z"
   },
   {
    "duration": 97,
    "start_time": "2022-03-23T23:26:25.841Z"
   },
   {
    "duration": 78,
    "start_time": "2022-03-23T23:26:25.940Z"
   },
   {
    "duration": 35,
    "start_time": "2022-03-23T23:26:26.019Z"
   },
   {
    "duration": 6,
    "start_time": "2022-03-23T23:26:26.057Z"
   },
   {
    "duration": 224,
    "start_time": "2022-03-23T23:26:26.065Z"
   },
   {
    "duration": 0,
    "start_time": "2022-03-23T23:26:26.291Z"
   },
   {
    "duration": 1470,
    "start_time": "2022-03-23T23:27:23.805Z"
   },
   {
    "duration": 855,
    "start_time": "2022-03-23T23:27:25.279Z"
   },
   {
    "duration": 69,
    "start_time": "2022-03-23T23:27:26.137Z"
   },
   {
    "duration": 54,
    "start_time": "2022-03-23T23:27:26.207Z"
   },
   {
    "duration": 313,
    "start_time": "2022-03-23T23:27:26.263Z"
   },
   {
    "duration": 85,
    "start_time": "2022-03-23T23:27:26.578Z"
   },
   {
    "duration": 84,
    "start_time": "2022-03-23T23:27:26.665Z"
   },
   {
    "duration": 25,
    "start_time": "2022-03-23T23:27:26.751Z"
   },
   {
    "duration": 14,
    "start_time": "2022-03-23T23:27:26.778Z"
   },
   {
    "duration": 2596,
    "start_time": "2022-03-23T23:27:26.794Z"
   },
   {
    "duration": 0,
    "start_time": "2022-03-23T23:27:29.392Z"
   },
   {
    "duration": 1486,
    "start_time": "2022-03-23T23:28:31.377Z"
   },
   {
    "duration": 809,
    "start_time": "2022-03-23T23:28:32.865Z"
   },
   {
    "duration": 80,
    "start_time": "2022-03-23T23:28:33.676Z"
   },
   {
    "duration": 40,
    "start_time": "2022-03-23T23:28:33.757Z"
   },
   {
    "duration": 308,
    "start_time": "2022-03-23T23:28:33.799Z"
   },
   {
    "duration": 89,
    "start_time": "2022-03-23T23:28:34.108Z"
   },
   {
    "duration": 85,
    "start_time": "2022-03-23T23:28:34.198Z"
   },
   {
    "duration": 25,
    "start_time": "2022-03-23T23:28:34.285Z"
   },
   {
    "duration": 10,
    "start_time": "2022-03-23T23:28:34.312Z"
   },
   {
    "duration": 8473,
    "start_time": "2022-03-23T23:28:34.323Z"
   },
   {
    "duration": 75,
    "start_time": "2022-03-23T23:28:42.798Z"
   },
   {
    "duration": 1354,
    "start_time": "2022-03-23T23:29:25.094Z"
   },
   {
    "duration": 796,
    "start_time": "2022-03-23T23:29:26.450Z"
   },
   {
    "duration": 73,
    "start_time": "2022-03-23T23:29:27.248Z"
   },
   {
    "duration": 47,
    "start_time": "2022-03-23T23:29:27.323Z"
   },
   {
    "duration": 297,
    "start_time": "2022-03-23T23:29:27.372Z"
   },
   {
    "duration": 86,
    "start_time": "2022-03-23T23:29:27.671Z"
   },
   {
    "duration": 87,
    "start_time": "2022-03-23T23:29:27.758Z"
   },
   {
    "duration": 28,
    "start_time": "2022-03-23T23:29:27.846Z"
   },
   {
    "duration": 7,
    "start_time": "2022-03-23T23:29:27.875Z"
   },
   {
    "duration": 13042,
    "start_time": "2022-03-23T23:29:27.884Z"
   },
   {
    "duration": 80,
    "start_time": "2022-03-23T23:29:40.927Z"
   },
   {
    "duration": 1492,
    "start_time": "2022-03-23T23:30:19.333Z"
   },
   {
    "duration": 860,
    "start_time": "2022-03-23T23:30:20.828Z"
   },
   {
    "duration": 86,
    "start_time": "2022-03-23T23:30:21.689Z"
   },
   {
    "duration": 36,
    "start_time": "2022-03-23T23:30:21.777Z"
   },
   {
    "duration": 322,
    "start_time": "2022-03-23T23:30:21.816Z"
   },
   {
    "duration": 100,
    "start_time": "2022-03-23T23:30:22.140Z"
   },
   {
    "duration": 81,
    "start_time": "2022-03-23T23:30:22.242Z"
   },
   {
    "duration": 3,
    "start_time": "2022-03-23T23:30:22.337Z"
   },
   {
    "duration": 13,
    "start_time": "2022-03-23T23:30:22.341Z"
   },
   {
    "duration": 13471,
    "start_time": "2022-03-23T23:30:22.356Z"
   },
   {
    "duration": 78,
    "start_time": "2022-03-23T23:30:35.829Z"
   },
   {
    "duration": 103,
    "start_time": "2022-03-23T23:37:10.792Z"
   },
   {
    "duration": 4,
    "start_time": "2022-03-23T23:37:26.155Z"
   },
   {
    "duration": 6,
    "start_time": "2022-03-23T23:39:51.566Z"
   },
   {
    "duration": 5,
    "start_time": "2022-03-23T23:39:55.491Z"
   },
   {
    "duration": 13,
    "start_time": "2022-03-23T23:39:58.789Z"
   },
   {
    "duration": 3,
    "start_time": "2022-03-23T23:40:23.328Z"
   },
   {
    "duration": 3,
    "start_time": "2022-03-23T23:40:56.303Z"
   },
   {
    "duration": 5,
    "start_time": "2022-03-23T23:40:58.413Z"
   },
   {
    "duration": 2986,
    "start_time": "2022-03-23T23:41:00.264Z"
   },
   {
    "duration": 77,
    "start_time": "2022-03-23T23:41:04.719Z"
   },
   {
    "duration": 5,
    "start_time": "2022-03-23T23:42:08.275Z"
   },
   {
    "duration": 99,
    "start_time": "2022-03-23T23:42:10.523Z"
   },
   {
    "duration": 6,
    "start_time": "2022-03-23T23:42:33.490Z"
   },
   {
    "duration": 2871,
    "start_time": "2022-03-23T23:42:39.029Z"
   },
   {
    "duration": 5,
    "start_time": "2022-03-23T23:45:25.394Z"
   },
   {
    "duration": 851,
    "start_time": "2022-03-23T23:45:27.943Z"
   },
   {
    "duration": 9,
    "start_time": "2022-03-23T23:45:31.155Z"
   },
   {
    "duration": 8,
    "start_time": "2022-03-23T23:46:08.374Z"
   },
   {
    "duration": 53,
    "start_time": "2022-03-23T23:46:10.888Z"
   },
   {
    "duration": 5,
    "start_time": "2022-03-23T23:46:26.698Z"
   },
   {
    "duration": 215,
    "start_time": "2022-03-23T23:46:28.787Z"
   },
   {
    "duration": 10,
    "start_time": "2022-03-23T23:46:30.991Z"
   },
   {
    "duration": 6,
    "start_time": "2022-03-24T00:24:06.308Z"
   },
   {
    "duration": 192,
    "start_time": "2022-03-24T00:24:09.278Z"
   },
   {
    "duration": 11,
    "start_time": "2022-03-24T00:24:12.109Z"
   },
   {
    "duration": 65,
    "start_time": "2022-03-24T00:26:34.042Z"
   },
   {
    "duration": 1456,
    "start_time": "2022-03-24T00:26:49.907Z"
   },
   {
    "duration": 788,
    "start_time": "2022-03-24T00:26:51.365Z"
   },
   {
    "duration": 88,
    "start_time": "2022-03-24T00:26:52.155Z"
   },
   {
    "duration": 33,
    "start_time": "2022-03-24T00:26:52.246Z"
   },
   {
    "duration": 303,
    "start_time": "2022-03-24T00:26:52.281Z"
   },
   {
    "duration": 90,
    "start_time": "2022-03-24T00:26:52.585Z"
   },
   {
    "duration": 84,
    "start_time": "2022-03-24T00:26:52.677Z"
   },
   {
    "duration": 3,
    "start_time": "2022-03-24T00:26:52.762Z"
   },
   {
    "duration": 245,
    "start_time": "2022-03-24T00:26:52.766Z"
   },
   {
    "duration": 0,
    "start_time": "2022-03-24T00:26:53.013Z"
   },
   {
    "duration": 0,
    "start_time": "2022-03-24T00:26:53.014Z"
   },
   {
    "duration": 0,
    "start_time": "2022-03-24T00:26:53.015Z"
   },
   {
    "duration": 148,
    "start_time": "2022-03-24T00:27:05.925Z"
   },
   {
    "duration": 5,
    "start_time": "2022-03-24T00:32:18.511Z"
   },
   {
    "duration": 19,
    "start_time": "2022-03-24T00:32:36.966Z"
   },
   {
    "duration": 4,
    "start_time": "2022-03-24T00:33:21.018Z"
   },
   {
    "duration": 4,
    "start_time": "2022-03-24T00:33:29.835Z"
   },
   {
    "duration": 5,
    "start_time": "2022-03-24T00:33:50.487Z"
   },
   {
    "duration": 1025,
    "start_time": "2022-03-24T00:33:53.138Z"
   },
   {
    "duration": 5,
    "start_time": "2022-03-24T00:34:13.667Z"
   },
   {
    "duration": 163,
    "start_time": "2022-03-24T00:34:19.179Z"
   },
   {
    "duration": 6,
    "start_time": "2022-03-24T00:34:26.818Z"
   },
   {
    "duration": 234,
    "start_time": "2022-03-24T00:34:30.542Z"
   },
   {
    "duration": 1380,
    "start_time": "2022-03-24T00:34:37.263Z"
   },
   {
    "duration": 818,
    "start_time": "2022-03-24T00:34:38.645Z"
   },
   {
    "duration": 84,
    "start_time": "2022-03-24T00:34:39.464Z"
   },
   {
    "duration": 41,
    "start_time": "2022-03-24T00:34:39.550Z"
   },
   {
    "duration": 312,
    "start_time": "2022-03-24T00:34:39.593Z"
   },
   {
    "duration": 91,
    "start_time": "2022-03-24T00:34:39.906Z"
   },
   {
    "duration": 88,
    "start_time": "2022-03-24T00:34:39.998Z"
   },
   {
    "duration": 5,
    "start_time": "2022-03-24T00:34:40.087Z"
   },
   {
    "duration": 6,
    "start_time": "2022-03-24T00:34:40.094Z"
   },
   {
    "duration": 1177,
    "start_time": "2022-03-24T00:34:40.102Z"
   },
   {
    "duration": 0,
    "start_time": "2022-03-24T00:34:41.280Z"
   },
   {
    "duration": 5,
    "start_time": "2022-03-24T00:34:59.907Z"
   },
   {
    "duration": 112,
    "start_time": "2022-03-24T00:35:03.567Z"
   },
   {
    "duration": 3,
    "start_time": "2022-03-24T00:35:40.263Z"
   },
   {
    "duration": 5,
    "start_time": "2022-03-24T00:35:41.721Z"
   },
   {
    "duration": 118,
    "start_time": "2022-03-24T00:35:44.808Z"
   },
   {
    "duration": 114,
    "start_time": "2022-03-24T00:37:43.258Z"
   },
   {
    "duration": 6,
    "start_time": "2022-03-24T00:40:42.637Z"
   },
   {
    "duration": 115,
    "start_time": "2022-03-24T00:40:46.497Z"
   },
   {
    "duration": 1453,
    "start_time": "2022-03-24T00:40:55.417Z"
   },
   {
    "duration": 811,
    "start_time": "2022-03-24T00:40:56.872Z"
   },
   {
    "duration": 77,
    "start_time": "2022-03-24T00:40:57.686Z"
   },
   {
    "duration": 42,
    "start_time": "2022-03-24T00:40:57.765Z"
   },
   {
    "duration": 320,
    "start_time": "2022-03-24T00:40:57.809Z"
   },
   {
    "duration": 83,
    "start_time": "2022-03-24T00:40:58.130Z"
   },
   {
    "duration": 91,
    "start_time": "2022-03-24T00:40:58.215Z"
   },
   {
    "duration": 2,
    "start_time": "2022-03-24T00:40:58.308Z"
   },
   {
    "duration": 7,
    "start_time": "2022-03-24T00:40:58.312Z"
   },
   {
    "duration": 2334,
    "start_time": "2022-03-24T00:40:58.338Z"
   },
   {
    "duration": 0,
    "start_time": "2022-03-24T00:41:00.674Z"
   },
   {
    "duration": 6,
    "start_time": "2022-03-24T00:41:20.752Z"
   },
   {
    "duration": 403,
    "start_time": "2022-03-24T00:41:22.936Z"
   },
   {
    "duration": 10,
    "start_time": "2022-03-24T00:41:25.110Z"
   },
   {
    "duration": 5,
    "start_time": "2022-03-24T00:41:49.875Z"
   },
   {
    "duration": 201,
    "start_time": "2022-03-24T00:41:52.021Z"
   },
   {
    "duration": 9,
    "start_time": "2022-03-24T00:41:54.251Z"
   },
   {
    "duration": 200,
    "start_time": "2022-03-24T00:42:53.181Z"
   },
   {
    "duration": 9,
    "start_time": "2022-03-24T00:42:55.428Z"
   },
   {
    "duration": 197,
    "start_time": "2022-03-24T00:43:02.283Z"
   },
   {
    "duration": 10,
    "start_time": "2022-03-24T00:43:03.753Z"
   },
   {
    "duration": 5,
    "start_time": "2022-03-24T00:44:03.250Z"
   },
   {
    "duration": 4,
    "start_time": "2022-03-24T00:44:22.216Z"
   },
   {
    "duration": 193,
    "start_time": "2022-03-24T00:45:07.510Z"
   },
   {
    "duration": 4,
    "start_time": "2022-03-24T00:45:16.097Z"
   },
   {
    "duration": 4,
    "start_time": "2022-03-24T00:45:55.013Z"
   },
   {
    "duration": 4,
    "start_time": "2022-03-24T00:46:15.741Z"
   },
   {
    "duration": 4,
    "start_time": "2022-03-24T00:46:42.928Z"
   },
   {
    "duration": 4,
    "start_time": "2022-03-24T00:48:10.307Z"
   },
   {
    "duration": 12,
    "start_time": "2022-03-24T00:49:04.449Z"
   },
   {
    "duration": 49,
    "start_time": "2022-03-24T02:17:07.887Z"
   },
   {
    "duration": 1809,
    "start_time": "2022-03-24T02:17:14.701Z"
   },
   {
    "duration": 7775,
    "start_time": "2022-03-24T02:17:16.512Z"
   },
   {
    "duration": 73,
    "start_time": "2022-03-24T02:17:24.288Z"
   },
   {
    "duration": 38,
    "start_time": "2022-03-24T02:17:24.363Z"
   },
   {
    "duration": 342,
    "start_time": "2022-03-24T02:17:24.404Z"
   },
   {
    "duration": 96,
    "start_time": "2022-03-24T02:17:24.747Z"
   },
   {
    "duration": 92,
    "start_time": "2022-03-24T02:17:24.845Z"
   },
   {
    "duration": 2759,
    "start_time": "2022-03-24T02:17:24.939Z"
   },
   {
    "duration": 0,
    "start_time": "2022-03-24T02:17:27.700Z"
   },
   {
    "duration": 0,
    "start_time": "2022-03-24T02:17:27.701Z"
   },
   {
    "duration": 0,
    "start_time": "2022-03-24T02:17:27.703Z"
   },
   {
    "duration": 0,
    "start_time": "2022-03-24T02:17:27.704Z"
   },
   {
    "duration": 0,
    "start_time": "2022-03-24T02:17:27.705Z"
   },
   {
    "duration": 61,
    "start_time": "2022-03-24T02:17:44.405Z"
   },
   {
    "duration": 18,
    "start_time": "2022-03-24T02:18:19.999Z"
   },
   {
    "duration": 182,
    "start_time": "2022-03-24T02:20:48.763Z"
   },
   {
    "duration": 187,
    "start_time": "2022-03-24T02:20:54.869Z"
   },
   {
    "duration": 10,
    "start_time": "2022-03-24T02:21:33.423Z"
   },
   {
    "duration": 10,
    "start_time": "2022-03-24T02:23:28.403Z"
   },
   {
    "duration": 6,
    "start_time": "2022-03-24T02:23:32.268Z"
   },
   {
    "duration": 10,
    "start_time": "2022-03-24T02:23:34.477Z"
   },
   {
    "duration": 2,
    "start_time": "2022-03-24T02:23:42.225Z"
   },
   {
    "duration": 5,
    "start_time": "2022-03-24T02:23:43.856Z"
   },
   {
    "duration": 924,
    "start_time": "2022-03-24T02:23:46.498Z"
   },
   {
    "duration": 1514,
    "start_time": "2022-03-24T02:24:08.473Z"
   },
   {
    "duration": 854,
    "start_time": "2022-03-24T02:24:09.989Z"
   },
   {
    "duration": 74,
    "start_time": "2022-03-24T02:24:10.845Z"
   },
   {
    "duration": 40,
    "start_time": "2022-03-24T02:24:10.931Z"
   },
   {
    "duration": 333,
    "start_time": "2022-03-24T02:24:10.973Z"
   },
   {
    "duration": 92,
    "start_time": "2022-03-24T02:24:11.308Z"
   },
   {
    "duration": 96,
    "start_time": "2022-03-24T02:24:11.402Z"
   },
   {
    "duration": 778,
    "start_time": "2022-03-24T02:24:11.500Z"
   },
   {
    "duration": 0,
    "start_time": "2022-03-24T02:24:12.279Z"
   },
   {
    "duration": 0,
    "start_time": "2022-03-24T02:24:12.281Z"
   },
   {
    "duration": 0,
    "start_time": "2022-03-24T02:24:12.282Z"
   },
   {
    "duration": 0,
    "start_time": "2022-03-24T02:24:12.283Z"
   },
   {
    "duration": 0,
    "start_time": "2022-03-24T02:24:12.284Z"
   },
   {
    "duration": 57,
    "start_time": "2022-03-24T02:25:29.708Z"
   },
   {
    "duration": 1807,
    "start_time": "2022-03-24T02:25:40.518Z"
   },
   {
    "duration": 874,
    "start_time": "2022-03-24T02:25:42.327Z"
   },
   {
    "duration": 81,
    "start_time": "2022-03-24T02:25:43.203Z"
   },
   {
    "duration": 53,
    "start_time": "2022-03-24T02:25:43.286Z"
   },
   {
    "duration": 350,
    "start_time": "2022-03-24T02:25:43.341Z"
   },
   {
    "duration": 94,
    "start_time": "2022-03-24T02:25:43.693Z"
   },
   {
    "duration": 92,
    "start_time": "2022-03-24T02:25:43.789Z"
   },
   {
    "duration": 74,
    "start_time": "2022-03-24T02:25:43.883Z"
   },
   {
    "duration": 3,
    "start_time": "2022-03-24T02:25:43.959Z"
   },
   {
    "duration": 6,
    "start_time": "2022-03-24T02:25:43.965Z"
   },
   {
    "duration": 1076,
    "start_time": "2022-03-24T02:25:43.973Z"
   },
   {
    "duration": 0,
    "start_time": "2022-03-24T02:25:45.050Z"
   },
   {
    "duration": 0,
    "start_time": "2022-03-24T02:25:45.052Z"
   },
   {
    "duration": 1556,
    "start_time": "2022-03-24T02:26:40.546Z"
   },
   {
    "duration": 859,
    "start_time": "2022-03-24T02:26:42.104Z"
   },
   {
    "duration": 79,
    "start_time": "2022-03-24T02:26:42.964Z"
   },
   {
    "duration": 42,
    "start_time": "2022-03-24T02:26:43.045Z"
   },
   {
    "duration": 332,
    "start_time": "2022-03-24T02:26:43.090Z"
   },
   {
    "duration": 93,
    "start_time": "2022-03-24T02:26:43.424Z"
   },
   {
    "duration": 89,
    "start_time": "2022-03-24T02:26:43.518Z"
   },
   {
    "duration": 70,
    "start_time": "2022-03-24T02:26:43.609Z"
   },
   {
    "duration": 2,
    "start_time": "2022-03-24T02:26:43.681Z"
   },
   {
    "duration": 7,
    "start_time": "2022-03-24T02:26:43.685Z"
   },
   {
    "duration": 2571,
    "start_time": "2022-03-24T02:26:43.693Z"
   },
   {
    "duration": 12,
    "start_time": "2022-03-24T02:26:46.266Z"
   },
   {
    "duration": 7,
    "start_time": "2022-03-24T02:26:46.280Z"
   },
   {
    "duration": 1514,
    "start_time": "2022-03-24T02:27:16.173Z"
   },
   {
    "duration": 823,
    "start_time": "2022-03-24T02:27:17.689Z"
   },
   {
    "duration": 78,
    "start_time": "2022-03-24T02:27:18.514Z"
   },
   {
    "duration": 53,
    "start_time": "2022-03-24T02:27:18.593Z"
   },
   {
    "duration": 324,
    "start_time": "2022-03-24T02:27:18.649Z"
   },
   {
    "duration": 92,
    "start_time": "2022-03-24T02:27:18.975Z"
   },
   {
    "duration": 90,
    "start_time": "2022-03-24T02:27:19.069Z"
   },
   {
    "duration": 79,
    "start_time": "2022-03-24T02:27:19.161Z"
   },
   {
    "duration": 3,
    "start_time": "2022-03-24T02:27:19.242Z"
   },
   {
    "duration": 7,
    "start_time": "2022-03-24T02:27:19.247Z"
   },
   {
    "duration": 1042,
    "start_time": "2022-03-24T02:27:19.255Z"
   },
   {
    "duration": 0,
    "start_time": "2022-03-24T02:27:20.299Z"
   },
   {
    "duration": 0,
    "start_time": "2022-03-24T02:27:20.300Z"
   },
   {
    "duration": 1577,
    "start_time": "2022-03-24T02:27:43.304Z"
   },
   {
    "duration": 867,
    "start_time": "2022-03-24T02:27:44.883Z"
   },
   {
    "duration": 85,
    "start_time": "2022-03-24T02:27:45.752Z"
   },
   {
    "duration": 39,
    "start_time": "2022-03-24T02:27:45.838Z"
   },
   {
    "duration": 342,
    "start_time": "2022-03-24T02:27:45.879Z"
   },
   {
    "duration": 95,
    "start_time": "2022-03-24T02:27:46.223Z"
   },
   {
    "duration": 85,
    "start_time": "2022-03-24T02:27:46.331Z"
   },
   {
    "duration": 68,
    "start_time": "2022-03-24T02:27:46.418Z"
   },
   {
    "duration": 3,
    "start_time": "2022-03-24T02:27:46.487Z"
   },
   {
    "duration": 7,
    "start_time": "2022-03-24T02:27:46.492Z"
   },
   {
    "duration": 2521,
    "start_time": "2022-03-24T02:27:46.500Z"
   },
   {
    "duration": 15,
    "start_time": "2022-03-24T02:27:49.022Z"
   },
   {
    "duration": 7,
    "start_time": "2022-03-24T02:27:49.039Z"
   },
   {
    "duration": 1568,
    "start_time": "2022-03-24T02:28:54.419Z"
   },
   {
    "duration": 863,
    "start_time": "2022-03-24T02:28:55.989Z"
   },
   {
    "duration": 82,
    "start_time": "2022-03-24T02:28:56.854Z"
   },
   {
    "duration": 40,
    "start_time": "2022-03-24T02:28:56.938Z"
   },
   {
    "duration": 331,
    "start_time": "2022-03-24T02:28:56.979Z"
   },
   {
    "duration": 94,
    "start_time": "2022-03-24T02:28:57.312Z"
   },
   {
    "duration": 90,
    "start_time": "2022-03-24T02:28:57.408Z"
   },
   {
    "duration": 69,
    "start_time": "2022-03-24T02:28:57.500Z"
   },
   {
    "duration": 3,
    "start_time": "2022-03-24T02:28:57.570Z"
   },
   {
    "duration": 7,
    "start_time": "2022-03-24T02:28:57.576Z"
   },
   {
    "duration": 2454,
    "start_time": "2022-03-24T02:28:57.585Z"
   },
   {
    "duration": 12,
    "start_time": "2022-03-24T02:29:00.041Z"
   },
   {
    "duration": 11,
    "start_time": "2022-03-24T02:29:00.056Z"
   },
   {
    "duration": 1504,
    "start_time": "2022-03-24T02:29:43.471Z"
   },
   {
    "duration": 855,
    "start_time": "2022-03-24T02:29:44.977Z"
   },
   {
    "duration": 76,
    "start_time": "2022-03-24T02:29:45.834Z"
   },
   {
    "duration": 51,
    "start_time": "2022-03-24T02:29:45.912Z"
   },
   {
    "duration": 338,
    "start_time": "2022-03-24T02:29:45.965Z"
   },
   {
    "duration": 95,
    "start_time": "2022-03-24T02:29:46.305Z"
   },
   {
    "duration": 92,
    "start_time": "2022-03-24T02:29:46.402Z"
   },
   {
    "duration": 73,
    "start_time": "2022-03-24T02:29:46.496Z"
   },
   {
    "duration": 2,
    "start_time": "2022-03-24T02:29:46.571Z"
   },
   {
    "duration": 10,
    "start_time": "2022-03-24T02:29:46.575Z"
   },
   {
    "duration": 2559,
    "start_time": "2022-03-24T02:29:46.586Z"
   },
   {
    "duration": 11,
    "start_time": "2022-03-24T02:29:49.146Z"
   },
   {
    "duration": 5,
    "start_time": "2022-03-24T02:29:49.159Z"
   },
   {
    "duration": 21,
    "start_time": "2022-03-24T02:34:30.880Z"
   },
   {
    "duration": 22,
    "start_time": "2022-03-24T02:34:42.102Z"
   },
   {
    "duration": 1556,
    "start_time": "2022-03-24T02:34:53.329Z"
   },
   {
    "duration": 859,
    "start_time": "2022-03-24T02:34:54.887Z"
   },
   {
    "duration": 70,
    "start_time": "2022-03-24T02:34:55.747Z"
   },
   {
    "duration": 40,
    "start_time": "2022-03-24T02:34:55.832Z"
   },
   {
    "duration": 340,
    "start_time": "2022-03-24T02:34:55.875Z"
   },
   {
    "duration": 96,
    "start_time": "2022-03-24T02:34:56.216Z"
   },
   {
    "duration": 94,
    "start_time": "2022-03-24T02:34:56.313Z"
   },
   {
    "duration": 73,
    "start_time": "2022-03-24T02:34:56.409Z"
   },
   {
    "duration": 2,
    "start_time": "2022-03-24T02:34:56.484Z"
   },
   {
    "duration": 68,
    "start_time": "2022-03-24T02:34:56.487Z"
   },
   {
    "duration": 5,
    "start_time": "2022-03-24T02:34:56.557Z"
   },
   {
    "duration": 2530,
    "start_time": "2022-03-24T02:34:56.564Z"
   },
   {
    "duration": 11,
    "start_time": "2022-03-24T02:34:59.096Z"
   },
   {
    "duration": 5,
    "start_time": "2022-03-24T02:34:59.110Z"
   },
   {
    "duration": 117,
    "start_time": "2022-03-24T02:37:09.001Z"
   },
   {
    "duration": 5,
    "start_time": "2022-03-24T02:37:12.062Z"
   },
   {
    "duration": 1522,
    "start_time": "2022-03-24T02:37:28.779Z"
   },
   {
    "duration": 849,
    "start_time": "2022-03-24T02:37:30.303Z"
   },
   {
    "duration": 81,
    "start_time": "2022-03-24T02:37:31.154Z"
   },
   {
    "duration": 42,
    "start_time": "2022-03-24T02:37:31.237Z"
   },
   {
    "duration": 326,
    "start_time": "2022-03-24T02:37:31.281Z"
   },
   {
    "duration": 94,
    "start_time": "2022-03-24T02:37:31.609Z"
   },
   {
    "duration": 96,
    "start_time": "2022-03-24T02:37:31.705Z"
   },
   {
    "duration": 77,
    "start_time": "2022-03-24T02:37:31.803Z"
   },
   {
    "duration": 2,
    "start_time": "2022-03-24T02:37:31.882Z"
   },
   {
    "duration": 9,
    "start_time": "2022-03-24T02:37:31.887Z"
   },
   {
    "duration": 2426,
    "start_time": "2022-03-24T02:37:31.898Z"
   },
   {
    "duration": 14,
    "start_time": "2022-03-24T02:37:34.326Z"
   },
   {
    "duration": 12,
    "start_time": "2022-03-24T02:37:34.342Z"
   },
   {
    "duration": 1513,
    "start_time": "2022-03-24T02:41:12.384Z"
   },
   {
    "duration": 865,
    "start_time": "2022-03-24T02:41:13.899Z"
   },
   {
    "duration": 84,
    "start_time": "2022-03-24T02:41:14.765Z"
   },
   {
    "duration": 42,
    "start_time": "2022-03-24T02:41:14.852Z"
   },
   {
    "duration": 337,
    "start_time": "2022-03-24T02:41:14.896Z"
   },
   {
    "duration": 100,
    "start_time": "2022-03-24T02:41:15.235Z"
   },
   {
    "duration": 82,
    "start_time": "2022-03-24T02:41:15.336Z"
   },
   {
    "duration": 60,
    "start_time": "2022-03-24T02:41:15.432Z"
   },
   {
    "duration": 3,
    "start_time": "2022-03-24T02:41:15.493Z"
   },
   {
    "duration": 7,
    "start_time": "2022-03-24T02:41:15.498Z"
   },
   {
    "duration": 8702,
    "start_time": "2022-03-24T02:41:15.506Z"
   },
   {
    "duration": 22,
    "start_time": "2022-03-24T02:41:24.210Z"
   },
   {
    "duration": 3,
    "start_time": "2022-03-24T02:41:24.234Z"
   },
   {
    "duration": 13,
    "start_time": "2022-03-24T03:02:03.817Z"
   },
   {
    "duration": 1611,
    "start_time": "2022-03-24T03:02:27.501Z"
   },
   {
    "duration": 870,
    "start_time": "2022-03-24T03:02:29.114Z"
   },
   {
    "duration": 83,
    "start_time": "2022-03-24T03:02:29.986Z"
   },
   {
    "duration": 44,
    "start_time": "2022-03-24T03:02:30.071Z"
   },
   {
    "duration": 329,
    "start_time": "2022-03-24T03:02:30.131Z"
   },
   {
    "duration": 100,
    "start_time": "2022-03-24T03:02:30.461Z"
   },
   {
    "duration": 100,
    "start_time": "2022-03-24T03:02:30.563Z"
   },
   {
    "duration": 81,
    "start_time": "2022-03-24T03:02:30.665Z"
   },
   {
    "duration": 769,
    "start_time": "2022-03-24T03:41:48.343Z"
   },
   {
    "duration": 55,
    "start_time": "2022-03-24T03:42:33.215Z"
   },
   {
    "duration": 18,
    "start_time": "2022-03-24T03:43:47.879Z"
   },
   {
    "duration": 1592,
    "start_time": "2022-03-24T03:43:59.832Z"
   },
   {
    "duration": 928,
    "start_time": "2022-03-24T03:44:01.426Z"
   },
   {
    "duration": 87,
    "start_time": "2022-03-24T03:44:02.356Z"
   },
   {
    "duration": 45,
    "start_time": "2022-03-24T03:44:02.446Z"
   },
   {
    "duration": 348,
    "start_time": "2022-03-24T03:44:02.493Z"
   },
   {
    "duration": 108,
    "start_time": "2022-03-24T03:44:02.843Z"
   },
   {
    "duration": 91,
    "start_time": "2022-03-24T03:44:02.953Z"
   },
   {
    "duration": 57,
    "start_time": "2022-03-24T03:44:03.046Z"
   },
   {
    "duration": 72,
    "start_time": "2022-03-24T03:44:03.105Z"
   },
   {
    "duration": 48,
    "start_time": "2022-03-24T09:03:51.569Z"
   },
   {
    "duration": 1870,
    "start_time": "2022-03-24T09:04:00.543Z"
   },
   {
    "duration": 1288,
    "start_time": "2022-03-24T09:04:02.416Z"
   },
   {
    "duration": 89,
    "start_time": "2022-03-24T09:04:03.706Z"
   },
   {
    "duration": 37,
    "start_time": "2022-03-24T09:04:03.797Z"
   },
   {
    "duration": 324,
    "start_time": "2022-03-24T09:04:03.837Z"
   },
   {
    "duration": 101,
    "start_time": "2022-03-24T09:04:04.163Z"
   },
   {
    "duration": 82,
    "start_time": "2022-03-24T09:04:04.265Z"
   },
   {
    "duration": 63,
    "start_time": "2022-03-24T09:04:04.349Z"
   },
   {
    "duration": 69,
    "start_time": "2022-03-24T09:04:04.414Z"
   },
   {
    "duration": 398,
    "start_time": "2022-03-24T09:04:04.485Z"
   },
   {
    "duration": 387,
    "start_time": "2022-03-24T09:04:38.507Z"
   },
   {
    "duration": 112,
    "start_time": "2022-03-24T09:13:53.389Z"
   },
   {
    "duration": 3,
    "start_time": "2022-03-24T09:14:08.834Z"
   },
   {
    "duration": 5,
    "start_time": "2022-03-24T09:14:14.755Z"
   },
   {
    "duration": 1590,
    "start_time": "2022-03-24T09:15:04.879Z"
   },
   {
    "duration": 1192,
    "start_time": "2022-03-24T09:15:06.472Z"
   },
   {
    "duration": 85,
    "start_time": "2022-03-24T09:15:07.666Z"
   },
   {
    "duration": 53,
    "start_time": "2022-03-24T09:15:07.753Z"
   },
   {
    "duration": 554,
    "start_time": "2022-03-24T09:15:07.809Z"
   },
   {
    "duration": 103,
    "start_time": "2022-03-24T09:15:08.365Z"
   },
   {
    "duration": 92,
    "start_time": "2022-03-24T09:15:08.470Z"
   },
   {
    "duration": 56,
    "start_time": "2022-03-24T09:15:08.564Z"
   },
   {
    "duration": 71,
    "start_time": "2022-03-24T09:15:08.622Z"
   },
   {
    "duration": 4,
    "start_time": "2022-03-24T09:15:08.695Z"
   },
   {
    "duration": 156,
    "start_time": "2022-03-24T09:15:08.701Z"
   },
   {
    "duration": 41,
    "start_time": "2022-03-24T09:16:25.283Z"
   },
   {
    "duration": 3,
    "start_time": "2022-03-24T09:17:38.307Z"
   },
   {
    "duration": 4,
    "start_time": "2022-03-24T09:17:44.633Z"
   },
   {
    "duration": 166,
    "start_time": "2022-03-24T09:18:18.038Z"
   },
   {
    "duration": 112,
    "start_time": "2022-03-24T09:18:22.556Z"
   },
   {
    "duration": 4,
    "start_time": "2022-03-24T09:18:35.238Z"
   },
   {
    "duration": 5,
    "start_time": "2022-03-24T09:19:13.868Z"
   },
   {
    "duration": 880,
    "start_time": "2022-03-24T09:20:54.636Z"
   },
   {
    "duration": 17,
    "start_time": "2022-03-24T09:21:21.721Z"
   },
   {
    "duration": 1595,
    "start_time": "2022-03-24T09:21:32.813Z"
   },
   {
    "duration": 817,
    "start_time": "2022-03-24T09:21:34.410Z"
   },
   {
    "duration": 85,
    "start_time": "2022-03-24T09:21:35.229Z"
   },
   {
    "duration": 48,
    "start_time": "2022-03-24T09:21:35.316Z"
   },
   {
    "duration": 405,
    "start_time": "2022-03-24T09:21:35.367Z"
   },
   {
    "duration": 103,
    "start_time": "2022-03-24T09:21:35.774Z"
   },
   {
    "duration": 113,
    "start_time": "2022-03-24T09:21:35.879Z"
   },
   {
    "duration": 92,
    "start_time": "2022-03-24T09:21:35.993Z"
   },
   {
    "duration": 55,
    "start_time": "2022-03-24T09:21:36.087Z"
   },
   {
    "duration": 20,
    "start_time": "2022-03-24T09:21:36.143Z"
   },
   {
    "duration": 999,
    "start_time": "2022-03-24T09:21:36.164Z"
   },
   {
    "duration": 17,
    "start_time": "2022-03-24T09:22:13.478Z"
   },
   {
    "duration": 1558,
    "start_time": "2022-03-24T09:22:26.758Z"
   },
   {
    "duration": 815,
    "start_time": "2022-03-24T09:22:28.318Z"
   },
   {
    "duration": 75,
    "start_time": "2022-03-24T09:22:29.135Z"
   },
   {
    "duration": 40,
    "start_time": "2022-03-24T09:22:29.212Z"
   },
   {
    "duration": 322,
    "start_time": "2022-03-24T09:22:29.254Z"
   },
   {
    "duration": 103,
    "start_time": "2022-03-24T09:22:29.578Z"
   },
   {
    "duration": 103,
    "start_time": "2022-03-24T09:22:29.683Z"
   },
   {
    "duration": 57,
    "start_time": "2022-03-24T09:22:29.788Z"
   },
   {
    "duration": 66,
    "start_time": "2022-03-24T09:22:29.847Z"
   },
   {
    "duration": 4,
    "start_time": "2022-03-24T09:22:29.915Z"
   },
   {
    "duration": 898,
    "start_time": "2022-03-24T09:22:29.921Z"
   },
   {
    "duration": 1552,
    "start_time": "2022-03-24T09:22:48.977Z"
   },
   {
    "duration": 785,
    "start_time": "2022-03-24T09:22:50.532Z"
   },
   {
    "duration": 79,
    "start_time": "2022-03-24T09:22:51.319Z"
   },
   {
    "duration": 35,
    "start_time": "2022-03-24T09:22:51.400Z"
   },
   {
    "duration": 309,
    "start_time": "2022-03-24T09:22:51.439Z"
   },
   {
    "duration": 92,
    "start_time": "2022-03-24T09:22:51.750Z"
   },
   {
    "duration": 92,
    "start_time": "2022-03-24T09:22:51.843Z"
   },
   {
    "duration": 59,
    "start_time": "2022-03-24T09:22:51.937Z"
   },
   {
    "duration": 66,
    "start_time": "2022-03-24T09:22:51.998Z"
   },
   {
    "duration": 5,
    "start_time": "2022-03-24T09:22:52.066Z"
   },
   {
    "duration": 923,
    "start_time": "2022-03-24T09:22:52.073Z"
   },
   {
    "duration": 17,
    "start_time": "2022-03-24T09:24:47.832Z"
   },
   {
    "duration": 1564,
    "start_time": "2022-03-24T09:24:57.227Z"
   },
   {
    "duration": 791,
    "start_time": "2022-03-24T09:24:58.793Z"
   },
   {
    "duration": 79,
    "start_time": "2022-03-24T09:24:59.585Z"
   },
   {
    "duration": 35,
    "start_time": "2022-03-24T09:24:59.666Z"
   },
   {
    "duration": 308,
    "start_time": "2022-03-24T09:24:59.703Z"
   },
   {
    "duration": 103,
    "start_time": "2022-03-24T09:25:00.013Z"
   },
   {
    "duration": 93,
    "start_time": "2022-03-24T09:25:00.117Z"
   },
   {
    "duration": 60,
    "start_time": "2022-03-24T09:25:00.212Z"
   },
   {
    "duration": 52,
    "start_time": "2022-03-24T09:25:00.274Z"
   },
   {
    "duration": 5,
    "start_time": "2022-03-24T09:25:00.328Z"
   },
   {
    "duration": 231,
    "start_time": "2022-03-24T09:25:00.335Z"
   },
   {
    "duration": 11,
    "start_time": "2022-03-24T09:28:02.306Z"
   },
   {
    "duration": 1510,
    "start_time": "2022-03-24T09:28:10.738Z"
   },
   {
    "duration": 826,
    "start_time": "2022-03-24T09:28:12.250Z"
   },
   {
    "duration": 87,
    "start_time": "2022-03-24T09:28:13.078Z"
   },
   {
    "duration": 39,
    "start_time": "2022-03-24T09:28:13.168Z"
   },
   {
    "duration": 333,
    "start_time": "2022-03-24T09:28:13.209Z"
   },
   {
    "duration": 88,
    "start_time": "2022-03-24T09:28:13.544Z"
   },
   {
    "duration": 92,
    "start_time": "2022-03-24T09:28:13.633Z"
   },
   {
    "duration": 58,
    "start_time": "2022-03-24T09:28:13.727Z"
   },
   {
    "duration": 51,
    "start_time": "2022-03-24T09:28:13.787Z"
   },
   {
    "duration": 4,
    "start_time": "2022-03-24T09:28:13.840Z"
   },
   {
    "duration": 169,
    "start_time": "2022-03-24T09:28:13.845Z"
   },
   {
    "duration": 31,
    "start_time": "2022-03-24T09:28:41.586Z"
   },
   {
    "duration": 1029,
    "start_time": "2022-03-24T09:30:01.689Z"
   },
   {
    "duration": 271,
    "start_time": "2022-03-24T09:31:21.385Z"
   },
   {
    "duration": 15,
    "start_time": "2022-03-24T09:31:41.164Z"
   },
   {
    "duration": 1701,
    "start_time": "2022-03-24T09:31:54.810Z"
   },
   {
    "duration": 806,
    "start_time": "2022-03-24T09:31:56.513Z"
   },
   {
    "duration": 95,
    "start_time": "2022-03-24T09:31:57.321Z"
   },
   {
    "duration": 53,
    "start_time": "2022-03-24T09:31:57.418Z"
   },
   {
    "duration": 326,
    "start_time": "2022-03-24T09:31:57.473Z"
   },
   {
    "duration": 91,
    "start_time": "2022-03-24T09:31:57.801Z"
   },
   {
    "duration": 87,
    "start_time": "2022-03-24T09:31:57.893Z"
   },
   {
    "duration": 51,
    "start_time": "2022-03-24T09:31:57.982Z"
   },
   {
    "duration": 66,
    "start_time": "2022-03-24T09:31:58.034Z"
   },
   {
    "duration": 4,
    "start_time": "2022-03-24T09:31:58.103Z"
   },
   {
    "duration": 321,
    "start_time": "2022-03-24T09:31:58.108Z"
   },
   {
    "duration": 139,
    "start_time": "2022-03-24T09:35:49.813Z"
   },
   {
    "duration": 112,
    "start_time": "2022-03-24T09:36:09.360Z"
   },
   {
    "duration": 6507,
    "start_time": "2022-03-24T09:36:21.573Z"
   },
   {
    "duration": 926,
    "start_time": "2022-03-24T09:36:28.083Z"
   },
   {
    "duration": 83,
    "start_time": "2022-03-24T09:36:29.011Z"
   },
   {
    "duration": 34,
    "start_time": "2022-03-24T09:36:29.096Z"
   },
   {
    "duration": 355,
    "start_time": "2022-03-24T09:36:29.132Z"
   },
   {
    "duration": 115,
    "start_time": "2022-03-24T09:36:29.488Z"
   },
   {
    "duration": 110,
    "start_time": "2022-03-24T09:36:29.604Z"
   },
   {
    "duration": 63,
    "start_time": "2022-03-24T09:36:29.716Z"
   },
   {
    "duration": 56,
    "start_time": "2022-03-24T09:36:29.780Z"
   },
   {
    "duration": 4,
    "start_time": "2022-03-24T09:36:29.838Z"
   },
   {
    "duration": 220,
    "start_time": "2022-03-24T09:36:29.864Z"
   },
   {
    "duration": 10,
    "start_time": "2022-03-24T09:36:53.034Z"
   },
   {
    "duration": 13,
    "start_time": "2022-03-24T09:36:56.160Z"
   },
   {
    "duration": 1540,
    "start_time": "2022-03-24T09:37:08.912Z"
   },
   {
    "duration": 809,
    "start_time": "2022-03-24T09:37:10.455Z"
   },
   {
    "duration": 74,
    "start_time": "2022-03-24T09:37:11.266Z"
   },
   {
    "duration": 49,
    "start_time": "2022-03-24T09:37:11.343Z"
   },
   {
    "duration": 320,
    "start_time": "2022-03-24T09:37:11.393Z"
   },
   {
    "duration": 91,
    "start_time": "2022-03-24T09:37:11.715Z"
   },
   {
    "duration": 91,
    "start_time": "2022-03-24T09:37:11.807Z"
   },
   {
    "duration": 64,
    "start_time": "2022-03-24T09:37:11.900Z"
   },
   {
    "duration": 54,
    "start_time": "2022-03-24T09:37:11.966Z"
   },
   {
    "duration": 5,
    "start_time": "2022-03-24T09:37:12.022Z"
   },
   {
    "duration": 177,
    "start_time": "2022-03-24T09:37:12.029Z"
   },
   {
    "duration": 1938,
    "start_time": "2022-03-24T09:37:32.735Z"
   },
   {
    "duration": 806,
    "start_time": "2022-03-24T09:37:34.676Z"
   },
   {
    "duration": 82,
    "start_time": "2022-03-24T09:37:35.484Z"
   },
   {
    "duration": 41,
    "start_time": "2022-03-24T09:37:35.568Z"
   },
   {
    "duration": 321,
    "start_time": "2022-03-24T09:37:35.611Z"
   },
   {
    "duration": 92,
    "start_time": "2022-03-24T09:37:35.934Z"
   },
   {
    "duration": 92,
    "start_time": "2022-03-24T09:37:36.028Z"
   },
   {
    "duration": 65,
    "start_time": "2022-03-24T09:37:36.121Z"
   },
   {
    "duration": 53,
    "start_time": "2022-03-24T09:37:36.187Z"
   },
   {
    "duration": 21,
    "start_time": "2022-03-24T09:37:36.243Z"
   },
   {
    "duration": 157,
    "start_time": "2022-03-24T09:37:36.266Z"
   },
   {
    "duration": 155,
    "start_time": "2022-03-24T09:39:51.872Z"
   },
   {
    "duration": 9,
    "start_time": "2022-03-24T09:40:07.514Z"
   },
   {
    "duration": 1606,
    "start_time": "2022-03-24T09:40:21.046Z"
   },
   {
    "duration": 811,
    "start_time": "2022-03-24T09:40:22.654Z"
   },
   {
    "duration": 64,
    "start_time": "2022-03-24T09:40:23.467Z"
   },
   {
    "duration": 55,
    "start_time": "2022-03-24T09:40:23.533Z"
   },
   {
    "duration": 349,
    "start_time": "2022-03-24T09:40:23.590Z"
   },
   {
    "duration": 90,
    "start_time": "2022-03-24T09:40:23.941Z"
   },
   {
    "duration": 93,
    "start_time": "2022-03-24T09:40:24.033Z"
   },
   {
    "duration": 64,
    "start_time": "2022-03-24T09:40:24.127Z"
   },
   {
    "duration": 52,
    "start_time": "2022-03-24T09:40:24.193Z"
   },
   {
    "duration": 17,
    "start_time": "2022-03-24T09:40:24.247Z"
   },
   {
    "duration": 155,
    "start_time": "2022-03-24T09:40:24.266Z"
   },
   {
    "duration": 290,
    "start_time": "2022-03-24T09:40:39.836Z"
   },
   {
    "duration": 2293,
    "start_time": "2022-03-24T21:52:57.604Z"
   },
   {
    "duration": 1164,
    "start_time": "2022-03-24T21:52:59.900Z"
   },
   {
    "duration": 103,
    "start_time": "2022-03-24T21:53:01.066Z"
   },
   {
    "duration": 79,
    "start_time": "2022-03-24T21:53:01.171Z"
   },
   {
    "duration": 739,
    "start_time": "2022-03-24T21:53:01.254Z"
   },
   {
    "duration": 123,
    "start_time": "2022-03-24T21:53:01.995Z"
   },
   {
    "duration": 166,
    "start_time": "2022-03-24T21:53:02.121Z"
   },
   {
    "duration": 119,
    "start_time": "2022-03-24T21:53:02.290Z"
   },
   {
    "duration": 128,
    "start_time": "2022-03-24T21:53:02.412Z"
   },
   {
    "duration": 6,
    "start_time": "2022-03-24T21:53:02.543Z"
   },
   {
    "duration": 486,
    "start_time": "2022-03-24T21:53:02.552Z"
   },
   {
    "duration": 185,
    "start_time": "2022-03-24T21:55:48.766Z"
   },
   {
    "duration": 100,
    "start_time": "2022-03-24T21:59:16.294Z"
   },
   {
    "duration": 303,
    "start_time": "2022-03-24T21:59:18.794Z"
   },
   {
    "duration": 429,
    "start_time": "2022-03-24T21:59:58.031Z"
   },
   {
    "duration": 2005,
    "start_time": "2022-03-24T22:00:06.514Z"
   },
   {
    "duration": 1237,
    "start_time": "2022-03-24T22:00:08.523Z"
   },
   {
    "duration": 104,
    "start_time": "2022-03-24T22:00:09.763Z"
   },
   {
    "duration": 74,
    "start_time": "2022-03-24T22:00:09.869Z"
   },
   {
    "duration": 484,
    "start_time": "2022-03-24T22:00:09.948Z"
   },
   {
    "duration": 124,
    "start_time": "2022-03-24T22:00:10.434Z"
   },
   {
    "duration": 123,
    "start_time": "2022-03-24T22:00:10.561Z"
   },
   {
    "duration": 83,
    "start_time": "2022-03-24T22:00:10.686Z"
   },
   {
    "duration": 77,
    "start_time": "2022-03-24T22:00:10.783Z"
   },
   {
    "duration": 23,
    "start_time": "2022-03-24T22:00:10.863Z"
   },
   {
    "duration": 700,
    "start_time": "2022-03-24T22:00:10.888Z"
   },
   {
    "duration": 141,
    "start_time": "2022-03-24T22:00:11.590Z"
   },
   {
    "duration": 163,
    "start_time": "2022-03-24T22:02:59.467Z"
   },
   {
    "duration": 238,
    "start_time": "2022-03-24T22:03:08.247Z"
   },
   {
    "duration": 368,
    "start_time": "2022-03-24T22:06:35.642Z"
   },
   {
    "duration": 54,
    "start_time": "2022-03-24T22:07:00.809Z"
   },
   {
    "duration": 104,
    "start_time": "2022-03-24T22:08:01.261Z"
   },
   {
    "duration": 20,
    "start_time": "2022-03-24T22:09:32.315Z"
   },
   {
    "duration": 12,
    "start_time": "2022-03-24T22:09:48.922Z"
   },
   {
    "duration": 24,
    "start_time": "2022-03-24T22:09:53.719Z"
   },
   {
    "duration": 21,
    "start_time": "2022-03-24T22:09:58.827Z"
   },
   {
    "duration": 151,
    "start_time": "2022-03-24T22:10:45.608Z"
   },
   {
    "duration": 286,
    "start_time": "2022-03-24T22:11:04.243Z"
   },
   {
    "duration": 2223,
    "start_time": "2022-03-24T22:11:16.478Z"
   },
   {
    "duration": 1183,
    "start_time": "2022-03-24T22:11:18.704Z"
   },
   {
    "duration": 117,
    "start_time": "2022-03-24T22:11:19.890Z"
   },
   {
    "duration": 74,
    "start_time": "2022-03-24T22:11:20.010Z"
   },
   {
    "duration": 478,
    "start_time": "2022-03-24T22:11:20.087Z"
   },
   {
    "duration": 128,
    "start_time": "2022-03-24T22:11:20.568Z"
   },
   {
    "duration": 107,
    "start_time": "2022-03-24T22:11:20.699Z"
   },
   {
    "duration": 95,
    "start_time": "2022-03-24T22:11:20.809Z"
   },
   {
    "duration": 96,
    "start_time": "2022-03-24T22:11:20.906Z"
   },
   {
    "duration": 6,
    "start_time": "2022-03-24T22:11:21.005Z"
   },
   {
    "duration": 497,
    "start_time": "2022-03-24T22:11:21.014Z"
   },
   {
    "duration": 75,
    "start_time": "2022-03-24T22:11:21.514Z"
   },
   {
    "duration": 41,
    "start_time": "2022-03-24T22:11:21.591Z"
   },
   {
    "duration": 2112,
    "start_time": "2022-03-24T22:12:23.070Z"
   },
   {
    "duration": 1415,
    "start_time": "2022-03-24T22:12:25.186Z"
   },
   {
    "duration": 118,
    "start_time": "2022-03-24T22:12:26.604Z"
   },
   {
    "duration": 68,
    "start_time": "2022-03-24T22:12:26.724Z"
   },
   {
    "duration": 494,
    "start_time": "2022-03-24T22:12:26.796Z"
   },
   {
    "duration": 119,
    "start_time": "2022-03-24T22:12:27.292Z"
   },
   {
    "duration": 118,
    "start_time": "2022-03-24T22:12:27.413Z"
   },
   {
    "duration": 101,
    "start_time": "2022-03-24T22:12:27.533Z"
   },
   {
    "duration": 129,
    "start_time": "2022-03-24T22:12:27.637Z"
   },
   {
    "duration": 21,
    "start_time": "2022-03-24T22:12:27.769Z"
   },
   {
    "duration": 483,
    "start_time": "2022-03-24T22:12:27.792Z"
   },
   {
    "duration": 67,
    "start_time": "2022-03-24T22:12:28.277Z"
   },
   {
    "duration": 257,
    "start_time": "2022-03-24T22:12:28.347Z"
   },
   {
    "duration": 82,
    "start_time": "2022-03-24T22:14:31.191Z"
   },
   {
    "duration": 2052,
    "start_time": "2022-03-24T22:14:37.887Z"
   },
   {
    "duration": 1290,
    "start_time": "2022-03-24T22:14:39.943Z"
   },
   {
    "duration": 110,
    "start_time": "2022-03-24T22:14:41.235Z"
   },
   {
    "duration": 77,
    "start_time": "2022-03-24T22:14:41.348Z"
   },
   {
    "duration": 470,
    "start_time": "2022-03-24T22:14:41.428Z"
   },
   {
    "duration": 124,
    "start_time": "2022-03-24T22:14:41.900Z"
   },
   {
    "duration": 118,
    "start_time": "2022-03-24T22:14:42.026Z"
   },
   {
    "duration": 91,
    "start_time": "2022-03-24T22:14:42.147Z"
   },
   {
    "duration": 89,
    "start_time": "2022-03-24T22:14:42.241Z"
   },
   {
    "duration": 6,
    "start_time": "2022-03-24T22:14:42.333Z"
   },
   {
    "duration": 510,
    "start_time": "2022-03-24T22:14:42.341Z"
   },
   {
    "duration": 74,
    "start_time": "2022-03-24T22:14:42.854Z"
   },
   {
    "duration": 248,
    "start_time": "2022-03-24T22:14:42.930Z"
   },
   {
    "duration": 74,
    "start_time": "2022-03-24T22:14:50.681Z"
   },
   {
    "duration": 2198,
    "start_time": "2022-03-24T22:15:01.157Z"
   },
   {
    "duration": 1243,
    "start_time": "2022-03-24T22:15:03.358Z"
   },
   {
    "duration": 113,
    "start_time": "2022-03-24T22:15:04.603Z"
   },
   {
    "duration": 70,
    "start_time": "2022-03-24T22:15:04.719Z"
   },
   {
    "duration": 471,
    "start_time": "2022-03-24T22:15:04.792Z"
   },
   {
    "duration": 128,
    "start_time": "2022-03-24T22:15:05.265Z"
   },
   {
    "duration": 116,
    "start_time": "2022-03-24T22:15:05.396Z"
   },
   {
    "duration": 90,
    "start_time": "2022-03-24T22:15:05.514Z"
   },
   {
    "duration": 88,
    "start_time": "2022-03-24T22:15:05.607Z"
   },
   {
    "duration": 7,
    "start_time": "2022-03-24T22:15:05.697Z"
   },
   {
    "duration": 510,
    "start_time": "2022-03-24T22:15:05.706Z"
   },
   {
    "duration": 89,
    "start_time": "2022-03-24T22:15:06.219Z"
   },
   {
    "duration": 50,
    "start_time": "2022-03-24T22:15:06.311Z"
   },
   {
    "duration": 205,
    "start_time": "2022-03-24T22:15:27.618Z"
   },
   {
    "duration": 2001,
    "start_time": "2022-03-24T22:15:52.825Z"
   },
   {
    "duration": 1158,
    "start_time": "2022-03-24T22:15:54.829Z"
   },
   {
    "duration": 114,
    "start_time": "2022-03-24T22:15:55.989Z"
   },
   {
    "duration": 78,
    "start_time": "2022-03-24T22:15:56.105Z"
   },
   {
    "duration": 468,
    "start_time": "2022-03-24T22:15:56.186Z"
   },
   {
    "duration": 127,
    "start_time": "2022-03-24T22:15:56.657Z"
   },
   {
    "duration": 113,
    "start_time": "2022-03-24T22:15:56.786Z"
   },
   {
    "duration": 94,
    "start_time": "2022-03-24T22:15:56.901Z"
   },
   {
    "duration": 89,
    "start_time": "2022-03-24T22:15:56.997Z"
   },
   {
    "duration": 7,
    "start_time": "2022-03-24T22:15:57.089Z"
   },
   {
    "duration": 500,
    "start_time": "2022-03-24T22:15:57.099Z"
   },
   {
    "duration": 64,
    "start_time": "2022-03-24T22:15:57.602Z"
   },
   {
    "duration": 41,
    "start_time": "2022-03-24T22:15:57.685Z"
   },
   {
    "duration": 245,
    "start_time": "2022-03-24T22:15:57.729Z"
   },
   {
    "duration": 20,
    "start_time": "2022-03-24T22:16:14.540Z"
   },
   {
    "duration": 2065,
    "start_time": "2022-03-24T22:17:42.470Z"
   },
   {
    "duration": 1188,
    "start_time": "2022-03-24T22:17:44.538Z"
   },
   {
    "duration": 119,
    "start_time": "2022-03-24T22:17:45.728Z"
   },
   {
    "duration": 73,
    "start_time": "2022-03-24T22:17:45.850Z"
   },
   {
    "duration": 469,
    "start_time": "2022-03-24T22:17:45.925Z"
   },
   {
    "duration": 124,
    "start_time": "2022-03-24T22:17:46.396Z"
   },
   {
    "duration": 122,
    "start_time": "2022-03-24T22:17:46.523Z"
   },
   {
    "duration": 89,
    "start_time": "2022-03-24T22:17:46.647Z"
   },
   {
    "duration": 93,
    "start_time": "2022-03-24T22:17:46.738Z"
   },
   {
    "duration": 7,
    "start_time": "2022-03-24T22:17:46.834Z"
   },
   {
    "duration": 502,
    "start_time": "2022-03-24T22:17:46.844Z"
   },
   {
    "duration": 82,
    "start_time": "2022-03-24T22:17:47.349Z"
   },
   {
    "duration": 53,
    "start_time": "2022-03-24T22:17:47.434Z"
   },
   {
    "duration": 36,
    "start_time": "2022-03-24T22:23:36.835Z"
   },
   {
    "duration": 2563,
    "start_time": "2022-03-24T22:23:45.896Z"
   },
   {
    "duration": 1280,
    "start_time": "2022-03-24T22:23:48.462Z"
   },
   {
    "duration": 115,
    "start_time": "2022-03-24T22:23:49.744Z"
   },
   {
    "duration": 66,
    "start_time": "2022-03-24T22:23:49.862Z"
   },
   {
    "duration": 476,
    "start_time": "2022-03-24T22:23:49.932Z"
   },
   {
    "duration": 116,
    "start_time": "2022-03-24T22:23:50.411Z"
   },
   {
    "duration": 117,
    "start_time": "2022-03-24T22:23:50.530Z"
   },
   {
    "duration": 86,
    "start_time": "2022-03-24T22:23:50.649Z"
   },
   {
    "duration": 93,
    "start_time": "2022-03-24T22:23:50.737Z"
   },
   {
    "duration": 6,
    "start_time": "2022-03-24T22:23:50.832Z"
   },
   {
    "duration": 3227,
    "start_time": "2022-03-24T22:23:50.841Z"
   },
   {
    "duration": 67,
    "start_time": "2022-03-24T22:23:54.070Z"
   },
   {
    "duration": 55,
    "start_time": "2022-03-24T22:23:54.139Z"
   },
   {
    "duration": 41,
    "start_time": "2022-03-24T22:25:07.047Z"
   },
   {
    "duration": 2603,
    "start_time": "2022-03-24T22:25:15.544Z"
   },
   {
    "duration": 1621,
    "start_time": "2022-03-24T22:25:18.150Z"
   },
   {
    "duration": 110,
    "start_time": "2022-03-24T22:25:19.784Z"
   },
   {
    "duration": 55,
    "start_time": "2022-03-24T22:25:19.897Z"
   },
   {
    "duration": 730,
    "start_time": "2022-03-24T22:25:19.955Z"
   },
   {
    "duration": 215,
    "start_time": "2022-03-24T22:25:20.688Z"
   },
   {
    "duration": 201,
    "start_time": "2022-03-24T22:25:20.906Z"
   },
   {
    "duration": 119,
    "start_time": "2022-03-24T22:25:21.109Z"
   },
   {
    "duration": 91,
    "start_time": "2022-03-24T22:25:21.230Z"
   },
   {
    "duration": 6,
    "start_time": "2022-03-24T22:25:21.324Z"
   },
   {
    "duration": 622,
    "start_time": "2022-03-24T22:25:21.332Z"
   },
   {
    "duration": 68,
    "start_time": "2022-03-24T22:25:21.956Z"
   },
   {
    "duration": 35,
    "start_time": "2022-03-24T22:25:22.026Z"
   },
   {
    "duration": 43,
    "start_time": "2022-03-24T22:28:45.358Z"
   },
   {
    "duration": 2622,
    "start_time": "2022-03-24T22:28:54.045Z"
   },
   {
    "duration": 1185,
    "start_time": "2022-03-24T22:28:56.670Z"
   },
   {
    "duration": 114,
    "start_time": "2022-03-24T22:28:57.857Z"
   },
   {
    "duration": 59,
    "start_time": "2022-03-24T22:28:57.975Z"
   },
   {
    "duration": 477,
    "start_time": "2022-03-24T22:28:58.037Z"
   },
   {
    "duration": 120,
    "start_time": "2022-03-24T22:28:58.516Z"
   },
   {
    "duration": 119,
    "start_time": "2022-03-24T22:28:58.639Z"
   },
   {
    "duration": 84,
    "start_time": "2022-03-24T22:28:58.760Z"
   },
   {
    "duration": 92,
    "start_time": "2022-03-24T22:28:58.846Z"
   },
   {
    "duration": 7,
    "start_time": "2022-03-24T22:28:58.941Z"
   },
   {
    "duration": 562,
    "start_time": "2022-03-24T22:28:58.951Z"
   },
   {
    "duration": 75,
    "start_time": "2022-03-24T22:28:59.515Z"
   },
   {
    "duration": 37,
    "start_time": "2022-03-24T22:28:59.593Z"
   },
   {
    "duration": 343,
    "start_time": "2022-03-24T22:31:22.365Z"
   },
   {
    "duration": 31,
    "start_time": "2022-03-24T22:31:52.950Z"
   },
   {
    "duration": 2474,
    "start_time": "2022-03-24T22:31:59.881Z"
   },
   {
    "duration": 1296,
    "start_time": "2022-03-24T22:32:02.358Z"
   },
   {
    "duration": 116,
    "start_time": "2022-03-24T22:32:03.657Z"
   },
   {
    "duration": 74,
    "start_time": "2022-03-24T22:32:03.776Z"
   },
   {
    "duration": 513,
    "start_time": "2022-03-24T22:32:03.853Z"
   },
   {
    "duration": 127,
    "start_time": "2022-03-24T22:32:04.368Z"
   },
   {
    "duration": 208,
    "start_time": "2022-03-24T22:32:04.497Z"
   },
   {
    "duration": 103,
    "start_time": "2022-03-24T22:32:04.707Z"
   },
   {
    "duration": 92,
    "start_time": "2022-03-24T22:32:04.813Z"
   },
   {
    "duration": 8,
    "start_time": "2022-03-24T22:32:04.908Z"
   },
   {
    "duration": 218,
    "start_time": "2022-03-24T22:32:04.919Z"
   },
   {
    "duration": 0,
    "start_time": "2022-03-24T22:32:05.139Z"
   },
   {
    "duration": 0,
    "start_time": "2022-03-24T22:32:05.141Z"
   },
   {
    "duration": 2037,
    "start_time": "2022-03-24T22:32:43.711Z"
   },
   {
    "duration": 1426,
    "start_time": "2022-03-24T22:32:45.751Z"
   },
   {
    "duration": 107,
    "start_time": "2022-03-24T22:32:47.184Z"
   },
   {
    "duration": 64,
    "start_time": "2022-03-24T22:32:47.293Z"
   },
   {
    "duration": 489,
    "start_time": "2022-03-24T22:32:47.362Z"
   },
   {
    "duration": 115,
    "start_time": "2022-03-24T22:32:47.854Z"
   },
   {
    "duration": 120,
    "start_time": "2022-03-24T22:32:47.971Z"
   },
   {
    "duration": 92,
    "start_time": "2022-03-24T22:32:48.093Z"
   },
   {
    "duration": 77,
    "start_time": "2022-03-24T22:32:48.188Z"
   },
   {
    "duration": 20,
    "start_time": "2022-03-24T22:32:48.267Z"
   },
   {
    "duration": 1395,
    "start_time": "2022-03-24T22:32:48.290Z"
   },
   {
    "duration": 68,
    "start_time": "2022-03-24T22:32:49.688Z"
   },
   {
    "duration": 57,
    "start_time": "2022-03-24T22:32:49.758Z"
   },
   {
    "duration": 2554,
    "start_time": "2022-03-24T22:34:47.895Z"
   },
   {
    "duration": 1270,
    "start_time": "2022-03-24T22:34:50.451Z"
   },
   {
    "duration": 114,
    "start_time": "2022-03-24T22:34:51.723Z"
   },
   {
    "duration": 65,
    "start_time": "2022-03-24T22:34:51.840Z"
   },
   {
    "duration": 462,
    "start_time": "2022-03-24T22:34:51.908Z"
   },
   {
    "duration": 222,
    "start_time": "2022-03-24T22:34:52.373Z"
   },
   {
    "duration": 116,
    "start_time": "2022-03-24T22:34:52.597Z"
   },
   {
    "duration": 91,
    "start_time": "2022-03-24T22:34:52.716Z"
   },
   {
    "duration": 89,
    "start_time": "2022-03-24T22:34:52.809Z"
   },
   {
    "duration": 7,
    "start_time": "2022-03-24T22:34:52.901Z"
   },
   {
    "duration": 93,
    "start_time": "2022-03-24T22:34:52.910Z"
   },
   {
    "duration": 749,
    "start_time": "2022-03-24T22:34:53.005Z"
   },
   {
    "duration": 70,
    "start_time": "2022-03-24T22:34:53.756Z"
   },
   {
    "duration": 77,
    "start_time": "2022-03-24T22:34:53.829Z"
   },
   {
    "duration": 1384,
    "start_time": "2022-03-24T22:35:09.810Z"
   },
   {
    "duration": 1461,
    "start_time": "2022-03-24T22:36:58.656Z"
   },
   {
    "duration": 2245,
    "start_time": "2022-03-24T22:37:12.151Z"
   },
   {
    "duration": 1840,
    "start_time": "2022-03-24T22:37:14.401Z"
   },
   {
    "duration": 111,
    "start_time": "2022-03-24T22:37:16.244Z"
   },
   {
    "duration": 70,
    "start_time": "2022-03-24T22:37:16.357Z"
   },
   {
    "duration": 477,
    "start_time": "2022-03-24T22:37:16.430Z"
   },
   {
    "duration": 123,
    "start_time": "2022-03-24T22:37:16.909Z"
   },
   {
    "duration": 115,
    "start_time": "2022-03-24T22:37:17.034Z"
   },
   {
    "duration": 92,
    "start_time": "2022-03-24T22:37:17.151Z"
   },
   {
    "duration": 89,
    "start_time": "2022-03-24T22:37:17.246Z"
   },
   {
    "duration": 6,
    "start_time": "2022-03-24T22:37:17.338Z"
   },
   {
    "duration": 103,
    "start_time": "2022-03-24T22:37:17.347Z"
   },
   {
    "duration": 1333,
    "start_time": "2022-03-24T22:37:17.453Z"
   },
   {
    "duration": 72,
    "start_time": "2022-03-24T22:37:18.789Z"
   },
   {
    "duration": 87,
    "start_time": "2022-03-24T22:37:18.865Z"
   },
   {
    "duration": 2234,
    "start_time": "2022-03-24T22:39:47.910Z"
   },
   {
    "duration": 1283,
    "start_time": "2022-03-24T22:39:50.148Z"
   },
   {
    "duration": 110,
    "start_time": "2022-03-24T22:39:51.433Z"
   },
   {
    "duration": 67,
    "start_time": "2022-03-24T22:39:51.546Z"
   },
   {
    "duration": 472,
    "start_time": "2022-03-24T22:39:51.616Z"
   },
   {
    "duration": 122,
    "start_time": "2022-03-24T22:39:52.091Z"
   },
   {
    "duration": 122,
    "start_time": "2022-03-24T22:39:52.215Z"
   },
   {
    "duration": 93,
    "start_time": "2022-03-24T22:39:52.341Z"
   },
   {
    "duration": 110,
    "start_time": "2022-03-24T22:39:52.437Z"
   },
   {
    "duration": 6,
    "start_time": "2022-03-24T22:39:52.550Z"
   },
   {
    "duration": 88,
    "start_time": "2022-03-24T22:39:52.559Z"
   },
   {
    "duration": 827,
    "start_time": "2022-03-24T22:39:52.650Z"
   },
   {
    "duration": 62,
    "start_time": "2022-03-24T22:39:53.485Z"
   },
   {
    "duration": 102,
    "start_time": "2022-03-24T22:39:53.549Z"
   },
   {
    "duration": 274,
    "start_time": "2022-03-24T22:41:35.876Z"
   },
   {
    "duration": 19,
    "start_time": "2022-03-24T22:41:44.285Z"
   },
   {
    "duration": 81,
    "start_time": "2022-03-24T22:41:56.332Z"
   },
   {
    "duration": 2346,
    "start_time": "2022-03-24T22:43:57.140Z"
   },
   {
    "duration": 1274,
    "start_time": "2022-03-24T22:43:59.489Z"
   },
   {
    "duration": 107,
    "start_time": "2022-03-24T22:44:00.765Z"
   },
   {
    "duration": 62,
    "start_time": "2022-03-24T22:44:00.886Z"
   },
   {
    "duration": 478,
    "start_time": "2022-03-24T22:44:00.950Z"
   },
   {
    "duration": 122,
    "start_time": "2022-03-24T22:44:01.430Z"
   },
   {
    "duration": 116,
    "start_time": "2022-03-24T22:44:01.554Z"
   },
   {
    "duration": 66,
    "start_time": "2022-03-24T22:44:01.684Z"
   },
   {
    "duration": 106,
    "start_time": "2022-03-24T22:44:01.752Z"
   },
   {
    "duration": 8,
    "start_time": "2022-03-24T22:44:01.861Z"
   },
   {
    "duration": 106,
    "start_time": "2022-03-24T22:44:01.871Z"
   },
   {
    "duration": 820,
    "start_time": "2022-03-24T22:44:01.979Z"
   },
   {
    "duration": 58,
    "start_time": "2022-03-24T22:44:02.801Z"
   },
   {
    "duration": 95,
    "start_time": "2022-03-24T22:44:02.861Z"
   },
   {
    "duration": 17,
    "start_time": "2022-03-24T22:44:37.896Z"
   },
   {
    "duration": 2061,
    "start_time": "2022-03-24T22:44:57.057Z"
   },
   {
    "duration": 1153,
    "start_time": "2022-03-24T22:44:59.121Z"
   },
   {
    "duration": 101,
    "start_time": "2022-03-24T22:45:00.284Z"
   },
   {
    "duration": 61,
    "start_time": "2022-03-24T22:45:00.387Z"
   },
   {
    "duration": 574,
    "start_time": "2022-03-24T22:45:00.452Z"
   },
   {
    "duration": 119,
    "start_time": "2022-03-24T22:45:01.028Z"
   },
   {
    "duration": 113,
    "start_time": "2022-03-24T22:45:01.150Z"
   },
   {
    "duration": 84,
    "start_time": "2022-03-24T22:45:01.266Z"
   },
   {
    "duration": 89,
    "start_time": "2022-03-24T22:45:01.352Z"
   },
   {
    "duration": 6,
    "start_time": "2022-03-24T22:45:01.444Z"
   },
   {
    "duration": 94,
    "start_time": "2022-03-24T22:45:01.453Z"
   },
   {
    "duration": 812,
    "start_time": "2022-03-24T22:45:01.550Z"
   },
   {
    "duration": 76,
    "start_time": "2022-03-24T22:45:02.365Z"
   },
   {
    "duration": 84,
    "start_time": "2022-03-24T22:45:02.444Z"
   },
   {
    "duration": 2055,
    "start_time": "2022-03-24T22:45:39.951Z"
   },
   {
    "duration": 1164,
    "start_time": "2022-03-24T22:45:42.008Z"
   },
   {
    "duration": 103,
    "start_time": "2022-03-24T22:45:43.183Z"
   },
   {
    "duration": 59,
    "start_time": "2022-03-24T22:45:43.289Z"
   },
   {
    "duration": 472,
    "start_time": "2022-03-24T22:45:43.351Z"
   },
   {
    "duration": 119,
    "start_time": "2022-03-24T22:45:43.825Z"
   },
   {
    "duration": 114,
    "start_time": "2022-03-24T22:45:43.946Z"
   },
   {
    "duration": 89,
    "start_time": "2022-03-24T22:45:44.062Z"
   },
   {
    "duration": 98,
    "start_time": "2022-03-24T22:45:44.153Z"
   },
   {
    "duration": 6,
    "start_time": "2022-03-24T22:45:44.254Z"
   },
   {
    "duration": 85,
    "start_time": "2022-03-24T22:45:44.263Z"
   },
   {
    "duration": 836,
    "start_time": "2022-03-24T22:45:44.351Z"
   },
   {
    "duration": 60,
    "start_time": "2022-03-24T22:45:45.190Z"
   },
   {
    "duration": 101,
    "start_time": "2022-03-24T22:45:45.253Z"
   },
   {
    "duration": 2160,
    "start_time": "2022-03-24T22:47:17.247Z"
   },
   {
    "duration": 1220,
    "start_time": "2022-03-24T22:47:19.411Z"
   },
   {
    "duration": 114,
    "start_time": "2022-03-24T22:47:20.633Z"
   },
   {
    "duration": 73,
    "start_time": "2022-03-24T22:47:20.750Z"
   },
   {
    "duration": 474,
    "start_time": "2022-03-24T22:47:20.825Z"
   },
   {
    "duration": 125,
    "start_time": "2022-03-24T22:47:21.301Z"
   },
   {
    "duration": 121,
    "start_time": "2022-03-24T22:47:21.429Z"
   },
   {
    "duration": 51,
    "start_time": "2022-03-24T22:47:21.552Z"
   },
   {
    "duration": 94,
    "start_time": "2022-03-24T22:47:21.605Z"
   },
   {
    "duration": 98,
    "start_time": "2022-03-24T22:47:21.703Z"
   },
   {
    "duration": 6,
    "start_time": "2022-03-24T22:47:21.804Z"
   },
   {
    "duration": 86,
    "start_time": "2022-03-24T22:47:21.813Z"
   },
   {
    "duration": 948,
    "start_time": "2022-03-24T22:47:21.901Z"
   },
   {
    "duration": 72,
    "start_time": "2022-03-24T22:47:22.852Z"
   },
   {
    "duration": 87,
    "start_time": "2022-03-24T22:47:22.926Z"
   },
   {
    "duration": 2019,
    "start_time": "2022-03-24T22:48:50.074Z"
   },
   {
    "duration": 1169,
    "start_time": "2022-03-24T22:48:52.096Z"
   },
   {
    "duration": 121,
    "start_time": "2022-03-24T22:48:53.267Z"
   },
   {
    "duration": 61,
    "start_time": "2022-03-24T22:48:53.390Z"
   },
   {
    "duration": 475,
    "start_time": "2022-03-24T22:48:53.454Z"
   },
   {
    "duration": 118,
    "start_time": "2022-03-24T22:48:53.932Z"
   },
   {
    "duration": 114,
    "start_time": "2022-03-24T22:48:54.052Z"
   },
   {
    "duration": 53,
    "start_time": "2022-03-24T22:48:54.168Z"
   },
   {
    "duration": 174,
    "start_time": "2022-03-24T22:48:54.224Z"
   },
   {
    "duration": 94,
    "start_time": "2022-03-24T22:48:54.401Z"
   },
   {
    "duration": 7,
    "start_time": "2022-03-24T22:48:54.497Z"
   },
   {
    "duration": 92,
    "start_time": "2022-03-24T22:48:54.506Z"
   },
   {
    "duration": 796,
    "start_time": "2022-03-24T22:48:54.600Z"
   },
   {
    "duration": 58,
    "start_time": "2022-03-24T22:48:55.400Z"
   },
   {
    "duration": 85,
    "start_time": "2022-03-24T22:48:55.460Z"
   },
   {
    "duration": 2060,
    "start_time": "2022-03-24T23:56:13.662Z"
   },
   {
    "duration": 1169,
    "start_time": "2022-03-24T23:56:15.726Z"
   },
   {
    "duration": 128,
    "start_time": "2022-03-24T23:56:16.898Z"
   },
   {
    "duration": 67,
    "start_time": "2022-03-24T23:56:17.028Z"
   },
   {
    "duration": 551,
    "start_time": "2022-03-24T23:56:17.100Z"
   },
   {
    "duration": 121,
    "start_time": "2022-03-24T23:56:17.653Z"
   },
   {
    "duration": 111,
    "start_time": "2022-03-24T23:56:17.785Z"
   },
   {
    "duration": 44,
    "start_time": "2022-03-24T23:56:17.898Z"
   },
   {
    "duration": 186,
    "start_time": "2022-03-24T23:56:17.944Z"
   },
   {
    "duration": 98,
    "start_time": "2022-03-24T23:56:18.132Z"
   },
   {
    "duration": 5,
    "start_time": "2022-03-24T23:56:18.233Z"
   },
   {
    "duration": 95,
    "start_time": "2022-03-24T23:56:18.241Z"
   },
   {
    "duration": 850,
    "start_time": "2022-03-24T23:56:18.338Z"
   },
   {
    "duration": 63,
    "start_time": "2022-03-24T23:56:19.191Z"
   },
   {
    "duration": 82,
    "start_time": "2022-03-24T23:56:19.256Z"
   },
   {
    "duration": 6,
    "start_time": "2022-03-24T23:56:19.340Z"
   },
   {
    "duration": 199,
    "start_time": "2022-03-24T23:56:19.349Z"
   },
   {
    "duration": 2134,
    "start_time": "2022-03-24T23:56:32.391Z"
   },
   {
    "duration": 1168,
    "start_time": "2022-03-24T23:56:34.528Z"
   },
   {
    "duration": 117,
    "start_time": "2022-03-24T23:56:35.698Z"
   },
   {
    "duration": 70,
    "start_time": "2022-03-24T23:56:35.818Z"
   },
   {
    "duration": 475,
    "start_time": "2022-03-24T23:56:35.890Z"
   },
   {
    "duration": 123,
    "start_time": "2022-03-24T23:56:36.367Z"
   },
   {
    "duration": 114,
    "start_time": "2022-03-24T23:56:36.492Z"
   },
   {
    "duration": 57,
    "start_time": "2022-03-24T23:56:36.608Z"
   },
   {
    "duration": 179,
    "start_time": "2022-03-24T23:56:36.667Z"
   },
   {
    "duration": 86,
    "start_time": "2022-03-24T23:56:36.850Z"
   },
   {
    "duration": 7,
    "start_time": "2022-03-24T23:56:36.938Z"
   },
   {
    "duration": 101,
    "start_time": "2022-03-24T23:56:36.947Z"
   },
   {
    "duration": 813,
    "start_time": "2022-03-24T23:56:37.051Z"
   },
   {
    "duration": 66,
    "start_time": "2022-03-24T23:56:37.867Z"
   },
   {
    "duration": 99,
    "start_time": "2022-03-24T23:56:37.936Z"
   },
   {
    "duration": 7,
    "start_time": "2022-03-24T23:56:38.038Z"
   },
   {
    "duration": 181,
    "start_time": "2022-03-24T23:56:38.047Z"
   },
   {
    "duration": 2052,
    "start_time": "2022-03-24T23:57:55.350Z"
   },
   {
    "duration": 1341,
    "start_time": "2022-03-24T23:57:57.405Z"
   },
   {
    "duration": 112,
    "start_time": "2022-03-24T23:57:58.748Z"
   },
   {
    "duration": 68,
    "start_time": "2022-03-24T23:57:58.862Z"
   },
   {
    "duration": 482,
    "start_time": "2022-03-24T23:57:58.934Z"
   },
   {
    "duration": 119,
    "start_time": "2022-03-24T23:57:59.418Z"
   },
   {
    "duration": 117,
    "start_time": "2022-03-24T23:57:59.540Z"
   },
   {
    "duration": 53,
    "start_time": "2022-03-24T23:57:59.659Z"
   },
   {
    "duration": 179,
    "start_time": "2022-03-24T23:57:59.714Z"
   },
   {
    "duration": 99,
    "start_time": "2022-03-24T23:57:59.896Z"
   },
   {
    "duration": 7,
    "start_time": "2022-03-24T23:57:59.997Z"
   },
   {
    "duration": 95,
    "start_time": "2022-03-24T23:58:00.006Z"
   },
   {
    "duration": 881,
    "start_time": "2022-03-24T23:58:00.104Z"
   },
   {
    "duration": 59,
    "start_time": "2022-03-24T23:58:00.989Z"
   },
   {
    "duration": 137,
    "start_time": "2022-03-24T23:58:01.050Z"
   },
   {
    "duration": 8,
    "start_time": "2022-03-24T23:58:01.190Z"
   },
   {
    "duration": 213,
    "start_time": "2022-03-24T23:58:01.201Z"
   },
   {
    "duration": 2040,
    "start_time": "2022-03-25T00:05:45.387Z"
   },
   {
    "duration": 1295,
    "start_time": "2022-03-25T00:05:47.429Z"
   },
   {
    "duration": 117,
    "start_time": "2022-03-25T00:05:48.726Z"
   },
   {
    "duration": 61,
    "start_time": "2022-03-25T00:05:48.845Z"
   },
   {
    "duration": 466,
    "start_time": "2022-03-25T00:05:48.909Z"
   },
   {
    "duration": 125,
    "start_time": "2022-03-25T00:05:49.377Z"
   },
   {
    "duration": 109,
    "start_time": "2022-03-25T00:05:49.504Z"
   },
   {
    "duration": 52,
    "start_time": "2022-03-25T00:05:49.615Z"
   },
   {
    "duration": 168,
    "start_time": "2022-03-25T00:05:49.669Z"
   },
   {
    "duration": 95,
    "start_time": "2022-03-25T00:05:49.839Z"
   },
   {
    "duration": 7,
    "start_time": "2022-03-25T00:05:49.936Z"
   },
   {
    "duration": 87,
    "start_time": "2022-03-25T00:05:49.945Z"
   },
   {
    "duration": 826,
    "start_time": "2022-03-25T00:05:50.035Z"
   },
   {
    "duration": 67,
    "start_time": "2022-03-25T00:05:50.865Z"
   },
   {
    "duration": 85,
    "start_time": "2022-03-25T00:05:50.934Z"
   },
   {
    "duration": 7,
    "start_time": "2022-03-25T00:05:51.021Z"
   },
   {
    "duration": 181,
    "start_time": "2022-03-25T00:05:51.031Z"
   },
   {
    "duration": 2165,
    "start_time": "2022-03-25T00:06:21.159Z"
   },
   {
    "duration": 1180,
    "start_time": "2022-03-25T00:06:23.327Z"
   },
   {
    "duration": 110,
    "start_time": "2022-03-25T00:06:24.509Z"
   },
   {
    "duration": 73,
    "start_time": "2022-03-25T00:06:24.622Z"
   },
   {
    "duration": 470,
    "start_time": "2022-03-25T00:06:24.697Z"
   },
   {
    "duration": 127,
    "start_time": "2022-03-25T00:06:25.169Z"
   },
   {
    "duration": 112,
    "start_time": "2022-03-25T00:06:25.299Z"
   },
   {
    "duration": 45,
    "start_time": "2022-03-25T00:06:25.413Z"
   },
   {
    "duration": 181,
    "start_time": "2022-03-25T00:06:25.460Z"
   },
   {
    "duration": 100,
    "start_time": "2022-03-25T00:06:25.645Z"
   },
   {
    "duration": 6,
    "start_time": "2022-03-25T00:06:25.747Z"
   },
   {
    "duration": 91,
    "start_time": "2022-03-25T00:06:25.755Z"
   },
   {
    "duration": 802,
    "start_time": "2022-03-25T00:06:25.848Z"
   },
   {
    "duration": 78,
    "start_time": "2022-03-25T00:06:26.652Z"
   },
   {
    "duration": 90,
    "start_time": "2022-03-25T00:06:26.733Z"
   },
   {
    "duration": 8,
    "start_time": "2022-03-25T00:06:26.826Z"
   },
   {
    "duration": 184,
    "start_time": "2022-03-25T00:06:26.836Z"
   },
   {
    "duration": 2003,
    "start_time": "2022-03-25T00:08:24.894Z"
   },
   {
    "duration": 1169,
    "start_time": "2022-03-25T00:08:26.899Z"
   },
   {
    "duration": 115,
    "start_time": "2022-03-25T00:08:28.070Z"
   },
   {
    "duration": 55,
    "start_time": "2022-03-25T00:08:28.187Z"
   },
   {
    "duration": 469,
    "start_time": "2022-03-25T00:08:28.245Z"
   },
   {
    "duration": 119,
    "start_time": "2022-03-25T00:08:28.716Z"
   },
   {
    "duration": 115,
    "start_time": "2022-03-25T00:08:28.837Z"
   },
   {
    "duration": 51,
    "start_time": "2022-03-25T00:08:28.954Z"
   },
   {
    "duration": 176,
    "start_time": "2022-03-25T00:08:29.007Z"
   },
   {
    "duration": 82,
    "start_time": "2022-03-25T00:08:29.185Z"
   },
   {
    "duration": 7,
    "start_time": "2022-03-25T00:08:29.283Z"
   },
   {
    "duration": 69,
    "start_time": "2022-03-25T00:08:29.292Z"
   },
   {
    "duration": 805,
    "start_time": "2022-03-25T00:08:29.384Z"
   },
   {
    "duration": 60,
    "start_time": "2022-03-25T00:08:30.192Z"
   },
   {
    "duration": 92,
    "start_time": "2022-03-25T00:08:30.254Z"
   },
   {
    "duration": 7,
    "start_time": "2022-03-25T00:08:30.348Z"
   },
   {
    "duration": 188,
    "start_time": "2022-03-25T00:08:30.357Z"
   },
   {
    "duration": 2057,
    "start_time": "2022-03-25T00:11:05.864Z"
   },
   {
    "duration": 1154,
    "start_time": "2022-03-25T00:11:07.923Z"
   },
   {
    "duration": 106,
    "start_time": "2022-03-25T00:11:09.079Z"
   },
   {
    "duration": 67,
    "start_time": "2022-03-25T00:11:09.189Z"
   },
   {
    "duration": 492,
    "start_time": "2022-03-25T00:11:09.258Z"
   },
   {
    "duration": 133,
    "start_time": "2022-03-25T00:11:09.752Z"
   },
   {
    "duration": 113,
    "start_time": "2022-03-25T00:11:09.887Z"
   },
   {
    "duration": 44,
    "start_time": "2022-03-25T00:11:10.002Z"
   },
   {
    "duration": 197,
    "start_time": "2022-03-25T00:11:10.049Z"
   },
   {
    "duration": 97,
    "start_time": "2022-03-25T00:11:10.249Z"
   },
   {
    "duration": 5,
    "start_time": "2022-03-25T00:11:10.349Z"
   },
   {
    "duration": 94,
    "start_time": "2022-03-25T00:11:10.356Z"
   },
   {
    "duration": 822,
    "start_time": "2022-03-25T00:11:10.452Z"
   },
   {
    "duration": 59,
    "start_time": "2022-03-25T00:11:11.276Z"
   },
   {
    "duration": 102,
    "start_time": "2022-03-25T00:11:11.337Z"
   },
   {
    "duration": 7,
    "start_time": "2022-03-25T00:11:11.441Z"
   },
   {
    "duration": 185,
    "start_time": "2022-03-25T00:11:11.450Z"
   },
   {
    "duration": 2040,
    "start_time": "2022-03-25T00:12:22.487Z"
   },
   {
    "duration": 1167,
    "start_time": "2022-03-25T00:12:24.530Z"
   },
   {
    "duration": 113,
    "start_time": "2022-03-25T00:12:25.699Z"
   },
   {
    "duration": 75,
    "start_time": "2022-03-25T00:12:25.814Z"
   },
   {
    "duration": 471,
    "start_time": "2022-03-25T00:12:25.892Z"
   },
   {
    "duration": 125,
    "start_time": "2022-03-25T00:12:26.365Z"
   },
   {
    "duration": 118,
    "start_time": "2022-03-25T00:12:26.493Z"
   },
   {
    "duration": 44,
    "start_time": "2022-03-25T00:12:26.613Z"
   },
   {
    "duration": 181,
    "start_time": "2022-03-25T00:12:26.659Z"
   },
   {
    "duration": 94,
    "start_time": "2022-03-25T00:12:26.843Z"
   },
   {
    "duration": 6,
    "start_time": "2022-03-25T00:12:26.939Z"
   },
   {
    "duration": 105,
    "start_time": "2022-03-25T00:12:26.947Z"
   },
   {
    "duration": 1025,
    "start_time": "2022-03-25T00:12:27.054Z"
   },
   {
    "duration": 60,
    "start_time": "2022-03-25T00:12:28.085Z"
   },
   {
    "duration": 91,
    "start_time": "2022-03-25T00:12:28.147Z"
   },
   {
    "duration": 7,
    "start_time": "2022-03-25T00:12:28.240Z"
   },
   {
    "duration": 172,
    "start_time": "2022-03-25T00:12:28.249Z"
   },
   {
    "duration": 25,
    "start_time": "2022-03-25T00:12:55.744Z"
   },
   {
    "duration": 2052,
    "start_time": "2022-03-25T00:13:21.762Z"
   },
   {
    "duration": 1153,
    "start_time": "2022-03-25T00:13:23.816Z"
   },
   {
    "duration": 118,
    "start_time": "2022-03-25T00:13:24.971Z"
   },
   {
    "duration": 58,
    "start_time": "2022-03-25T00:13:25.092Z"
   },
   {
    "duration": 471,
    "start_time": "2022-03-25T00:13:25.152Z"
   },
   {
    "duration": 115,
    "start_time": "2022-03-25T00:13:25.625Z"
   },
   {
    "duration": 118,
    "start_time": "2022-03-25T00:13:25.742Z"
   },
   {
    "duration": 60,
    "start_time": "2022-03-25T00:13:25.863Z"
   },
   {
    "duration": 175,
    "start_time": "2022-03-25T00:13:25.925Z"
   },
   {
    "duration": 100,
    "start_time": "2022-03-25T00:13:26.105Z"
   },
   {
    "duration": 7,
    "start_time": "2022-03-25T00:13:26.207Z"
   },
   {
    "duration": 90,
    "start_time": "2022-03-25T00:13:26.216Z"
   },
   {
    "duration": 836,
    "start_time": "2022-03-25T00:13:26.309Z"
   },
   {
    "duration": 77,
    "start_time": "2022-03-25T00:13:27.147Z"
   },
   {
    "duration": 81,
    "start_time": "2022-03-25T00:13:27.226Z"
   },
   {
    "duration": 7,
    "start_time": "2022-03-25T00:13:27.309Z"
   },
   {
    "duration": 190,
    "start_time": "2022-03-25T00:13:27.318Z"
   },
   {
    "duration": 2223,
    "start_time": "2022-03-25T00:14:00.198Z"
   },
   {
    "duration": 1287,
    "start_time": "2022-03-25T00:14:02.425Z"
   },
   {
    "duration": 113,
    "start_time": "2022-03-25T00:14:03.714Z"
   },
   {
    "duration": 76,
    "start_time": "2022-03-25T00:14:03.829Z"
   },
   {
    "duration": 465,
    "start_time": "2022-03-25T00:14:03.909Z"
   },
   {
    "duration": 124,
    "start_time": "2022-03-25T00:14:04.376Z"
   },
   {
    "duration": 113,
    "start_time": "2022-03-25T00:14:04.502Z"
   },
   {
    "duration": 48,
    "start_time": "2022-03-25T00:14:04.617Z"
   },
   {
    "duration": 173,
    "start_time": "2022-03-25T00:14:04.685Z"
   },
   {
    "duration": 87,
    "start_time": "2022-03-25T00:14:04.860Z"
   },
   {
    "duration": 7,
    "start_time": "2022-03-25T00:14:04.949Z"
   },
   {
    "duration": 99,
    "start_time": "2022-03-25T00:14:04.958Z"
   },
   {
    "duration": 929,
    "start_time": "2022-03-25T00:14:05.059Z"
   },
   {
    "duration": 62,
    "start_time": "2022-03-25T00:14:05.991Z"
   },
   {
    "duration": 91,
    "start_time": "2022-03-25T00:14:06.055Z"
   },
   {
    "duration": 6,
    "start_time": "2022-03-25T00:14:06.149Z"
   },
   {
    "duration": 194,
    "start_time": "2022-03-25T00:14:06.158Z"
   },
   {
    "duration": 2152,
    "start_time": "2022-03-25T00:14:21.670Z"
   },
   {
    "duration": 1158,
    "start_time": "2022-03-25T00:14:23.825Z"
   },
   {
    "duration": 111,
    "start_time": "2022-03-25T00:14:24.986Z"
   },
   {
    "duration": 55,
    "start_time": "2022-03-25T00:14:25.100Z"
   },
   {
    "duration": 476,
    "start_time": "2022-03-25T00:14:25.158Z"
   },
   {
    "duration": 114,
    "start_time": "2022-03-25T00:14:25.636Z"
   },
   {
    "duration": 118,
    "start_time": "2022-03-25T00:14:25.752Z"
   },
   {
    "duration": 44,
    "start_time": "2022-03-25T00:14:25.885Z"
   },
   {
    "duration": 173,
    "start_time": "2022-03-25T00:14:25.931Z"
   },
   {
    "duration": 97,
    "start_time": "2022-03-25T00:14:26.107Z"
   },
   {
    "duration": 6,
    "start_time": "2022-03-25T00:14:26.206Z"
   },
   {
    "duration": 1863,
    "start_time": "2022-03-25T00:14:26.214Z"
   },
   {
    "duration": 0,
    "start_time": "2022-03-25T00:14:28.079Z"
   },
   {
    "duration": 0,
    "start_time": "2022-03-25T00:14:28.081Z"
   },
   {
    "duration": 0,
    "start_time": "2022-03-25T00:14:28.082Z"
   },
   {
    "duration": 0,
    "start_time": "2022-03-25T00:14:28.084Z"
   },
   {
    "duration": 0,
    "start_time": "2022-03-25T00:14:28.085Z"
   },
   {
    "duration": 2120,
    "start_time": "2022-03-25T00:14:51.708Z"
   },
   {
    "duration": 1167,
    "start_time": "2022-03-25T00:14:53.830Z"
   },
   {
    "duration": 118,
    "start_time": "2022-03-25T00:14:54.999Z"
   },
   {
    "duration": 72,
    "start_time": "2022-03-25T00:14:55.119Z"
   },
   {
    "duration": 501,
    "start_time": "2022-03-25T00:14:55.194Z"
   },
   {
    "duration": 119,
    "start_time": "2022-03-25T00:14:55.697Z"
   },
   {
    "duration": 115,
    "start_time": "2022-03-25T00:14:55.818Z"
   },
   {
    "duration": 64,
    "start_time": "2022-03-25T00:14:55.935Z"
   },
   {
    "duration": 167,
    "start_time": "2022-03-25T00:14:56.002Z"
   },
   {
    "duration": 91,
    "start_time": "2022-03-25T00:14:56.172Z"
   },
   {
    "duration": 19,
    "start_time": "2022-03-25T00:14:56.265Z"
   },
   {
    "duration": 73,
    "start_time": "2022-03-25T00:14:56.286Z"
   },
   {
    "duration": 837,
    "start_time": "2022-03-25T00:14:56.361Z"
   },
   {
    "duration": 61,
    "start_time": "2022-03-25T00:14:57.201Z"
   },
   {
    "duration": 78,
    "start_time": "2022-03-25T00:14:57.264Z"
   },
   {
    "duration": 8,
    "start_time": "2022-03-25T00:14:57.344Z"
   },
   {
    "duration": 1942,
    "start_time": "2022-03-25T00:14:57.354Z"
   },
   {
    "duration": 2027,
    "start_time": "2022-03-25T00:16:30.521Z"
   },
   {
    "duration": 1271,
    "start_time": "2022-03-25T00:16:32.551Z"
   },
   {
    "duration": 114,
    "start_time": "2022-03-25T00:16:33.825Z"
   },
   {
    "duration": 80,
    "start_time": "2022-03-25T00:16:33.942Z"
   },
   {
    "duration": 464,
    "start_time": "2022-03-25T00:16:34.024Z"
   },
   {
    "duration": 120,
    "start_time": "2022-03-25T00:16:34.490Z"
   },
   {
    "duration": 116,
    "start_time": "2022-03-25T00:16:34.612Z"
   },
   {
    "duration": 54,
    "start_time": "2022-03-25T00:16:34.731Z"
   },
   {
    "duration": 176,
    "start_time": "2022-03-25T00:16:34.787Z"
   },
   {
    "duration": 88,
    "start_time": "2022-03-25T00:16:34.967Z"
   },
   {
    "duration": 178,
    "start_time": "2022-03-25T00:16:35.058Z"
   },
   {
    "duration": 0,
    "start_time": "2022-03-25T00:16:35.239Z"
   },
   {
    "duration": 0,
    "start_time": "2022-03-25T00:16:35.240Z"
   },
   {
    "duration": 0,
    "start_time": "2022-03-25T00:16:35.242Z"
   },
   {
    "duration": 0,
    "start_time": "2022-03-25T00:16:35.244Z"
   },
   {
    "duration": 0,
    "start_time": "2022-03-25T00:16:35.245Z"
   },
   {
    "duration": 0,
    "start_time": "2022-03-25T00:16:35.246Z"
   },
   {
    "duration": 1991,
    "start_time": "2022-03-25T00:17:10.017Z"
   },
   {
    "duration": 1161,
    "start_time": "2022-03-25T00:17:12.011Z"
   },
   {
    "duration": 107,
    "start_time": "2022-03-25T00:17:13.185Z"
   },
   {
    "duration": 62,
    "start_time": "2022-03-25T00:17:13.295Z"
   },
   {
    "duration": 482,
    "start_time": "2022-03-25T00:17:13.361Z"
   },
   {
    "duration": 125,
    "start_time": "2022-03-25T00:17:13.845Z"
   },
   {
    "duration": 107,
    "start_time": "2022-03-25T00:17:13.984Z"
   },
   {
    "duration": 44,
    "start_time": "2022-03-25T00:17:14.094Z"
   },
   {
    "duration": 182,
    "start_time": "2022-03-25T00:17:14.140Z"
   },
   {
    "duration": 94,
    "start_time": "2022-03-25T00:17:14.324Z"
   },
   {
    "duration": 6,
    "start_time": "2022-03-25T00:17:14.420Z"
   },
   {
    "duration": 93,
    "start_time": "2022-03-25T00:17:14.428Z"
   },
   {
    "duration": 813,
    "start_time": "2022-03-25T00:17:14.523Z"
   },
   {
    "duration": 73,
    "start_time": "2022-03-25T00:17:15.340Z"
   },
   {
    "duration": 79,
    "start_time": "2022-03-25T00:17:15.415Z"
   },
   {
    "duration": 7,
    "start_time": "2022-03-25T00:17:15.496Z"
   },
   {
    "duration": 189,
    "start_time": "2022-03-25T00:17:15.505Z"
   },
   {
    "duration": 2007,
    "start_time": "2022-03-25T00:18:12.000Z"
   },
   {
    "duration": 1144,
    "start_time": "2022-03-25T00:18:14.010Z"
   },
   {
    "duration": 112,
    "start_time": "2022-03-25T00:18:15.157Z"
   },
   {
    "duration": 61,
    "start_time": "2022-03-25T00:18:15.272Z"
   },
   {
    "duration": 461,
    "start_time": "2022-03-25T00:18:15.335Z"
   },
   {
    "duration": 127,
    "start_time": "2022-03-25T00:18:15.798Z"
   },
   {
    "duration": 112,
    "start_time": "2022-03-25T00:18:15.927Z"
   },
   {
    "duration": 56,
    "start_time": "2022-03-25T00:18:16.041Z"
   },
   {
    "duration": 177,
    "start_time": "2022-03-25T00:18:16.099Z"
   },
   {
    "duration": 85,
    "start_time": "2022-03-25T00:18:16.284Z"
   },
   {
    "duration": 65,
    "start_time": "2022-03-25T00:18:16.371Z"
   },
   {
    "duration": 94,
    "start_time": "2022-03-25T00:18:16.439Z"
   },
   {
    "duration": 822,
    "start_time": "2022-03-25T00:18:16.536Z"
   },
   {
    "duration": 74,
    "start_time": "2022-03-25T00:18:17.360Z"
   },
   {
    "duration": 97,
    "start_time": "2022-03-25T00:18:17.437Z"
   },
   {
    "duration": 8,
    "start_time": "2022-03-25T00:18:17.536Z"
   },
   {
    "duration": 2253,
    "start_time": "2022-03-25T00:18:17.547Z"
   },
   {
    "duration": 2074,
    "start_time": "2022-03-25T00:20:23.145Z"
   },
   {
    "duration": 1168,
    "start_time": "2022-03-25T00:20:25.222Z"
   },
   {
    "duration": 112,
    "start_time": "2022-03-25T00:20:26.392Z"
   },
   {
    "duration": 63,
    "start_time": "2022-03-25T00:20:26.507Z"
   },
   {
    "duration": 475,
    "start_time": "2022-03-25T00:20:26.584Z"
   },
   {
    "duration": 124,
    "start_time": "2022-03-25T00:20:27.061Z"
   },
   {
    "duration": 107,
    "start_time": "2022-03-25T00:20:27.187Z"
   },
   {
    "duration": 45,
    "start_time": "2022-03-25T00:20:27.296Z"
   },
   {
    "duration": 185,
    "start_time": "2022-03-25T00:20:27.343Z"
   },
   {
    "duration": 92,
    "start_time": "2022-03-25T00:20:27.531Z"
   },
   {
    "duration": 6,
    "start_time": "2022-03-25T00:20:27.625Z"
   },
   {
    "duration": 93,
    "start_time": "2022-03-25T00:20:27.633Z"
   },
   {
    "duration": 826,
    "start_time": "2022-03-25T00:20:27.728Z"
   },
   {
    "duration": 70,
    "start_time": "2022-03-25T00:20:28.557Z"
   },
   {
    "duration": 93,
    "start_time": "2022-03-25T00:20:28.630Z"
   },
   {
    "duration": 7,
    "start_time": "2022-03-25T00:20:28.725Z"
   },
   {
    "duration": 2078,
    "start_time": "2022-03-25T00:20:28.734Z"
   },
   {
    "duration": 1986,
    "start_time": "2022-03-25T00:21:02.726Z"
   },
   {
    "duration": 1192,
    "start_time": "2022-03-25T00:21:04.716Z"
   },
   {
    "duration": 109,
    "start_time": "2022-03-25T00:21:05.910Z"
   },
   {
    "duration": 71,
    "start_time": "2022-03-25T00:21:06.021Z"
   },
   {
    "duration": 462,
    "start_time": "2022-03-25T00:21:06.096Z"
   },
   {
    "duration": 125,
    "start_time": "2022-03-25T00:21:06.560Z"
   },
   {
    "duration": 110,
    "start_time": "2022-03-25T00:21:06.688Z"
   },
   {
    "duration": 44,
    "start_time": "2022-03-25T00:21:06.800Z"
   },
   {
    "duration": 178,
    "start_time": "2022-03-25T00:21:06.846Z"
   },
   {
    "duration": 94,
    "start_time": "2022-03-25T00:21:07.025Z"
   },
   {
    "duration": 6,
    "start_time": "2022-03-25T00:21:07.121Z"
   },
   {
    "duration": 92,
    "start_time": "2022-03-25T00:21:07.129Z"
   },
   {
    "duration": 896,
    "start_time": "2022-03-25T00:21:07.223Z"
   },
   {
    "duration": 74,
    "start_time": "2022-03-25T00:21:08.122Z"
   },
   {
    "duration": 87,
    "start_time": "2022-03-25T00:21:08.198Z"
   },
   {
    "duration": 7,
    "start_time": "2022-03-25T00:21:08.287Z"
   },
   {
    "duration": 2016,
    "start_time": "2022-03-25T00:21:08.296Z"
   },
   {
    "duration": 2101,
    "start_time": "2022-03-25T00:21:47.448Z"
   },
   {
    "duration": 1141,
    "start_time": "2022-03-25T00:21:49.552Z"
   },
   {
    "duration": 108,
    "start_time": "2022-03-25T00:21:50.696Z"
   },
   {
    "duration": 60,
    "start_time": "2022-03-25T00:21:50.807Z"
   },
   {
    "duration": 464,
    "start_time": "2022-03-25T00:21:50.885Z"
   },
   {
    "duration": 111,
    "start_time": "2022-03-25T00:21:51.351Z"
   },
   {
    "duration": 122,
    "start_time": "2022-03-25T00:21:51.464Z"
   },
   {
    "duration": 43,
    "start_time": "2022-03-25T00:21:51.588Z"
   },
   {
    "duration": 181,
    "start_time": "2022-03-25T00:21:51.634Z"
   },
   {
    "duration": 97,
    "start_time": "2022-03-25T00:21:51.820Z"
   },
   {
    "duration": 6,
    "start_time": "2022-03-25T00:21:51.919Z"
   },
   {
    "duration": 89,
    "start_time": "2022-03-25T00:21:51.927Z"
   },
   {
    "duration": 1007,
    "start_time": "2022-03-25T00:21:52.019Z"
   },
   {
    "duration": 69,
    "start_time": "2022-03-25T00:21:53.029Z"
   },
   {
    "duration": 94,
    "start_time": "2022-03-25T00:21:53.100Z"
   },
   {
    "duration": 7,
    "start_time": "2022-03-25T00:21:53.197Z"
   },
   {
    "duration": 2201,
    "start_time": "2022-03-25T00:21:53.206Z"
   },
   {
    "duration": 2190,
    "start_time": "2022-03-25T00:22:24.060Z"
   },
   {
    "duration": 1181,
    "start_time": "2022-03-25T00:22:26.253Z"
   },
   {
    "duration": 123,
    "start_time": "2022-03-25T00:22:27.437Z"
   },
   {
    "duration": 66,
    "start_time": "2022-03-25T00:22:27.563Z"
   },
   {
    "duration": 491,
    "start_time": "2022-03-25T00:22:27.634Z"
   },
   {
    "duration": 122,
    "start_time": "2022-03-25T00:22:28.128Z"
   },
   {
    "duration": 115,
    "start_time": "2022-03-25T00:22:28.252Z"
   },
   {
    "duration": 47,
    "start_time": "2022-03-25T00:22:28.385Z"
   },
   {
    "duration": 184,
    "start_time": "2022-03-25T00:22:28.435Z"
   },
   {
    "duration": 96,
    "start_time": "2022-03-25T00:22:28.622Z"
   },
   {
    "duration": 7,
    "start_time": "2022-03-25T00:22:28.721Z"
   },
   {
    "duration": 104,
    "start_time": "2022-03-25T00:22:28.731Z"
   },
   {
    "duration": 810,
    "start_time": "2022-03-25T00:22:28.838Z"
   },
   {
    "duration": 73,
    "start_time": "2022-03-25T00:22:29.652Z"
   },
   {
    "duration": 84,
    "start_time": "2022-03-25T00:22:29.727Z"
   },
   {
    "duration": 7,
    "start_time": "2022-03-25T00:22:29.813Z"
   },
   {
    "duration": 649,
    "start_time": "2022-03-25T00:22:29.822Z"
   },
   {
    "duration": 2082,
    "start_time": "2022-03-25T00:28:59.147Z"
   },
   {
    "duration": 1187,
    "start_time": "2022-03-25T00:29:01.232Z"
   },
   {
    "duration": 125,
    "start_time": "2022-03-25T00:29:02.422Z"
   },
   {
    "duration": 72,
    "start_time": "2022-03-25T00:29:02.551Z"
   },
   {
    "duration": 477,
    "start_time": "2022-03-25T00:29:02.625Z"
   },
   {
    "duration": 120,
    "start_time": "2022-03-25T00:29:03.104Z"
   },
   {
    "duration": 115,
    "start_time": "2022-03-25T00:29:03.226Z"
   },
   {
    "duration": 52,
    "start_time": "2022-03-25T00:29:03.343Z"
   },
   {
    "duration": 190,
    "start_time": "2022-03-25T00:29:03.397Z"
   },
   {
    "duration": 124,
    "start_time": "2022-03-25T00:29:03.592Z"
   },
   {
    "duration": 6,
    "start_time": "2022-03-25T00:29:03.719Z"
   },
   {
    "duration": 95,
    "start_time": "2022-03-25T00:29:03.727Z"
   },
   {
    "duration": 756,
    "start_time": "2022-03-25T00:29:03.823Z"
   },
   {
    "duration": 59,
    "start_time": "2022-03-25T00:29:04.584Z"
   },
   {
    "duration": 144,
    "start_time": "2022-03-25T00:29:04.645Z"
   },
   {
    "duration": 74,
    "start_time": "2022-03-25T18:21:55.361Z"
   },
   {
    "duration": 3136,
    "start_time": "2022-03-25T18:22:01.326Z"
   },
   {
    "duration": 1618,
    "start_time": "2022-03-25T18:22:04.465Z"
   },
   {
    "duration": 126,
    "start_time": "2022-03-25T18:22:06.086Z"
   },
   {
    "duration": 76,
    "start_time": "2022-03-25T18:22:06.215Z"
   },
   {
    "duration": 675,
    "start_time": "2022-03-25T18:22:06.294Z"
   },
   {
    "duration": 211,
    "start_time": "2022-03-25T18:22:06.971Z"
   },
   {
    "duration": 159,
    "start_time": "2022-03-25T18:22:07.185Z"
   },
   {
    "duration": 54,
    "start_time": "2022-03-25T18:22:07.347Z"
   },
   {
    "duration": 256,
    "start_time": "2022-03-25T18:22:07.404Z"
   },
   {
    "duration": 129,
    "start_time": "2022-03-25T18:22:07.663Z"
   },
   {
    "duration": 8,
    "start_time": "2022-03-25T18:22:07.797Z"
   },
   {
    "duration": 105,
    "start_time": "2022-03-25T18:22:07.808Z"
   },
   {
    "duration": 1273,
    "start_time": "2022-03-25T18:22:07.916Z"
   },
   {
    "duration": 78,
    "start_time": "2022-03-25T18:22:09.193Z"
   },
   {
    "duration": 154,
    "start_time": "2022-03-25T18:22:09.274Z"
   },
   {
    "duration": 158,
    "start_time": "2022-03-25T18:22:09.430Z"
   },
   {
    "duration": 213,
    "start_time": "2022-03-25T18:22:36.866Z"
   },
   {
    "duration": 174,
    "start_time": "2022-03-25T18:23:29.997Z"
   },
   {
    "duration": 134,
    "start_time": "2022-03-25T18:23:37.850Z"
   },
   {
    "duration": 414,
    "start_time": "2022-03-25T18:24:07.065Z"
   },
   {
    "duration": 3891,
    "start_time": "2022-03-25T18:24:50.316Z"
   },
   {
    "duration": 3683,
    "start_time": "2022-03-25T18:25:09.014Z"
   },
   {
    "duration": 2434,
    "start_time": "2022-03-25T18:25:30.854Z"
   },
   {
    "duration": 1482,
    "start_time": "2022-03-25T18:25:33.291Z"
   },
   {
    "duration": 123,
    "start_time": "2022-03-25T18:25:34.775Z"
   },
   {
    "duration": 81,
    "start_time": "2022-03-25T18:25:34.902Z"
   },
   {
    "duration": 621,
    "start_time": "2022-03-25T18:25:34.986Z"
   },
   {
    "duration": 162,
    "start_time": "2022-03-25T18:25:35.610Z"
   },
   {
    "duration": 193,
    "start_time": "2022-03-25T18:25:35.775Z"
   },
   {
    "duration": 81,
    "start_time": "2022-03-25T18:25:35.972Z"
   },
   {
    "duration": 245,
    "start_time": "2022-03-25T18:25:36.057Z"
   },
   {
    "duration": 106,
    "start_time": "2022-03-25T18:25:36.305Z"
   },
   {
    "duration": 6,
    "start_time": "2022-03-25T18:25:36.414Z"
   },
   {
    "duration": 73,
    "start_time": "2022-03-25T18:25:36.443Z"
   },
   {
    "duration": 896,
    "start_time": "2022-03-25T18:25:36.518Z"
   },
   {
    "duration": 78,
    "start_time": "2022-03-25T18:25:37.416Z"
   },
   {
    "duration": 149,
    "start_time": "2022-03-25T18:25:37.497Z"
   },
   {
    "duration": 3895,
    "start_time": "2022-03-25T18:25:37.649Z"
   },
   {
    "duration": 316,
    "start_time": "2022-03-25T18:27:11.261Z"
   },
   {
    "duration": 16,
    "start_time": "2022-03-25T18:27:23.517Z"
   },
   {
    "duration": 113,
    "start_time": "2022-03-25T18:27:41.439Z"
   },
   {
    "duration": 173,
    "start_time": "2022-03-25T18:28:06.412Z"
   },
   {
    "duration": 226,
    "start_time": "2022-03-25T18:28:30.971Z"
   },
   {
    "duration": 92,
    "start_time": "2022-03-25T18:28:33.632Z"
   },
   {
    "duration": 108,
    "start_time": "2022-03-25T18:32:22.796Z"
   },
   {
    "duration": 121,
    "start_time": "2022-03-25T18:32:53.591Z"
   },
   {
    "duration": 12,
    "start_time": "2022-03-25T18:58:33.188Z"
   },
   {
    "duration": 12,
    "start_time": "2022-03-25T18:58:40.826Z"
   },
   {
    "duration": 6,
    "start_time": "2022-03-25T18:58:45.824Z"
   },
   {
    "duration": 8,
    "start_time": "2022-03-25T19:01:11.849Z"
   },
   {
    "duration": 43,
    "start_time": "2022-04-07T22:50:53.585Z"
   },
   {
    "duration": 1831,
    "start_time": "2022-04-07T22:51:06.234Z"
   },
   {
    "duration": 821,
    "start_time": "2022-04-07T22:51:08.068Z"
   },
   {
    "duration": 70,
    "start_time": "2022-04-07T22:51:08.901Z"
   },
   {
    "duration": 48,
    "start_time": "2022-04-07T22:51:08.973Z"
   },
   {
    "duration": 307,
    "start_time": "2022-04-07T22:51:09.023Z"
   },
   {
    "duration": 91,
    "start_time": "2022-04-07T22:51:09.332Z"
   },
   {
    "duration": 97,
    "start_time": "2022-04-07T22:51:09.425Z"
   },
   {
    "duration": 36,
    "start_time": "2022-04-07T22:51:09.524Z"
   },
   {
    "duration": 142,
    "start_time": "2022-04-07T22:51:09.562Z"
   },
   {
    "duration": 58,
    "start_time": "2022-04-07T22:51:09.707Z"
   },
   {
    "duration": 420,
    "start_time": "2022-04-07T22:51:09.767Z"
   },
   {
    "duration": 234,
    "start_time": "2022-04-07T22:51:10.189Z"
   },
   {
    "duration": 0,
    "start_time": "2022-04-07T22:51:10.425Z"
   },
   {
    "duration": 1593,
    "start_time": "2022-04-07T22:51:30.901Z"
   },
   {
    "duration": 758,
    "start_time": "2022-04-07T22:51:32.497Z"
   },
   {
    "duration": 80,
    "start_time": "2022-04-07T22:51:33.258Z"
   },
   {
    "duration": 38,
    "start_time": "2022-04-07T22:51:33.340Z"
   },
   {
    "duration": 309,
    "start_time": "2022-04-07T22:51:33.381Z"
   },
   {
    "duration": 90,
    "start_time": "2022-04-07T22:51:33.692Z"
   },
   {
    "duration": 91,
    "start_time": "2022-04-07T22:51:33.784Z"
   },
   {
    "duration": 45,
    "start_time": "2022-04-07T22:51:33.877Z"
   },
   {
    "duration": 121,
    "start_time": "2022-04-07T22:51:33.924Z"
   },
   {
    "duration": 65,
    "start_time": "2022-04-07T22:51:34.047Z"
   },
   {
    "duration": 374,
    "start_time": "2022-04-07T22:51:34.114Z"
   },
   {
    "duration": 147,
    "start_time": "2022-04-07T22:51:34.490Z"
   },
   {
    "duration": 0,
    "start_time": "2022-04-07T22:51:34.639Z"
   },
   {
    "duration": 1624,
    "start_time": "2022-04-07T22:55:03.788Z"
   },
   {
    "duration": 803,
    "start_time": "2022-04-07T22:55:05.414Z"
   },
   {
    "duration": 67,
    "start_time": "2022-04-07T22:55:06.219Z"
   },
   {
    "duration": 49,
    "start_time": "2022-04-07T22:55:06.288Z"
   },
   {
    "duration": 319,
    "start_time": "2022-04-07T22:55:06.339Z"
   },
   {
    "duration": 92,
    "start_time": "2022-04-07T22:55:06.660Z"
   },
   {
    "duration": 87,
    "start_time": "2022-04-07T22:55:06.753Z"
   },
   {
    "duration": 33,
    "start_time": "2022-04-07T22:55:06.842Z"
   },
   {
    "duration": 128,
    "start_time": "2022-04-07T22:55:06.877Z"
   },
   {
    "duration": 55,
    "start_time": "2022-04-07T22:55:07.006Z"
   },
   {
    "duration": 2001,
    "start_time": "2022-04-07T22:55:07.063Z"
   },
   {
    "duration": 0,
    "start_time": "2022-04-07T22:55:09.066Z"
   },
   {
    "duration": 0,
    "start_time": "2022-04-07T22:55:09.067Z"
   },
   {
    "duration": 1539,
    "start_time": "2022-04-07T22:55:26.423Z"
   },
   {
    "duration": 768,
    "start_time": "2022-04-07T22:55:27.964Z"
   },
   {
    "duration": 70,
    "start_time": "2022-04-07T22:55:28.734Z"
   },
   {
    "duration": 37,
    "start_time": "2022-04-07T22:55:28.805Z"
   },
   {
    "duration": 308,
    "start_time": "2022-04-07T22:55:28.845Z"
   },
   {
    "duration": 86,
    "start_time": "2022-04-07T22:55:29.154Z"
   },
   {
    "duration": 84,
    "start_time": "2022-04-07T22:55:29.242Z"
   },
   {
    "duration": 31,
    "start_time": "2022-04-07T22:55:29.327Z"
   },
   {
    "duration": 127,
    "start_time": "2022-04-07T22:55:29.360Z"
   },
   {
    "duration": 60,
    "start_time": "2022-04-07T22:55:29.489Z"
   },
   {
    "duration": 2513,
    "start_time": "2022-04-07T22:55:29.551Z"
   },
   {
    "duration": 473,
    "start_time": "2022-04-07T22:55:32.066Z"
   },
   {
    "duration": 0,
    "start_time": "2022-04-07T22:55:32.540Z"
   },
   {
    "duration": 85,
    "start_time": "2022-04-07T23:07:45.833Z"
   },
   {
    "duration": 59,
    "start_time": "2022-04-07T23:12:21.083Z"
   },
   {
    "duration": 1615,
    "start_time": "2022-04-07T23:12:48.890Z"
   },
   {
    "duration": 777,
    "start_time": "2022-04-07T23:12:50.507Z"
   },
   {
    "duration": 73,
    "start_time": "2022-04-07T23:12:51.285Z"
   },
   {
    "duration": 42,
    "start_time": "2022-04-07T23:12:51.360Z"
   },
   {
    "duration": 300,
    "start_time": "2022-04-07T23:12:51.404Z"
   },
   {
    "duration": 96,
    "start_time": "2022-04-07T23:12:51.706Z"
   },
   {
    "duration": 78,
    "start_time": "2022-04-07T23:12:51.803Z"
   },
   {
    "duration": 40,
    "start_time": "2022-04-07T23:12:51.883Z"
   },
   {
    "duration": 129,
    "start_time": "2022-04-07T23:12:51.924Z"
   },
   {
    "duration": 62,
    "start_time": "2022-04-07T23:12:52.054Z"
   },
   {
    "duration": 2440,
    "start_time": "2022-04-07T23:12:52.118Z"
   },
   {
    "duration": 185,
    "start_time": "2022-04-07T23:12:54.559Z"
   },
   {
    "duration": 0,
    "start_time": "2022-04-07T23:12:54.745Z"
   },
   {
    "duration": 59,
    "start_time": "2022-04-07T23:13:30.644Z"
   },
   {
    "duration": 1596,
    "start_time": "2022-04-07T23:13:54.708Z"
   },
   {
    "duration": 1202,
    "start_time": "2022-04-07T23:13:56.306Z"
   },
   {
    "duration": 103,
    "start_time": "2022-04-07T23:13:57.510Z"
   },
   {
    "duration": 38,
    "start_time": "2022-04-07T23:13:57.616Z"
   },
   {
    "duration": 318,
    "start_time": "2022-04-07T23:13:57.656Z"
   },
   {
    "duration": 86,
    "start_time": "2022-04-07T23:13:57.975Z"
   },
   {
    "duration": 98,
    "start_time": "2022-04-07T23:13:58.063Z"
   },
   {
    "duration": 42,
    "start_time": "2022-04-07T23:13:58.163Z"
   },
   {
    "duration": 196,
    "start_time": "2022-04-07T23:13:58.208Z"
   },
   {
    "duration": 77,
    "start_time": "2022-04-07T23:13:58.407Z"
   },
   {
    "duration": 4087,
    "start_time": "2022-04-07T23:13:58.486Z"
   },
   {
    "duration": 203,
    "start_time": "2022-04-07T23:14:02.575Z"
   },
   {
    "duration": 0,
    "start_time": "2022-04-07T23:14:02.779Z"
   },
   {
    "duration": 47,
    "start_time": "2022-04-07T23:14:33.474Z"
   },
   {
    "duration": 51,
    "start_time": "2022-04-07T23:14:36.475Z"
   },
   {
    "duration": 1601,
    "start_time": "2022-04-07T23:14:42.523Z"
   },
   {
    "duration": 808,
    "start_time": "2022-04-07T23:14:44.126Z"
   },
   {
    "duration": 76,
    "start_time": "2022-04-07T23:14:44.936Z"
   },
   {
    "duration": 40,
    "start_time": "2022-04-07T23:14:45.014Z"
   },
   {
    "duration": 315,
    "start_time": "2022-04-07T23:14:45.056Z"
   },
   {
    "duration": 86,
    "start_time": "2022-04-07T23:14:45.372Z"
   },
   {
    "duration": 88,
    "start_time": "2022-04-07T23:14:45.460Z"
   },
   {
    "duration": 30,
    "start_time": "2022-04-07T23:14:45.550Z"
   },
   {
    "duration": 125,
    "start_time": "2022-04-07T23:14:45.582Z"
   },
   {
    "duration": 52,
    "start_time": "2022-04-07T23:14:45.710Z"
   },
   {
    "duration": 2359,
    "start_time": "2022-04-07T23:14:45.764Z"
   },
   {
    "duration": 86,
    "start_time": "2022-04-07T23:14:48.124Z"
   },
   {
    "duration": 209,
    "start_time": "2022-04-07T23:14:48.211Z"
   },
   {
    "duration": 55,
    "start_time": "2022-04-07T23:15:18.164Z"
   },
   {
    "duration": 1849,
    "start_time": "2022-04-07T23:15:24.172Z"
   },
   {
    "duration": 780,
    "start_time": "2022-04-07T23:15:26.023Z"
   },
   {
    "duration": 65,
    "start_time": "2022-04-07T23:15:26.805Z"
   },
   {
    "duration": 54,
    "start_time": "2022-04-07T23:15:26.872Z"
   },
   {
    "duration": 304,
    "start_time": "2022-04-07T23:15:26.928Z"
   },
   {
    "duration": 92,
    "start_time": "2022-04-07T23:15:27.233Z"
   },
   {
    "duration": 85,
    "start_time": "2022-04-07T23:15:27.327Z"
   },
   {
    "duration": 32,
    "start_time": "2022-04-07T23:15:27.413Z"
   },
   {
    "duration": 127,
    "start_time": "2022-04-07T23:15:27.447Z"
   },
   {
    "duration": 61,
    "start_time": "2022-04-07T23:15:27.576Z"
   },
   {
    "duration": 2456,
    "start_time": "2022-04-07T23:15:27.639Z"
   },
   {
    "duration": 78,
    "start_time": "2022-04-07T23:15:30.101Z"
   },
   {
    "duration": 209,
    "start_time": "2022-04-07T23:15:30.181Z"
   },
   {
    "duration": 61,
    "start_time": "2022-04-07T23:15:33.051Z"
   },
   {
    "duration": 57,
    "start_time": "2022-04-07T23:16:12.931Z"
   },
   {
    "duration": 58,
    "start_time": "2022-04-07T23:16:30.065Z"
   },
   {
    "duration": 1588,
    "start_time": "2022-04-07T23:16:41.528Z"
   },
   {
    "duration": 788,
    "start_time": "2022-04-07T23:16:43.117Z"
   },
   {
    "duration": 66,
    "start_time": "2022-04-07T23:16:43.906Z"
   },
   {
    "duration": 53,
    "start_time": "2022-04-07T23:16:43.973Z"
   },
   {
    "duration": 445,
    "start_time": "2022-04-07T23:16:44.029Z"
   },
   {
    "duration": 99,
    "start_time": "2022-04-07T23:16:44.475Z"
   },
   {
    "duration": 92,
    "start_time": "2022-04-07T23:16:44.575Z"
   },
   {
    "duration": 38,
    "start_time": "2022-04-07T23:16:44.669Z"
   },
   {
    "duration": 137,
    "start_time": "2022-04-07T23:16:44.709Z"
   },
   {
    "duration": 63,
    "start_time": "2022-04-07T23:16:44.847Z"
   },
   {
    "duration": 2407,
    "start_time": "2022-04-07T23:16:44.911Z"
   },
   {
    "duration": 186,
    "start_time": "2022-04-07T23:16:47.319Z"
   },
   {
    "duration": 0,
    "start_time": "2022-04-07T23:16:47.507Z"
   },
   {
    "duration": 57,
    "start_time": "2022-04-07T23:16:57.641Z"
   },
   {
    "duration": 50,
    "start_time": "2022-04-07T23:17:22.331Z"
   },
   {
    "duration": 1676,
    "start_time": "2022-04-07T23:17:31.587Z"
   },
   {
    "duration": 813,
    "start_time": "2022-04-07T23:17:33.265Z"
   },
   {
    "duration": 68,
    "start_time": "2022-04-07T23:17:34.079Z"
   },
   {
    "duration": 40,
    "start_time": "2022-04-07T23:17:34.148Z"
   },
   {
    "duration": 326,
    "start_time": "2022-04-07T23:17:34.208Z"
   },
   {
    "duration": 87,
    "start_time": "2022-04-07T23:17:34.536Z"
   },
   {
    "duration": 88,
    "start_time": "2022-04-07T23:17:34.625Z"
   },
   {
    "duration": 30,
    "start_time": "2022-04-07T23:17:34.716Z"
   },
   {
    "duration": 138,
    "start_time": "2022-04-07T23:17:34.747Z"
   },
   {
    "duration": 65,
    "start_time": "2022-04-07T23:17:34.887Z"
   },
   {
    "duration": 2580,
    "start_time": "2022-04-07T23:17:34.954Z"
   },
   {
    "duration": 171,
    "start_time": "2022-04-07T23:17:37.536Z"
   },
   {
    "duration": 0,
    "start_time": "2022-04-07T23:17:37.709Z"
   },
   {
    "duration": 20,
    "start_time": "2022-04-07T23:19:04.739Z"
   },
   {
    "duration": 21,
    "start_time": "2022-04-07T23:19:31.399Z"
   },
   {
    "duration": 20,
    "start_time": "2022-04-07T23:19:36.579Z"
   },
   {
    "duration": 18,
    "start_time": "2022-04-07T23:19:40.110Z"
   },
   {
    "duration": 4166,
    "start_time": "2022-04-07T23:20:40.619Z"
   },
   {
    "duration": 10,
    "start_time": "2022-04-07T23:22:19.486Z"
   },
   {
    "duration": 1625,
    "start_time": "2022-04-07T23:22:29.079Z"
   },
   {
    "duration": 880,
    "start_time": "2022-04-07T23:22:30.707Z"
   },
   {
    "duration": 78,
    "start_time": "2022-04-07T23:22:31.589Z"
   },
   {
    "duration": 50,
    "start_time": "2022-04-07T23:22:31.668Z"
   },
   {
    "duration": 328,
    "start_time": "2022-04-07T23:22:31.721Z"
   },
   {
    "duration": 100,
    "start_time": "2022-04-07T23:22:32.051Z"
   },
   {
    "duration": 93,
    "start_time": "2022-04-07T23:22:32.153Z"
   },
   {
    "duration": 32,
    "start_time": "2022-04-07T23:22:32.248Z"
   },
   {
    "duration": 143,
    "start_time": "2022-04-07T23:22:32.282Z"
   },
   {
    "duration": 51,
    "start_time": "2022-04-07T23:22:32.427Z"
   },
   {
    "duration": 2755,
    "start_time": "2022-04-07T23:22:32.480Z"
   },
   {
    "duration": 145,
    "start_time": "2022-04-07T23:22:35.237Z"
   },
   {
    "duration": 7346,
    "start_time": "2022-04-07T23:22:35.384Z"
   },
   {
    "duration": 4,
    "start_time": "2022-04-07T23:24:19.394Z"
   },
   {
    "duration": 1630,
    "start_time": "2022-04-07T23:24:26.405Z"
   },
   {
    "duration": 855,
    "start_time": "2022-04-07T23:24:28.037Z"
   },
   {
    "duration": 68,
    "start_time": "2022-04-07T23:24:28.906Z"
   },
   {
    "duration": 53,
    "start_time": "2022-04-07T23:24:28.976Z"
   },
   {
    "duration": 324,
    "start_time": "2022-04-07T23:24:29.032Z"
   },
   {
    "duration": 96,
    "start_time": "2022-04-07T23:24:29.358Z"
   },
   {
    "duration": 95,
    "start_time": "2022-04-07T23:24:29.456Z"
   },
   {
    "duration": 31,
    "start_time": "2022-04-07T23:24:29.553Z"
   },
   {
    "duration": 136,
    "start_time": "2022-04-07T23:24:29.585Z"
   },
   {
    "duration": 52,
    "start_time": "2022-04-07T23:24:29.723Z"
   },
   {
    "duration": 2683,
    "start_time": "2022-04-07T23:24:29.776Z"
   },
   {
    "duration": 4,
    "start_time": "2022-04-07T23:24:32.460Z"
   },
   {
    "duration": 7173,
    "start_time": "2022-04-07T23:24:32.465Z"
   },
   {
    "duration": 6781,
    "start_time": "2022-04-07T23:25:45.577Z"
   },
   {
    "duration": 5,
    "start_time": "2022-04-07T23:26:18.835Z"
   },
   {
    "duration": 1583,
    "start_time": "2022-04-07T23:26:30.116Z"
   },
   {
    "duration": 773,
    "start_time": "2022-04-07T23:26:31.701Z"
   },
   {
    "duration": 71,
    "start_time": "2022-04-07T23:26:32.475Z"
   },
   {
    "duration": 37,
    "start_time": "2022-04-07T23:26:32.548Z"
   },
   {
    "duration": 299,
    "start_time": "2022-04-07T23:26:32.587Z"
   },
   {
    "duration": 86,
    "start_time": "2022-04-07T23:26:32.888Z"
   },
   {
    "duration": 87,
    "start_time": "2022-04-07T23:26:32.975Z"
   },
   {
    "duration": 45,
    "start_time": "2022-04-07T23:26:33.064Z"
   },
   {
    "duration": 118,
    "start_time": "2022-04-07T23:26:33.110Z"
   },
   {
    "duration": 51,
    "start_time": "2022-04-07T23:26:33.230Z"
   },
   {
    "duration": 2419,
    "start_time": "2022-04-07T23:26:33.283Z"
   },
   {
    "duration": 4,
    "start_time": "2022-04-07T23:26:35.703Z"
   },
   {
    "duration": 7305,
    "start_time": "2022-04-07T23:26:35.709Z"
   },
   {
    "duration": 1528,
    "start_time": "2022-04-07T23:31:22.649Z"
   },
   {
    "duration": 786,
    "start_time": "2022-04-07T23:31:24.180Z"
   },
   {
    "duration": 75,
    "start_time": "2022-04-07T23:31:24.967Z"
   },
   {
    "duration": 32,
    "start_time": "2022-04-07T23:31:25.044Z"
   },
   {
    "duration": 304,
    "start_time": "2022-04-07T23:31:25.077Z"
   },
   {
    "duration": 85,
    "start_time": "2022-04-07T23:31:25.383Z"
   },
   {
    "duration": 89,
    "start_time": "2022-04-07T23:31:25.469Z"
   },
   {
    "duration": 42,
    "start_time": "2022-04-07T23:31:25.560Z"
   },
   {
    "duration": 121,
    "start_time": "2022-04-07T23:31:25.604Z"
   },
   {
    "duration": 53,
    "start_time": "2022-04-07T23:31:25.727Z"
   },
   {
    "duration": 2503,
    "start_time": "2022-04-07T23:31:25.781Z"
   },
   {
    "duration": 3,
    "start_time": "2022-04-07T23:31:28.286Z"
   },
   {
    "duration": 7218,
    "start_time": "2022-04-07T23:31:28.291Z"
   },
   {
    "duration": 103,
    "start_time": "2022-04-07T23:31:41.674Z"
   },
   {
    "duration": 1715,
    "start_time": "2022-04-07T23:31:49.360Z"
   },
   {
    "duration": 1182,
    "start_time": "2022-04-07T23:31:51.077Z"
   },
   {
    "duration": 91,
    "start_time": "2022-04-07T23:31:52.260Z"
   },
   {
    "duration": 60,
    "start_time": "2022-04-07T23:31:52.353Z"
   },
   {
    "duration": 491,
    "start_time": "2022-04-07T23:31:52.415Z"
   },
   {
    "duration": 159,
    "start_time": "2022-04-07T23:31:52.909Z"
   },
   {
    "duration": 153,
    "start_time": "2022-04-07T23:31:53.071Z"
   },
   {
    "duration": 30,
    "start_time": "2022-04-07T23:31:53.226Z"
   },
   {
    "duration": 125,
    "start_time": "2022-04-07T23:31:53.258Z"
   },
   {
    "duration": 59,
    "start_time": "2022-04-07T23:31:53.384Z"
   },
   {
    "duration": 2386,
    "start_time": "2022-04-07T23:31:53.444Z"
   },
   {
    "duration": 4,
    "start_time": "2022-04-07T23:31:55.832Z"
   },
   {
    "duration": 7287,
    "start_time": "2022-04-07T23:31:55.837Z"
   },
   {
    "duration": 1992,
    "start_time": "2022-04-07T23:32:15.147Z"
   },
   {
    "duration": 1279,
    "start_time": "2022-04-07T23:32:17.142Z"
   },
   {
    "duration": 95,
    "start_time": "2022-04-07T23:32:18.423Z"
   },
   {
    "duration": 52,
    "start_time": "2022-04-07T23:32:18.520Z"
   },
   {
    "duration": 495,
    "start_time": "2022-04-07T23:32:18.576Z"
   },
   {
    "duration": 99,
    "start_time": "2022-04-07T23:32:19.073Z"
   },
   {
    "duration": 91,
    "start_time": "2022-04-07T23:32:19.174Z"
   },
   {
    "duration": 42,
    "start_time": "2022-04-07T23:32:19.267Z"
   },
   {
    "duration": 126,
    "start_time": "2022-04-07T23:32:19.311Z"
   },
   {
    "duration": 66,
    "start_time": "2022-04-07T23:32:19.439Z"
   },
   {
    "duration": 2518,
    "start_time": "2022-04-07T23:32:19.507Z"
   },
   {
    "duration": 4,
    "start_time": "2022-04-07T23:32:22.027Z"
   },
   {
    "duration": 7597,
    "start_time": "2022-04-07T23:32:22.032Z"
   },
   {
    "duration": 1588,
    "start_time": "2022-04-07T23:45:20.116Z"
   },
   {
    "duration": 795,
    "start_time": "2022-04-07T23:45:21.706Z"
   },
   {
    "duration": 66,
    "start_time": "2022-04-07T23:45:22.503Z"
   },
   {
    "duration": 54,
    "start_time": "2022-04-07T23:45:22.571Z"
   },
   {
    "duration": 309,
    "start_time": "2022-04-07T23:45:22.627Z"
   },
   {
    "duration": 92,
    "start_time": "2022-04-07T23:45:22.937Z"
   },
   {
    "duration": 82,
    "start_time": "2022-04-07T23:45:23.030Z"
   },
   {
    "duration": 32,
    "start_time": "2022-04-07T23:45:23.113Z"
   },
   {
    "duration": 133,
    "start_time": "2022-04-07T23:45:23.147Z"
   },
   {
    "duration": 62,
    "start_time": "2022-04-07T23:45:23.281Z"
   },
   {
    "duration": 2541,
    "start_time": "2022-04-07T23:45:23.345Z"
   },
   {
    "duration": 4,
    "start_time": "2022-04-07T23:45:25.887Z"
   },
   {
    "duration": 7357,
    "start_time": "2022-04-07T23:45:25.900Z"
   },
   {
    "duration": 1463,
    "start_time": "2022-04-07T23:45:48.129Z"
   },
   {
    "duration": 752,
    "start_time": "2022-04-07T23:45:49.594Z"
   },
   {
    "duration": 72,
    "start_time": "2022-04-07T23:45:50.348Z"
   },
   {
    "duration": 38,
    "start_time": "2022-04-07T23:45:50.422Z"
   },
   {
    "duration": 304,
    "start_time": "2022-04-07T23:45:50.463Z"
   },
   {
    "duration": 83,
    "start_time": "2022-04-07T23:45:50.769Z"
   },
   {
    "duration": 84,
    "start_time": "2022-04-07T23:45:50.854Z"
   },
   {
    "duration": 30,
    "start_time": "2022-04-07T23:45:50.940Z"
   },
   {
    "duration": 130,
    "start_time": "2022-04-07T23:45:50.972Z"
   },
   {
    "duration": 50,
    "start_time": "2022-04-07T23:45:51.104Z"
   },
   {
    "duration": 2420,
    "start_time": "2022-04-07T23:45:51.155Z"
   },
   {
    "duration": 3,
    "start_time": "2022-04-07T23:45:53.577Z"
   },
   {
    "duration": 7049,
    "start_time": "2022-04-07T23:45:53.582Z"
   },
   {
    "duration": 53,
    "start_time": "2022-04-12T15:10:47.473Z"
   },
   {
    "duration": 1704,
    "start_time": "2022-04-12T15:10:52.646Z"
   },
   {
    "duration": 1036,
    "start_time": "2022-04-12T15:10:54.353Z"
   },
   {
    "duration": 67,
    "start_time": "2022-04-12T15:10:55.390Z"
   },
   {
    "duration": 36,
    "start_time": "2022-04-12T15:10:55.458Z"
   },
   {
    "duration": 212,
    "start_time": "2022-04-12T15:10:55.496Z"
   },
   {
    "duration": 269,
    "start_time": "2022-04-12T15:10:55.709Z"
   },
   {
    "duration": 88,
    "start_time": "2022-04-12T15:10:55.979Z"
   },
   {
    "duration": 86,
    "start_time": "2022-04-12T15:10:56.069Z"
   },
   {
    "duration": 32,
    "start_time": "2022-04-12T15:10:56.156Z"
   },
   {
    "duration": 131,
    "start_time": "2022-04-12T15:10:56.189Z"
   },
   {
    "duration": 56,
    "start_time": "2022-04-12T15:10:56.322Z"
   },
   {
    "duration": 2489,
    "start_time": "2022-04-12T15:10:56.380Z"
   },
   {
    "duration": 4,
    "start_time": "2022-04-12T15:10:58.872Z"
   },
   {
    "duration": 7503,
    "start_time": "2022-04-12T15:10:58.878Z"
   },
   {
    "duration": 1324,
    "start_time": "2022-04-12T15:12:33.506Z"
   },
   {
    "duration": 748,
    "start_time": "2022-04-12T15:12:34.832Z"
   },
   {
    "duration": 72,
    "start_time": "2022-04-12T15:12:35.582Z"
   },
   {
    "duration": 34,
    "start_time": "2022-04-12T15:12:35.656Z"
   },
   {
    "duration": 220,
    "start_time": "2022-04-12T15:12:35.691Z"
   },
   {
    "duration": 361,
    "start_time": "2022-04-12T15:12:35.913Z"
   },
   {
    "duration": 231,
    "start_time": "2022-04-12T15:12:36.275Z"
   },
   {
    "duration": 78,
    "start_time": "2022-04-12T15:12:36.507Z"
   },
   {
    "duration": 75,
    "start_time": "2022-04-12T15:12:36.586Z"
   },
   {
    "duration": 28,
    "start_time": "2022-04-12T15:12:36.663Z"
   },
   {
    "duration": 115,
    "start_time": "2022-04-12T15:12:36.692Z"
   },
   {
    "duration": 60,
    "start_time": "2022-04-12T15:12:36.809Z"
   },
   {
    "duration": 2032,
    "start_time": "2022-04-12T15:12:36.871Z"
   },
   {
    "duration": 5,
    "start_time": "2022-04-12T15:12:38.905Z"
   },
   {
    "duration": 6559,
    "start_time": "2022-04-12T15:12:38.911Z"
   },
   {
    "duration": 1504,
    "start_time": "2022-04-12T18:00:17.272Z"
   },
   {
    "duration": 759,
    "start_time": "2022-04-12T18:00:18.778Z"
   },
   {
    "duration": 68,
    "start_time": "2022-04-12T18:00:19.539Z"
   },
   {
    "duration": 53,
    "start_time": "2022-04-12T18:00:19.609Z"
   },
   {
    "duration": 208,
    "start_time": "2022-04-12T18:00:19.664Z"
   },
   {
    "duration": 329,
    "start_time": "2022-04-12T18:00:19.873Z"
   },
   {
    "duration": 247,
    "start_time": "2022-04-12T18:00:20.204Z"
   },
   {
    "duration": 73,
    "start_time": "2022-04-12T18:00:20.453Z"
   },
   {
    "duration": 85,
    "start_time": "2022-04-12T18:00:20.527Z"
   },
   {
    "duration": 37,
    "start_time": "2022-04-12T18:00:20.614Z"
   },
   {
    "duration": 116,
    "start_time": "2022-04-12T18:00:20.653Z"
   },
   {
    "duration": 48,
    "start_time": "2022-04-12T18:00:20.770Z"
   },
   {
    "duration": 2048,
    "start_time": "2022-04-12T18:00:20.819Z"
   },
   {
    "duration": 4,
    "start_time": "2022-04-12T18:00:22.869Z"
   },
   {
    "duration": 6782,
    "start_time": "2022-04-12T18:00:22.875Z"
   },
   {
    "duration": 110,
    "start_time": "2022-04-12T18:09:07.073Z"
   },
   {
    "duration": 1448,
    "start_time": "2022-04-12T18:09:25.881Z"
   },
   {
    "duration": 747,
    "start_time": "2022-04-12T18:09:27.331Z"
   },
   {
    "duration": 75,
    "start_time": "2022-04-12T18:09:28.080Z"
   },
   {
    "duration": 39,
    "start_time": "2022-04-12T18:09:28.157Z"
   },
   {
    "duration": 208,
    "start_time": "2022-04-12T18:09:28.197Z"
   },
   {
    "duration": 336,
    "start_time": "2022-04-12T18:09:28.406Z"
   },
   {
    "duration": 233,
    "start_time": "2022-04-12T18:09:28.744Z"
   },
   {
    "duration": 82,
    "start_time": "2022-04-12T18:09:28.979Z"
   },
   {
    "duration": 69,
    "start_time": "2022-04-12T18:09:29.062Z"
   },
   {
    "duration": 40,
    "start_time": "2022-04-12T18:09:29.133Z"
   },
   {
    "duration": 112,
    "start_time": "2022-04-12T18:09:29.175Z"
   },
   {
    "duration": 59,
    "start_time": "2022-04-12T18:09:29.288Z"
   },
   {
    "duration": 2537,
    "start_time": "2022-04-12T18:09:29.349Z"
   },
   {
    "duration": 4,
    "start_time": "2022-04-12T18:09:31.888Z"
   },
   {
    "duration": 6586,
    "start_time": "2022-04-12T18:09:31.894Z"
   },
   {
    "duration": 123,
    "start_time": "2022-04-12T18:09:38.482Z"
   },
   {
    "duration": 10,
    "start_time": "2022-04-12T18:09:48.358Z"
   },
   {
    "duration": 13,
    "start_time": "2022-04-12T18:15:31.599Z"
   },
   {
    "duration": 167,
    "start_time": "2022-04-12T18:17:43.382Z"
   },
   {
    "duration": 41,
    "start_time": "2022-04-12T18:19:42.018Z"
   },
   {
    "duration": 92,
    "start_time": "2022-04-12T18:19:49.964Z"
   },
   {
    "duration": 196,
    "start_time": "2022-04-12T18:19:52.253Z"
   },
   {
    "duration": 6,
    "start_time": "2022-04-12T18:22:40.532Z"
   },
   {
    "duration": 6,
    "start_time": "2022-04-12T18:22:47.789Z"
   },
   {
    "duration": 16,
    "start_time": "2022-04-12T18:23:47.960Z"
   },
   {
    "duration": 16,
    "start_time": "2022-04-12T18:23:57.860Z"
   },
   {
    "duration": 13,
    "start_time": "2022-04-12T18:24:29.858Z"
   },
   {
    "duration": 1251,
    "start_time": "2022-04-12T18:27:13.934Z"
   },
   {
    "duration": 1506,
    "start_time": "2022-04-12T18:27:24.262Z"
   },
   {
    "duration": 751,
    "start_time": "2022-04-12T18:27:25.771Z"
   },
   {
    "duration": 69,
    "start_time": "2022-04-12T18:27:26.523Z"
   },
   {
    "duration": 38,
    "start_time": "2022-04-12T18:27:26.594Z"
   },
   {
    "duration": 196,
    "start_time": "2022-04-12T18:27:26.648Z"
   },
   {
    "duration": 325,
    "start_time": "2022-04-12T18:27:26.846Z"
   },
   {
    "duration": 240,
    "start_time": "2022-04-12T18:27:27.173Z"
   },
   {
    "duration": 78,
    "start_time": "2022-04-12T18:27:27.414Z"
   },
   {
    "duration": 76,
    "start_time": "2022-04-12T18:27:27.494Z"
   },
   {
    "duration": 28,
    "start_time": "2022-04-12T18:27:27.571Z"
   },
   {
    "duration": 115,
    "start_time": "2022-04-12T18:27:27.600Z"
   },
   {
    "duration": 56,
    "start_time": "2022-04-12T18:27:27.717Z"
   },
   {
    "duration": 1116,
    "start_time": "2022-04-12T18:27:27.774Z"
   },
   {
    "duration": 4,
    "start_time": "2022-04-12T18:27:28.892Z"
   },
   {
    "duration": 6882,
    "start_time": "2022-04-12T18:27:28.898Z"
   },
   {
    "duration": 168,
    "start_time": "2022-04-12T18:27:35.782Z"
   },
   {
    "duration": 100,
    "start_time": "2022-04-12T18:27:35.952Z"
   },
   {
    "duration": 253,
    "start_time": "2022-04-12T18:34:44.572Z"
   },
   {
    "duration": 2487,
    "start_time": "2022-04-12T18:34:55.252Z"
   },
   {
    "duration": 2106,
    "start_time": "2022-04-12T18:35:08.122Z"
   },
   {
    "duration": 1418,
    "start_time": "2022-04-12T18:35:10.231Z"
   },
   {
    "duration": 62,
    "start_time": "2022-04-12T18:35:11.651Z"
   },
   {
    "duration": 48,
    "start_time": "2022-04-12T18:35:11.716Z"
   },
   {
    "duration": 218,
    "start_time": "2022-04-12T18:35:11.765Z"
   },
   {
    "duration": 341,
    "start_time": "2022-04-12T18:35:11.985Z"
   },
   {
    "duration": 243,
    "start_time": "2022-04-12T18:35:12.328Z"
   },
   {
    "duration": 82,
    "start_time": "2022-04-12T18:35:12.573Z"
   },
   {
    "duration": 66,
    "start_time": "2022-04-12T18:35:12.657Z"
   },
   {
    "duration": 44,
    "start_time": "2022-04-12T18:35:12.726Z"
   },
   {
    "duration": 119,
    "start_time": "2022-04-12T18:35:12.771Z"
   },
   {
    "duration": 66,
    "start_time": "2022-04-12T18:35:12.892Z"
   },
   {
    "duration": 2762,
    "start_time": "2022-04-12T18:35:12.959Z"
   },
   {
    "duration": 4,
    "start_time": "2022-04-12T18:35:15.723Z"
   },
   {
    "duration": 7456,
    "start_time": "2022-04-12T18:35:15.728Z"
   },
   {
    "duration": 164,
    "start_time": "2022-04-12T18:35:23.185Z"
   },
   {
    "duration": 101,
    "start_time": "2022-04-12T18:35:23.351Z"
   },
   {
    "duration": 1833,
    "start_time": "2022-04-12T18:38:17.103Z"
   },
   {
    "duration": 1660,
    "start_time": "2022-04-12T18:38:28.637Z"
   },
   {
    "duration": 827,
    "start_time": "2022-04-12T18:38:30.299Z"
   },
   {
    "duration": 74,
    "start_time": "2022-04-12T18:38:31.128Z"
   },
   {
    "duration": 52,
    "start_time": "2022-04-12T18:38:31.204Z"
   },
   {
    "duration": 237,
    "start_time": "2022-04-12T18:38:31.259Z"
   },
   {
    "duration": 380,
    "start_time": "2022-04-12T18:38:31.498Z"
   },
   {
    "duration": 251,
    "start_time": "2022-04-12T18:38:31.880Z"
   },
   {
    "duration": 143,
    "start_time": "2022-04-12T18:38:32.133Z"
   },
   {
    "duration": 126,
    "start_time": "2022-04-12T18:38:32.278Z"
   },
   {
    "duration": 58,
    "start_time": "2022-04-12T18:38:32.407Z"
   },
   {
    "duration": 169,
    "start_time": "2022-04-12T18:38:32.467Z"
   },
   {
    "duration": 78,
    "start_time": "2022-04-12T18:38:32.638Z"
   },
   {
    "duration": 2840,
    "start_time": "2022-04-12T18:38:32.718Z"
   },
   {
    "duration": 4,
    "start_time": "2022-04-12T18:38:35.560Z"
   },
   {
    "duration": 332,
    "start_time": "2022-04-12T18:38:35.566Z"
   },
   {
    "duration": 0,
    "start_time": "2022-04-12T18:38:35.900Z"
   },
   {
    "duration": 0,
    "start_time": "2022-04-12T18:38:35.902Z"
   },
   {
    "duration": 1465,
    "start_time": "2022-04-12T18:39:15.901Z"
   },
   {
    "duration": 783,
    "start_time": "2022-04-12T18:39:17.368Z"
   },
   {
    "duration": 67,
    "start_time": "2022-04-12T18:39:18.153Z"
   },
   {
    "duration": 51,
    "start_time": "2022-04-12T18:39:18.223Z"
   },
   {
    "duration": 212,
    "start_time": "2022-04-12T18:39:18.276Z"
   },
   {
    "duration": 335,
    "start_time": "2022-04-12T18:39:18.490Z"
   },
   {
    "duration": 244,
    "start_time": "2022-04-12T18:39:18.827Z"
   },
   {
    "duration": 84,
    "start_time": "2022-04-12T18:39:19.072Z"
   },
   {
    "duration": 67,
    "start_time": "2022-04-12T18:39:19.158Z"
   },
   {
    "duration": 40,
    "start_time": "2022-04-12T18:39:19.228Z"
   },
   {
    "duration": 109,
    "start_time": "2022-04-12T18:39:19.269Z"
   },
   {
    "duration": 49,
    "start_time": "2022-04-12T18:39:19.379Z"
   },
   {
    "duration": 1743,
    "start_time": "2022-04-12T18:39:19.429Z"
   },
   {
    "duration": 4,
    "start_time": "2022-04-12T18:39:21.173Z"
   },
   {
    "duration": 373,
    "start_time": "2022-04-12T18:39:21.179Z"
   },
   {
    "duration": 0,
    "start_time": "2022-04-12T18:39:21.554Z"
   },
   {
    "duration": 0,
    "start_time": "2022-04-12T18:39:21.556Z"
   },
   {
    "duration": 1693,
    "start_time": "2022-04-12T18:39:52.635Z"
   },
   {
    "duration": 1463,
    "start_time": "2022-04-12T18:40:05.102Z"
   },
   {
    "duration": 793,
    "start_time": "2022-04-12T18:40:06.567Z"
   },
   {
    "duration": 67,
    "start_time": "2022-04-12T18:40:07.362Z"
   },
   {
    "duration": 50,
    "start_time": "2022-04-12T18:40:07.430Z"
   },
   {
    "duration": 229,
    "start_time": "2022-04-12T18:40:07.483Z"
   },
   {
    "duration": 374,
    "start_time": "2022-04-12T18:40:07.713Z"
   },
   {
    "duration": 245,
    "start_time": "2022-04-12T18:40:08.088Z"
   },
   {
    "duration": 84,
    "start_time": "2022-04-12T18:40:08.334Z"
   },
   {
    "duration": 74,
    "start_time": "2022-04-12T18:40:08.420Z"
   },
   {
    "duration": 60,
    "start_time": "2022-04-12T18:40:08.496Z"
   },
   {
    "duration": 108,
    "start_time": "2022-04-12T18:40:08.558Z"
   },
   {
    "duration": 49,
    "start_time": "2022-04-12T18:40:08.668Z"
   },
   {
    "duration": 1917,
    "start_time": "2022-04-12T18:40:08.719Z"
   },
   {
    "duration": 9,
    "start_time": "2022-04-12T18:40:10.639Z"
   },
   {
    "duration": 7136,
    "start_time": "2022-04-12T18:40:10.650Z"
   },
   {
    "duration": 166,
    "start_time": "2022-04-12T18:40:17.788Z"
   },
   {
    "duration": 102,
    "start_time": "2022-04-12T18:40:17.957Z"
   },
   {
    "duration": 1527,
    "start_time": "2022-04-12T18:40:34.490Z"
   },
   {
    "duration": 787,
    "start_time": "2022-04-12T18:40:36.019Z"
   },
   {
    "duration": 75,
    "start_time": "2022-04-12T18:40:36.808Z"
   },
   {
    "duration": 39,
    "start_time": "2022-04-12T18:40:36.885Z"
   },
   {
    "duration": 223,
    "start_time": "2022-04-12T18:40:36.925Z"
   },
   {
    "duration": 331,
    "start_time": "2022-04-12T18:40:37.150Z"
   },
   {
    "duration": 240,
    "start_time": "2022-04-12T18:40:37.483Z"
   },
   {
    "duration": 78,
    "start_time": "2022-04-12T18:40:37.725Z"
   },
   {
    "duration": 78,
    "start_time": "2022-04-12T18:40:37.804Z"
   },
   {
    "duration": 28,
    "start_time": "2022-04-12T18:40:37.885Z"
   },
   {
    "duration": 119,
    "start_time": "2022-04-12T18:40:37.915Z"
   },
   {
    "duration": 57,
    "start_time": "2022-04-12T18:40:38.036Z"
   },
   {
    "duration": 2125,
    "start_time": "2022-04-12T18:40:38.094Z"
   },
   {
    "duration": 4,
    "start_time": "2022-04-12T18:40:40.221Z"
   },
   {
    "duration": 7350,
    "start_time": "2022-04-12T18:40:40.226Z"
   },
   {
    "duration": 272,
    "start_time": "2022-04-12T18:40:47.577Z"
   },
   {
    "duration": 103,
    "start_time": "2022-04-12T18:40:47.851Z"
   },
   {
    "duration": 2516,
    "start_time": "2022-04-12T18:41:05.770Z"
   },
   {
    "duration": 841,
    "start_time": "2022-04-12T18:41:08.288Z"
   },
   {
    "duration": 79,
    "start_time": "2022-04-12T18:41:09.131Z"
   },
   {
    "duration": 61,
    "start_time": "2022-04-12T18:41:09.212Z"
   },
   {
    "duration": 238,
    "start_time": "2022-04-12T18:41:09.276Z"
   },
   {
    "duration": 376,
    "start_time": "2022-04-12T18:41:09.516Z"
   },
   {
    "duration": 272,
    "start_time": "2022-04-12T18:41:09.894Z"
   },
   {
    "duration": 82,
    "start_time": "2022-04-12T18:41:10.168Z"
   },
   {
    "duration": 128,
    "start_time": "2022-04-12T18:41:10.252Z"
   },
   {
    "duration": 28,
    "start_time": "2022-04-12T18:41:10.382Z"
   },
   {
    "duration": 110,
    "start_time": "2022-04-12T18:41:10.412Z"
   },
   {
    "duration": 69,
    "start_time": "2022-04-12T18:41:10.524Z"
   },
   {
    "duration": 1782,
    "start_time": "2022-04-12T18:41:10.595Z"
   },
   {
    "duration": 5,
    "start_time": "2022-04-12T18:41:12.380Z"
   },
   {
    "duration": 6754,
    "start_time": "2022-04-12T18:41:12.386Z"
   },
   {
    "duration": 114,
    "start_time": "2022-04-12T18:41:19.142Z"
   },
   {
    "duration": 102,
    "start_time": "2022-04-12T18:41:19.347Z"
   },
   {
    "duration": 109,
    "start_time": "2022-04-12T20:34:03.220Z"
   },
   {
    "duration": 6405,
    "start_time": "2022-04-12T20:34:12.595Z"
   },
   {
    "duration": 828,
    "start_time": "2022-04-12T20:34:19.002Z"
   },
   {
    "duration": 76,
    "start_time": "2022-04-12T20:34:19.831Z"
   },
   {
    "duration": 53,
    "start_time": "2022-04-12T20:34:19.910Z"
   },
   {
    "duration": 210,
    "start_time": "2022-04-12T20:34:19.964Z"
   },
   {
    "duration": 337,
    "start_time": "2022-04-12T20:34:20.176Z"
   },
   {
    "duration": 313,
    "start_time": "2022-04-12T20:34:20.514Z"
   },
   {
    "duration": 76,
    "start_time": "2022-04-12T20:34:20.829Z"
   },
   {
    "duration": 147,
    "start_time": "2022-04-12T20:34:20.907Z"
   },
   {
    "duration": 53,
    "start_time": "2022-04-12T20:34:21.057Z"
   },
   {
    "duration": 189,
    "start_time": "2022-04-12T20:34:21.111Z"
   },
   {
    "duration": 88,
    "start_time": "2022-04-12T20:34:21.302Z"
   },
   {
    "duration": 3070,
    "start_time": "2022-04-12T20:34:21.392Z"
   },
   {
    "duration": 5,
    "start_time": "2022-04-12T20:34:24.464Z"
   },
   {
    "duration": 7028,
    "start_time": "2022-04-12T20:34:24.470Z"
   },
   {
    "duration": 150,
    "start_time": "2022-04-12T20:34:31.499Z"
   },
   {
    "duration": 127,
    "start_time": "2022-04-12T20:34:31.651Z"
   },
   {
    "duration": 123,
    "start_time": "2022-04-12T20:34:31.780Z"
   },
   {
    "duration": 1542,
    "start_time": "2022-04-12T20:40:23.779Z"
   },
   {
    "duration": 776,
    "start_time": "2022-04-12T20:40:25.323Z"
   },
   {
    "duration": 74,
    "start_time": "2022-04-12T20:40:26.101Z"
   },
   {
    "duration": 41,
    "start_time": "2022-04-12T20:40:26.178Z"
   },
   {
    "duration": 214,
    "start_time": "2022-04-12T20:40:26.221Z"
   },
   {
    "duration": 334,
    "start_time": "2022-04-12T20:40:26.437Z"
   },
   {
    "duration": 238,
    "start_time": "2022-04-12T20:40:26.773Z"
   },
   {
    "duration": 80,
    "start_time": "2022-04-12T20:40:27.012Z"
   },
   {
    "duration": 81,
    "start_time": "2022-04-12T20:40:27.094Z"
   },
   {
    "duration": 29,
    "start_time": "2022-04-12T20:40:27.178Z"
   },
   {
    "duration": 116,
    "start_time": "2022-04-12T20:40:27.209Z"
   },
   {
    "duration": 51,
    "start_time": "2022-04-12T20:40:27.327Z"
   },
   {
    "duration": 1641,
    "start_time": "2022-04-12T20:40:27.380Z"
   },
   {
    "duration": 4,
    "start_time": "2022-04-12T20:40:29.025Z"
   },
   {
    "duration": 7140,
    "start_time": "2022-04-12T20:40:29.031Z"
   },
   {
    "duration": 176,
    "start_time": "2022-04-12T20:40:36.173Z"
   },
   {
    "duration": 132,
    "start_time": "2022-04-12T20:40:36.351Z"
   },
   {
    "duration": 2744,
    "start_time": "2022-04-12T20:40:36.485Z"
   },
   {
    "duration": 1621,
    "start_time": "2022-04-12T20:41:13.395Z"
   },
   {
    "duration": 775,
    "start_time": "2022-04-12T20:41:15.019Z"
   },
   {
    "duration": 72,
    "start_time": "2022-04-12T20:41:15.795Z"
   },
   {
    "duration": 38,
    "start_time": "2022-04-12T20:41:15.868Z"
   },
   {
    "duration": 217,
    "start_time": "2022-04-12T20:41:15.908Z"
   },
   {
    "duration": 329,
    "start_time": "2022-04-12T20:41:16.126Z"
   },
   {
    "duration": 239,
    "start_time": "2022-04-12T20:41:16.456Z"
   },
   {
    "duration": 82,
    "start_time": "2022-04-12T20:41:16.696Z"
   },
   {
    "duration": 76,
    "start_time": "2022-04-12T20:41:16.779Z"
   },
   {
    "duration": 28,
    "start_time": "2022-04-12T20:41:16.856Z"
   },
   {
    "duration": 114,
    "start_time": "2022-04-12T20:41:16.886Z"
   },
   {
    "duration": 58,
    "start_time": "2022-04-12T20:41:17.002Z"
   },
   {
    "duration": 1683,
    "start_time": "2022-04-12T20:41:17.061Z"
   },
   {
    "duration": 3,
    "start_time": "2022-04-12T20:41:18.749Z"
   },
   {
    "duration": 6525,
    "start_time": "2022-04-12T20:41:18.754Z"
   },
   {
    "duration": 169,
    "start_time": "2022-04-12T20:41:25.280Z"
   },
   {
    "duration": 128,
    "start_time": "2022-04-12T20:41:25.451Z"
   },
   {
    "duration": 2775,
    "start_time": "2022-04-12T20:41:25.580Z"
   },
   {
    "duration": 1559,
    "start_time": "2022-04-12T20:44:08.608Z"
   },
   {
    "duration": 790,
    "start_time": "2022-04-12T20:44:10.170Z"
   },
   {
    "duration": 64,
    "start_time": "2022-04-12T20:44:10.962Z"
   },
   {
    "duration": 54,
    "start_time": "2022-04-12T20:44:11.028Z"
   },
   {
    "duration": 206,
    "start_time": "2022-04-12T20:44:11.084Z"
   },
   {
    "duration": 338,
    "start_time": "2022-04-12T20:44:11.292Z"
   },
   {
    "duration": 365,
    "start_time": "2022-04-12T20:44:11.632Z"
   },
   {
    "duration": 134,
    "start_time": "2022-04-12T20:44:11.999Z"
   },
   {
    "duration": 131,
    "start_time": "2022-04-12T20:44:12.135Z"
   },
   {
    "duration": 49,
    "start_time": "2022-04-12T20:44:12.267Z"
   },
   {
    "duration": 178,
    "start_time": "2022-04-12T20:44:12.318Z"
   },
   {
    "duration": 84,
    "start_time": "2022-04-12T20:44:12.498Z"
   },
   {
    "duration": 2955,
    "start_time": "2022-04-12T20:44:12.584Z"
   },
   {
    "duration": 6,
    "start_time": "2022-04-12T20:44:15.543Z"
   },
   {
    "duration": 6827,
    "start_time": "2022-04-12T20:44:15.551Z"
   },
   {
    "duration": 170,
    "start_time": "2022-04-12T20:44:22.379Z"
   },
   {
    "duration": 3477,
    "start_time": "2022-04-12T20:44:22.551Z"
   },
   {
    "duration": 1527,
    "start_time": "2022-04-12T20:52:47.583Z"
   },
   {
    "duration": 1201,
    "start_time": "2022-04-12T20:52:49.112Z"
   },
   {
    "duration": 94,
    "start_time": "2022-04-12T20:52:50.315Z"
   },
   {
    "duration": 55,
    "start_time": "2022-04-12T20:52:50.411Z"
   },
   {
    "duration": 333,
    "start_time": "2022-04-12T20:52:50.468Z"
   },
   {
    "duration": 572,
    "start_time": "2022-04-12T20:52:50.803Z"
   },
   {
    "duration": 413,
    "start_time": "2022-04-12T20:52:51.377Z"
   },
   {
    "duration": 147,
    "start_time": "2022-04-12T20:52:51.792Z"
   },
   {
    "duration": 138,
    "start_time": "2022-04-12T20:52:51.948Z"
   },
   {
    "duration": 60,
    "start_time": "2022-04-12T20:52:52.088Z"
   },
   {
    "duration": 185,
    "start_time": "2022-04-12T20:52:52.151Z"
   },
   {
    "duration": 83,
    "start_time": "2022-04-12T20:52:52.337Z"
   },
   {
    "duration": 1859,
    "start_time": "2022-04-12T20:52:52.422Z"
   },
   {
    "duration": 4,
    "start_time": "2022-04-12T20:52:54.283Z"
   },
   {
    "duration": 6895,
    "start_time": "2022-04-12T20:52:54.289Z"
   },
   {
    "duration": 367,
    "start_time": "2022-04-12T20:53:01.186Z"
   },
   {
    "duration": 0,
    "start_time": "2022-04-12T20:53:01.554Z"
   },
   {
    "duration": 1544,
    "start_time": "2022-04-12T20:53:49.319Z"
   },
   {
    "duration": 812,
    "start_time": "2022-04-12T20:53:50.865Z"
   },
   {
    "duration": 81,
    "start_time": "2022-04-12T20:53:51.679Z"
   },
   {
    "duration": 40,
    "start_time": "2022-04-12T20:53:51.763Z"
   },
   {
    "duration": 239,
    "start_time": "2022-04-12T20:53:51.805Z"
   },
   {
    "duration": 380,
    "start_time": "2022-04-12T20:53:52.047Z"
   },
   {
    "duration": 246,
    "start_time": "2022-04-12T20:53:52.429Z"
   },
   {
    "duration": 83,
    "start_time": "2022-04-12T20:53:52.677Z"
   },
   {
    "duration": 70,
    "start_time": "2022-04-12T20:53:52.762Z"
   },
   {
    "duration": 29,
    "start_time": "2022-04-12T20:53:52.850Z"
   },
   {
    "duration": 112,
    "start_time": "2022-04-12T20:53:52.880Z"
   },
   {
    "duration": 61,
    "start_time": "2022-04-12T20:53:52.994Z"
   },
   {
    "duration": 1755,
    "start_time": "2022-04-12T20:53:53.056Z"
   },
   {
    "duration": 4,
    "start_time": "2022-04-12T20:53:54.813Z"
   },
   {
    "duration": 6909,
    "start_time": "2022-04-12T20:53:54.818Z"
   },
   {
    "duration": 219,
    "start_time": "2022-04-12T20:54:01.729Z"
   },
   {
    "duration": 196,
    "start_time": "2022-04-12T20:54:01.951Z"
   },
   {
    "duration": 1523,
    "start_time": "2022-04-12T20:54:35.039Z"
   },
   {
    "duration": 785,
    "start_time": "2022-04-12T20:54:36.564Z"
   },
   {
    "duration": 66,
    "start_time": "2022-04-12T20:54:37.350Z"
   },
   {
    "duration": 56,
    "start_time": "2022-04-12T20:54:37.419Z"
   },
   {
    "duration": 207,
    "start_time": "2022-04-12T20:54:37.476Z"
   },
   {
    "duration": 364,
    "start_time": "2022-04-12T20:54:37.684Z"
   },
   {
    "duration": 241,
    "start_time": "2022-04-12T20:54:38.050Z"
   },
   {
    "duration": 78,
    "start_time": "2022-04-12T20:54:38.293Z"
   },
   {
    "duration": 79,
    "start_time": "2022-04-12T20:54:38.373Z"
   },
   {
    "duration": 28,
    "start_time": "2022-04-12T20:54:38.454Z"
   },
   {
    "duration": 112,
    "start_time": "2022-04-12T20:54:38.484Z"
   },
   {
    "duration": 57,
    "start_time": "2022-04-12T20:54:38.598Z"
   },
   {
    "duration": 1749,
    "start_time": "2022-04-12T20:54:38.656Z"
   },
   {
    "duration": 4,
    "start_time": "2022-04-12T20:54:40.406Z"
   },
   {
    "duration": 6367,
    "start_time": "2022-04-12T20:54:40.411Z"
   },
   {
    "duration": 100,
    "start_time": "2022-04-12T20:54:46.780Z"
   },
   {
    "duration": 8458,
    "start_time": "2022-04-12T20:54:46.881Z"
   },
   {
    "duration": 1551,
    "start_time": "2022-04-12T20:55:08.429Z"
   },
   {
    "duration": 794,
    "start_time": "2022-04-12T20:55:09.982Z"
   },
   {
    "duration": 87,
    "start_time": "2022-04-12T20:55:10.778Z"
   },
   {
    "duration": 38,
    "start_time": "2022-04-12T20:55:10.867Z"
   },
   {
    "duration": 217,
    "start_time": "2022-04-12T20:55:10.906Z"
   },
   {
    "duration": 451,
    "start_time": "2022-04-12T20:55:11.124Z"
   },
   {
    "duration": 251,
    "start_time": "2022-04-12T20:55:11.577Z"
   },
   {
    "duration": 81,
    "start_time": "2022-04-12T20:55:11.830Z"
   },
   {
    "duration": 80,
    "start_time": "2022-04-12T20:55:11.913Z"
   },
   {
    "duration": 28,
    "start_time": "2022-04-12T20:55:11.996Z"
   },
   {
    "duration": 119,
    "start_time": "2022-04-12T20:55:12.025Z"
   },
   {
    "duration": 49,
    "start_time": "2022-04-12T20:55:12.147Z"
   },
   {
    "duration": 1728,
    "start_time": "2022-04-12T20:55:12.197Z"
   },
   {
    "duration": 3,
    "start_time": "2022-04-12T20:55:13.927Z"
   },
   {
    "duration": 6336,
    "start_time": "2022-04-12T20:55:13.932Z"
   },
   {
    "duration": 179,
    "start_time": "2022-04-12T20:55:20.270Z"
   },
   {
    "duration": 8426,
    "start_time": "2022-04-12T20:55:20.451Z"
   },
   {
    "duration": 8367,
    "start_time": "2022-04-12T20:55:32.930Z"
   },
   {
    "duration": 681,
    "start_time": "2022-04-12T20:58:14.972Z"
   },
   {
    "duration": 1494,
    "start_time": "2022-04-12T20:58:32.160Z"
   },
   {
    "duration": 775,
    "start_time": "2022-04-12T20:58:33.656Z"
   },
   {
    "duration": 79,
    "start_time": "2022-04-12T20:58:34.433Z"
   },
   {
    "duration": 58,
    "start_time": "2022-04-12T20:58:34.514Z"
   },
   {
    "duration": 215,
    "start_time": "2022-04-12T20:58:34.575Z"
   },
   {
    "duration": 342,
    "start_time": "2022-04-12T20:58:34.792Z"
   },
   {
    "duration": 247,
    "start_time": "2022-04-12T20:58:35.136Z"
   },
   {
    "duration": 81,
    "start_time": "2022-04-12T20:58:35.385Z"
   },
   {
    "duration": 81,
    "start_time": "2022-04-12T20:58:35.468Z"
   },
   {
    "duration": 27,
    "start_time": "2022-04-12T20:58:35.551Z"
   },
   {
    "duration": 115,
    "start_time": "2022-04-12T20:58:35.580Z"
   },
   {
    "duration": 60,
    "start_time": "2022-04-12T20:58:35.697Z"
   },
   {
    "duration": 1769,
    "start_time": "2022-04-12T20:58:35.758Z"
   },
   {
    "duration": 4,
    "start_time": "2022-04-12T20:58:37.529Z"
   },
   {
    "duration": 6446,
    "start_time": "2022-04-12T20:58:37.535Z"
   },
   {
    "duration": 167,
    "start_time": "2022-04-12T20:58:43.982Z"
   },
   {
    "duration": 754,
    "start_time": "2022-04-12T20:58:44.152Z"
   },
   {
    "duration": 0,
    "start_time": "2022-04-12T20:58:44.908Z"
   },
   {
    "duration": 8304,
    "start_time": "2022-04-12T20:58:52.599Z"
   },
   {
    "duration": 8420,
    "start_time": "2022-04-12T20:59:09.677Z"
   },
   {
    "duration": 8495,
    "start_time": "2022-04-12T21:01:13.531Z"
   },
   {
    "duration": 8476,
    "start_time": "2022-04-12T21:01:26.621Z"
   },
   {
    "duration": 569,
    "start_time": "2022-04-12T21:03:48.103Z"
   },
   {
    "duration": 48,
    "start_time": "2022-04-13T01:41:09.577Z"
   },
   {
    "duration": 1793,
    "start_time": "2022-04-13T01:41:14.888Z"
   },
   {
    "duration": 7164,
    "start_time": "2022-04-13T01:41:16.683Z"
   },
   {
    "duration": 76,
    "start_time": "2022-04-13T01:41:23.849Z"
   },
   {
    "duration": 37,
    "start_time": "2022-04-13T01:41:23.927Z"
   },
   {
    "duration": 224,
    "start_time": "2022-04-13T01:41:23.966Z"
   },
   {
    "duration": 357,
    "start_time": "2022-04-13T01:41:24.192Z"
   },
   {
    "duration": 234,
    "start_time": "2022-04-13T01:41:24.551Z"
   },
   {
    "duration": 78,
    "start_time": "2022-04-13T01:41:24.787Z"
   },
   {
    "duration": 77,
    "start_time": "2022-04-13T01:41:24.866Z"
   },
   {
    "duration": 28,
    "start_time": "2022-04-13T01:41:24.946Z"
   },
   {
    "duration": 111,
    "start_time": "2022-04-13T01:41:24.975Z"
   },
   {
    "duration": 83,
    "start_time": "2022-04-13T01:41:25.099Z"
   },
   {
    "duration": 3318,
    "start_time": "2022-04-13T01:41:25.184Z"
   },
   {
    "duration": 0,
    "start_time": "2022-04-13T01:41:28.504Z"
   },
   {
    "duration": 0,
    "start_time": "2022-04-13T01:41:28.505Z"
   },
   {
    "duration": 0,
    "start_time": "2022-04-13T01:41:28.507Z"
   },
   {
    "duration": 0,
    "start_time": "2022-04-13T01:41:28.508Z"
   },
   {
    "duration": 0,
    "start_time": "2022-04-13T01:41:28.509Z"
   },
   {
    "duration": 92,
    "start_time": "2022-04-13T01:42:39.468Z"
   },
   {
    "duration": 22,
    "start_time": "2022-04-13T01:51:45.730Z"
   },
   {
    "duration": 47,
    "start_time": "2022-04-13T01:52:09.143Z"
   },
   {
    "duration": 189,
    "start_time": "2022-04-13T01:53:44.213Z"
   },
   {
    "duration": 1577,
    "start_time": "2022-04-13T01:53:54.011Z"
   },
   {
    "duration": 734,
    "start_time": "2022-04-13T01:53:55.590Z"
   },
   {
    "duration": 63,
    "start_time": "2022-04-13T01:53:56.325Z"
   },
   {
    "duration": 38,
    "start_time": "2022-04-13T01:53:56.401Z"
   },
   {
    "duration": 192,
    "start_time": "2022-04-13T01:53:56.441Z"
   },
   {
    "duration": 324,
    "start_time": "2022-04-13T01:53:56.635Z"
   },
   {
    "duration": 239,
    "start_time": "2022-04-13T01:53:56.961Z"
   },
   {
    "duration": 75,
    "start_time": "2022-04-13T01:53:57.201Z"
   },
   {
    "duration": 76,
    "start_time": "2022-04-13T01:53:57.278Z"
   },
   {
    "duration": 27,
    "start_time": "2022-04-13T01:53:57.356Z"
   },
   {
    "duration": 108,
    "start_time": "2022-04-13T01:53:57.385Z"
   },
   {
    "duration": 83,
    "start_time": "2022-04-13T01:53:57.500Z"
   },
   {
    "duration": 361,
    "start_time": "2022-04-13T01:53:57.585Z"
   },
   {
    "duration": 4,
    "start_time": "2022-04-13T01:53:57.949Z"
   },
   {
    "duration": 125,
    "start_time": "2022-04-13T01:53:57.954Z"
   },
   {
    "duration": 0,
    "start_time": "2022-04-13T01:53:58.081Z"
   },
   {
    "duration": 0,
    "start_time": "2022-04-13T01:53:58.082Z"
   },
   {
    "duration": 0,
    "start_time": "2022-04-13T01:53:58.083Z"
   },
   {
    "duration": 14,
    "start_time": "2022-04-13T01:54:17.861Z"
   },
   {
    "duration": 1682,
    "start_time": "2022-04-13T01:54:29.595Z"
   },
   {
    "duration": 736,
    "start_time": "2022-04-13T01:54:31.279Z"
   },
   {
    "duration": 60,
    "start_time": "2022-04-13T01:54:32.017Z"
   },
   {
    "duration": 50,
    "start_time": "2022-04-13T01:54:32.078Z"
   },
   {
    "duration": 197,
    "start_time": "2022-04-13T01:54:32.130Z"
   },
   {
    "duration": 322,
    "start_time": "2022-04-13T01:54:32.329Z"
   },
   {
    "duration": 237,
    "start_time": "2022-04-13T01:54:32.653Z"
   },
   {
    "duration": 77,
    "start_time": "2022-04-13T01:54:32.892Z"
   },
   {
    "duration": 76,
    "start_time": "2022-04-13T01:54:32.970Z"
   },
   {
    "duration": 26,
    "start_time": "2022-04-13T01:54:33.048Z"
   },
   {
    "duration": 108,
    "start_time": "2022-04-13T01:54:33.076Z"
   },
   {
    "duration": 95,
    "start_time": "2022-04-13T01:54:33.186Z"
   },
   {
    "duration": 181,
    "start_time": "2022-04-13T01:54:33.282Z"
   },
   {
    "duration": 3,
    "start_time": "2022-04-13T01:54:33.465Z"
   },
   {
    "duration": 314,
    "start_time": "2022-04-13T01:54:33.469Z"
   },
   {
    "duration": 0,
    "start_time": "2022-04-13T01:54:33.784Z"
   },
   {
    "duration": 0,
    "start_time": "2022-04-13T01:54:33.785Z"
   },
   {
    "duration": 0,
    "start_time": "2022-04-13T01:54:33.786Z"
   },
   {
    "duration": 1657,
    "start_time": "2022-04-13T01:54:49.211Z"
   },
   {
    "duration": 741,
    "start_time": "2022-04-13T01:54:50.870Z"
   },
   {
    "duration": 64,
    "start_time": "2022-04-13T01:54:51.613Z"
   },
   {
    "duration": 51,
    "start_time": "2022-04-13T01:54:51.679Z"
   },
   {
    "duration": 206,
    "start_time": "2022-04-13T01:54:51.732Z"
   },
   {
    "duration": 318,
    "start_time": "2022-04-13T01:54:51.940Z"
   },
   {
    "duration": 231,
    "start_time": "2022-04-13T01:54:52.259Z"
   },
   {
    "duration": 75,
    "start_time": "2022-04-13T01:54:52.492Z"
   },
   {
    "duration": 71,
    "start_time": "2022-04-13T01:54:52.569Z"
   },
   {
    "duration": 25,
    "start_time": "2022-04-13T01:54:52.642Z"
   },
   {
    "duration": 107,
    "start_time": "2022-04-13T01:54:52.669Z"
   },
   {
    "duration": 89,
    "start_time": "2022-04-13T01:54:52.777Z"
   },
   {
    "duration": 171,
    "start_time": "2022-04-13T01:54:52.867Z"
   },
   {
    "duration": 4,
    "start_time": "2022-04-13T01:54:53.040Z"
   },
   {
    "duration": 322,
    "start_time": "2022-04-13T01:54:53.045Z"
   },
   {
    "duration": 0,
    "start_time": "2022-04-13T01:54:53.369Z"
   },
   {
    "duration": 0,
    "start_time": "2022-04-13T01:54:53.370Z"
   },
   {
    "duration": 0,
    "start_time": "2022-04-13T01:54:53.371Z"
   },
   {
    "duration": 2834,
    "start_time": "2022-04-13T01:57:01.285Z"
   },
   {
    "duration": 1699,
    "start_time": "2022-04-13T01:57:12.563Z"
   },
   {
    "duration": 770,
    "start_time": "2022-04-13T01:57:14.264Z"
   },
   {
    "duration": 72,
    "start_time": "2022-04-13T01:57:15.035Z"
   },
   {
    "duration": 37,
    "start_time": "2022-04-13T01:57:15.109Z"
   },
   {
    "duration": 203,
    "start_time": "2022-04-13T01:57:15.148Z"
   },
   {
    "duration": 326,
    "start_time": "2022-04-13T01:57:15.352Z"
   },
   {
    "duration": 231,
    "start_time": "2022-04-13T01:57:15.679Z"
   },
   {
    "duration": 74,
    "start_time": "2022-04-13T01:57:15.911Z"
   },
   {
    "duration": 89,
    "start_time": "2022-04-13T01:57:15.987Z"
   },
   {
    "duration": 36,
    "start_time": "2022-04-13T01:57:16.078Z"
   },
   {
    "duration": 112,
    "start_time": "2022-04-13T01:57:16.116Z"
   },
   {
    "duration": 92,
    "start_time": "2022-04-13T01:57:16.229Z"
   },
   {
    "duration": 2877,
    "start_time": "2022-04-13T01:57:16.323Z"
   },
   {
    "duration": 0,
    "start_time": "2022-04-13T01:57:19.201Z"
   },
   {
    "duration": 0,
    "start_time": "2022-04-13T01:57:19.203Z"
   },
   {
    "duration": 0,
    "start_time": "2022-04-13T01:57:19.204Z"
   },
   {
    "duration": 0,
    "start_time": "2022-04-13T01:57:19.205Z"
   },
   {
    "duration": 0,
    "start_time": "2022-04-13T01:57:19.206Z"
   },
   {
    "duration": 220,
    "start_time": "2022-04-13T01:58:44.950Z"
   },
   {
    "duration": 1561,
    "start_time": "2022-04-13T01:58:52.539Z"
   },
   {
    "duration": 744,
    "start_time": "2022-04-13T01:58:54.102Z"
   },
   {
    "duration": 69,
    "start_time": "2022-04-13T01:58:54.848Z"
   },
   {
    "duration": 37,
    "start_time": "2022-04-13T01:58:54.918Z"
   },
   {
    "duration": 203,
    "start_time": "2022-04-13T01:58:54.957Z"
   },
   {
    "duration": 325,
    "start_time": "2022-04-13T01:58:55.161Z"
   },
   {
    "duration": 232,
    "start_time": "2022-04-13T01:58:55.487Z"
   },
   {
    "duration": 71,
    "start_time": "2022-04-13T01:58:55.720Z"
   },
   {
    "duration": 67,
    "start_time": "2022-04-13T01:58:55.799Z"
   },
   {
    "duration": 35,
    "start_time": "2022-04-13T01:58:55.868Z"
   },
   {
    "duration": 101,
    "start_time": "2022-04-13T01:58:55.905Z"
   },
   {
    "duration": 81,
    "start_time": "2022-04-13T01:58:56.007Z"
   },
   {
    "duration": 226,
    "start_time": "2022-04-13T01:58:56.100Z"
   },
   {
    "duration": 3,
    "start_time": "2022-04-13T01:58:56.329Z"
   },
   {
    "duration": 6568,
    "start_time": "2022-04-13T01:58:56.333Z"
   },
   {
    "duration": 102,
    "start_time": "2022-04-13T01:59:02.902Z"
   },
   {
    "duration": 7906,
    "start_time": "2022-04-13T01:59:03.006Z"
   },
   {
    "duration": 555,
    "start_time": "2022-04-13T01:59:10.913Z"
   },
   {
    "duration": 102,
    "start_time": "2022-04-13T01:59:27.399Z"
   },
   {
    "duration": 112,
    "start_time": "2022-04-13T02:02:20.994Z"
   },
   {
    "duration": 60,
    "start_time": "2022-04-13T02:03:23.496Z"
   },
   {
    "duration": 62,
    "start_time": "2022-04-13T02:03:31.496Z"
   },
   {
    "duration": 62,
    "start_time": "2022-04-13T02:03:34.125Z"
   },
   {
    "duration": 138,
    "start_time": "2022-04-13T02:05:11.858Z"
   },
   {
    "duration": 1603,
    "start_time": "2022-04-13T02:05:22.422Z"
   },
   {
    "duration": 751,
    "start_time": "2022-04-13T02:05:24.027Z"
   },
   {
    "duration": 72,
    "start_time": "2022-04-13T02:05:24.780Z"
   },
   {
    "duration": 50,
    "start_time": "2022-04-13T02:05:24.854Z"
   },
   {
    "duration": 198,
    "start_time": "2022-04-13T02:05:24.907Z"
   },
   {
    "duration": 356,
    "start_time": "2022-04-13T02:05:25.107Z"
   },
   {
    "duration": 236,
    "start_time": "2022-04-13T02:05:25.465Z"
   },
   {
    "duration": 72,
    "start_time": "2022-04-13T02:05:25.703Z"
   },
   {
    "duration": 80,
    "start_time": "2022-04-13T02:05:25.777Z"
   },
   {
    "duration": 26,
    "start_time": "2022-04-13T02:05:25.859Z"
   },
   {
    "duration": 104,
    "start_time": "2022-04-13T02:05:25.887Z"
   },
   {
    "duration": 82,
    "start_time": "2022-04-13T02:05:26.000Z"
   },
   {
    "duration": 318,
    "start_time": "2022-04-13T02:05:26.084Z"
   },
   {
    "duration": 4,
    "start_time": "2022-04-13T02:05:26.405Z"
   },
   {
    "duration": 6480,
    "start_time": "2022-04-13T02:05:26.410Z"
   },
   {
    "duration": 113,
    "start_time": "2022-04-13T02:05:32.892Z"
   },
   {
    "duration": 8331,
    "start_time": "2022-04-13T02:05:33.008Z"
   },
   {
    "duration": 525,
    "start_time": "2022-04-13T02:05:41.341Z"
   },
   {
    "duration": 707,
    "start_time": "2022-04-13T02:10:47.129Z"
   },
   {
    "duration": 1708,
    "start_time": "2022-04-13T02:11:03.288Z"
   },
   {
    "duration": 736,
    "start_time": "2022-04-13T02:11:04.998Z"
   },
   {
    "duration": 68,
    "start_time": "2022-04-13T02:11:05.736Z"
   },
   {
    "duration": 39,
    "start_time": "2022-04-13T02:11:05.806Z"
   },
   {
    "duration": 199,
    "start_time": "2022-04-13T02:11:05.847Z"
   },
   {
    "duration": 323,
    "start_time": "2022-04-13T02:11:06.047Z"
   },
   {
    "duration": 232,
    "start_time": "2022-04-13T02:11:06.372Z"
   },
   {
    "duration": 71,
    "start_time": "2022-04-13T02:11:06.606Z"
   },
   {
    "duration": 77,
    "start_time": "2022-04-13T02:11:06.679Z"
   },
   {
    "duration": 27,
    "start_time": "2022-04-13T02:11:06.758Z"
   },
   {
    "duration": 115,
    "start_time": "2022-04-13T02:11:06.787Z"
   },
   {
    "duration": 85,
    "start_time": "2022-04-13T02:11:06.903Z"
   },
   {
    "duration": 1641,
    "start_time": "2022-04-13T02:11:06.990Z"
   },
   {
    "duration": 3,
    "start_time": "2022-04-13T02:11:08.634Z"
   },
   {
    "duration": 6695,
    "start_time": "2022-04-13T02:11:08.639Z"
   },
   {
    "duration": 167,
    "start_time": "2022-04-13T02:11:15.335Z"
   },
   {
    "duration": 8503,
    "start_time": "2022-04-13T02:11:15.504Z"
   },
   {
    "duration": 560,
    "start_time": "2022-04-13T02:11:24.009Z"
   },
   {
    "duration": 817,
    "start_time": "2022-04-13T02:11:50.569Z"
   },
   {
    "duration": 1697,
    "start_time": "2022-04-13T02:11:59.581Z"
   },
   {
    "duration": 790,
    "start_time": "2022-04-13T02:12:01.280Z"
   },
   {
    "duration": 71,
    "start_time": "2022-04-13T02:12:02.071Z"
   },
   {
    "duration": 37,
    "start_time": "2022-04-13T02:12:02.143Z"
   },
   {
    "duration": 202,
    "start_time": "2022-04-13T02:12:02.182Z"
   },
   {
    "duration": 347,
    "start_time": "2022-04-13T02:12:02.385Z"
   },
   {
    "duration": 242,
    "start_time": "2022-04-13T02:12:02.734Z"
   },
   {
    "duration": 75,
    "start_time": "2022-04-13T02:12:02.978Z"
   },
   {
    "duration": 79,
    "start_time": "2022-04-13T02:12:03.054Z"
   },
   {
    "duration": 27,
    "start_time": "2022-04-13T02:12:03.135Z"
   },
   {
    "duration": 108,
    "start_time": "2022-04-13T02:12:03.164Z"
   },
   {
    "duration": 95,
    "start_time": "2022-04-13T02:12:03.273Z"
   },
   {
    "duration": 807,
    "start_time": "2022-04-13T02:12:03.369Z"
   },
   {
    "duration": 0,
    "start_time": "2022-04-13T02:12:04.177Z"
   },
   {
    "duration": 0,
    "start_time": "2022-04-13T02:12:04.178Z"
   },
   {
    "duration": 0,
    "start_time": "2022-04-13T02:12:04.179Z"
   },
   {
    "duration": 0,
    "start_time": "2022-04-13T02:12:04.180Z"
   },
   {
    "duration": 0,
    "start_time": "2022-04-13T02:12:04.181Z"
   },
   {
    "duration": 10,
    "start_time": "2022-04-13T02:13:02.876Z"
   },
   {
    "duration": 6,
    "start_time": "2022-04-13T02:15:02.655Z"
   },
   {
    "duration": 85,
    "start_time": "2022-04-13T02:15:37.448Z"
   },
   {
    "duration": 213,
    "start_time": "2022-04-13T02:21:42.919Z"
   },
   {
    "duration": 65,
    "start_time": "2022-04-13T02:21:53.708Z"
   },
   {
    "duration": 120,
    "start_time": "2022-04-13T02:22:10.011Z"
   },
   {
    "duration": 1861,
    "start_time": "2022-04-13T02:22:22.630Z"
   },
   {
    "duration": 775,
    "start_time": "2022-04-13T02:22:24.493Z"
   },
   {
    "duration": 67,
    "start_time": "2022-04-13T02:22:25.270Z"
   },
   {
    "duration": 35,
    "start_time": "2022-04-13T02:22:25.339Z"
   },
   {
    "duration": 220,
    "start_time": "2022-04-13T02:22:25.376Z"
   },
   {
    "duration": 354,
    "start_time": "2022-04-13T02:22:25.598Z"
   },
   {
    "duration": 228,
    "start_time": "2022-04-13T02:22:25.954Z"
   },
   {
    "duration": 76,
    "start_time": "2022-04-13T02:22:26.184Z"
   },
   {
    "duration": 73,
    "start_time": "2022-04-13T02:22:26.261Z"
   },
   {
    "duration": 27,
    "start_time": "2022-04-13T02:22:26.336Z"
   },
   {
    "duration": 110,
    "start_time": "2022-04-13T02:22:26.364Z"
   },
   {
    "duration": 85,
    "start_time": "2022-04-13T02:22:26.475Z"
   },
   {
    "duration": 377,
    "start_time": "2022-04-13T02:22:26.561Z"
   },
   {
    "duration": 0,
    "start_time": "2022-04-13T02:22:26.939Z"
   },
   {
    "duration": 0,
    "start_time": "2022-04-13T02:22:26.940Z"
   },
   {
    "duration": 0,
    "start_time": "2022-04-13T02:22:26.942Z"
   },
   {
    "duration": 0,
    "start_time": "2022-04-13T02:22:26.943Z"
   },
   {
    "duration": 0,
    "start_time": "2022-04-13T02:22:26.944Z"
   },
   {
    "duration": 137,
    "start_time": "2022-04-13T02:23:08.593Z"
   },
   {
    "duration": 1599,
    "start_time": "2022-04-13T02:26:29.700Z"
   },
   {
    "duration": 754,
    "start_time": "2022-04-13T02:26:31.301Z"
   },
   {
    "duration": 67,
    "start_time": "2022-04-13T02:26:32.057Z"
   },
   {
    "duration": 38,
    "start_time": "2022-04-13T02:26:32.126Z"
   },
   {
    "duration": 226,
    "start_time": "2022-04-13T02:26:32.165Z"
   },
   {
    "duration": 357,
    "start_time": "2022-04-13T02:26:32.392Z"
   },
   {
    "duration": 224,
    "start_time": "2022-04-13T02:26:32.751Z"
   },
   {
    "duration": 77,
    "start_time": "2022-04-13T02:26:32.976Z"
   },
   {
    "duration": 69,
    "start_time": "2022-04-13T02:26:33.054Z"
   },
   {
    "duration": 27,
    "start_time": "2022-04-13T02:26:33.125Z"
   },
   {
    "duration": 112,
    "start_time": "2022-04-13T02:26:33.153Z"
   },
   {
    "duration": 85,
    "start_time": "2022-04-13T02:26:33.266Z"
   },
   {
    "duration": 299,
    "start_time": "2022-04-13T02:26:33.352Z"
   },
   {
    "duration": 3,
    "start_time": "2022-04-13T02:26:33.653Z"
   },
   {
    "duration": 6327,
    "start_time": "2022-04-13T02:26:33.658Z"
   },
   {
    "duration": 115,
    "start_time": "2022-04-13T02:26:39.986Z"
   },
   {
    "duration": 7771,
    "start_time": "2022-04-13T02:26:40.103Z"
   },
   {
    "duration": 517,
    "start_time": "2022-04-13T02:26:47.876Z"
   },
   {
    "duration": 160,
    "start_time": "2022-04-13T02:26:56.631Z"
   },
   {
    "duration": 203,
    "start_time": "2022-04-13T02:28:26.823Z"
   },
   {
    "duration": 122,
    "start_time": "2022-04-13T02:28:41.189Z"
   },
   {
    "duration": 123,
    "start_time": "2022-04-13T02:28:48.721Z"
   },
   {
    "duration": 83,
    "start_time": "2022-04-13T16:54:13.519Z"
   },
   {
    "duration": 2872,
    "start_time": "2022-04-13T16:54:19.882Z"
   },
   {
    "duration": 5103,
    "start_time": "2022-04-13T16:54:22.757Z"
   },
   {
    "duration": 115,
    "start_time": "2022-04-13T16:54:27.862Z"
   },
   {
    "duration": 73,
    "start_time": "2022-04-13T16:54:27.979Z"
   },
   {
    "duration": 359,
    "start_time": "2022-04-13T16:54:28.055Z"
   },
   {
    "duration": 572,
    "start_time": "2022-04-13T16:54:28.416Z"
   },
   {
    "duration": 400,
    "start_time": "2022-04-13T16:54:28.997Z"
   },
   {
    "duration": 109,
    "start_time": "2022-04-13T16:54:29.399Z"
   },
   {
    "duration": 117,
    "start_time": "2022-04-13T16:54:29.511Z"
   },
   {
    "duration": 38,
    "start_time": "2022-04-13T16:54:29.630Z"
   },
   {
    "duration": 175,
    "start_time": "2022-04-13T16:54:29.670Z"
   },
   {
    "duration": 153,
    "start_time": "2022-04-13T16:54:29.847Z"
   },
   {
    "duration": 521,
    "start_time": "2022-04-13T16:54:30.004Z"
   },
   {
    "duration": 5,
    "start_time": "2022-04-13T16:54:30.529Z"
   },
   {
    "duration": 7933,
    "start_time": "2022-04-13T16:54:30.536Z"
   },
   {
    "duration": 149,
    "start_time": "2022-04-13T16:54:38.472Z"
   },
   {
    "duration": 12822,
    "start_time": "2022-04-13T16:54:38.624Z"
   },
   {
    "duration": 895,
    "start_time": "2022-04-13T16:54:51.449Z"
   },
   {
    "duration": 271,
    "start_time": "2022-04-13T16:55:06.463Z"
   },
   {
    "duration": 126,
    "start_time": "2022-04-13T16:55:11.981Z"
   },
   {
    "duration": 2427,
    "start_time": "2022-04-13T16:55:24.141Z"
   },
   {
    "duration": 1809,
    "start_time": "2022-04-13T16:55:26.571Z"
   },
   {
    "duration": 152,
    "start_time": "2022-04-13T16:55:28.394Z"
   },
   {
    "duration": 96,
    "start_time": "2022-04-13T16:55:28.549Z"
   },
   {
    "duration": 598,
    "start_time": "2022-04-13T16:55:28.650Z"
   },
   {
    "duration": 887,
    "start_time": "2022-04-13T16:55:29.251Z"
   },
   {
    "duration": 605,
    "start_time": "2022-04-13T16:55:30.142Z"
   },
   {
    "duration": 193,
    "start_time": "2022-04-13T16:55:30.750Z"
   },
   {
    "duration": 166,
    "start_time": "2022-04-13T16:55:30.946Z"
   },
   {
    "duration": 39,
    "start_time": "2022-04-13T16:55:31.118Z"
   },
   {
    "duration": 194,
    "start_time": "2022-04-13T16:55:31.159Z"
   },
   {
    "duration": 220,
    "start_time": "2022-04-13T16:55:31.356Z"
   },
   {
    "duration": 657,
    "start_time": "2022-04-13T16:55:31.579Z"
   },
   {
    "duration": 8,
    "start_time": "2022-04-13T16:55:32.241Z"
   },
   {
    "duration": 7207,
    "start_time": "2022-04-13T16:55:32.251Z"
   },
   {
    "duration": 237,
    "start_time": "2022-04-13T16:55:39.461Z"
   },
   {
    "duration": 12779,
    "start_time": "2022-04-13T16:55:39.704Z"
   },
   {
    "duration": 818,
    "start_time": "2022-04-13T16:55:52.485Z"
   },
   {
    "duration": 422,
    "start_time": "2022-04-13T16:57:58.670Z"
   },
   {
    "duration": 313,
    "start_time": "2022-04-13T16:58:09.562Z"
   },
   {
    "duration": 2671,
    "start_time": "2022-04-13T16:58:23.270Z"
   },
   {
    "duration": 1160,
    "start_time": "2022-04-13T16:58:25.944Z"
   },
   {
    "duration": 122,
    "start_time": "2022-04-13T16:58:27.106Z"
   },
   {
    "duration": 70,
    "start_time": "2022-04-13T16:58:27.231Z"
   },
   {
    "duration": 308,
    "start_time": "2022-04-13T16:58:27.305Z"
   },
   {
    "duration": 514,
    "start_time": "2022-04-13T16:58:27.615Z"
   },
   {
    "duration": 375,
    "start_time": "2022-04-13T16:58:28.131Z"
   },
   {
    "duration": 111,
    "start_time": "2022-04-13T16:58:28.508Z"
   },
   {
    "duration": 100,
    "start_time": "2022-04-13T16:58:28.621Z"
   },
   {
    "duration": 39,
    "start_time": "2022-04-13T16:58:28.724Z"
   },
   {
    "duration": 258,
    "start_time": "2022-04-13T16:58:28.766Z"
   },
   {
    "duration": 221,
    "start_time": "2022-04-13T16:58:29.027Z"
   },
   {
    "duration": 4,
    "start_time": "2022-04-13T16:58:29.251Z"
   },
   {
    "duration": 2122,
    "start_time": "2022-04-13T16:58:29.262Z"
   },
   {
    "duration": 7,
    "start_time": "2022-04-13T16:58:31.392Z"
   },
   {
    "duration": 7940,
    "start_time": "2022-04-13T16:58:31.402Z"
   },
   {
    "duration": 160,
    "start_time": "2022-04-13T16:58:39.344Z"
   },
   {
    "duration": 12399,
    "start_time": "2022-04-13T16:58:39.595Z"
   },
   {
    "duration": 842,
    "start_time": "2022-04-13T16:58:51.996Z"
   },
   {
    "duration": 170,
    "start_time": "2022-04-13T17:10:31.184Z"
   },
   {
    "duration": 2548,
    "start_time": "2022-04-13T17:10:40.222Z"
   },
   {
    "duration": 1148,
    "start_time": "2022-04-13T17:10:42.773Z"
   },
   {
    "duration": 105,
    "start_time": "2022-04-13T17:10:43.923Z"
   },
   {
    "duration": 80,
    "start_time": "2022-04-13T17:10:44.030Z"
   },
   {
    "duration": 343,
    "start_time": "2022-04-13T17:10:44.113Z"
   },
   {
    "duration": 567,
    "start_time": "2022-04-13T17:10:44.459Z"
   },
   {
    "duration": 405,
    "start_time": "2022-04-13T17:10:45.029Z"
   },
   {
    "duration": 107,
    "start_time": "2022-04-13T17:10:45.436Z"
   },
   {
    "duration": 115,
    "start_time": "2022-04-13T17:10:45.545Z"
   },
   {
    "duration": 61,
    "start_time": "2022-04-13T17:10:45.662Z"
   },
   {
    "duration": 158,
    "start_time": "2022-04-13T17:10:45.725Z"
   },
   {
    "duration": 142,
    "start_time": "2022-04-13T17:10:45.899Z"
   },
   {
    "duration": 4,
    "start_time": "2022-04-13T17:10:46.043Z"
   },
   {
    "duration": 414,
    "start_time": "2022-04-13T17:10:46.050Z"
   },
   {
    "duration": 5,
    "start_time": "2022-04-13T17:10:46.467Z"
   },
   {
    "duration": 7197,
    "start_time": "2022-04-13T17:10:46.474Z"
   },
   {
    "duration": 218,
    "start_time": "2022-04-13T17:10:53.674Z"
   },
   {
    "duration": 11848,
    "start_time": "2022-04-13T17:10:53.895Z"
   },
   {
    "duration": 790,
    "start_time": "2022-04-13T17:11:05.746Z"
   },
   {
    "duration": 94,
    "start_time": "2022-04-13T17:11:52.259Z"
   },
   {
    "duration": 251,
    "start_time": "2022-04-13T17:12:43.435Z"
   },
   {
    "duration": 196,
    "start_time": "2022-04-13T17:12:50.966Z"
   },
   {
    "duration": 19,
    "start_time": "2022-04-13T17:13:37.530Z"
   },
   {
    "duration": 2466,
    "start_time": "2022-04-13T17:13:46.404Z"
   },
   {
    "duration": 1118,
    "start_time": "2022-04-13T17:13:48.873Z"
   },
   {
    "duration": 115,
    "start_time": "2022-04-13T17:13:49.993Z"
   },
   {
    "duration": 90,
    "start_time": "2022-04-13T17:13:50.110Z"
   },
   {
    "duration": 308,
    "start_time": "2022-04-13T17:13:50.205Z"
   },
   {
    "duration": 520,
    "start_time": "2022-04-13T17:13:50.515Z"
   },
   {
    "duration": 385,
    "start_time": "2022-04-13T17:13:51.038Z"
   },
   {
    "duration": 145,
    "start_time": "2022-04-13T17:13:51.425Z"
   },
   {
    "duration": 130,
    "start_time": "2022-04-13T17:13:51.572Z"
   },
   {
    "duration": 56,
    "start_time": "2022-04-13T17:13:51.705Z"
   },
   {
    "duration": 156,
    "start_time": "2022-04-13T17:13:51.764Z"
   },
   {
    "duration": 140,
    "start_time": "2022-04-13T17:13:51.922Z"
   },
   {
    "duration": 3,
    "start_time": "2022-04-13T17:13:52.065Z"
   },
   {
    "duration": 2939,
    "start_time": "2022-04-13T17:13:52.072Z"
   },
   {
    "duration": 6,
    "start_time": "2022-04-13T17:13:55.014Z"
   },
   {
    "duration": 461,
    "start_time": "2022-04-13T17:13:55.022Z"
   },
   {
    "duration": 0,
    "start_time": "2022-04-13T17:13:55.486Z"
   },
   {
    "duration": 0,
    "start_time": "2022-04-13T17:13:55.488Z"
   },
   {
    "duration": 0,
    "start_time": "2022-04-13T17:13:55.489Z"
   },
   {
    "duration": 354,
    "start_time": "2022-04-13T17:14:55.939Z"
   },
   {
    "duration": 248,
    "start_time": "2022-04-13T17:19:53.156Z"
   },
   {
    "duration": 573,
    "start_time": "2022-04-13T17:20:02.788Z"
   },
   {
    "duration": 543,
    "start_time": "2022-04-13T17:20:11.721Z"
   },
   {
    "duration": 15,
    "start_time": "2022-04-13T17:21:18.114Z"
   },
   {
    "duration": 2348,
    "start_time": "2022-04-13T17:21:25.749Z"
   },
   {
    "duration": 1122,
    "start_time": "2022-04-13T17:21:28.099Z"
   },
   {
    "duration": 114,
    "start_time": "2022-04-13T17:21:29.224Z"
   },
   {
    "duration": 68,
    "start_time": "2022-04-13T17:21:29.341Z"
   },
   {
    "duration": 359,
    "start_time": "2022-04-13T17:21:29.412Z"
   },
   {
    "duration": 553,
    "start_time": "2022-04-13T17:21:29.774Z"
   },
   {
    "duration": 378,
    "start_time": "2022-04-13T17:21:30.330Z"
   },
   {
    "duration": 107,
    "start_time": "2022-04-13T17:21:30.711Z"
   },
   {
    "duration": 108,
    "start_time": "2022-04-13T17:21:30.821Z"
   },
   {
    "duration": 39,
    "start_time": "2022-04-13T17:21:30.931Z"
   },
   {
    "duration": 161,
    "start_time": "2022-04-13T17:21:30.973Z"
   },
   {
    "duration": 142,
    "start_time": "2022-04-13T17:21:31.136Z"
   },
   {
    "duration": 14,
    "start_time": "2022-04-13T17:21:31.280Z"
   },
   {
    "duration": 188,
    "start_time": "2022-04-13T17:21:31.299Z"
   },
   {
    "duration": 0,
    "start_time": "2022-04-13T17:21:31.493Z"
   },
   {
    "duration": 0,
    "start_time": "2022-04-13T17:21:31.494Z"
   },
   {
    "duration": 0,
    "start_time": "2022-04-13T17:21:31.496Z"
   },
   {
    "duration": 1,
    "start_time": "2022-04-13T17:21:31.497Z"
   },
   {
    "duration": 0,
    "start_time": "2022-04-13T17:21:31.499Z"
   },
   {
    "duration": 854,
    "start_time": "2022-04-13T17:21:44.891Z"
   },
   {
    "duration": 2473,
    "start_time": "2022-04-13T22:29:23.567Z"
   },
   {
    "duration": 4326,
    "start_time": "2022-04-13T22:29:26.043Z"
   },
   {
    "duration": 102,
    "start_time": "2022-04-13T22:29:30.382Z"
   },
   {
    "duration": 62,
    "start_time": "2022-04-13T22:29:30.489Z"
   },
   {
    "duration": 418,
    "start_time": "2022-04-13T22:29:30.554Z"
   },
   {
    "duration": 536,
    "start_time": "2022-04-13T22:29:30.976Z"
   },
   {
    "duration": 378,
    "start_time": "2022-04-13T22:29:31.515Z"
   },
   {
    "duration": 109,
    "start_time": "2022-04-13T22:29:31.896Z"
   },
   {
    "duration": 104,
    "start_time": "2022-04-13T22:29:32.007Z"
   },
   {
    "duration": 38,
    "start_time": "2022-04-13T22:29:32.114Z"
   },
   {
    "duration": 158,
    "start_time": "2022-04-13T22:29:32.154Z"
   },
   {
    "duration": 137,
    "start_time": "2022-04-13T22:29:32.314Z"
   },
   {
    "duration": 3,
    "start_time": "2022-04-13T22:29:32.454Z"
   },
   {
    "duration": 852,
    "start_time": "2022-04-13T22:29:32.460Z"
   },
   {
    "duration": 9,
    "start_time": "2022-04-13T22:29:33.314Z"
   },
   {
    "duration": 7,
    "start_time": "2022-04-13T22:29:33.326Z"
   },
   {
    "duration": 7707,
    "start_time": "2022-04-13T22:29:33.335Z"
   },
   {
    "duration": 146,
    "start_time": "2022-04-13T22:29:41.044Z"
   },
   {
    "duration": 11170,
    "start_time": "2022-04-13T22:29:41.193Z"
   },
   {
    "duration": 731,
    "start_time": "2022-04-13T22:29:52.365Z"
   },
   {
    "duration": 160,
    "start_time": "2022-04-13T22:30:02.152Z"
   },
   {
    "duration": 14,
    "start_time": "2022-04-13T22:30:22.105Z"
   },
   {
    "duration": 21,
    "start_time": "2022-04-13T22:30:40.893Z"
   },
   {
    "duration": 9,
    "start_time": "2022-04-13T22:31:25.931Z"
   },
   {
    "duration": 6,
    "start_time": "2022-04-13T22:31:58.114Z"
   },
   {
    "duration": 93,
    "start_time": "2022-04-13T22:35:37.180Z"
   },
   {
    "duration": 14,
    "start_time": "2022-04-13T22:35:44.650Z"
   },
   {
    "duration": 2312,
    "start_time": "2022-04-13T22:46:51.055Z"
   },
   {
    "duration": 1098,
    "start_time": "2022-04-13T22:46:53.370Z"
   },
   {
    "duration": 126,
    "start_time": "2022-04-13T22:46:54.470Z"
   },
   {
    "duration": 54,
    "start_time": "2022-04-13T22:46:54.599Z"
   },
   {
    "duration": 355,
    "start_time": "2022-04-13T22:46:54.656Z"
   },
   {
    "duration": 556,
    "start_time": "2022-04-13T22:46:55.014Z"
   },
   {
    "duration": 473,
    "start_time": "2022-04-13T22:46:55.573Z"
   },
   {
    "duration": 111,
    "start_time": "2022-04-13T22:46:56.049Z"
   },
   {
    "duration": 122,
    "start_time": "2022-04-13T22:46:56.163Z"
   },
   {
    "duration": 41,
    "start_time": "2022-04-13T22:46:56.287Z"
   },
   {
    "duration": 269,
    "start_time": "2022-04-13T22:46:56.332Z"
   },
   {
    "duration": 214,
    "start_time": "2022-04-13T22:46:56.603Z"
   },
   {
    "duration": 784,
    "start_time": "2022-04-13T22:46:56.820Z"
   },
   {
    "duration": 7,
    "start_time": "2022-04-13T22:46:57.609Z"
   },
   {
    "duration": 7412,
    "start_time": "2022-04-13T22:46:57.618Z"
   },
   {
    "duration": 160,
    "start_time": "2022-04-13T22:47:05.032Z"
   },
   {
    "duration": 15087,
    "start_time": "2022-04-13T22:47:05.196Z"
   },
   {
    "duration": 1204,
    "start_time": "2022-04-13T22:47:20.286Z"
   },
   {
    "duration": 1653,
    "start_time": "2022-04-13T22:50:48.402Z"
   },
   {
    "duration": 1533,
    "start_time": "2022-04-13T22:52:16.050Z"
   },
   {
    "duration": 2384,
    "start_time": "2022-04-14T08:10:06.785Z"
   },
   {
    "duration": 1000,
    "start_time": "2022-04-14T08:10:09.172Z"
   },
   {
    "duration": 57,
    "start_time": "2022-04-14T08:10:10.173Z"
   },
   {
    "duration": 37,
    "start_time": "2022-04-14T08:10:10.232Z"
   },
   {
    "duration": 184,
    "start_time": "2022-04-14T08:10:10.271Z"
   },
   {
    "duration": 296,
    "start_time": "2022-04-14T08:10:10.456Z"
   },
   {
    "duration": 214,
    "start_time": "2022-04-14T08:10:10.753Z"
   },
   {
    "duration": 68,
    "start_time": "2022-04-14T08:10:10.968Z"
   },
   {
    "duration": 54,
    "start_time": "2022-04-14T08:10:11.038Z"
   },
   {
    "duration": 36,
    "start_time": "2022-04-14T08:10:11.093Z"
   },
   {
    "duration": 96,
    "start_time": "2022-04-14T08:10:11.131Z"
   },
   {
    "duration": 76,
    "start_time": "2022-04-14T08:10:11.228Z"
   },
   {
    "duration": 2371,
    "start_time": "2022-04-14T08:10:11.305Z"
   },
   {
    "duration": 0,
    "start_time": "2022-04-14T08:10:13.677Z"
   },
   {
    "duration": 0,
    "start_time": "2022-04-14T08:10:13.678Z"
   },
   {
    "duration": 0,
    "start_time": "2022-04-14T08:10:13.679Z"
   },
   {
    "duration": 0,
    "start_time": "2022-04-14T08:10:13.681Z"
   },
   {
    "duration": 0,
    "start_time": "2022-04-14T08:10:13.682Z"
   },
   {
    "duration": 2181,
    "start_time": "2022-04-14T08:11:38.116Z"
   },
   {
    "duration": 1524,
    "start_time": "2022-04-14T08:12:47.011Z"
   },
   {
    "duration": 2010,
    "start_time": "2022-04-14T08:19:09.243Z"
   },
   {
    "duration": 1628,
    "start_time": "2022-04-14T08:23:19.309Z"
   },
   {
    "duration": 667,
    "start_time": "2022-04-14T08:23:20.939Z"
   },
   {
    "duration": 61,
    "start_time": "2022-04-14T08:23:21.608Z"
   },
   {
    "duration": 36,
    "start_time": "2022-04-14T08:23:21.671Z"
   },
   {
    "duration": 188,
    "start_time": "2022-04-14T08:23:21.723Z"
   },
   {
    "duration": 323,
    "start_time": "2022-04-14T08:23:21.912Z"
   },
   {
    "duration": 220,
    "start_time": "2022-04-14T08:23:22.236Z"
   },
   {
    "duration": 71,
    "start_time": "2022-04-14T08:23:22.457Z"
   },
   {
    "duration": 58,
    "start_time": "2022-04-14T08:23:22.530Z"
   },
   {
    "duration": 36,
    "start_time": "2022-04-14T08:23:22.590Z"
   },
   {
    "duration": 80,
    "start_time": "2022-04-14T08:23:22.628Z"
   },
   {
    "duration": 88,
    "start_time": "2022-04-14T08:23:22.709Z"
   },
   {
    "duration": 121,
    "start_time": "2022-04-14T08:23:22.798Z"
   },
   {
    "duration": 0,
    "start_time": "2022-04-14T08:23:22.921Z"
   },
   {
    "duration": 0,
    "start_time": "2022-04-14T08:23:22.923Z"
   },
   {
    "duration": 0,
    "start_time": "2022-04-14T08:23:22.924Z"
   },
   {
    "duration": 0,
    "start_time": "2022-04-14T08:23:22.925Z"
   },
   {
    "duration": 0,
    "start_time": "2022-04-14T08:23:22.926Z"
   },
   {
    "duration": 16,
    "start_time": "2022-04-14T08:24:25.469Z"
   },
   {
    "duration": 12,
    "start_time": "2022-04-14T08:29:13.644Z"
   },
   {
    "duration": 12,
    "start_time": "2022-04-14T08:30:01.837Z"
   },
   {
    "duration": 2227,
    "start_time": "2022-04-14T08:30:33.104Z"
   },
   {
    "duration": 2249,
    "start_time": "2022-04-16T18:59:08.395Z"
   },
   {
    "duration": 1237,
    "start_time": "2022-04-16T18:59:10.647Z"
   },
   {
    "duration": 77,
    "start_time": "2022-04-16T18:59:11.886Z"
   },
   {
    "duration": 39,
    "start_time": "2022-04-16T18:59:11.965Z"
   },
   {
    "duration": 320,
    "start_time": "2022-04-16T18:59:12.006Z"
   },
   {
    "duration": 552,
    "start_time": "2022-04-16T18:59:12.328Z"
   },
   {
    "duration": 261,
    "start_time": "2022-04-16T18:59:12.881Z"
   },
   {
    "duration": 81,
    "start_time": "2022-04-16T18:59:13.143Z"
   },
   {
    "duration": 141,
    "start_time": "2022-04-16T18:59:13.226Z"
   },
   {
    "duration": 42,
    "start_time": "2022-04-16T18:59:13.369Z"
   },
   {
    "duration": 129,
    "start_time": "2022-04-16T18:59:13.413Z"
   },
   {
    "duration": 93,
    "start_time": "2022-04-16T18:59:13.544Z"
   },
   {
    "duration": 44,
    "start_time": "2022-04-16T18:59:13.639Z"
   },
   {
    "duration": 263,
    "start_time": "2022-04-16T18:59:13.687Z"
   },
   {
    "duration": 5,
    "start_time": "2022-04-16T18:59:13.952Z"
   },
   {
    "duration": 8033,
    "start_time": "2022-04-16T18:59:13.959Z"
   },
   {
    "duration": 168,
    "start_time": "2022-04-16T18:59:21.995Z"
   },
   {
    "duration": 8573,
    "start_time": "2022-04-16T18:59:22.166Z"
   },
   {
    "duration": 615,
    "start_time": "2022-04-16T18:59:30.741Z"
   },
   {
    "duration": 11,
    "start_time": "2022-04-16T19:00:41.409Z"
   },
   {
    "duration": 1889,
    "start_time": "2022-04-16T19:01:29.832Z"
   },
   {
    "duration": 772,
    "start_time": "2022-04-16T19:01:31.723Z"
   },
   {
    "duration": 76,
    "start_time": "2022-04-16T19:01:32.497Z"
   },
   {
    "duration": 36,
    "start_time": "2022-04-16T19:01:32.575Z"
   },
   {
    "duration": 237,
    "start_time": "2022-04-16T19:01:32.613Z"
   },
   {
    "duration": 382,
    "start_time": "2022-04-16T19:01:32.851Z"
   },
   {
    "duration": 241,
    "start_time": "2022-04-16T19:01:33.235Z"
   },
   {
    "duration": 89,
    "start_time": "2022-04-16T19:01:33.478Z"
   },
   {
    "duration": 86,
    "start_time": "2022-04-16T19:01:33.569Z"
   },
   {
    "duration": 29,
    "start_time": "2022-04-16T19:01:33.657Z"
   },
   {
    "duration": 113,
    "start_time": "2022-04-16T19:01:33.688Z"
   },
   {
    "duration": 172,
    "start_time": "2022-04-16T19:01:33.803Z"
   },
   {
    "duration": 51,
    "start_time": "2022-04-16T19:01:33.977Z"
   },
   {
    "duration": 69,
    "start_time": "2022-04-16T19:01:34.031Z"
   },
   {
    "duration": 254,
    "start_time": "2022-04-16T19:01:34.103Z"
   },
   {
    "duration": 5,
    "start_time": "2022-04-16T19:01:34.359Z"
   },
   {
    "duration": 7727,
    "start_time": "2022-04-16T19:01:34.366Z"
   },
   {
    "duration": 267,
    "start_time": "2022-04-16T19:01:42.095Z"
   },
   {
    "duration": 12243,
    "start_time": "2022-04-16T19:01:42.365Z"
   },
   {
    "duration": 612,
    "start_time": "2022-04-16T19:01:54.610Z"
   },
   {
    "duration": 12,
    "start_time": "2022-04-16T19:17:08.342Z"
   },
   {
    "duration": 2481,
    "start_time": "2022-04-16T19:20:09.547Z"
   },
   {
    "duration": 823,
    "start_time": "2022-04-16T19:20:12.031Z"
   },
   {
    "duration": 63,
    "start_time": "2022-04-16T19:20:12.856Z"
   },
   {
    "duration": 903,
    "start_time": "2022-04-16T19:20:12.921Z"
   },
   {
    "duration": 205,
    "start_time": "2022-04-16T19:20:13.826Z"
   },
   {
    "duration": 370,
    "start_time": "2022-04-16T19:20:14.033Z"
   },
   {
    "duration": 264,
    "start_time": "2022-04-16T19:20:14.405Z"
   },
   {
    "duration": 87,
    "start_time": "2022-04-16T19:20:14.671Z"
   },
   {
    "duration": 70,
    "start_time": "2022-04-16T19:20:14.761Z"
   },
   {
    "duration": 46,
    "start_time": "2022-04-16T19:20:14.854Z"
   },
   {
    "duration": 119,
    "start_time": "2022-04-16T19:20:14.901Z"
   },
   {
    "duration": 105,
    "start_time": "2022-04-16T19:20:15.021Z"
   },
   {
    "duration": 42,
    "start_time": "2022-04-16T19:20:15.127Z"
   },
   {
    "duration": 38,
    "start_time": "2022-04-16T19:20:15.170Z"
   },
   {
    "duration": 32,
    "start_time": "2022-04-16T19:20:15.209Z"
   },
   {
    "duration": 264,
    "start_time": "2022-04-16T19:20:15.254Z"
   },
   {
    "duration": 4,
    "start_time": "2022-04-16T19:20:15.520Z"
   },
   {
    "duration": 7660,
    "start_time": "2022-04-16T19:20:15.526Z"
   },
   {
    "duration": 174,
    "start_time": "2022-04-16T19:20:23.187Z"
   },
   {
    "duration": 9300,
    "start_time": "2022-04-16T19:20:23.364Z"
   },
   {
    "duration": 638,
    "start_time": "2022-04-16T19:20:32.666Z"
   },
   {
    "duration": 2584,
    "start_time": "2022-04-17T16:14:36.317Z"
   },
   {
    "duration": 1161,
    "start_time": "2022-04-17T16:14:38.904Z"
   },
   {
    "duration": 113,
    "start_time": "2022-04-17T16:14:40.067Z"
   },
   {
    "duration": 77,
    "start_time": "2022-04-17T16:14:40.183Z"
   },
   {
    "duration": 381,
    "start_time": "2022-04-17T16:14:40.263Z"
   },
   {
    "duration": 586,
    "start_time": "2022-04-17T16:14:40.646Z"
   },
   {
    "duration": 461,
    "start_time": "2022-04-17T16:14:41.234Z"
   },
   {
    "duration": 129,
    "start_time": "2022-04-17T16:14:41.697Z"
   },
   {
    "duration": 104,
    "start_time": "2022-04-17T16:14:41.828Z"
   },
   {
    "duration": 52,
    "start_time": "2022-04-17T16:14:41.935Z"
   },
   {
    "duration": 187,
    "start_time": "2022-04-17T16:14:41.989Z"
   },
   {
    "duration": 143,
    "start_time": "2022-04-17T16:14:42.179Z"
   },
   {
    "duration": 48,
    "start_time": "2022-04-17T16:14:42.325Z"
   },
   {
    "duration": 43,
    "start_time": "2022-04-17T16:14:42.376Z"
   },
   {
    "duration": 70,
    "start_time": "2022-04-17T16:14:42.422Z"
   },
   {
    "duration": 42,
    "start_time": "2022-04-17T16:14:42.495Z"
   },
   {
    "duration": 482,
    "start_time": "2022-04-17T16:14:42.552Z"
   },
   {
    "duration": 15,
    "start_time": "2022-04-17T16:14:43.037Z"
   },
   {
    "duration": 7865,
    "start_time": "2022-04-17T16:14:43.055Z"
   },
   {
    "duration": 149,
    "start_time": "2022-04-17T16:14:50.922Z"
   },
   {
    "duration": 11511,
    "start_time": "2022-04-17T16:14:51.073Z"
   },
   {
    "duration": 766,
    "start_time": "2022-04-17T16:15:02.586Z"
   },
   {
    "duration": 8,
    "start_time": "2022-04-17T16:18:32.832Z"
   },
   {
    "duration": 9,
    "start_time": "2022-04-17T16:25:55.594Z"
   },
   {
    "duration": 9,
    "start_time": "2022-04-17T16:26:51.968Z"
   },
   {
    "duration": 2178,
    "start_time": "2022-04-17T16:27:00.249Z"
   },
   {
    "duration": 1110,
    "start_time": "2022-04-17T16:27:02.429Z"
   },
   {
    "duration": 109,
    "start_time": "2022-04-17T16:27:03.542Z"
   },
   {
    "duration": 61,
    "start_time": "2022-04-17T16:27:03.654Z"
   },
   {
    "duration": 313,
    "start_time": "2022-04-17T16:27:03.718Z"
   },
   {
    "duration": 504,
    "start_time": "2022-04-17T16:27:04.033Z"
   },
   {
    "duration": 368,
    "start_time": "2022-04-17T16:27:04.540Z"
   },
   {
    "duration": 108,
    "start_time": "2022-04-17T16:27:04.910Z"
   },
   {
    "duration": 101,
    "start_time": "2022-04-17T16:27:05.020Z"
   },
   {
    "duration": 56,
    "start_time": "2022-04-17T16:27:05.123Z"
   },
   {
    "duration": 143,
    "start_time": "2022-04-17T16:27:05.182Z"
   },
   {
    "duration": 134,
    "start_time": "2022-04-17T16:27:05.328Z"
   },
   {
    "duration": 38,
    "start_time": "2022-04-17T16:27:05.464Z"
   },
   {
    "duration": 59,
    "start_time": "2022-04-17T16:27:05.506Z"
   },
   {
    "duration": 48,
    "start_time": "2022-04-17T16:27:05.567Z"
   },
   {
    "duration": 53,
    "start_time": "2022-04-17T16:27:05.617Z"
   },
   {
    "duration": 36,
    "start_time": "2022-04-17T16:27:05.672Z"
   },
   {
    "duration": 63,
    "start_time": "2022-04-17T16:27:05.710Z"
   },
   {
    "duration": 389,
    "start_time": "2022-04-17T16:27:05.775Z"
   },
   {
    "duration": 5,
    "start_time": "2022-04-17T16:27:06.166Z"
   },
   {
    "duration": 6536,
    "start_time": "2022-04-17T16:27:06.173Z"
   },
   {
    "duration": 141,
    "start_time": "2022-04-17T16:27:12.712Z"
   },
   {
    "duration": 11041,
    "start_time": "2022-04-17T16:27:12.856Z"
   },
   {
    "duration": 854,
    "start_time": "2022-04-17T16:27:23.900Z"
   },
   {
    "duration": 8,
    "start_time": "2022-04-17T16:28:05.209Z"
   },
   {
    "duration": 8,
    "start_time": "2022-04-17T16:28:07.013Z"
   },
   {
    "duration": 8,
    "start_time": "2022-04-17T16:28:09.164Z"
   },
   {
    "duration": 150,
    "start_time": "2022-04-17T16:28:13.320Z"
   },
   {
    "duration": 2108,
    "start_time": "2022-04-17T16:29:04.163Z"
   },
   {
    "duration": 1068,
    "start_time": "2022-04-17T16:29:06.273Z"
   },
   {
    "duration": 108,
    "start_time": "2022-04-17T16:29:07.343Z"
   },
   {
    "duration": 62,
    "start_time": "2022-04-17T16:29:07.453Z"
   },
   {
    "duration": 301,
    "start_time": "2022-04-17T16:29:07.519Z"
   },
   {
    "duration": 496,
    "start_time": "2022-04-17T16:29:07.823Z"
   },
   {
    "duration": 365,
    "start_time": "2022-04-17T16:29:08.321Z"
   },
   {
    "duration": 106,
    "start_time": "2022-04-17T16:29:08.689Z"
   },
   {
    "duration": 98,
    "start_time": "2022-04-17T16:29:08.797Z"
   },
   {
    "duration": 54,
    "start_time": "2022-04-17T16:29:08.898Z"
   },
   {
    "duration": 145,
    "start_time": "2022-04-17T16:29:08.954Z"
   },
   {
    "duration": 135,
    "start_time": "2022-04-17T16:29:09.102Z"
   },
   {
    "duration": 47,
    "start_time": "2022-04-17T16:29:09.240Z"
   },
   {
    "duration": 44,
    "start_time": "2022-04-17T16:29:09.290Z"
   },
   {
    "duration": 40,
    "start_time": "2022-04-17T16:29:09.352Z"
   },
   {
    "duration": 59,
    "start_time": "2022-04-17T16:29:09.394Z"
   },
   {
    "duration": 41,
    "start_time": "2022-04-17T16:29:09.455Z"
   },
   {
    "duration": 66,
    "start_time": "2022-04-17T16:29:09.498Z"
   },
   {
    "duration": 362,
    "start_time": "2022-04-17T16:29:09.566Z"
   },
   {
    "duration": 6,
    "start_time": "2022-04-17T16:29:09.930Z"
   },
   {
    "duration": 7273,
    "start_time": "2022-04-17T16:29:09.952Z"
   },
   {
    "duration": 146,
    "start_time": "2022-04-17T16:29:17.227Z"
   },
   {
    "duration": 11326,
    "start_time": "2022-04-17T16:29:17.454Z"
   },
   {
    "duration": 790,
    "start_time": "2022-04-17T16:29:28.783Z"
   },
   {
    "duration": 2394,
    "start_time": "2022-04-17T18:21:27.801Z"
   },
   {
    "duration": 1100,
    "start_time": "2022-04-17T18:21:30.198Z"
   },
   {
    "duration": 110,
    "start_time": "2022-04-17T18:21:31.300Z"
   },
   {
    "duration": 70,
    "start_time": "2022-04-17T18:21:31.412Z"
   },
   {
    "duration": 305,
    "start_time": "2022-04-17T18:21:31.484Z"
   },
   {
    "duration": 507,
    "start_time": "2022-04-17T18:21:31.791Z"
   },
   {
    "duration": 371,
    "start_time": "2022-04-17T18:21:32.300Z"
   },
   {
    "duration": 111,
    "start_time": "2022-04-17T18:21:32.673Z"
   },
   {
    "duration": 104,
    "start_time": "2022-04-17T18:21:32.786Z"
   },
   {
    "duration": 39,
    "start_time": "2022-04-17T18:21:32.893Z"
   },
   {
    "duration": 142,
    "start_time": "2022-04-17T18:21:32.952Z"
   },
   {
    "duration": 140,
    "start_time": "2022-04-17T18:21:33.096Z"
   },
   {
    "duration": 42,
    "start_time": "2022-04-17T18:21:33.238Z"
   },
   {
    "duration": 41,
    "start_time": "2022-04-17T18:21:33.282Z"
   },
   {
    "duration": 56,
    "start_time": "2022-04-17T18:21:33.325Z"
   },
   {
    "duration": 42,
    "start_time": "2022-04-17T18:21:33.384Z"
   },
   {
    "duration": 62,
    "start_time": "2022-04-17T18:21:33.428Z"
   },
   {
    "duration": 62,
    "start_time": "2022-04-17T18:21:33.492Z"
   },
   {
    "duration": 382,
    "start_time": "2022-04-17T18:21:33.556Z"
   },
   {
    "duration": 14,
    "start_time": "2022-04-17T18:21:33.941Z"
   },
   {
    "duration": 7057,
    "start_time": "2022-04-17T18:21:33.958Z"
   },
   {
    "duration": 142,
    "start_time": "2022-04-17T18:21:41.017Z"
   },
   {
    "duration": 11015,
    "start_time": "2022-04-17T18:21:41.162Z"
   },
   {
    "duration": 766,
    "start_time": "2022-04-17T18:21:52.179Z"
   },
   {
    "duration": 186,
    "start_time": "2022-04-17T18:21:52.947Z"
   },
   {
    "duration": 2195,
    "start_time": "2022-04-17T18:28:08.254Z"
   },
   {
    "duration": 1125,
    "start_time": "2022-04-17T18:28:10.451Z"
   },
   {
    "duration": 126,
    "start_time": "2022-04-17T18:28:11.579Z"
   },
   {
    "duration": 74,
    "start_time": "2022-04-17T18:28:11.709Z"
   },
   {
    "duration": 329,
    "start_time": "2022-04-17T18:28:11.785Z"
   },
   {
    "duration": 563,
    "start_time": "2022-04-17T18:28:12.116Z"
   },
   {
    "duration": 383,
    "start_time": "2022-04-17T18:28:12.681Z"
   },
   {
    "duration": 111,
    "start_time": "2022-04-17T18:28:13.066Z"
   },
   {
    "duration": 103,
    "start_time": "2022-04-17T18:28:13.180Z"
   },
   {
    "duration": 39,
    "start_time": "2022-04-17T18:28:13.287Z"
   },
   {
    "duration": 165,
    "start_time": "2022-04-17T18:28:13.329Z"
   },
   {
    "duration": 138,
    "start_time": "2022-04-17T18:28:13.496Z"
   },
   {
    "duration": 47,
    "start_time": "2022-04-17T18:28:13.636Z"
   },
   {
    "duration": 43,
    "start_time": "2022-04-17T18:28:13.685Z"
   },
   {
    "duration": 56,
    "start_time": "2022-04-17T18:28:13.730Z"
   },
   {
    "duration": 43,
    "start_time": "2022-04-17T18:28:13.788Z"
   },
   {
    "duration": 43,
    "start_time": "2022-04-17T18:28:13.852Z"
   },
   {
    "duration": 63,
    "start_time": "2022-04-17T18:28:13.897Z"
   },
   {
    "duration": 390,
    "start_time": "2022-04-17T18:28:13.963Z"
   },
   {
    "duration": 5,
    "start_time": "2022-04-17T18:28:14.356Z"
   },
   {
    "duration": 6853,
    "start_time": "2022-04-17T18:28:14.364Z"
   },
   {
    "duration": 136,
    "start_time": "2022-04-17T18:28:21.219Z"
   },
   {
    "duration": 10783,
    "start_time": "2022-04-17T18:28:21.358Z"
   },
   {
    "duration": 750,
    "start_time": "2022-04-17T18:28:32.143Z"
   },
   {
    "duration": 2175,
    "start_time": "2022-04-17T18:34:51.695Z"
   },
   {
    "duration": 1258,
    "start_time": "2022-04-17T18:34:53.872Z"
   },
   {
    "duration": 108,
    "start_time": "2022-04-17T18:34:55.132Z"
   },
   {
    "duration": 63,
    "start_time": "2022-04-17T18:34:55.253Z"
   },
   {
    "duration": 317,
    "start_time": "2022-04-17T18:34:55.318Z"
   },
   {
    "duration": 519,
    "start_time": "2022-04-17T18:34:55.638Z"
   },
   {
    "duration": 477,
    "start_time": "2022-04-17T18:34:56.159Z"
   },
   {
    "duration": 115,
    "start_time": "2022-04-17T18:34:56.638Z"
   },
   {
    "duration": 104,
    "start_time": "2022-04-17T18:34:56.756Z"
   },
   {
    "duration": 41,
    "start_time": "2022-04-17T18:34:56.865Z"
   },
   {
    "duration": 169,
    "start_time": "2022-04-17T18:34:56.908Z"
   },
   {
    "duration": 140,
    "start_time": "2022-04-17T18:34:57.080Z"
   },
   {
    "duration": 48,
    "start_time": "2022-04-17T18:34:57.222Z"
   },
   {
    "duration": 42,
    "start_time": "2022-04-17T18:34:57.272Z"
   },
   {
    "duration": 57,
    "start_time": "2022-04-17T18:34:57.316Z"
   },
   {
    "duration": 49,
    "start_time": "2022-04-17T18:34:57.376Z"
   },
   {
    "duration": 53,
    "start_time": "2022-04-17T18:34:57.428Z"
   },
   {
    "duration": 42,
    "start_time": "2022-04-17T18:34:57.483Z"
   },
   {
    "duration": 389,
    "start_time": "2022-04-17T18:34:57.527Z"
   },
   {
    "duration": 5,
    "start_time": "2022-04-17T18:34:57.919Z"
   },
   {
    "duration": 6922,
    "start_time": "2022-04-17T18:34:57.926Z"
   },
   {
    "duration": 202,
    "start_time": "2022-04-17T18:35:04.852Z"
   },
   {
    "duration": 10871,
    "start_time": "2022-04-17T18:35:05.056Z"
   },
   {
    "duration": 779,
    "start_time": "2022-04-17T18:35:15.930Z"
   },
   {
    "duration": 2176,
    "start_time": "2022-04-17T18:41:32.090Z"
   },
   {
    "duration": 1123,
    "start_time": "2022-04-17T18:41:34.268Z"
   },
   {
    "duration": 121,
    "start_time": "2022-04-17T18:41:35.393Z"
   },
   {
    "duration": 68,
    "start_time": "2022-04-17T18:41:35.517Z"
   },
   {
    "duration": 485,
    "start_time": "2022-04-17T18:41:35.588Z"
   },
   {
    "duration": 833,
    "start_time": "2022-04-17T18:41:36.076Z"
   },
   {
    "duration": 568,
    "start_time": "2022-04-17T18:41:36.912Z"
   },
   {
    "duration": 112,
    "start_time": "2022-04-17T18:41:37.482Z"
   },
   {
    "duration": 111,
    "start_time": "2022-04-17T18:41:37.596Z"
   },
   {
    "duration": 53,
    "start_time": "2022-04-17T18:41:37.711Z"
   },
   {
    "duration": 166,
    "start_time": "2022-04-17T18:41:37.767Z"
   },
   {
    "duration": 218,
    "start_time": "2022-04-17T18:41:37.936Z"
   },
   {
    "duration": 67,
    "start_time": "2022-04-17T18:41:38.157Z"
   },
   {
    "duration": 86,
    "start_time": "2022-04-17T18:41:38.226Z"
   },
   {
    "duration": 56,
    "start_time": "2022-04-17T18:41:38.315Z"
   },
   {
    "duration": 42,
    "start_time": "2022-04-17T18:41:38.373Z"
   },
   {
    "duration": 63,
    "start_time": "2022-04-17T18:41:38.417Z"
   },
   {
    "duration": 43,
    "start_time": "2022-04-17T18:41:38.482Z"
   },
   {
    "duration": 392,
    "start_time": "2022-04-17T18:41:38.552Z"
   },
   {
    "duration": 8,
    "start_time": "2022-04-17T18:41:38.947Z"
   },
   {
    "duration": 7736,
    "start_time": "2022-04-17T18:41:38.957Z"
   },
   {
    "duration": 261,
    "start_time": "2022-04-17T18:41:46.695Z"
   },
   {
    "duration": 10784,
    "start_time": "2022-04-17T18:41:46.959Z"
   },
   {
    "duration": 774,
    "start_time": "2022-04-17T18:41:57.746Z"
   },
   {
    "duration": 40962,
    "start_time": "2022-04-17T18:41:58.523Z"
   },
   {
    "duration": 2202,
    "start_time": "2022-04-17T18:52:09.019Z"
   },
   {
    "duration": 1140,
    "start_time": "2022-04-17T18:52:11.224Z"
   },
   {
    "duration": 116,
    "start_time": "2022-04-17T18:52:12.367Z"
   },
   {
    "duration": 94,
    "start_time": "2022-04-17T18:52:12.486Z"
   },
   {
    "duration": 325,
    "start_time": "2022-04-17T18:52:12.583Z"
   },
   {
    "duration": 546,
    "start_time": "2022-04-17T18:52:12.911Z"
   },
   {
    "duration": 393,
    "start_time": "2022-04-17T18:52:13.460Z"
   },
   {
    "duration": 114,
    "start_time": "2022-04-17T18:52:13.855Z"
   },
   {
    "duration": 99,
    "start_time": "2022-04-17T18:52:13.971Z"
   },
   {
    "duration": 38,
    "start_time": "2022-04-17T18:52:14.074Z"
   },
   {
    "duration": 195,
    "start_time": "2022-04-17T18:52:14.114Z"
   },
   {
    "duration": 151,
    "start_time": "2022-04-17T18:52:14.311Z"
   },
   {
    "duration": 40,
    "start_time": "2022-04-17T18:52:14.465Z"
   },
   {
    "duration": 64,
    "start_time": "2022-04-17T18:52:14.508Z"
   },
   {
    "duration": 47,
    "start_time": "2022-04-17T18:52:14.575Z"
   },
   {
    "duration": 56,
    "start_time": "2022-04-17T18:52:14.624Z"
   },
   {
    "duration": 43,
    "start_time": "2022-04-17T18:52:14.682Z"
   },
   {
    "duration": 42,
    "start_time": "2022-04-17T18:52:14.752Z"
   },
   {
    "duration": 467,
    "start_time": "2022-04-17T18:52:14.797Z"
   },
   {
    "duration": 5,
    "start_time": "2022-04-17T18:52:15.267Z"
   },
   {
    "duration": 8156,
    "start_time": "2022-04-17T18:52:15.274Z"
   },
   {
    "duration": 229,
    "start_time": "2022-04-17T18:52:23.432Z"
   },
   {
    "duration": 17593,
    "start_time": "2022-04-17T18:52:23.664Z"
   },
   {
    "duration": 1134,
    "start_time": "2022-04-17T18:52:41.260Z"
   },
   {
    "duration": 283,
    "start_time": "2022-04-17T18:52:42.397Z"
   },
   {
    "duration": 90,
    "start_time": "2022-04-17T18:54:21.693Z"
   },
   {
    "duration": 1052,
    "start_time": "2022-04-17T18:54:28.966Z"
   },
   {
    "duration": 1127,
    "start_time": "2022-04-17T18:54:44.877Z"
   },
   {
    "duration": 1065,
    "start_time": "2022-04-17T18:55:06.706Z"
   },
   {
    "duration": 2092,
    "start_time": "2022-04-17T18:55:23.055Z"
   },
   {
    "duration": 1997,
    "start_time": "2022-04-17T18:55:37.647Z"
   },
   {
    "duration": 2197,
    "start_time": "2022-04-17T18:56:52.757Z"
   },
   {
    "duration": 1140,
    "start_time": "2022-04-17T18:56:54.957Z"
   },
   {
    "duration": 114,
    "start_time": "2022-04-17T18:56:56.100Z"
   },
   {
    "duration": 74,
    "start_time": "2022-04-17T18:56:56.216Z"
   },
   {
    "duration": 335,
    "start_time": "2022-04-17T18:56:56.294Z"
   },
   {
    "duration": 562,
    "start_time": "2022-04-17T18:56:56.632Z"
   },
   {
    "duration": 400,
    "start_time": "2022-04-17T18:56:57.196Z"
   },
   {
    "duration": 108,
    "start_time": "2022-04-17T18:56:57.599Z"
   },
   {
    "duration": 109,
    "start_time": "2022-04-17T18:56:57.710Z"
   },
   {
    "duration": 55,
    "start_time": "2022-04-17T18:56:57.822Z"
   },
   {
    "duration": 155,
    "start_time": "2022-04-17T18:56:57.880Z"
   },
   {
    "duration": 148,
    "start_time": "2022-04-17T18:56:58.039Z"
   },
   {
    "duration": 42,
    "start_time": "2022-04-17T18:56:58.190Z"
   },
   {
    "duration": 43,
    "start_time": "2022-04-17T18:56:58.254Z"
   },
   {
    "duration": 87,
    "start_time": "2022-04-17T18:56:58.300Z"
   },
   {
    "duration": 43,
    "start_time": "2022-04-17T18:56:58.389Z"
   },
   {
    "duration": 57,
    "start_time": "2022-04-17T18:56:58.435Z"
   },
   {
    "duration": 69,
    "start_time": "2022-04-17T18:56:58.494Z"
   },
   {
    "duration": 406,
    "start_time": "2022-04-17T18:56:58.566Z"
   },
   {
    "duration": 5,
    "start_time": "2022-04-17T18:56:58.975Z"
   },
   {
    "duration": 7424,
    "start_time": "2022-04-17T18:56:58.983Z"
   },
   {
    "duration": 143,
    "start_time": "2022-04-17T18:57:06.409Z"
   },
   {
    "duration": 11502,
    "start_time": "2022-04-17T18:57:06.555Z"
   },
   {
    "duration": 756,
    "start_time": "2022-04-17T18:57:18.059Z"
   },
   {
    "duration": 2528,
    "start_time": "2022-04-17T18:57:18.818Z"
   },
   {
    "duration": 2128,
    "start_time": "2022-04-17T18:57:33.506Z"
   },
   {
    "duration": 1735,
    "start_time": "2022-04-17T18:57:52.925Z"
   },
   {
    "duration": 1945,
    "start_time": "2022-04-17T18:58:16.972Z"
   },
   {
    "duration": 2241,
    "start_time": "2022-04-17T18:58:28.951Z"
   },
   {
    "duration": 1113,
    "start_time": "2022-04-17T18:58:31.196Z"
   },
   {
    "duration": 109,
    "start_time": "2022-04-17T18:58:32.311Z"
   },
   {
    "duration": 63,
    "start_time": "2022-04-17T18:58:32.422Z"
   },
   {
    "duration": 320,
    "start_time": "2022-04-17T18:58:32.489Z"
   },
   {
    "duration": 504,
    "start_time": "2022-04-17T18:58:32.811Z"
   },
   {
    "duration": 377,
    "start_time": "2022-04-17T18:58:33.317Z"
   },
   {
    "duration": 109,
    "start_time": "2022-04-17T18:58:33.696Z"
   },
   {
    "duration": 106,
    "start_time": "2022-04-17T18:58:33.807Z"
   },
   {
    "duration": 50,
    "start_time": "2022-04-17T18:58:33.915Z"
   },
   {
    "duration": 227,
    "start_time": "2022-04-17T18:58:33.968Z"
   },
   {
    "duration": 137,
    "start_time": "2022-04-17T18:58:34.198Z"
   },
   {
    "duration": 50,
    "start_time": "2022-04-17T18:58:34.337Z"
   },
   {
    "duration": 60,
    "start_time": "2022-04-17T18:58:34.392Z"
   },
   {
    "duration": 40,
    "start_time": "2022-04-17T18:58:34.454Z"
   },
   {
    "duration": 63,
    "start_time": "2022-04-17T18:58:34.497Z"
   },
   {
    "duration": 43,
    "start_time": "2022-04-17T18:58:34.563Z"
   },
   {
    "duration": 69,
    "start_time": "2022-04-17T18:58:34.609Z"
   },
   {
    "duration": 406,
    "start_time": "2022-04-17T18:58:34.681Z"
   },
   {
    "duration": 6,
    "start_time": "2022-04-17T18:58:35.089Z"
   },
   {
    "duration": 7910,
    "start_time": "2022-04-17T18:58:35.097Z"
   },
   {
    "duration": 242,
    "start_time": "2022-04-17T18:58:43.010Z"
   },
   {
    "duration": 16399,
    "start_time": "2022-04-17T18:58:43.260Z"
   },
   {
    "duration": 747,
    "start_time": "2022-04-17T18:58:59.661Z"
   },
   {
    "duration": 1869,
    "start_time": "2022-04-17T18:59:00.411Z"
   },
   {
    "duration": 2403,
    "start_time": "2022-04-17T19:08:54.970Z"
   },
   {
    "duration": 1282,
    "start_time": "2022-04-17T19:08:57.376Z"
   },
   {
    "duration": 126,
    "start_time": "2022-04-17T19:08:58.661Z"
   },
   {
    "duration": 83,
    "start_time": "2022-04-17T19:08:58.790Z"
   },
   {
    "duration": 467,
    "start_time": "2022-04-17T19:08:58.878Z"
   },
   {
    "duration": 820,
    "start_time": "2022-04-17T19:08:59.351Z"
   },
   {
    "duration": 370,
    "start_time": "2022-04-17T19:09:00.174Z"
   },
   {
    "duration": 117,
    "start_time": "2022-04-17T19:09:00.547Z"
   },
   {
    "duration": 112,
    "start_time": "2022-04-17T19:09:00.667Z"
   },
   {
    "duration": 89,
    "start_time": "2022-04-17T19:09:00.782Z"
   },
   {
    "duration": 222,
    "start_time": "2022-04-17T19:09:00.874Z"
   },
   {
    "duration": 326,
    "start_time": "2022-04-17T19:09:01.099Z"
   },
   {
    "duration": 75,
    "start_time": "2022-04-17T19:09:01.428Z"
   },
   {
    "duration": 88,
    "start_time": "2022-04-17T19:09:01.508Z"
   },
   {
    "duration": 52,
    "start_time": "2022-04-17T19:09:01.599Z"
   },
   {
    "duration": 64,
    "start_time": "2022-04-17T19:09:01.654Z"
   },
   {
    "duration": 66,
    "start_time": "2022-04-17T19:09:01.721Z"
   },
   {
    "duration": 62,
    "start_time": "2022-04-17T19:09:01.789Z"
   },
   {
    "duration": 389,
    "start_time": "2022-04-17T19:09:01.854Z"
   },
   {
    "duration": 9,
    "start_time": "2022-04-17T19:09:02.245Z"
   },
   {
    "duration": 8482,
    "start_time": "2022-04-17T19:09:02.257Z"
   },
   {
    "duration": 305,
    "start_time": "2022-04-17T19:09:10.752Z"
   },
   {
    "duration": 11542,
    "start_time": "2022-04-17T19:09:11.059Z"
   },
   {
    "duration": 737,
    "start_time": "2022-04-17T19:09:22.604Z"
   },
   {
    "duration": 12,
    "start_time": "2022-04-17T19:09:23.344Z"
   },
   {
    "duration": 2902,
    "start_time": "2022-04-17T19:11:02.004Z"
   },
   {
    "duration": 1818,
    "start_time": "2022-04-17T19:11:04.910Z"
   },
   {
    "duration": 149,
    "start_time": "2022-04-17T19:11:06.731Z"
   },
   {
    "duration": 88,
    "start_time": "2022-04-17T19:11:06.885Z"
   },
   {
    "duration": 487,
    "start_time": "2022-04-17T19:11:06.976Z"
   },
   {
    "duration": 499,
    "start_time": "2022-04-17T19:11:07.465Z"
   },
   {
    "duration": 369,
    "start_time": "2022-04-17T19:11:07.966Z"
   },
   {
    "duration": 174,
    "start_time": "2022-04-17T19:11:08.338Z"
   },
   {
    "duration": 168,
    "start_time": "2022-04-17T19:11:08.514Z"
   },
   {
    "duration": 82,
    "start_time": "2022-04-17T19:11:08.686Z"
   },
   {
    "duration": 229,
    "start_time": "2022-04-17T19:11:08.770Z"
   },
   {
    "duration": 208,
    "start_time": "2022-04-17T19:11:09.002Z"
   },
   {
    "duration": 66,
    "start_time": "2022-04-17T19:11:09.212Z"
   },
   {
    "duration": 41,
    "start_time": "2022-04-17T19:11:09.280Z"
   },
   {
    "duration": 93,
    "start_time": "2022-04-17T19:11:09.323Z"
   },
   {
    "duration": 81,
    "start_time": "2022-04-17T19:11:09.419Z"
   },
   {
    "duration": 57,
    "start_time": "2022-04-17T19:11:09.503Z"
   },
   {
    "duration": 44,
    "start_time": "2022-04-17T19:11:09.562Z"
   },
   {
    "duration": 396,
    "start_time": "2022-04-17T19:11:09.609Z"
   },
   {
    "duration": 7,
    "start_time": "2022-04-17T19:11:10.008Z"
   },
   {
    "duration": 7702,
    "start_time": "2022-04-17T19:11:10.017Z"
   },
   {
    "duration": 154,
    "start_time": "2022-04-17T19:11:17.721Z"
   },
   {
    "duration": 11089,
    "start_time": "2022-04-17T19:11:17.951Z"
   },
   {
    "duration": 766,
    "start_time": "2022-04-17T19:11:29.042Z"
   },
   {
    "duration": 186,
    "start_time": "2022-04-17T19:11:29.810Z"
   },
   {
    "duration": 2269,
    "start_time": "2022-04-17T19:14:30.433Z"
   },
   {
    "duration": 1123,
    "start_time": "2022-04-17T19:14:32.705Z"
   },
   {
    "duration": 106,
    "start_time": "2022-04-17T19:14:33.830Z"
   },
   {
    "duration": 60,
    "start_time": "2022-04-17T19:14:33.951Z"
   },
   {
    "duration": 314,
    "start_time": "2022-04-17T19:14:34.014Z"
   },
   {
    "duration": 911,
    "start_time": "2022-04-17T19:14:34.331Z"
   },
   {
    "duration": 382,
    "start_time": "2022-04-17T19:14:35.252Z"
   },
   {
    "duration": 176,
    "start_time": "2022-04-17T19:14:35.637Z"
   },
   {
    "duration": 113,
    "start_time": "2022-04-17T19:14:35.816Z"
   },
   {
    "duration": 48,
    "start_time": "2022-04-17T19:14:35.932Z"
   },
   {
    "duration": 238,
    "start_time": "2022-04-17T19:14:35.982Z"
   },
   {
    "duration": 234,
    "start_time": "2022-04-17T19:14:36.223Z"
   },
   {
    "duration": 72,
    "start_time": "2022-04-17T19:14:36.461Z"
   },
   {
    "duration": 77,
    "start_time": "2022-04-17T19:14:36.553Z"
   },
   {
    "duration": 87,
    "start_time": "2022-04-17T19:14:36.633Z"
   },
   {
    "duration": 66,
    "start_time": "2022-04-17T19:14:36.723Z"
   },
   {
    "duration": 62,
    "start_time": "2022-04-17T19:14:36.792Z"
   },
   {
    "duration": 42,
    "start_time": "2022-04-17T19:14:36.856Z"
   },
   {
    "duration": 406,
    "start_time": "2022-04-17T19:14:36.900Z"
   },
   {
    "duration": 5,
    "start_time": "2022-04-17T19:14:37.308Z"
   },
   {
    "duration": 7625,
    "start_time": "2022-04-17T19:14:37.315Z"
   },
   {
    "duration": 211,
    "start_time": "2022-04-17T19:14:44.942Z"
   },
   {
    "duration": 11140,
    "start_time": "2022-04-17T19:14:45.157Z"
   },
   {
    "duration": 753,
    "start_time": "2022-04-17T19:14:56.299Z"
   },
   {
    "duration": 201,
    "start_time": "2022-04-17T19:14:57.054Z"
   },
   {
    "duration": 90,
    "start_time": "2022-04-17T19:15:42.007Z"
   },
   {
    "duration": 2296,
    "start_time": "2022-04-17T19:17:13.240Z"
   },
   {
    "duration": 1159,
    "start_time": "2022-04-17T19:17:15.539Z"
   },
   {
    "duration": 121,
    "start_time": "2022-04-17T19:17:16.700Z"
   },
   {
    "duration": 71,
    "start_time": "2022-04-17T19:17:16.826Z"
   },
   {
    "duration": 323,
    "start_time": "2022-04-17T19:17:16.900Z"
   },
   {
    "duration": 537,
    "start_time": "2022-04-17T19:17:17.225Z"
   },
   {
    "duration": 398,
    "start_time": "2022-04-17T19:17:17.764Z"
   },
   {
    "duration": 113,
    "start_time": "2022-04-17T19:17:18.164Z"
   },
   {
    "duration": 109,
    "start_time": "2022-04-17T19:17:18.280Z"
   },
   {
    "duration": 66,
    "start_time": "2022-04-17T19:17:18.393Z"
   },
   {
    "duration": 157,
    "start_time": "2022-04-17T19:17:18.461Z"
   },
   {
    "duration": 143,
    "start_time": "2022-04-17T19:17:18.621Z"
   },
   {
    "duration": 51,
    "start_time": "2022-04-17T19:17:18.767Z"
   },
   {
    "duration": 75,
    "start_time": "2022-04-17T19:17:18.820Z"
   },
   {
    "duration": 74,
    "start_time": "2022-04-17T19:17:18.897Z"
   },
   {
    "duration": 55,
    "start_time": "2022-04-17T19:17:18.973Z"
   },
   {
    "duration": 47,
    "start_time": "2022-04-17T19:17:19.030Z"
   },
   {
    "duration": 41,
    "start_time": "2022-04-17T19:17:19.079Z"
   },
   {
    "duration": 406,
    "start_time": "2022-04-17T19:17:19.122Z"
   },
   {
    "duration": 20,
    "start_time": "2022-04-17T19:17:19.531Z"
   },
   {
    "duration": 8474,
    "start_time": "2022-04-17T19:17:19.554Z"
   },
   {
    "duration": 151,
    "start_time": "2022-04-17T19:17:28.031Z"
   },
   {
    "duration": 13725,
    "start_time": "2022-04-17T19:17:28.184Z"
   },
   {
    "duration": 1085,
    "start_time": "2022-04-17T19:17:41.912Z"
   },
   {
    "duration": 58567,
    "start_time": "2022-04-17T19:17:43.000Z"
   },
   {
    "duration": 2264,
    "start_time": "2022-04-17T19:24:33.110Z"
   },
   {
    "duration": 1152,
    "start_time": "2022-04-17T19:24:35.377Z"
   },
   {
    "duration": 101,
    "start_time": "2022-04-17T19:24:36.531Z"
   },
   {
    "duration": 71,
    "start_time": "2022-04-17T19:24:36.633Z"
   },
   {
    "duration": 298,
    "start_time": "2022-04-17T19:24:36.707Z"
   },
   {
    "duration": 507,
    "start_time": "2022-04-17T19:24:37.008Z"
   },
   {
    "duration": 369,
    "start_time": "2022-04-17T19:24:37.517Z"
   },
   {
    "duration": 105,
    "start_time": "2022-04-17T19:24:37.888Z"
   },
   {
    "duration": 107,
    "start_time": "2022-04-17T19:24:37.994Z"
   },
   {
    "duration": 53,
    "start_time": "2022-04-17T19:24:38.104Z"
   },
   {
    "duration": 247,
    "start_time": "2022-04-17T19:24:38.160Z"
   },
   {
    "duration": 223,
    "start_time": "2022-04-17T19:24:38.410Z"
   },
   {
    "duration": 77,
    "start_time": "2022-04-17T19:24:38.636Z"
   },
   {
    "duration": 54,
    "start_time": "2022-04-17T19:24:38.717Z"
   },
   {
    "duration": 41,
    "start_time": "2022-04-17T19:24:38.773Z"
   },
   {
    "duration": 64,
    "start_time": "2022-04-17T19:24:38.817Z"
   },
   {
    "duration": 42,
    "start_time": "2022-04-17T19:24:38.884Z"
   },
   {
    "duration": 65,
    "start_time": "2022-04-17T19:24:38.928Z"
   },
   {
    "duration": 404,
    "start_time": "2022-04-17T19:24:38.996Z"
   },
   {
    "duration": 5,
    "start_time": "2022-04-17T19:24:39.403Z"
   },
   {
    "duration": 8121,
    "start_time": "2022-04-17T19:24:39.411Z"
   },
   {
    "duration": 219,
    "start_time": "2022-04-17T19:24:47.535Z"
   },
   {
    "duration": 12670,
    "start_time": "2022-04-17T19:24:47.758Z"
   },
   {
    "duration": 780,
    "start_time": "2022-04-17T19:25:00.430Z"
   },
   {
    "duration": 2185,
    "start_time": "2022-04-17T19:29:57.892Z"
   },
   {
    "duration": 1123,
    "start_time": "2022-04-17T19:30:00.080Z"
   },
   {
    "duration": 110,
    "start_time": "2022-04-17T19:30:01.205Z"
   },
   {
    "duration": 68,
    "start_time": "2022-04-17T19:30:01.318Z"
   },
   {
    "duration": 315,
    "start_time": "2022-04-17T19:30:01.388Z"
   },
   {
    "duration": 520,
    "start_time": "2022-04-17T19:30:01.705Z"
   },
   {
    "duration": 380,
    "start_time": "2022-04-17T19:30:02.228Z"
   },
   {
    "duration": 111,
    "start_time": "2022-04-17T19:30:02.610Z"
   },
   {
    "duration": 115,
    "start_time": "2022-04-17T19:30:02.724Z"
   },
   {
    "duration": 47,
    "start_time": "2022-04-17T19:30:02.844Z"
   },
   {
    "duration": 160,
    "start_time": "2022-04-17T19:30:02.894Z"
   },
   {
    "duration": 136,
    "start_time": "2022-04-17T19:30:03.056Z"
   },
   {
    "duration": 40,
    "start_time": "2022-04-17T19:30:03.194Z"
   },
   {
    "duration": 41,
    "start_time": "2022-04-17T19:30:03.252Z"
   },
   {
    "duration": 63,
    "start_time": "2022-04-17T19:30:03.295Z"
   },
   {
    "duration": 43,
    "start_time": "2022-04-17T19:30:03.361Z"
   },
   {
    "duration": 62,
    "start_time": "2022-04-17T19:30:03.406Z"
   },
   {
    "duration": 41,
    "start_time": "2022-04-17T19:30:03.470Z"
   },
   {
    "duration": 691,
    "start_time": "2022-04-17T19:30:03.514Z"
   },
   {
    "duration": 6,
    "start_time": "2022-04-17T19:30:04.208Z"
   },
   {
    "duration": 7419,
    "start_time": "2022-04-17T19:30:04.217Z"
   },
   {
    "duration": 221,
    "start_time": "2022-04-17T19:30:11.638Z"
   },
   {
    "duration": 11272,
    "start_time": "2022-04-17T19:30:11.862Z"
   },
   {
    "duration": 768,
    "start_time": "2022-04-17T19:30:23.137Z"
   },
   {
    "duration": 189,
    "start_time": "2022-04-17T19:30:23.907Z"
   },
   {
    "duration": 2804,
    "start_time": "2022-04-17T19:30:35.616Z"
   },
   {
    "duration": 1090,
    "start_time": "2022-04-17T19:30:38.423Z"
   },
   {
    "duration": 149,
    "start_time": "2022-04-17T19:30:39.516Z"
   },
   {
    "duration": 63,
    "start_time": "2022-04-17T19:30:39.667Z"
   },
   {
    "duration": 291,
    "start_time": "2022-04-17T19:30:39.754Z"
   },
   {
    "duration": 507,
    "start_time": "2022-04-17T19:30:40.047Z"
   },
   {
    "duration": 498,
    "start_time": "2022-04-17T19:30:40.556Z"
   },
   {
    "duration": 202,
    "start_time": "2022-04-17T19:30:41.057Z"
   },
   {
    "duration": 189,
    "start_time": "2022-04-17T19:30:41.262Z"
   },
   {
    "duration": 70,
    "start_time": "2022-04-17T19:30:41.454Z"
   },
   {
    "duration": 159,
    "start_time": "2022-04-17T19:30:41.527Z"
   },
   {
    "duration": 149,
    "start_time": "2022-04-17T19:30:41.688Z"
   },
   {
    "duration": 47,
    "start_time": "2022-04-17T19:30:41.839Z"
   },
   {
    "duration": 63,
    "start_time": "2022-04-17T19:30:41.890Z"
   },
   {
    "duration": 60,
    "start_time": "2022-04-17T19:30:41.955Z"
   },
   {
    "duration": 79,
    "start_time": "2022-04-17T19:30:42.018Z"
   },
   {
    "duration": 72,
    "start_time": "2022-04-17T19:30:42.100Z"
   },
   {
    "duration": 42,
    "start_time": "2022-04-17T19:30:42.174Z"
   },
   {
    "duration": 402,
    "start_time": "2022-04-17T19:30:42.219Z"
   },
   {
    "duration": 6,
    "start_time": "2022-04-17T19:30:42.624Z"
   },
   {
    "duration": 7444,
    "start_time": "2022-04-17T19:30:42.632Z"
   },
   {
    "duration": 204,
    "start_time": "2022-04-17T19:30:50.078Z"
   },
   {
    "duration": 11607,
    "start_time": "2022-04-17T19:30:50.284Z"
   },
   {
    "duration": 786,
    "start_time": "2022-04-17T19:31:01.894Z"
   },
   {
    "duration": 1349,
    "start_time": "2022-04-17T19:31:02.683Z"
   },
   {
    "duration": 42,
    "start_time": "2022-04-18T00:03:37.735Z"
   },
   {
    "duration": 1747,
    "start_time": "2022-04-18T00:06:50.346Z"
   },
   {
    "duration": 1316,
    "start_time": "2022-04-18T00:06:52.096Z"
   },
   {
    "duration": 111,
    "start_time": "2022-04-18T00:06:53.414Z"
   },
   {
    "duration": 42,
    "start_time": "2022-04-18T00:06:53.528Z"
   },
   {
    "duration": 198,
    "start_time": "2022-04-18T00:06:53.571Z"
   },
   {
    "duration": 310,
    "start_time": "2022-04-18T00:06:53.771Z"
   },
   {
    "duration": 230,
    "start_time": "2022-04-18T00:06:54.082Z"
   },
   {
    "duration": 67,
    "start_time": "2022-04-18T00:06:54.313Z"
   },
   {
    "duration": 85,
    "start_time": "2022-04-18T00:06:54.382Z"
   },
   {
    "duration": 47,
    "start_time": "2022-04-18T00:06:54.470Z"
   },
   {
    "duration": 101,
    "start_time": "2022-04-18T00:06:54.518Z"
   },
   {
    "duration": 75,
    "start_time": "2022-04-18T00:06:54.621Z"
   },
   {
    "duration": 38,
    "start_time": "2022-04-18T00:06:54.697Z"
   },
   {
    "duration": 57,
    "start_time": "2022-04-18T00:06:54.737Z"
   },
   {
    "duration": 46,
    "start_time": "2022-04-18T00:06:54.796Z"
   },
   {
    "duration": 47,
    "start_time": "2022-04-18T00:06:54.843Z"
   },
   {
    "duration": 50,
    "start_time": "2022-04-18T00:06:54.892Z"
   },
   {
    "duration": 29,
    "start_time": "2022-04-18T00:06:54.944Z"
   },
   {
    "duration": 219,
    "start_time": "2022-04-18T00:06:54.975Z"
   },
   {
    "duration": 4,
    "start_time": "2022-04-18T00:06:55.196Z"
   },
   {
    "duration": 7444,
    "start_time": "2022-04-18T00:06:55.202Z"
   },
   {
    "duration": 180,
    "start_time": "2022-04-18T00:07:02.648Z"
   },
   {
    "duration": 12889,
    "start_time": "2022-04-18T00:07:02.831Z"
   },
   {
    "duration": 883,
    "start_time": "2022-04-18T00:07:15.724Z"
   },
   {
    "duration": 1521,
    "start_time": "2022-04-18T00:07:16.609Z"
   },
   {
    "duration": 1711,
    "start_time": "2022-04-18T00:12:55.300Z"
   },
   {
    "duration": 733,
    "start_time": "2022-04-18T00:12:57.013Z"
   },
   {
    "duration": 78,
    "start_time": "2022-04-18T00:12:57.747Z"
   },
   {
    "duration": 40,
    "start_time": "2022-04-18T00:12:57.827Z"
   },
   {
    "duration": 219,
    "start_time": "2022-04-18T00:12:57.869Z"
   },
   {
    "duration": 352,
    "start_time": "2022-04-18T00:12:58.089Z"
   },
   {
    "duration": 230,
    "start_time": "2022-04-18T00:12:58.443Z"
   },
   {
    "duration": 72,
    "start_time": "2022-04-18T00:12:58.675Z"
   },
   {
    "duration": 56,
    "start_time": "2022-04-18T00:12:58.748Z"
   },
   {
    "duration": 25,
    "start_time": "2022-04-18T00:12:58.824Z"
   },
   {
    "duration": 107,
    "start_time": "2022-04-18T00:12:58.850Z"
   },
   {
    "duration": 89,
    "start_time": "2022-04-18T00:12:58.958Z"
   },
   {
    "duration": 25,
    "start_time": "2022-04-18T00:12:59.049Z"
   },
   {
    "duration": 29,
    "start_time": "2022-04-18T00:12:59.076Z"
   },
   {
    "duration": 38,
    "start_time": "2022-04-18T00:12:59.106Z"
   },
   {
    "duration": 29,
    "start_time": "2022-04-18T00:12:59.146Z"
   },
   {
    "duration": 25,
    "start_time": "2022-04-18T00:12:59.176Z"
   },
   {
    "duration": 43,
    "start_time": "2022-04-18T00:12:59.203Z"
   },
   {
    "duration": 228,
    "start_time": "2022-04-18T00:12:59.247Z"
   },
   {
    "duration": 4,
    "start_time": "2022-04-18T00:12:59.477Z"
   },
   {
    "duration": 6368,
    "start_time": "2022-04-18T00:12:59.482Z"
   },
   {
    "duration": 171,
    "start_time": "2022-04-18T00:13:05.852Z"
   },
   {
    "duration": 7679,
    "start_time": "2022-04-18T00:13:06.026Z"
   },
   {
    "duration": 531,
    "start_time": "2022-04-18T00:13:13.706Z"
   },
   {
    "duration": 1350,
    "start_time": "2022-04-18T00:13:14.239Z"
   },
   {
    "duration": 278353,
    "start_time": "2022-04-18T00:13:15.591Z"
   },
   {
    "duration": 1719,
    "start_time": "2022-04-18T00:18:29.138Z"
   },
   {
    "duration": 752,
    "start_time": "2022-04-18T00:18:30.860Z"
   },
   {
    "duration": 73,
    "start_time": "2022-04-18T00:18:31.613Z"
   },
   {
    "duration": 61,
    "start_time": "2022-04-18T00:18:31.688Z"
   },
   {
    "duration": 208,
    "start_time": "2022-04-18T00:18:31.752Z"
   },
   {
    "duration": 304,
    "start_time": "2022-04-18T00:18:31.963Z"
   },
   {
    "duration": 227,
    "start_time": "2022-04-18T00:18:32.269Z"
   },
   {
    "duration": 65,
    "start_time": "2022-04-18T00:18:32.498Z"
   },
   {
    "duration": 65,
    "start_time": "2022-04-18T00:18:32.565Z"
   },
   {
    "duration": 24,
    "start_time": "2022-04-18T00:18:32.632Z"
   },
   {
    "duration": 100,
    "start_time": "2022-04-18T00:18:32.657Z"
   },
   {
    "duration": 87,
    "start_time": "2022-04-18T00:18:32.758Z"
   },
   {
    "duration": 25,
    "start_time": "2022-04-18T00:18:32.846Z"
   },
   {
    "duration": 26,
    "start_time": "2022-04-18T00:18:32.875Z"
   },
   {
    "duration": 44,
    "start_time": "2022-04-18T00:18:32.903Z"
   },
   {
    "duration": 29,
    "start_time": "2022-04-18T00:18:32.949Z"
   },
   {
    "duration": 51,
    "start_time": "2022-04-18T00:18:32.979Z"
   },
   {
    "duration": 27,
    "start_time": "2022-04-18T00:18:33.031Z"
   },
   {
    "duration": 226,
    "start_time": "2022-04-18T00:18:33.060Z"
   },
   {
    "duration": 4,
    "start_time": "2022-04-18T00:18:33.287Z"
   },
   {
    "duration": 6461,
    "start_time": "2022-04-18T00:18:33.293Z"
   },
   {
    "duration": 177,
    "start_time": "2022-04-18T00:18:39.755Z"
   },
   {
    "duration": 7984,
    "start_time": "2022-04-18T00:18:39.935Z"
   },
   {
    "duration": 689,
    "start_time": "2022-04-18T00:18:47.923Z"
   },
   {
    "duration": 1301,
    "start_time": "2022-04-18T00:18:48.613Z"
   },
   {
    "duration": 130010,
    "start_time": "2022-04-18T00:18:49.916Z"
   },
   {
    "duration": 1663,
    "start_time": "2022-04-18T00:30:35.294Z"
   },
   {
    "duration": 699,
    "start_time": "2022-04-18T00:30:36.960Z"
   },
   {
    "duration": 74,
    "start_time": "2022-04-18T00:30:37.661Z"
   },
   {
    "duration": 40,
    "start_time": "2022-04-18T00:30:37.738Z"
   },
   {
    "duration": 198,
    "start_time": "2022-04-18T00:30:37.780Z"
   },
   {
    "duration": 305,
    "start_time": "2022-04-18T00:30:37.980Z"
   },
   {
    "duration": 226,
    "start_time": "2022-04-18T00:30:38.287Z"
   },
   {
    "duration": 65,
    "start_time": "2022-04-18T00:30:38.515Z"
   },
   {
    "duration": 67,
    "start_time": "2022-04-18T00:30:38.582Z"
   },
   {
    "duration": 23,
    "start_time": "2022-04-18T00:30:38.653Z"
   },
   {
    "duration": 99,
    "start_time": "2022-04-18T00:30:38.678Z"
   },
   {
    "duration": 89,
    "start_time": "2022-04-18T00:30:38.779Z"
   },
   {
    "duration": 23,
    "start_time": "2022-04-18T00:30:38.869Z"
   },
   {
    "duration": 41,
    "start_time": "2022-04-18T00:30:38.894Z"
   },
   {
    "duration": 24,
    "start_time": "2022-04-18T00:30:38.936Z"
   },
   {
    "duration": 26,
    "start_time": "2022-04-18T00:30:38.962Z"
   },
   {
    "duration": 48,
    "start_time": "2022-04-18T00:30:38.990Z"
   },
   {
    "duration": 30,
    "start_time": "2022-04-18T00:30:39.040Z"
   },
   {
    "duration": 254,
    "start_time": "2022-04-18T00:30:39.071Z"
   },
   {
    "duration": 4,
    "start_time": "2022-04-18T00:30:39.327Z"
   },
   {
    "duration": 7008,
    "start_time": "2022-04-18T00:30:39.332Z"
   },
   {
    "duration": 101,
    "start_time": "2022-04-18T00:30:46.341Z"
   },
   {
    "duration": 7991,
    "start_time": "2022-04-18T00:30:46.444Z"
   },
   {
    "duration": 528,
    "start_time": "2022-04-18T00:30:54.436Z"
   },
   {
    "duration": 1351,
    "start_time": "2022-04-18T00:30:54.966Z"
   },
   {
    "duration": 120467,
    "start_time": "2022-04-18T00:30:56.319Z"
   },
   {
    "duration": 52845,
    "start_time": "2022-04-18T00:32:56.788Z"
   },
   {
    "duration": 1865,
    "start_time": "2022-04-20T00:31:08.702Z"
   },
   {
    "duration": 1057,
    "start_time": "2022-04-20T00:31:10.569Z"
   },
   {
    "duration": 64,
    "start_time": "2022-04-20T00:31:11.628Z"
   },
   {
    "duration": 49,
    "start_time": "2022-04-20T00:31:11.694Z"
   },
   {
    "duration": 182,
    "start_time": "2022-04-20T00:31:11.745Z"
   },
   {
    "duration": 302,
    "start_time": "2022-04-20T00:31:11.929Z"
   },
   {
    "duration": 215,
    "start_time": "2022-04-20T00:31:12.233Z"
   },
   {
    "duration": 59,
    "start_time": "2022-04-20T00:31:12.449Z"
   },
   {
    "duration": 68,
    "start_time": "2022-04-20T00:31:12.509Z"
   },
   {
    "duration": 24,
    "start_time": "2022-04-20T00:31:12.578Z"
   },
   {
    "duration": 101,
    "start_time": "2022-04-20T00:31:12.603Z"
   },
   {
    "duration": 86,
    "start_time": "2022-04-20T00:31:12.706Z"
   },
   {
    "duration": 39,
    "start_time": "2022-04-20T00:31:12.794Z"
   },
   {
    "duration": 37,
    "start_time": "2022-04-20T00:31:12.836Z"
   },
   {
    "duration": 27,
    "start_time": "2022-04-20T00:31:12.874Z"
   },
   {
    "duration": 31,
    "start_time": "2022-04-20T00:31:12.903Z"
   },
   {
    "duration": 24,
    "start_time": "2022-04-20T00:31:12.935Z"
   },
   {
    "duration": 24,
    "start_time": "2022-04-20T00:31:12.961Z"
   },
   {
    "duration": 116,
    "start_time": "2022-04-20T00:31:12.986Z"
   },
   {
    "duration": 0,
    "start_time": "2022-04-20T00:31:13.103Z"
   },
   {
    "duration": 0,
    "start_time": "2022-04-20T00:31:13.104Z"
   },
   {
    "duration": 0,
    "start_time": "2022-04-20T00:31:13.105Z"
   },
   {
    "duration": 0,
    "start_time": "2022-04-20T00:31:13.106Z"
   },
   {
    "duration": 0,
    "start_time": "2022-04-20T00:31:13.107Z"
   },
   {
    "duration": 0,
    "start_time": "2022-04-20T00:31:13.123Z"
   },
   {
    "duration": 0,
    "start_time": "2022-04-20T00:31:13.124Z"
   },
   {
    "duration": 0,
    "start_time": "2022-04-20T00:31:13.125Z"
   },
   {
    "duration": 1569,
    "start_time": "2022-04-20T00:32:06.985Z"
   },
   {
    "duration": 785,
    "start_time": "2022-04-20T00:32:08.556Z"
   },
   {
    "duration": 63,
    "start_time": "2022-04-20T00:32:09.343Z"
   },
   {
    "duration": 49,
    "start_time": "2022-04-20T00:32:09.408Z"
   },
   {
    "duration": 194,
    "start_time": "2022-04-20T00:32:09.459Z"
   },
   {
    "duration": 324,
    "start_time": "2022-04-20T00:32:09.654Z"
   },
   {
    "duration": 217,
    "start_time": "2022-04-20T00:32:09.980Z"
   },
   {
    "duration": 65,
    "start_time": "2022-04-20T00:32:10.199Z"
   },
   {
    "duration": 61,
    "start_time": "2022-04-20T00:32:10.266Z"
   },
   {
    "duration": 25,
    "start_time": "2022-04-20T00:32:10.329Z"
   },
   {
    "duration": 99,
    "start_time": "2022-04-20T00:32:10.355Z"
   },
   {
    "duration": 79,
    "start_time": "2022-04-20T00:32:10.456Z"
   },
   {
    "duration": 24,
    "start_time": "2022-04-20T00:32:10.537Z"
   },
   {
    "duration": 26,
    "start_time": "2022-04-20T00:32:10.564Z"
   },
   {
    "duration": 44,
    "start_time": "2022-04-20T00:32:10.591Z"
   },
   {
    "duration": 27,
    "start_time": "2022-04-20T00:32:10.637Z"
   },
   {
    "duration": 23,
    "start_time": "2022-04-20T00:32:10.665Z"
   },
   {
    "duration": 45,
    "start_time": "2022-04-20T00:32:10.689Z"
   },
   {
    "duration": 111,
    "start_time": "2022-04-20T00:32:10.735Z"
   },
   {
    "duration": 0,
    "start_time": "2022-04-20T00:32:10.848Z"
   },
   {
    "duration": 0,
    "start_time": "2022-04-20T00:32:10.849Z"
   },
   {
    "duration": 0,
    "start_time": "2022-04-20T00:32:10.850Z"
   },
   {
    "duration": 0,
    "start_time": "2022-04-20T00:32:10.850Z"
   },
   {
    "duration": 0,
    "start_time": "2022-04-20T00:32:10.851Z"
   },
   {
    "duration": 0,
    "start_time": "2022-04-20T00:32:10.852Z"
   },
   {
    "duration": 1,
    "start_time": "2022-04-20T00:32:10.852Z"
   },
   {
    "duration": 0,
    "start_time": "2022-04-20T00:32:10.853Z"
   },
   {
    "duration": 1484,
    "start_time": "2022-04-20T00:33:05.976Z"
   },
   {
    "duration": 686,
    "start_time": "2022-04-20T00:33:07.462Z"
   },
   {
    "duration": 61,
    "start_time": "2022-04-20T00:33:08.149Z"
   },
   {
    "duration": 46,
    "start_time": "2022-04-20T00:33:08.212Z"
   },
   {
    "duration": 205,
    "start_time": "2022-04-20T00:33:08.260Z"
   },
   {
    "duration": 330,
    "start_time": "2022-04-20T00:33:08.467Z"
   },
   {
    "duration": 221,
    "start_time": "2022-04-20T00:33:08.798Z"
   },
   {
    "duration": 63,
    "start_time": "2022-04-20T00:33:09.020Z"
   },
   {
    "duration": 66,
    "start_time": "2022-04-20T00:33:09.084Z"
   },
   {
    "duration": 22,
    "start_time": "2022-04-20T00:33:09.152Z"
   },
   {
    "duration": 99,
    "start_time": "2022-04-20T00:33:09.176Z"
   },
   {
    "duration": 78,
    "start_time": "2022-04-20T00:33:09.277Z"
   },
   {
    "duration": 23,
    "start_time": "2022-04-20T00:33:09.357Z"
   },
   {
    "duration": 23,
    "start_time": "2022-04-20T00:33:09.383Z"
   },
   {
    "duration": 37,
    "start_time": "2022-04-20T00:33:09.408Z"
   },
   {
    "duration": 26,
    "start_time": "2022-04-20T00:33:09.447Z"
   },
   {
    "duration": 23,
    "start_time": "2022-04-20T00:33:09.475Z"
   },
   {
    "duration": 42,
    "start_time": "2022-04-20T00:33:09.500Z"
   },
   {
    "duration": 121,
    "start_time": "2022-04-20T00:33:09.544Z"
   },
   {
    "duration": 0,
    "start_time": "2022-04-20T00:33:09.667Z"
   },
   {
    "duration": 0,
    "start_time": "2022-04-20T00:33:09.669Z"
   },
   {
    "duration": 0,
    "start_time": "2022-04-20T00:33:09.670Z"
   },
   {
    "duration": 0,
    "start_time": "2022-04-20T00:33:09.671Z"
   },
   {
    "duration": 0,
    "start_time": "2022-04-20T00:33:09.672Z"
   },
   {
    "duration": 0,
    "start_time": "2022-04-20T00:33:09.673Z"
   },
   {
    "duration": 0,
    "start_time": "2022-04-20T00:33:09.675Z"
   },
   {
    "duration": 0,
    "start_time": "2022-04-20T00:33:09.676Z"
   },
   {
    "duration": 1565,
    "start_time": "2022-04-20T00:33:26.104Z"
   },
   {
    "duration": 702,
    "start_time": "2022-04-20T00:33:27.671Z"
   },
   {
    "duration": 76,
    "start_time": "2022-04-20T00:33:28.375Z"
   },
   {
    "duration": 40,
    "start_time": "2022-04-20T00:33:28.453Z"
   },
   {
    "duration": 202,
    "start_time": "2022-04-20T00:33:28.495Z"
   },
   {
    "duration": 302,
    "start_time": "2022-04-20T00:33:28.699Z"
   },
   {
    "duration": 222,
    "start_time": "2022-04-20T00:33:29.004Z"
   },
   {
    "duration": 63,
    "start_time": "2022-04-20T00:33:29.228Z"
   },
   {
    "duration": 68,
    "start_time": "2022-04-20T00:33:29.293Z"
   },
   {
    "duration": 30,
    "start_time": "2022-04-20T00:33:29.364Z"
   },
   {
    "duration": 92,
    "start_time": "2022-04-20T00:33:29.395Z"
   },
   {
    "duration": 85,
    "start_time": "2022-04-20T00:33:29.489Z"
   },
   {
    "duration": 25,
    "start_time": "2022-04-20T00:33:29.576Z"
   },
   {
    "duration": 41,
    "start_time": "2022-04-20T00:33:29.603Z"
   },
   {
    "duration": 25,
    "start_time": "2022-04-20T00:33:29.647Z"
   },
   {
    "duration": 26,
    "start_time": "2022-04-20T00:33:29.674Z"
   },
   {
    "duration": 43,
    "start_time": "2022-04-20T00:33:29.702Z"
   },
   {
    "duration": 26,
    "start_time": "2022-04-20T00:33:29.747Z"
   },
   {
    "duration": 130,
    "start_time": "2022-04-20T00:33:29.775Z"
   },
   {
    "duration": 0,
    "start_time": "2022-04-20T00:33:29.906Z"
   },
   {
    "duration": 0,
    "start_time": "2022-04-20T00:33:29.907Z"
   },
   {
    "duration": 0,
    "start_time": "2022-04-20T00:33:29.908Z"
   },
   {
    "duration": 0,
    "start_time": "2022-04-20T00:33:29.909Z"
   },
   {
    "duration": 0,
    "start_time": "2022-04-20T00:33:29.910Z"
   },
   {
    "duration": 0,
    "start_time": "2022-04-20T00:33:29.923Z"
   },
   {
    "duration": 0,
    "start_time": "2022-04-20T00:33:29.924Z"
   },
   {
    "duration": 0,
    "start_time": "2022-04-20T00:33:29.925Z"
   },
   {
    "duration": 463,
    "start_time": "2022-04-20T00:37:53.810Z"
   },
   {
    "duration": 1511,
    "start_time": "2022-04-20T00:38:03.069Z"
   },
   {
    "duration": 683,
    "start_time": "2022-04-20T00:38:04.582Z"
   },
   {
    "duration": 67,
    "start_time": "2022-04-20T00:38:05.266Z"
   },
   {
    "duration": 38,
    "start_time": "2022-04-20T00:38:05.334Z"
   },
   {
    "duration": 238,
    "start_time": "2022-04-20T00:38:05.374Z"
   },
   {
    "duration": 430,
    "start_time": "2022-04-20T00:38:05.614Z"
   },
   {
    "duration": 221,
    "start_time": "2022-04-20T00:38:06.046Z"
   },
   {
    "duration": 65,
    "start_time": "2022-04-20T00:38:06.268Z"
   },
   {
    "duration": 53,
    "start_time": "2022-04-20T00:38:06.335Z"
   },
   {
    "duration": 37,
    "start_time": "2022-04-20T00:38:06.390Z"
   },
   {
    "duration": 96,
    "start_time": "2022-04-20T00:38:06.428Z"
   },
   {
    "duration": 73,
    "start_time": "2022-04-20T00:38:06.525Z"
   },
   {
    "duration": 38,
    "start_time": "2022-04-20T00:38:06.600Z"
   },
   {
    "duration": 30,
    "start_time": "2022-04-20T00:38:06.641Z"
   },
   {
    "duration": 24,
    "start_time": "2022-04-20T00:38:06.673Z"
   },
   {
    "duration": 44,
    "start_time": "2022-04-20T00:38:06.698Z"
   },
   {
    "duration": 25,
    "start_time": "2022-04-20T00:38:06.744Z"
   },
   {
    "duration": 23,
    "start_time": "2022-04-20T00:38:06.771Z"
   },
   {
    "duration": 576,
    "start_time": "2022-04-20T00:38:06.796Z"
   },
   {
    "duration": 0,
    "start_time": "2022-04-20T00:38:07.374Z"
   },
   {
    "duration": 0,
    "start_time": "2022-04-20T00:38:07.375Z"
   },
   {
    "duration": 0,
    "start_time": "2022-04-20T00:38:07.376Z"
   },
   {
    "duration": 0,
    "start_time": "2022-04-20T00:38:07.377Z"
   },
   {
    "duration": 0,
    "start_time": "2022-04-20T00:38:07.378Z"
   },
   {
    "duration": 0,
    "start_time": "2022-04-20T00:38:07.379Z"
   },
   {
    "duration": 0,
    "start_time": "2022-04-20T00:38:07.380Z"
   },
   {
    "duration": 0,
    "start_time": "2022-04-20T00:38:07.381Z"
   },
   {
    "duration": 0,
    "start_time": "2022-04-20T00:38:07.382Z"
   },
   {
    "duration": 25,
    "start_time": "2022-04-20T00:39:36.765Z"
   },
   {
    "duration": 247,
    "start_time": "2022-04-20T00:42:06.031Z"
   },
   {
    "duration": 1507,
    "start_time": "2022-04-20T00:42:17.360Z"
   },
   {
    "duration": 708,
    "start_time": "2022-04-20T00:42:18.869Z"
   },
   {
    "duration": 73,
    "start_time": "2022-04-20T00:42:19.579Z"
   },
   {
    "duration": 39,
    "start_time": "2022-04-20T00:42:19.654Z"
   },
   {
    "duration": 198,
    "start_time": "2022-04-20T00:42:19.695Z"
   },
   {
    "duration": 322,
    "start_time": "2022-04-20T00:42:19.894Z"
   },
   {
    "duration": 223,
    "start_time": "2022-04-20T00:42:20.218Z"
   },
   {
    "duration": 60,
    "start_time": "2022-04-20T00:42:20.443Z"
   },
   {
    "duration": 66,
    "start_time": "2022-04-20T00:42:20.505Z"
   },
   {
    "duration": 26,
    "start_time": "2022-04-20T00:42:20.572Z"
   },
   {
    "duration": 93,
    "start_time": "2022-04-20T00:42:20.600Z"
   },
   {
    "duration": 83,
    "start_time": "2022-04-20T00:42:20.694Z"
   },
   {
    "duration": 22,
    "start_time": "2022-04-20T00:42:20.778Z"
   },
   {
    "duration": 40,
    "start_time": "2022-04-20T00:42:20.803Z"
   },
   {
    "duration": 32,
    "start_time": "2022-04-20T00:42:20.845Z"
   },
   {
    "duration": 42,
    "start_time": "2022-04-20T00:42:20.878Z"
   },
   {
    "duration": 27,
    "start_time": "2022-04-20T00:42:20.922Z"
   },
   {
    "duration": 25,
    "start_time": "2022-04-20T00:42:20.951Z"
   },
   {
    "duration": 288,
    "start_time": "2022-04-20T00:42:20.978Z"
   },
   {
    "duration": 2,
    "start_time": "2022-04-20T00:42:21.267Z"
   },
   {
    "duration": 11,
    "start_time": "2022-04-20T00:42:21.271Z"
   },
   {
    "duration": 6457,
    "start_time": "2022-04-20T00:42:21.284Z"
   },
   {
    "duration": 98,
    "start_time": "2022-04-20T00:42:27.742Z"
   },
   {
    "duration": 7726,
    "start_time": "2022-04-20T00:42:27.843Z"
   },
   {
    "duration": 539,
    "start_time": "2022-04-20T00:42:35.570Z"
   },
   {
    "duration": 1810,
    "start_time": "2022-04-20T00:42:36.111Z"
   },
   {
    "duration": 5722,
    "start_time": "2022-04-20T00:42:37.923Z"
   },
   {
    "duration": 18595,
    "start_time": "2022-04-20T00:42:43.647Z"
   },
   {
    "duration": 1557,
    "start_time": "2022-04-20T00:54:27.207Z"
   },
   {
    "duration": 688,
    "start_time": "2022-04-20T00:54:28.766Z"
   },
   {
    "duration": 71,
    "start_time": "2022-04-20T00:54:29.455Z"
   },
   {
    "duration": 38,
    "start_time": "2022-04-20T00:54:29.528Z"
   },
   {
    "duration": 196,
    "start_time": "2022-04-20T00:54:29.568Z"
   },
   {
    "duration": 300,
    "start_time": "2022-04-20T00:54:29.765Z"
   },
   {
    "duration": 216,
    "start_time": "2022-04-20T00:54:30.067Z"
   },
   {
    "duration": 68,
    "start_time": "2022-04-20T00:54:30.284Z"
   },
   {
    "duration": 54,
    "start_time": "2022-04-20T00:54:30.353Z"
   },
   {
    "duration": 25,
    "start_time": "2022-04-20T00:54:30.423Z"
   },
   {
    "duration": 94,
    "start_time": "2022-04-20T00:54:30.450Z"
   },
   {
    "duration": 84,
    "start_time": "2022-04-20T00:54:30.545Z"
   },
   {
    "duration": 25,
    "start_time": "2022-04-20T00:54:30.631Z"
   },
   {
    "duration": 31,
    "start_time": "2022-04-20T00:54:30.658Z"
   },
   {
    "duration": 36,
    "start_time": "2022-04-20T00:54:30.691Z"
   },
   {
    "duration": 26,
    "start_time": "2022-04-20T00:54:30.729Z"
   },
   {
    "duration": 23,
    "start_time": "2022-04-20T00:54:30.757Z"
   },
   {
    "duration": 45,
    "start_time": "2022-04-20T00:54:30.782Z"
   },
   {
    "duration": 40,
    "start_time": "2022-04-20T00:54:30.828Z"
   },
   {
    "duration": 279,
    "start_time": "2022-04-20T00:54:30.870Z"
   },
   {
    "duration": 4,
    "start_time": "2022-04-20T00:54:31.150Z"
   },
   {
    "duration": 6489,
    "start_time": "2022-04-20T00:54:31.156Z"
   },
   {
    "duration": 106,
    "start_time": "2022-04-20T00:54:37.646Z"
   },
   {
    "duration": 7669,
    "start_time": "2022-04-20T00:54:37.825Z"
   },
   {
    "duration": 516,
    "start_time": "2022-04-20T00:54:45.495Z"
   },
   {
    "duration": 1183,
    "start_time": "2022-04-20T00:54:46.012Z"
   },
   {
    "duration": 5546,
    "start_time": "2022-04-20T00:54:47.196Z"
   },
   {
    "duration": 18487,
    "start_time": "2022-04-20T00:54:52.745Z"
   },
   {
    "duration": 1573,
    "start_time": "2022-04-20T01:02:22.316Z"
   },
   {
    "duration": 717,
    "start_time": "2022-04-20T01:02:23.891Z"
   },
   {
    "duration": 66,
    "start_time": "2022-04-20T01:02:24.610Z"
   },
   {
    "duration": 52,
    "start_time": "2022-04-20T01:02:24.678Z"
   },
   {
    "duration": 195,
    "start_time": "2022-04-20T01:02:24.732Z"
   },
   {
    "duration": 320,
    "start_time": "2022-04-20T01:02:24.929Z"
   },
   {
    "duration": 225,
    "start_time": "2022-04-20T01:02:25.251Z"
   },
   {
    "duration": 67,
    "start_time": "2022-04-20T01:02:25.478Z"
   },
   {
    "duration": 56,
    "start_time": "2022-04-20T01:02:25.547Z"
   },
   {
    "duration": 37,
    "start_time": "2022-04-20T01:02:25.606Z"
   },
   {
    "duration": 92,
    "start_time": "2022-04-20T01:02:25.644Z"
   },
   {
    "duration": 71,
    "start_time": "2022-04-20T01:02:25.738Z"
   },
   {
    "duration": 33,
    "start_time": "2022-04-20T01:02:25.811Z"
   },
   {
    "duration": 27,
    "start_time": "2022-04-20T01:02:25.846Z"
   },
   {
    "duration": 26,
    "start_time": "2022-04-20T01:02:25.874Z"
   },
   {
    "duration": 45,
    "start_time": "2022-04-20T01:02:25.902Z"
   },
   {
    "duration": 24,
    "start_time": "2022-04-20T01:02:25.949Z"
   },
   {
    "duration": 25,
    "start_time": "2022-04-20T01:02:25.975Z"
   },
   {
    "duration": 57,
    "start_time": "2022-04-20T01:02:26.002Z"
   },
   {
    "duration": 279,
    "start_time": "2022-04-20T01:02:26.060Z"
   },
   {
    "duration": 3261,
    "start_time": "2022-04-20T01:02:26.340Z"
   },
   {
    "duration": 136,
    "start_time": "2022-04-20T01:02:29.603Z"
   },
   {
    "duration": 7583,
    "start_time": "2022-04-20T01:02:29.825Z"
   },
   {
    "duration": 519,
    "start_time": "2022-04-20T01:02:37.409Z"
   },
   {
    "duration": 1245,
    "start_time": "2022-04-20T01:02:37.930Z"
   },
   {
    "duration": 5468,
    "start_time": "2022-04-20T01:02:39.176Z"
   },
   {
    "duration": 18705,
    "start_time": "2022-04-20T01:02:44.646Z"
   },
   {
    "duration": 8,
    "start_time": "2022-04-20T01:54:21.549Z"
   },
   {
    "duration": 1573,
    "start_time": "2022-04-20T01:59:08.091Z"
   },
   {
    "duration": 682,
    "start_time": "2022-04-20T01:59:09.666Z"
   },
   {
    "duration": 62,
    "start_time": "2022-04-20T01:59:10.349Z"
   },
   {
    "duration": 36,
    "start_time": "2022-04-20T01:59:10.424Z"
   },
   {
    "duration": 190,
    "start_time": "2022-04-20T01:59:10.461Z"
   },
   {
    "duration": 295,
    "start_time": "2022-04-20T01:59:10.652Z"
   },
   {
    "duration": 210,
    "start_time": "2022-04-20T01:59:10.949Z"
   },
   {
    "duration": 71,
    "start_time": "2022-04-20T01:59:11.161Z"
   },
   {
    "duration": 54,
    "start_time": "2022-04-20T01:59:11.234Z"
   },
   {
    "duration": 37,
    "start_time": "2022-04-20T01:59:11.290Z"
   },
   {
    "duration": 96,
    "start_time": "2022-04-20T01:59:11.328Z"
   },
   {
    "duration": 71,
    "start_time": "2022-04-20T01:59:11.426Z"
   },
   {
    "duration": 35,
    "start_time": "2022-04-20T01:59:11.499Z"
   },
   {
    "duration": 25,
    "start_time": "2022-04-20T01:59:11.535Z"
   },
   {
    "duration": 23,
    "start_time": "2022-04-20T01:59:11.561Z"
   },
   {
    "duration": 41,
    "start_time": "2022-04-20T01:59:11.586Z"
   },
   {
    "duration": 24,
    "start_time": "2022-04-20T01:59:11.629Z"
   },
   {
    "duration": 25,
    "start_time": "2022-04-20T01:59:11.654Z"
   },
   {
    "duration": 58,
    "start_time": "2022-04-20T01:59:11.681Z"
   },
   {
    "duration": 268,
    "start_time": "2022-04-20T01:59:11.740Z"
   },
   {
    "duration": 2951,
    "start_time": "2022-04-20T01:59:12.010Z"
   },
   {
    "duration": 129,
    "start_time": "2022-04-20T01:59:14.963Z"
   },
   {
    "duration": 140,
    "start_time": "2022-04-20T01:59:15.093Z"
   },
   {
    "duration": 7277,
    "start_time": "2022-04-20T01:59:15.324Z"
   },
   {
    "duration": 485,
    "start_time": "2022-04-20T01:59:22.603Z"
   },
   {
    "duration": 1209,
    "start_time": "2022-04-20T01:59:23.090Z"
   },
   {
    "duration": 5123,
    "start_time": "2022-04-20T01:59:24.301Z"
   },
   {
    "duration": 17314,
    "start_time": "2022-04-20T01:59:29.427Z"
   },
   {
    "duration": 1520,
    "start_time": "2022-04-20T02:01:40.046Z"
   },
   {
    "duration": 686,
    "start_time": "2022-04-20T02:01:41.568Z"
   },
   {
    "duration": 59,
    "start_time": "2022-04-20T02:01:42.255Z"
   },
   {
    "duration": 39,
    "start_time": "2022-04-20T02:01:42.324Z"
   },
   {
    "duration": 190,
    "start_time": "2022-04-20T02:01:42.365Z"
   },
   {
    "duration": 304,
    "start_time": "2022-04-20T02:01:42.557Z"
   },
   {
    "duration": 218,
    "start_time": "2022-04-20T02:01:42.862Z"
   },
   {
    "duration": 67,
    "start_time": "2022-04-20T02:01:43.082Z"
   },
   {
    "duration": 73,
    "start_time": "2022-04-20T02:01:43.151Z"
   },
   {
    "duration": 27,
    "start_time": "2022-04-20T02:01:43.226Z"
   },
   {
    "duration": 102,
    "start_time": "2022-04-20T02:01:43.255Z"
   },
   {
    "duration": 83,
    "start_time": "2022-04-20T02:01:43.359Z"
   },
   {
    "duration": 23,
    "start_time": "2022-04-20T02:01:43.443Z"
   },
   {
    "duration": 25,
    "start_time": "2022-04-20T02:01:43.468Z"
   },
   {
    "duration": 39,
    "start_time": "2022-04-20T02:01:43.495Z"
   },
   {
    "duration": 25,
    "start_time": "2022-04-20T02:01:43.536Z"
   },
   {
    "duration": 26,
    "start_time": "2022-04-20T02:01:43.562Z"
   },
   {
    "duration": 48,
    "start_time": "2022-04-20T02:01:43.589Z"
   },
   {
    "duration": 40,
    "start_time": "2022-04-20T02:01:43.639Z"
   },
   {
    "duration": 289,
    "start_time": "2022-04-20T02:01:43.681Z"
   },
   {
    "duration": 3103,
    "start_time": "2022-04-20T02:01:43.971Z"
   },
   {
    "duration": 133,
    "start_time": "2022-04-20T02:01:47.075Z"
   },
   {
    "duration": 105,
    "start_time": "2022-04-20T02:01:47.210Z"
   },
   {
    "duration": 120,
    "start_time": "2022-04-20T02:01:47.317Z"
   },
   {
    "duration": 2299,
    "start_time": "2022-04-20T02:01:47.525Z"
   },
   {
    "duration": 160,
    "start_time": "2022-04-20T02:01:49.826Z"
   },
   {
    "duration": 1088,
    "start_time": "2022-04-20T02:01:49.988Z"
   },
   {
    "duration": 2354,
    "start_time": "2022-04-20T02:01:51.078Z"
   },
   {
    "duration": 8224,
    "start_time": "2022-04-20T02:01:53.434Z"
   },
   {
    "duration": 1579,
    "start_time": "2022-04-20T02:03:35.899Z"
   },
   {
    "duration": 701,
    "start_time": "2022-04-20T02:03:37.480Z"
   },
   {
    "duration": 67,
    "start_time": "2022-04-20T02:03:38.182Z"
   },
   {
    "duration": 39,
    "start_time": "2022-04-20T02:03:38.251Z"
   },
   {
    "duration": 216,
    "start_time": "2022-04-20T02:03:38.293Z"
   },
   {
    "duration": 327,
    "start_time": "2022-04-20T02:03:38.510Z"
   },
   {
    "duration": 218,
    "start_time": "2022-04-20T02:03:38.839Z"
   },
   {
    "duration": 70,
    "start_time": "2022-04-20T02:03:39.058Z"
   },
   {
    "duration": 55,
    "start_time": "2022-04-20T02:03:39.129Z"
   },
   {
    "duration": 38,
    "start_time": "2022-04-20T02:03:39.186Z"
   },
   {
    "duration": 82,
    "start_time": "2022-04-20T02:03:39.226Z"
   },
   {
    "duration": 79,
    "start_time": "2022-04-20T02:03:39.310Z"
   },
   {
    "duration": 36,
    "start_time": "2022-04-20T02:03:39.391Z"
   },
   {
    "duration": 25,
    "start_time": "2022-04-20T02:03:39.429Z"
   },
   {
    "duration": 25,
    "start_time": "2022-04-20T02:03:39.456Z"
   },
   {
    "duration": 48,
    "start_time": "2022-04-20T02:03:39.483Z"
   },
   {
    "duration": 26,
    "start_time": "2022-04-20T02:03:39.533Z"
   },
   {
    "duration": 25,
    "start_time": "2022-04-20T02:03:39.560Z"
   },
   {
    "duration": 61,
    "start_time": "2022-04-20T02:03:39.586Z"
   },
   {
    "duration": 283,
    "start_time": "2022-04-20T02:03:39.648Z"
   },
   {
    "duration": 3060,
    "start_time": "2022-04-20T02:03:39.933Z"
   },
   {
    "duration": 129,
    "start_time": "2022-04-20T02:03:42.995Z"
   },
   {
    "duration": 110,
    "start_time": "2022-04-20T02:03:43.126Z"
   },
   {
    "duration": 186,
    "start_time": "2022-04-20T02:03:43.237Z"
   },
   {
    "duration": 2199,
    "start_time": "2022-04-20T02:03:43.425Z"
   },
   {
    "duration": 157,
    "start_time": "2022-04-20T02:03:45.626Z"
   },
   {
    "duration": 1095,
    "start_time": "2022-04-20T02:03:45.785Z"
   },
   {
    "duration": 2354,
    "start_time": "2022-04-20T02:03:46.882Z"
   },
   {
    "duration": 8199,
    "start_time": "2022-04-20T02:03:49.238Z"
   },
   {
    "duration": 47,
    "start_time": "2022-04-20T15:25:30.941Z"
   },
   {
    "duration": 1503,
    "start_time": "2022-04-20T15:30:14.380Z"
   },
   {
    "duration": 710,
    "start_time": "2022-04-20T15:30:15.884Z"
   },
   {
    "duration": 64,
    "start_time": "2022-04-20T15:30:16.596Z"
   },
   {
    "duration": 32,
    "start_time": "2022-04-20T15:30:16.662Z"
   },
   {
    "duration": 191,
    "start_time": "2022-04-20T15:30:16.696Z"
   },
   {
    "duration": 304,
    "start_time": "2022-04-20T15:30:16.888Z"
   },
   {
    "duration": 221,
    "start_time": "2022-04-20T15:30:17.193Z"
   },
   {
    "duration": 70,
    "start_time": "2022-04-20T15:30:17.416Z"
   },
   {
    "duration": 62,
    "start_time": "2022-04-20T15:30:17.488Z"
   },
   {
    "duration": 22,
    "start_time": "2022-04-20T15:30:17.552Z"
   },
   {
    "duration": 103,
    "start_time": "2022-04-20T15:30:17.576Z"
   },
   {
    "duration": 93,
    "start_time": "2022-04-20T15:30:17.681Z"
   },
   {
    "duration": 23,
    "start_time": "2022-04-20T15:30:17.775Z"
   },
   {
    "duration": 31,
    "start_time": "2022-04-20T15:30:17.802Z"
   },
   {
    "duration": 27,
    "start_time": "2022-04-20T15:30:17.839Z"
   },
   {
    "duration": 30,
    "start_time": "2022-04-20T15:30:17.867Z"
   },
   {
    "duration": 40,
    "start_time": "2022-04-20T15:30:17.899Z"
   },
   {
    "duration": 27,
    "start_time": "2022-04-20T15:30:17.940Z"
   },
   {
    "duration": 38,
    "start_time": "2022-04-20T15:30:17.969Z"
   },
   {
    "duration": 300,
    "start_time": "2022-04-20T15:30:18.031Z"
   },
   {
    "duration": 3210,
    "start_time": "2022-04-20T15:30:18.333Z"
   },
   {
    "duration": 7,
    "start_time": "2022-04-20T15:30:21.545Z"
   },
   {
    "duration": 2,
    "start_time": "2022-04-20T15:30:21.553Z"
   },
   {
    "duration": 131,
    "start_time": "2022-04-20T15:30:21.556Z"
   },
   {
    "duration": 104,
    "start_time": "2022-04-20T15:30:21.689Z"
   },
   {
    "duration": 61,
    "start_time": "2022-04-20T15:30:21.795Z"
   },
   {
    "duration": 2349,
    "start_time": "2022-04-20T15:30:21.924Z"
   },
   {
    "duration": 168,
    "start_time": "2022-04-20T15:30:24.274Z"
   },
   {
    "duration": 1190,
    "start_time": "2022-04-20T15:30:24.444Z"
   },
   {
    "duration": 10901,
    "start_time": "2022-04-20T15:30:25.636Z"
   },
   {
    "duration": 21093,
    "start_time": "2022-04-20T15:30:36.539Z"
   },
   {
    "duration": 137,
    "start_time": "2022-04-20T15:48:47.771Z"
   },
   {
    "duration": 1599,
    "start_time": "2022-04-20T15:50:25.057Z"
   },
   {
    "duration": 727,
    "start_time": "2022-04-20T15:50:26.658Z"
   },
   {
    "duration": 75,
    "start_time": "2022-04-20T15:50:27.387Z"
   },
   {
    "duration": 39,
    "start_time": "2022-04-20T15:50:27.464Z"
   },
   {
    "duration": 206,
    "start_time": "2022-04-20T15:50:27.505Z"
   },
   {
    "duration": 391,
    "start_time": "2022-04-20T15:50:27.712Z"
   },
   {
    "duration": 254,
    "start_time": "2022-04-20T15:50:28.105Z"
   },
   {
    "duration": 72,
    "start_time": "2022-04-20T15:50:28.361Z"
   },
   {
    "duration": 57,
    "start_time": "2022-04-20T15:50:28.440Z"
   },
   {
    "duration": 35,
    "start_time": "2022-04-20T15:50:28.499Z"
   },
   {
    "duration": 158,
    "start_time": "2022-04-20T15:50:28.536Z"
   },
   {
    "duration": 96,
    "start_time": "2022-04-20T15:50:28.696Z"
   },
   {
    "duration": 34,
    "start_time": "2022-04-20T15:50:28.794Z"
   },
   {
    "duration": 46,
    "start_time": "2022-04-20T15:50:28.833Z"
   },
   {
    "duration": 56,
    "start_time": "2022-04-20T15:50:28.881Z"
   },
   {
    "duration": 29,
    "start_time": "2022-04-20T15:50:28.939Z"
   },
   {
    "duration": 27,
    "start_time": "2022-04-20T15:50:28.969Z"
   },
   {
    "duration": 50,
    "start_time": "2022-04-20T15:50:28.998Z"
   },
   {
    "duration": 44,
    "start_time": "2022-04-20T15:50:29.050Z"
   },
   {
    "duration": 369,
    "start_time": "2022-04-20T15:50:29.096Z"
   },
   {
    "duration": 4109,
    "start_time": "2022-04-20T15:50:29.467Z"
   },
   {
    "duration": 7,
    "start_time": "2022-04-20T15:50:33.578Z"
   },
   {
    "duration": 145,
    "start_time": "2022-04-20T15:50:33.587Z"
   },
   {
    "duration": 0,
    "start_time": "2022-04-20T15:50:33.735Z"
   },
   {
    "duration": 0,
    "start_time": "2022-04-20T15:50:33.736Z"
   },
   {
    "duration": 0,
    "start_time": "2022-04-20T15:50:33.742Z"
   },
   {
    "duration": 0,
    "start_time": "2022-04-20T15:50:33.743Z"
   },
   {
    "duration": 0,
    "start_time": "2022-04-20T15:50:33.744Z"
   },
   {
    "duration": 0,
    "start_time": "2022-04-20T15:50:33.745Z"
   },
   {
    "duration": 0,
    "start_time": "2022-04-20T15:50:33.747Z"
   },
   {
    "duration": 0,
    "start_time": "2022-04-20T15:50:33.748Z"
   },
   {
    "duration": 0,
    "start_time": "2022-04-20T15:50:33.750Z"
   },
   {
    "duration": 742,
    "start_time": "2022-04-20T15:50:39.263Z"
   },
   {
    "duration": 101,
    "start_time": "2022-04-20T15:51:01.137Z"
   },
   {
    "duration": 73,
    "start_time": "2022-04-20T15:51:26.737Z"
   },
   {
    "duration": 1607,
    "start_time": "2022-04-20T15:51:40.137Z"
   },
   {
    "duration": 735,
    "start_time": "2022-04-20T15:51:41.746Z"
   },
   {
    "duration": 73,
    "start_time": "2022-04-20T15:51:42.483Z"
   },
   {
    "duration": 39,
    "start_time": "2022-04-20T15:51:42.558Z"
   },
   {
    "duration": 204,
    "start_time": "2022-04-20T15:51:42.599Z"
   },
   {
    "duration": 327,
    "start_time": "2022-04-20T15:51:42.805Z"
   },
   {
    "duration": 233,
    "start_time": "2022-04-20T15:51:43.134Z"
   },
   {
    "duration": 69,
    "start_time": "2022-04-20T15:51:43.368Z"
   },
   {
    "duration": 57,
    "start_time": "2022-04-20T15:51:43.439Z"
   },
   {
    "duration": 38,
    "start_time": "2022-04-20T15:51:43.497Z"
   },
   {
    "duration": 101,
    "start_time": "2022-04-20T15:51:43.538Z"
   },
   {
    "duration": 85,
    "start_time": "2022-04-20T15:51:43.640Z"
   },
   {
    "duration": 31,
    "start_time": "2022-04-20T15:51:43.726Z"
   },
   {
    "duration": 27,
    "start_time": "2022-04-20T15:51:43.760Z"
   },
   {
    "duration": 51,
    "start_time": "2022-04-20T15:51:43.788Z"
   },
   {
    "duration": 26,
    "start_time": "2022-04-20T15:51:43.841Z"
   },
   {
    "duration": 25,
    "start_time": "2022-04-20T15:51:43.869Z"
   },
   {
    "duration": 45,
    "start_time": "2022-04-20T15:51:43.896Z"
   },
   {
    "duration": 40,
    "start_time": "2022-04-20T15:51:43.943Z"
   },
   {
    "duration": 312,
    "start_time": "2022-04-20T15:51:43.985Z"
   },
   {
    "duration": 3273,
    "start_time": "2022-04-20T15:51:44.299Z"
   },
   {
    "duration": 7,
    "start_time": "2022-04-20T15:51:47.574Z"
   },
   {
    "duration": 111,
    "start_time": "2022-04-20T15:51:47.583Z"
   },
   {
    "duration": 3,
    "start_time": "2022-04-20T15:51:47.695Z"
   },
   {
    "duration": 115,
    "start_time": "2022-04-20T15:51:47.699Z"
   },
   {
    "duration": 108,
    "start_time": "2022-04-20T15:51:47.816Z"
   },
   {
    "duration": 106,
    "start_time": "2022-04-20T15:51:47.926Z"
   },
   {
    "duration": 2531,
    "start_time": "2022-04-20T15:51:48.034Z"
   },
   {
    "duration": 188,
    "start_time": "2022-04-20T15:51:50.567Z"
   },
   {
    "duration": 1080,
    "start_time": "2022-04-20T15:51:50.757Z"
   },
   {
    "duration": 10194,
    "start_time": "2022-04-20T15:51:51.838Z"
   },
   {
    "duration": 39117,
    "start_time": "2022-04-20T15:52:02.034Z"
   },
   {
    "duration": 21,
    "start_time": "2022-04-20T15:56:52.415Z"
   },
   {
    "duration": 1546,
    "start_time": "2022-04-20T15:57:05.552Z"
   },
   {
    "duration": 703,
    "start_time": "2022-04-20T15:57:07.100Z"
   },
   {
    "duration": 71,
    "start_time": "2022-04-20T15:57:07.804Z"
   },
   {
    "duration": 49,
    "start_time": "2022-04-20T15:57:07.876Z"
   },
   {
    "duration": 191,
    "start_time": "2022-04-20T15:57:07.928Z"
   },
   {
    "duration": 320,
    "start_time": "2022-04-20T15:57:08.123Z"
   },
   {
    "duration": 230,
    "start_time": "2022-04-20T15:57:08.445Z"
   },
   {
    "duration": 68,
    "start_time": "2022-04-20T15:57:08.677Z"
   },
   {
    "duration": 57,
    "start_time": "2022-04-20T15:57:08.747Z"
   },
   {
    "duration": 48,
    "start_time": "2022-04-20T15:57:08.805Z"
   },
   {
    "duration": 96,
    "start_time": "2022-04-20T15:57:08.855Z"
   },
   {
    "duration": 89,
    "start_time": "2022-04-20T15:57:08.952Z"
   },
   {
    "duration": 23,
    "start_time": "2022-04-20T15:57:09.042Z"
   },
   {
    "duration": 25,
    "start_time": "2022-04-20T15:57:09.067Z"
   },
   {
    "duration": 51,
    "start_time": "2022-04-20T15:57:09.093Z"
   },
   {
    "duration": 25,
    "start_time": "2022-04-20T15:57:09.145Z"
   },
   {
    "duration": 23,
    "start_time": "2022-04-20T15:57:09.172Z"
   },
   {
    "duration": 40,
    "start_time": "2022-04-20T15:57:09.197Z"
   },
   {
    "duration": 38,
    "start_time": "2022-04-20T15:57:09.238Z"
   },
   {
    "duration": 297,
    "start_time": "2022-04-20T15:57:09.278Z"
   },
   {
    "duration": 3172,
    "start_time": "2022-04-20T15:57:09.576Z"
   },
   {
    "duration": 8,
    "start_time": "2022-04-20T15:57:12.749Z"
   },
   {
    "duration": 29,
    "start_time": "2022-04-20T15:57:12.758Z"
   },
   {
    "duration": 119,
    "start_time": "2022-04-20T15:57:12.788Z"
   },
   {
    "duration": 3,
    "start_time": "2022-04-20T15:57:12.908Z"
   },
   {
    "duration": 112,
    "start_time": "2022-04-20T15:57:12.912Z"
   },
   {
    "duration": 115,
    "start_time": "2022-04-20T15:57:13.026Z"
   },
   {
    "duration": 96,
    "start_time": "2022-04-20T15:57:13.142Z"
   },
   {
    "duration": 2324,
    "start_time": "2022-04-20T15:57:13.243Z"
   },
   {
    "duration": 167,
    "start_time": "2022-04-20T15:57:15.568Z"
   },
   {
    "duration": 1216,
    "start_time": "2022-04-20T15:57:15.737Z"
   },
   {
    "duration": 6979,
    "start_time": "2022-04-20T15:57:16.955Z"
   },
   {
    "duration": 23000,
    "start_time": "2022-04-20T15:57:23.936Z"
   },
   {
    "duration": 1628,
    "start_time": "2022-04-20T15:58:37.146Z"
   },
   {
    "duration": 926,
    "start_time": "2022-04-20T15:58:38.775Z"
   },
   {
    "duration": 78,
    "start_time": "2022-04-20T15:58:39.703Z"
   },
   {
    "duration": 49,
    "start_time": "2022-04-20T15:58:39.783Z"
   },
   {
    "duration": 221,
    "start_time": "2022-04-20T15:58:39.834Z"
   },
   {
    "duration": 376,
    "start_time": "2022-04-20T15:58:40.056Z"
   },
   {
    "duration": 264,
    "start_time": "2022-04-20T15:58:40.435Z"
   },
   {
    "duration": 75,
    "start_time": "2022-04-20T15:58:40.701Z"
   },
   {
    "duration": 71,
    "start_time": "2022-04-20T15:58:40.777Z"
   },
   {
    "duration": 24,
    "start_time": "2022-04-20T15:58:40.851Z"
   },
   {
    "duration": 109,
    "start_time": "2022-04-20T15:58:40.876Z"
   },
   {
    "duration": 96,
    "start_time": "2022-04-20T15:58:40.987Z"
   },
   {
    "duration": 40,
    "start_time": "2022-04-20T15:58:41.084Z"
   },
   {
    "duration": 45,
    "start_time": "2022-04-20T15:58:41.127Z"
   },
   {
    "duration": 35,
    "start_time": "2022-04-20T15:58:41.174Z"
   },
   {
    "duration": 67,
    "start_time": "2022-04-20T15:58:41.211Z"
   },
   {
    "duration": 35,
    "start_time": "2022-04-20T15:58:41.280Z"
   },
   {
    "duration": 34,
    "start_time": "2022-04-20T15:58:41.316Z"
   },
   {
    "duration": 50,
    "start_time": "2022-04-20T15:58:41.352Z"
   },
   {
    "duration": 311,
    "start_time": "2022-04-20T15:58:41.403Z"
   },
   {
    "duration": 3464,
    "start_time": "2022-04-20T15:58:41.715Z"
   },
   {
    "duration": 7,
    "start_time": "2022-04-20T15:58:45.181Z"
   },
   {
    "duration": 57,
    "start_time": "2022-04-20T15:58:45.189Z"
   },
   {
    "duration": 28,
    "start_time": "2022-04-20T15:58:45.247Z"
   },
   {
    "duration": 119,
    "start_time": "2022-04-20T15:58:45.277Z"
   },
   {
    "duration": 2,
    "start_time": "2022-04-20T15:58:45.397Z"
   },
   {
    "duration": 118,
    "start_time": "2022-04-20T15:58:45.401Z"
   },
   {
    "duration": 132,
    "start_time": "2022-04-20T15:58:45.524Z"
   },
   {
    "duration": 80,
    "start_time": "2022-04-20T15:58:45.658Z"
   },
   {
    "duration": 2612,
    "start_time": "2022-04-20T15:58:45.741Z"
   },
   {
    "duration": 219,
    "start_time": "2022-04-20T15:58:48.355Z"
   },
   {
    "duration": 1176,
    "start_time": "2022-04-20T15:58:48.577Z"
   },
   {
    "duration": 48471,
    "start_time": "2022-04-20T15:58:49.755Z"
   },
   {
    "duration": 27920,
    "start_time": "2022-04-20T15:59:38.229Z"
   },
   {
    "duration": 1895,
    "start_time": "2022-04-20T16:04:21.824Z"
   },
   {
    "duration": 932,
    "start_time": "2022-04-20T16:04:23.721Z"
   },
   {
    "duration": 90,
    "start_time": "2022-04-20T16:04:24.655Z"
   },
   {
    "duration": 41,
    "start_time": "2022-04-20T16:04:24.747Z"
   },
   {
    "duration": 214,
    "start_time": "2022-04-20T16:04:24.790Z"
   },
   {
    "duration": 480,
    "start_time": "2022-04-20T16:04:25.005Z"
   },
   {
    "duration": 268,
    "start_time": "2022-04-20T16:04:25.486Z"
   },
   {
    "duration": 79,
    "start_time": "2022-04-20T16:04:25.756Z"
   },
   {
    "duration": 63,
    "start_time": "2022-04-20T16:04:25.838Z"
   },
   {
    "duration": 47,
    "start_time": "2022-04-20T16:04:25.903Z"
   },
   {
    "duration": 106,
    "start_time": "2022-04-20T16:04:25.952Z"
   },
   {
    "duration": 105,
    "start_time": "2022-04-20T16:04:26.060Z"
   },
   {
    "duration": 28,
    "start_time": "2022-04-20T16:04:26.167Z"
   },
   {
    "duration": 51,
    "start_time": "2022-04-20T16:04:26.198Z"
   },
   {
    "duration": 28,
    "start_time": "2022-04-20T16:04:26.250Z"
   },
   {
    "duration": 31,
    "start_time": "2022-04-20T16:04:26.280Z"
   },
   {
    "duration": 36,
    "start_time": "2022-04-20T16:04:26.325Z"
   },
   {
    "duration": 30,
    "start_time": "2022-04-20T16:04:26.362Z"
   },
   {
    "duration": 80,
    "start_time": "2022-04-20T16:04:26.393Z"
   },
   {
    "duration": 397,
    "start_time": "2022-04-20T16:04:26.474Z"
   },
   {
    "duration": 3763,
    "start_time": "2022-04-20T16:04:26.873Z"
   },
   {
    "duration": 9,
    "start_time": "2022-04-20T16:04:30.638Z"
   },
   {
    "duration": 31,
    "start_time": "2022-04-20T16:04:30.650Z"
   },
   {
    "duration": 52,
    "start_time": "2022-04-20T16:04:30.683Z"
   },
   {
    "duration": 121,
    "start_time": "2022-04-20T16:04:30.737Z"
   },
   {
    "duration": 35,
    "start_time": "2022-04-20T16:04:30.860Z"
   },
   {
    "duration": 3,
    "start_time": "2022-04-20T16:04:30.896Z"
   },
   {
    "duration": 127,
    "start_time": "2022-04-20T16:04:30.900Z"
   },
   {
    "duration": 117,
    "start_time": "2022-04-20T16:04:31.029Z"
   },
   {
    "duration": 82,
    "start_time": "2022-04-20T16:04:31.148Z"
   },
   {
    "duration": 2647,
    "start_time": "2022-04-20T16:04:31.234Z"
   },
   {
    "duration": 186,
    "start_time": "2022-04-20T16:04:33.883Z"
   },
   {
    "duration": 1136,
    "start_time": "2022-04-20T16:04:34.071Z"
   },
   {
    "duration": 1792,
    "start_time": "2022-04-20T16:07:09.130Z"
   },
   {
    "duration": 849,
    "start_time": "2022-04-20T16:07:10.924Z"
   },
   {
    "duration": 82,
    "start_time": "2022-04-20T16:07:11.775Z"
   },
   {
    "duration": 39,
    "start_time": "2022-04-20T16:07:11.859Z"
   },
   {
    "duration": 219,
    "start_time": "2022-04-20T16:07:11.899Z"
   },
   {
    "duration": 449,
    "start_time": "2022-04-20T16:07:12.120Z"
   },
   {
    "duration": 245,
    "start_time": "2022-04-20T16:07:12.571Z"
   },
   {
    "duration": 71,
    "start_time": "2022-04-20T16:07:12.818Z"
   },
   {
    "duration": 73,
    "start_time": "2022-04-20T16:07:12.890Z"
   },
   {
    "duration": 23,
    "start_time": "2022-04-20T16:07:12.965Z"
   },
   {
    "duration": 158,
    "start_time": "2022-04-20T16:07:12.990Z"
   },
   {
    "duration": 137,
    "start_time": "2022-04-20T16:07:13.150Z"
   },
   {
    "duration": 47,
    "start_time": "2022-04-20T16:07:13.290Z"
   },
   {
    "duration": 35,
    "start_time": "2022-04-20T16:07:13.340Z"
   },
   {
    "duration": 29,
    "start_time": "2022-04-20T16:07:13.377Z"
   },
   {
    "duration": 43,
    "start_time": "2022-04-20T16:07:13.408Z"
   },
   {
    "duration": 26,
    "start_time": "2022-04-20T16:07:13.452Z"
   },
   {
    "duration": 48,
    "start_time": "2022-04-20T16:07:13.479Z"
   },
   {
    "duration": 47,
    "start_time": "2022-04-20T16:07:13.528Z"
   },
   {
    "duration": 323,
    "start_time": "2022-04-20T16:07:13.576Z"
   },
   {
    "duration": 3841,
    "start_time": "2022-04-20T16:07:13.901Z"
   },
   {
    "duration": 11,
    "start_time": "2022-04-20T16:07:17.744Z"
   },
   {
    "duration": 28,
    "start_time": "2022-04-20T16:07:17.757Z"
   },
   {
    "duration": 58,
    "start_time": "2022-04-20T16:07:17.786Z"
   },
   {
    "duration": 171,
    "start_time": "2022-04-20T16:07:17.846Z"
   },
   {
    "duration": 41,
    "start_time": "2022-04-20T16:07:18.019Z"
   },
   {
    "duration": 380,
    "start_time": "2022-04-20T16:07:18.061Z"
   },
   {
    "duration": 3,
    "start_time": "2022-04-20T16:07:18.444Z"
   },
   {
    "duration": 110,
    "start_time": "2022-04-20T16:07:18.448Z"
   },
   {
    "duration": 104,
    "start_time": "2022-04-20T16:07:18.559Z"
   },
   {
    "duration": 74,
    "start_time": "2022-04-20T16:07:18.664Z"
   },
   {
    "duration": 2447,
    "start_time": "2022-04-20T16:07:18.740Z"
   },
   {
    "duration": 174,
    "start_time": "2022-04-20T16:07:21.188Z"
   },
   {
    "duration": 1126,
    "start_time": "2022-04-20T16:07:21.363Z"
   },
   {
    "duration": 242258,
    "start_time": "2022-04-20T16:07:22.490Z"
   },
   {
    "duration": 1606,
    "start_time": "2022-04-20T16:11:50.567Z"
   },
   {
    "duration": 771,
    "start_time": "2022-04-20T16:11:52.175Z"
   },
   {
    "duration": 77,
    "start_time": "2022-04-20T16:11:52.948Z"
   },
   {
    "duration": 38,
    "start_time": "2022-04-20T16:11:53.027Z"
   },
   {
    "duration": 215,
    "start_time": "2022-04-20T16:11:53.067Z"
   },
   {
    "duration": 378,
    "start_time": "2022-04-20T16:11:53.283Z"
   },
   {
    "duration": 246,
    "start_time": "2022-04-20T16:11:53.663Z"
   },
   {
    "duration": 82,
    "start_time": "2022-04-20T16:11:53.911Z"
   },
   {
    "duration": 86,
    "start_time": "2022-04-20T16:11:53.994Z"
   },
   {
    "duration": 25,
    "start_time": "2022-04-20T16:11:54.082Z"
   },
   {
    "duration": 107,
    "start_time": "2022-04-20T16:11:54.109Z"
   },
   {
    "duration": 84,
    "start_time": "2022-04-20T16:11:54.224Z"
   },
   {
    "duration": 32,
    "start_time": "2022-04-20T16:11:54.325Z"
   },
   {
    "duration": 29,
    "start_time": "2022-04-20T16:11:54.360Z"
   },
   {
    "duration": 49,
    "start_time": "2022-04-20T16:11:54.391Z"
   },
   {
    "duration": 29,
    "start_time": "2022-04-20T16:11:54.442Z"
   },
   {
    "duration": 28,
    "start_time": "2022-04-20T16:11:54.473Z"
   },
   {
    "duration": 50,
    "start_time": "2022-04-20T16:11:54.502Z"
   },
   {
    "duration": 40,
    "start_time": "2022-04-20T16:11:54.554Z"
   },
   {
    "duration": 318,
    "start_time": "2022-04-20T16:11:54.596Z"
   },
   {
    "duration": 3615,
    "start_time": "2022-04-20T16:11:54.915Z"
   },
   {
    "duration": 10,
    "start_time": "2022-04-20T16:11:58.533Z"
   },
   {
    "duration": 28,
    "start_time": "2022-04-20T16:11:58.544Z"
   },
   {
    "duration": 32,
    "start_time": "2022-04-20T16:11:58.574Z"
   },
   {
    "duration": 191,
    "start_time": "2022-04-20T16:11:58.607Z"
   },
   {
    "duration": 49,
    "start_time": "2022-04-20T16:11:58.800Z"
   },
   {
    "duration": 621,
    "start_time": "2022-04-20T16:11:58.851Z"
   },
   {
    "duration": 61,
    "start_time": "2022-04-20T16:11:59.474Z"
   },
   {
    "duration": 5,
    "start_time": "2022-04-20T16:11:59.536Z"
   },
   {
    "duration": 135,
    "start_time": "2022-04-20T16:11:59.542Z"
   },
   {
    "duration": 132,
    "start_time": "2022-04-20T16:11:59.679Z"
   },
   {
    "duration": 63,
    "start_time": "2022-04-20T16:11:59.813Z"
   },
   {
    "duration": 3260,
    "start_time": "2022-04-20T16:11:59.931Z"
   },
   {
    "duration": 183,
    "start_time": "2022-04-20T16:12:03.192Z"
   },
   {
    "duration": 1245,
    "start_time": "2022-04-20T16:12:03.377Z"
   },
   {
    "duration": 299202,
    "start_time": "2022-04-20T16:12:04.624Z"
   },
   {
    "duration": 1495,
    "start_time": "2022-04-20T17:12:09.834Z"
   },
   {
    "duration": 674,
    "start_time": "2022-04-20T17:12:11.331Z"
   },
   {
    "duration": 68,
    "start_time": "2022-04-20T17:12:12.007Z"
   },
   {
    "duration": 51,
    "start_time": "2022-04-20T17:12:12.077Z"
   },
   {
    "duration": 178,
    "start_time": "2022-04-20T17:12:12.130Z"
   },
   {
    "duration": 296,
    "start_time": "2022-04-20T17:12:12.310Z"
   },
   {
    "duration": 216,
    "start_time": "2022-04-20T17:12:12.608Z"
   },
   {
    "duration": 60,
    "start_time": "2022-04-20T17:12:12.826Z"
   },
   {
    "duration": 62,
    "start_time": "2022-04-20T17:12:12.888Z"
   },
   {
    "duration": 24,
    "start_time": "2022-04-20T17:12:12.953Z"
   },
   {
    "duration": 96,
    "start_time": "2022-04-20T17:12:12.978Z"
   },
   {
    "duration": 79,
    "start_time": "2022-04-20T17:12:13.075Z"
   },
   {
    "duration": 24,
    "start_time": "2022-04-20T17:12:13.155Z"
   },
   {
    "duration": 34,
    "start_time": "2022-04-20T17:12:13.180Z"
   },
   {
    "duration": 34,
    "start_time": "2022-04-20T17:12:13.216Z"
   },
   {
    "duration": 31,
    "start_time": "2022-04-20T17:12:13.252Z"
   },
   {
    "duration": 23,
    "start_time": "2022-04-20T17:12:13.285Z"
   },
   {
    "duration": 31,
    "start_time": "2022-04-20T17:12:13.310Z"
   },
   {
    "duration": 41,
    "start_time": "2022-04-20T17:12:13.343Z"
   },
   {
    "duration": 1721,
    "start_time": "2022-04-20T17:12:13.386Z"
   },
   {
    "duration": 0,
    "start_time": "2022-04-20T17:12:15.109Z"
   },
   {
    "duration": 0,
    "start_time": "2022-04-20T17:12:15.110Z"
   },
   {
    "duration": 0,
    "start_time": "2022-04-20T17:12:15.111Z"
   },
   {
    "duration": 0,
    "start_time": "2022-04-20T17:12:15.113Z"
   },
   {
    "duration": 0,
    "start_time": "2022-04-20T17:12:15.114Z"
   },
   {
    "duration": 0,
    "start_time": "2022-04-20T17:12:15.116Z"
   },
   {
    "duration": 0,
    "start_time": "2022-04-20T17:12:15.117Z"
   },
   {
    "duration": 0,
    "start_time": "2022-04-20T17:12:15.118Z"
   },
   {
    "duration": 0,
    "start_time": "2022-04-20T17:12:15.119Z"
   },
   {
    "duration": 0,
    "start_time": "2022-04-20T17:12:15.120Z"
   },
   {
    "duration": 0,
    "start_time": "2022-04-20T17:12:15.123Z"
   },
   {
    "duration": 0,
    "start_time": "2022-04-20T17:12:15.124Z"
   },
   {
    "duration": 0,
    "start_time": "2022-04-20T17:12:15.125Z"
   },
   {
    "duration": 0,
    "start_time": "2022-04-20T17:12:15.126Z"
   },
   {
    "duration": 0,
    "start_time": "2022-04-20T17:12:15.128Z"
   },
   {
    "duration": 0,
    "start_time": "2022-04-20T17:12:15.129Z"
   },
   {
    "duration": 0,
    "start_time": "2022-04-20T17:12:15.130Z"
   },
   {
    "duration": 0,
    "start_time": "2022-04-20T17:12:15.131Z"
   },
   {
    "duration": 1501,
    "start_time": "2022-04-20T17:12:39.278Z"
   },
   {
    "duration": 715,
    "start_time": "2022-04-20T17:12:40.781Z"
   },
   {
    "duration": 77,
    "start_time": "2022-04-20T17:12:41.499Z"
   },
   {
    "duration": 51,
    "start_time": "2022-04-20T17:12:41.578Z"
   },
   {
    "duration": 204,
    "start_time": "2022-04-20T17:12:41.631Z"
   },
   {
    "duration": 345,
    "start_time": "2022-04-20T17:12:41.837Z"
   },
   {
    "duration": 228,
    "start_time": "2022-04-20T17:12:42.184Z"
   },
   {
    "duration": 66,
    "start_time": "2022-04-20T17:12:42.414Z"
   },
   {
    "duration": 67,
    "start_time": "2022-04-20T17:12:42.482Z"
   },
   {
    "duration": 23,
    "start_time": "2022-04-20T17:12:42.551Z"
   },
   {
    "duration": 94,
    "start_time": "2022-04-20T17:12:42.576Z"
   },
   {
    "duration": 87,
    "start_time": "2022-04-20T17:12:42.672Z"
   },
   {
    "duration": 23,
    "start_time": "2022-04-20T17:12:42.761Z"
   },
   {
    "duration": 41,
    "start_time": "2022-04-20T17:12:42.788Z"
   },
   {
    "duration": 27,
    "start_time": "2022-04-20T17:12:42.830Z"
   },
   {
    "duration": 26,
    "start_time": "2022-04-20T17:12:42.858Z"
   },
   {
    "duration": 38,
    "start_time": "2022-04-20T17:12:42.886Z"
   },
   {
    "duration": 25,
    "start_time": "2022-04-20T17:12:42.925Z"
   },
   {
    "duration": 38,
    "start_time": "2022-04-20T17:12:42.951Z"
   },
   {
    "duration": 1695,
    "start_time": "2022-04-20T17:12:42.990Z"
   },
   {
    "duration": 0,
    "start_time": "2022-04-20T17:12:44.687Z"
   },
   {
    "duration": 0,
    "start_time": "2022-04-20T17:12:44.688Z"
   },
   {
    "duration": 0,
    "start_time": "2022-04-20T17:12:44.689Z"
   },
   {
    "duration": 0,
    "start_time": "2022-04-20T17:12:44.690Z"
   },
   {
    "duration": 0,
    "start_time": "2022-04-20T17:12:44.691Z"
   },
   {
    "duration": 0,
    "start_time": "2022-04-20T17:12:44.691Z"
   },
   {
    "duration": 0,
    "start_time": "2022-04-20T17:12:44.692Z"
   },
   {
    "duration": 0,
    "start_time": "2022-04-20T17:12:44.694Z"
   },
   {
    "duration": 0,
    "start_time": "2022-04-20T17:12:44.694Z"
   },
   {
    "duration": 0,
    "start_time": "2022-04-20T17:12:44.695Z"
   },
   {
    "duration": 0,
    "start_time": "2022-04-20T17:12:44.696Z"
   },
   {
    "duration": 0,
    "start_time": "2022-04-20T17:12:44.697Z"
   },
   {
    "duration": 0,
    "start_time": "2022-04-20T17:12:44.699Z"
   },
   {
    "duration": 0,
    "start_time": "2022-04-20T17:12:44.699Z"
   },
   {
    "duration": 0,
    "start_time": "2022-04-20T17:12:44.700Z"
   },
   {
    "duration": 0,
    "start_time": "2022-04-20T17:12:44.701Z"
   },
   {
    "duration": 0,
    "start_time": "2022-04-20T17:12:44.702Z"
   },
   {
    "duration": 0,
    "start_time": "2022-04-20T17:12:44.703Z"
   },
   {
    "duration": 1498,
    "start_time": "2022-04-20T17:12:59.074Z"
   },
   {
    "duration": 706,
    "start_time": "2022-04-20T17:13:00.574Z"
   },
   {
    "duration": 70,
    "start_time": "2022-04-20T17:13:01.281Z"
   },
   {
    "duration": 41,
    "start_time": "2022-04-20T17:13:01.352Z"
   },
   {
    "duration": 219,
    "start_time": "2022-04-20T17:13:01.395Z"
   },
   {
    "duration": 300,
    "start_time": "2022-04-20T17:13:01.616Z"
   },
   {
    "duration": 212,
    "start_time": "2022-04-20T17:13:01.918Z"
   },
   {
    "duration": 59,
    "start_time": "2022-04-20T17:13:02.132Z"
   },
   {
    "duration": 68,
    "start_time": "2022-04-20T17:13:02.193Z"
   },
   {
    "duration": 23,
    "start_time": "2022-04-20T17:13:02.263Z"
   },
   {
    "duration": 99,
    "start_time": "2022-04-20T17:13:02.287Z"
   },
   {
    "duration": 82,
    "start_time": "2022-04-20T17:13:02.387Z"
   },
   {
    "duration": 23,
    "start_time": "2022-04-20T17:13:02.471Z"
   },
   {
    "duration": 40,
    "start_time": "2022-04-20T17:13:02.497Z"
   },
   {
    "duration": 26,
    "start_time": "2022-04-20T17:13:02.539Z"
   },
   {
    "duration": 26,
    "start_time": "2022-04-20T17:13:02.567Z"
   },
   {
    "duration": 43,
    "start_time": "2022-04-20T17:13:02.595Z"
   },
   {
    "duration": 26,
    "start_time": "2022-04-20T17:13:02.640Z"
   },
   {
    "duration": 60,
    "start_time": "2022-04-20T17:13:02.668Z"
   },
   {
    "duration": 271,
    "start_time": "2022-04-20T17:13:02.730Z"
   },
   {
    "duration": 3333,
    "start_time": "2022-04-20T17:13:03.003Z"
   },
   {
    "duration": 7,
    "start_time": "2022-04-20T17:13:06.338Z"
   },
   {
    "duration": 29,
    "start_time": "2022-04-20T17:13:06.347Z"
   },
   {
    "duration": 47,
    "start_time": "2022-04-20T17:13:06.377Z"
   },
   {
    "duration": 2,
    "start_time": "2022-04-20T17:13:06.426Z"
   },
   {
    "duration": 9,
    "start_time": "2022-04-20T17:13:06.429Z"
   },
   {
    "duration": 5,
    "start_time": "2022-04-20T17:13:06.439Z"
   },
   {
    "duration": 5,
    "start_time": "2022-04-20T17:13:06.445Z"
   },
   {
    "duration": 5,
    "start_time": "2022-04-20T17:13:06.451Z"
   },
   {
    "duration": 114,
    "start_time": "2022-04-20T17:13:06.457Z"
   },
   {
    "duration": 0,
    "start_time": "2022-04-20T17:13:06.573Z"
   },
   {
    "duration": 0,
    "start_time": "2022-04-20T17:13:06.574Z"
   },
   {
    "duration": 0,
    "start_time": "2022-04-20T17:13:06.575Z"
   },
   {
    "duration": 0,
    "start_time": "2022-04-20T17:13:06.576Z"
   },
   {
    "duration": 0,
    "start_time": "2022-04-20T17:13:06.577Z"
   },
   {
    "duration": 0,
    "start_time": "2022-04-20T17:13:06.578Z"
   },
   {
    "duration": 0,
    "start_time": "2022-04-20T17:13:06.579Z"
   },
   {
    "duration": 0,
    "start_time": "2022-04-20T17:13:06.580Z"
   },
   {
    "duration": 17,
    "start_time": "2022-04-20T17:19:14.994Z"
   },
   {
    "duration": 24,
    "start_time": "2022-04-20T17:21:26.879Z"
   },
   {
    "duration": 1604,
    "start_time": "2022-04-20T17:22:12.784Z"
   },
   {
    "duration": 750,
    "start_time": "2022-04-20T17:22:14.389Z"
   },
   {
    "duration": 96,
    "start_time": "2022-04-20T17:22:15.141Z"
   },
   {
    "duration": 55,
    "start_time": "2022-04-20T17:22:15.240Z"
   },
   {
    "duration": 313,
    "start_time": "2022-04-20T17:22:15.297Z"
   },
   {
    "duration": 512,
    "start_time": "2022-04-20T17:22:15.613Z"
   },
   {
    "duration": 347,
    "start_time": "2022-04-20T17:22:16.127Z"
   },
   {
    "duration": 115,
    "start_time": "2022-04-20T17:22:16.475Z"
   },
   {
    "duration": 113,
    "start_time": "2022-04-20T17:22:16.592Z"
   },
   {
    "duration": 45,
    "start_time": "2022-04-20T17:22:16.708Z"
   },
   {
    "duration": 142,
    "start_time": "2022-04-20T17:22:16.755Z"
   },
   {
    "duration": 129,
    "start_time": "2022-04-20T17:22:16.899Z"
   },
   {
    "duration": 41,
    "start_time": "2022-04-20T17:22:17.030Z"
   },
   {
    "duration": 31,
    "start_time": "2022-04-20T17:22:17.072Z"
   },
   {
    "duration": 36,
    "start_time": "2022-04-20T17:22:17.105Z"
   },
   {
    "duration": 26,
    "start_time": "2022-04-20T17:22:17.143Z"
   },
   {
    "duration": 25,
    "start_time": "2022-04-20T17:22:17.171Z"
   },
   {
    "duration": 46,
    "start_time": "2022-04-20T17:22:17.197Z"
   },
   {
    "duration": 84,
    "start_time": "2022-04-20T17:22:17.245Z"
   },
   {
    "duration": 455,
    "start_time": "2022-04-20T17:22:17.331Z"
   },
   {
    "duration": 5260,
    "start_time": "2022-04-20T17:22:17.788Z"
   },
   {
    "duration": 10,
    "start_time": "2022-04-20T17:22:23.050Z"
   },
   {
    "duration": 62,
    "start_time": "2022-04-20T17:22:23.062Z"
   },
   {
    "duration": 49,
    "start_time": "2022-04-20T17:22:23.126Z"
   },
   {
    "duration": 3,
    "start_time": "2022-04-20T17:22:23.177Z"
   },
   {
    "duration": 8,
    "start_time": "2022-04-20T17:22:23.182Z"
   },
   {
    "duration": 6,
    "start_time": "2022-04-20T17:22:23.192Z"
   },
   {
    "duration": 3,
    "start_time": "2022-04-20T17:22:23.202Z"
   },
   {
    "duration": 5,
    "start_time": "2022-04-20T17:22:23.224Z"
   },
   {
    "duration": 24,
    "start_time": "2022-04-20T17:22:23.231Z"
   },
   {
    "duration": 27,
    "start_time": "2022-04-20T17:22:23.257Z"
   },
   {
    "duration": 66,
    "start_time": "2022-04-20T17:22:23.286Z"
   },
   {
    "duration": 49,
    "start_time": "2022-04-20T17:22:23.354Z"
   },
   {
    "duration": 233,
    "start_time": "2022-04-20T17:22:23.405Z"
   },
   {
    "duration": 7889,
    "start_time": "2022-04-20T17:22:23.724Z"
   },
   {
    "duration": 534,
    "start_time": "2022-04-20T17:22:31.614Z"
   },
   {
    "duration": 1283,
    "start_time": "2022-04-20T17:22:32.149Z"
   },
   {
    "duration": 1630,
    "start_time": "2022-04-20T17:24:41.398Z"
   },
   {
    "duration": 708,
    "start_time": "2022-04-20T17:24:43.029Z"
   },
   {
    "duration": 65,
    "start_time": "2022-04-20T17:24:43.738Z"
   },
   {
    "duration": 49,
    "start_time": "2022-04-20T17:24:43.805Z"
   },
   {
    "duration": 192,
    "start_time": "2022-04-20T17:24:43.856Z"
   },
   {
    "duration": 305,
    "start_time": "2022-04-20T17:24:44.049Z"
   },
   {
    "duration": 226,
    "start_time": "2022-04-20T17:24:44.355Z"
   },
   {
    "duration": 68,
    "start_time": "2022-04-20T17:24:44.582Z"
   },
   {
    "duration": 56,
    "start_time": "2022-04-20T17:24:44.651Z"
   },
   {
    "duration": 24,
    "start_time": "2022-04-20T17:24:44.723Z"
   },
   {
    "duration": 106,
    "start_time": "2022-04-20T17:24:44.748Z"
   },
   {
    "duration": 85,
    "start_time": "2022-04-20T17:24:44.855Z"
   },
   {
    "duration": 26,
    "start_time": "2022-04-20T17:24:44.941Z"
   },
   {
    "duration": 60,
    "start_time": "2022-04-20T17:24:44.969Z"
   },
   {
    "duration": 43,
    "start_time": "2022-04-20T17:24:45.031Z"
   },
   {
    "duration": 60,
    "start_time": "2022-04-20T17:24:45.076Z"
   },
   {
    "duration": 44,
    "start_time": "2022-04-20T17:24:45.137Z"
   },
   {
    "duration": 65,
    "start_time": "2022-04-20T17:24:45.183Z"
   },
   {
    "duration": 78,
    "start_time": "2022-04-20T17:24:45.250Z"
   },
   {
    "duration": 277,
    "start_time": "2022-04-20T17:24:45.329Z"
   },
   {
    "duration": 3269,
    "start_time": "2022-04-20T17:24:45.607Z"
   },
   {
    "duration": 9,
    "start_time": "2022-04-20T17:24:48.878Z"
   },
   {
    "duration": 54,
    "start_time": "2022-04-20T17:24:48.888Z"
   },
   {
    "duration": 60,
    "start_time": "2022-04-20T17:24:48.944Z"
   },
   {
    "duration": 3,
    "start_time": "2022-04-20T17:24:49.006Z"
   },
   {
    "duration": 13,
    "start_time": "2022-04-20T17:24:49.011Z"
   },
   {
    "duration": 5,
    "start_time": "2022-04-20T17:24:49.026Z"
   },
   {
    "duration": 3,
    "start_time": "2022-04-20T17:24:49.035Z"
   },
   {
    "duration": 5,
    "start_time": "2022-04-20T17:24:49.040Z"
   },
   {
    "duration": 23,
    "start_time": "2022-04-20T17:24:49.047Z"
   },
   {
    "duration": 59,
    "start_time": "2022-04-20T17:24:49.072Z"
   },
   {
    "duration": 42,
    "start_time": "2022-04-20T17:24:49.133Z"
   },
   {
    "duration": 56,
    "start_time": "2022-04-20T17:24:49.176Z"
   },
   {
    "duration": 1337,
    "start_time": "2022-04-20T17:24:49.234Z"
   },
   {
    "duration": 256,
    "start_time": "2022-04-20T17:24:50.573Z"
   },
   {
    "duration": 7563,
    "start_time": "2022-04-20T17:24:50.831Z"
   },
   {
    "duration": 545,
    "start_time": "2022-04-20T17:24:58.396Z"
   },
   {
    "duration": 1155,
    "start_time": "2022-04-20T17:24:58.942Z"
   },
   {
    "duration": 1823,
    "start_time": "2022-04-20T17:27:01.203Z"
   },
   {
    "duration": 721,
    "start_time": "2022-04-20T17:27:03.028Z"
   },
   {
    "duration": 79,
    "start_time": "2022-04-20T17:27:03.750Z"
   },
   {
    "duration": 36,
    "start_time": "2022-04-20T17:27:03.831Z"
   },
   {
    "duration": 213,
    "start_time": "2022-04-20T17:27:03.868Z"
   },
   {
    "duration": 345,
    "start_time": "2022-04-20T17:27:04.083Z"
   },
   {
    "duration": 228,
    "start_time": "2022-04-20T17:27:04.429Z"
   },
   {
    "duration": 72,
    "start_time": "2022-04-20T17:27:04.658Z"
   },
   {
    "duration": 56,
    "start_time": "2022-04-20T17:27:04.731Z"
   },
   {
    "duration": 41,
    "start_time": "2022-04-20T17:27:04.790Z"
   },
   {
    "duration": 95,
    "start_time": "2022-04-20T17:27:04.833Z"
   },
   {
    "duration": 79,
    "start_time": "2022-04-20T17:27:04.929Z"
   },
   {
    "duration": 34,
    "start_time": "2022-04-20T17:27:05.010Z"
   },
   {
    "duration": 32,
    "start_time": "2022-04-20T17:27:05.046Z"
   },
   {
    "duration": 53,
    "start_time": "2022-04-20T17:27:05.080Z"
   },
   {
    "duration": 33,
    "start_time": "2022-04-20T17:27:05.136Z"
   },
   {
    "duration": 26,
    "start_time": "2022-04-20T17:27:05.171Z"
   },
   {
    "duration": 47,
    "start_time": "2022-04-20T17:27:05.199Z"
   },
   {
    "duration": 41,
    "start_time": "2022-04-20T17:27:05.248Z"
   },
   {
    "duration": 299,
    "start_time": "2022-04-20T17:27:05.290Z"
   },
   {
    "duration": 3381,
    "start_time": "2022-04-20T17:27:05.591Z"
   },
   {
    "duration": 7,
    "start_time": "2022-04-20T17:27:08.974Z"
   },
   {
    "duration": 28,
    "start_time": "2022-04-20T17:27:08.982Z"
   },
   {
    "duration": 29,
    "start_time": "2022-04-20T17:27:09.023Z"
   },
   {
    "duration": 4,
    "start_time": "2022-04-20T17:27:09.054Z"
   },
   {
    "duration": 13,
    "start_time": "2022-04-20T17:27:09.060Z"
   },
   {
    "duration": 6,
    "start_time": "2022-04-20T17:27:09.074Z"
   },
   {
    "duration": 4,
    "start_time": "2022-04-20T17:27:09.083Z"
   },
   {
    "duration": 5,
    "start_time": "2022-04-20T17:27:09.089Z"
   },
   {
    "duration": 28,
    "start_time": "2022-04-20T17:27:09.096Z"
   },
   {
    "duration": 25,
    "start_time": "2022-04-20T17:27:09.126Z"
   },
   {
    "duration": 36,
    "start_time": "2022-04-20T17:27:09.152Z"
   },
   {
    "duration": 60,
    "start_time": "2022-04-20T17:27:09.189Z"
   },
   {
    "duration": 1325,
    "start_time": "2022-04-20T17:27:09.251Z"
   },
   {
    "duration": 154,
    "start_time": "2022-04-20T17:27:10.578Z"
   },
   {
    "duration": 7561,
    "start_time": "2022-04-20T17:27:10.823Z"
   },
   {
    "duration": 533,
    "start_time": "2022-04-20T17:27:18.386Z"
   },
   {
    "duration": 1255,
    "start_time": "2022-04-20T17:27:18.923Z"
   },
   {
    "duration": 159847,
    "start_time": "2022-04-20T17:27:20.180Z"
   },
   {
    "duration": 1706,
    "start_time": "2022-04-20T17:30:29.651Z"
   },
   {
    "duration": 718,
    "start_time": "2022-04-20T17:30:31.360Z"
   },
   {
    "duration": 73,
    "start_time": "2022-04-20T17:30:32.079Z"
   },
   {
    "duration": 40,
    "start_time": "2022-04-20T17:30:32.154Z"
   },
   {
    "duration": 219,
    "start_time": "2022-04-20T17:30:32.196Z"
   },
   {
    "duration": 335,
    "start_time": "2022-04-20T17:30:32.417Z"
   },
   {
    "duration": 220,
    "start_time": "2022-04-20T17:30:32.754Z"
   },
   {
    "duration": 66,
    "start_time": "2022-04-20T17:30:32.975Z"
   },
   {
    "duration": 54,
    "start_time": "2022-04-20T17:30:33.043Z"
   },
   {
    "duration": 42,
    "start_time": "2022-04-20T17:30:33.100Z"
   },
   {
    "duration": 101,
    "start_time": "2022-04-20T17:30:33.144Z"
   },
   {
    "duration": 85,
    "start_time": "2022-04-20T17:30:33.247Z"
   },
   {
    "duration": 24,
    "start_time": "2022-04-20T17:30:33.334Z"
   },
   {
    "duration": 27,
    "start_time": "2022-04-20T17:30:33.359Z"
   },
   {
    "duration": 41,
    "start_time": "2022-04-20T17:30:33.388Z"
   },
   {
    "duration": 27,
    "start_time": "2022-04-20T17:30:33.431Z"
   },
   {
    "duration": 26,
    "start_time": "2022-04-20T17:30:33.460Z"
   },
   {
    "duration": 51,
    "start_time": "2022-04-20T17:30:33.488Z"
   },
   {
    "duration": 39,
    "start_time": "2022-04-20T17:30:33.541Z"
   },
   {
    "duration": 294,
    "start_time": "2022-04-20T17:30:33.583Z"
   },
   {
    "duration": 3157,
    "start_time": "2022-04-20T17:30:33.878Z"
   },
   {
    "duration": 7,
    "start_time": "2022-04-20T17:30:37.037Z"
   },
   {
    "duration": 29,
    "start_time": "2022-04-20T17:30:37.046Z"
   },
   {
    "duration": 48,
    "start_time": "2022-04-20T17:30:37.076Z"
   },
   {
    "duration": 3,
    "start_time": "2022-04-20T17:30:37.125Z"
   },
   {
    "duration": 7,
    "start_time": "2022-04-20T17:30:37.130Z"
   },
   {
    "duration": 5,
    "start_time": "2022-04-20T17:30:37.139Z"
   },
   {
    "duration": 4,
    "start_time": "2022-04-20T17:30:37.147Z"
   },
   {
    "duration": 5,
    "start_time": "2022-04-20T17:30:37.152Z"
   },
   {
    "duration": 21,
    "start_time": "2022-04-20T17:30:37.158Z"
   },
   {
    "duration": 23,
    "start_time": "2022-04-20T17:30:37.181Z"
   },
   {
    "duration": 40,
    "start_time": "2022-04-20T17:30:37.224Z"
   },
   {
    "duration": 32,
    "start_time": "2022-04-20T17:30:37.265Z"
   },
   {
    "duration": 1079,
    "start_time": "2022-04-20T17:30:37.298Z"
   },
   {
    "duration": 154,
    "start_time": "2022-04-20T17:30:38.378Z"
   },
   {
    "duration": 7751,
    "start_time": "2022-04-20T17:30:38.534Z"
   },
   {
    "duration": 578,
    "start_time": "2022-04-20T17:30:46.287Z"
   },
   {
    "duration": 1217,
    "start_time": "2022-04-20T17:30:46.866Z"
   },
   {
    "duration": 170908,
    "start_time": "2022-04-20T17:30:48.084Z"
   },
   {
    "duration": 53638,
    "start_time": "2022-04-20T17:33:38.993Z"
   },
   {
    "duration": 1914,
    "start_time": "2022-04-20T17:40:48.990Z"
   },
   {
    "duration": 824,
    "start_time": "2022-04-20T17:40:50.906Z"
   },
   {
    "duration": 97,
    "start_time": "2022-04-20T17:40:51.732Z"
   },
   {
    "duration": 56,
    "start_time": "2022-04-20T17:40:51.832Z"
   },
   {
    "duration": 347,
    "start_time": "2022-04-20T17:40:51.891Z"
   },
   {
    "duration": 597,
    "start_time": "2022-04-20T17:40:52.240Z"
   },
   {
    "duration": 392,
    "start_time": "2022-04-20T17:40:52.840Z"
   },
   {
    "duration": 129,
    "start_time": "2022-04-20T17:40:53.234Z"
   },
   {
    "duration": 120,
    "start_time": "2022-04-20T17:40:53.365Z"
   },
   {
    "duration": 59,
    "start_time": "2022-04-20T17:40:53.487Z"
   },
   {
    "duration": 162,
    "start_time": "2022-04-20T17:40:53.548Z"
   },
   {
    "duration": 149,
    "start_time": "2022-04-20T17:40:53.713Z"
   },
   {
    "duration": 45,
    "start_time": "2022-04-20T17:40:53.864Z"
   },
   {
    "duration": 30,
    "start_time": "2022-04-20T17:40:53.926Z"
   },
   {
    "duration": 67,
    "start_time": "2022-04-20T17:40:53.958Z"
   },
   {
    "duration": 29,
    "start_time": "2022-04-20T17:40:54.027Z"
   },
   {
    "duration": 27,
    "start_time": "2022-04-20T17:40:54.058Z"
   },
   {
    "duration": 55,
    "start_time": "2022-04-20T17:40:54.087Z"
   },
   {
    "duration": 90,
    "start_time": "2022-04-20T17:40:54.144Z"
   },
   {
    "duration": 570,
    "start_time": "2022-04-20T17:40:54.236Z"
   },
   {
    "duration": 3326,
    "start_time": "2022-04-20T17:40:54.807Z"
   },
   {
    "duration": 3,
    "start_time": "2022-04-20T17:40:58.134Z"
   },
   {
    "duration": 20,
    "start_time": "2022-04-20T17:40:58.139Z"
   },
   {
    "duration": 24,
    "start_time": "2022-04-20T17:40:58.161Z"
   },
   {
    "duration": 64,
    "start_time": "2022-04-20T17:40:58.187Z"
   },
   {
    "duration": 47,
    "start_time": "2022-04-20T17:40:58.253Z"
   },
   {
    "duration": 1829,
    "start_time": "2022-04-20T17:40:58.302Z"
   },
   {
    "duration": 3128,
    "start_time": "2022-04-20T17:41:00.133Z"
   },
   {
    "duration": 0,
    "start_time": "2022-04-20T17:41:03.263Z"
   },
   {
    "duration": 0,
    "start_time": "2022-04-20T17:41:03.265Z"
   },
   {
    "duration": 0,
    "start_time": "2022-04-20T17:41:03.265Z"
   },
   {
    "duration": 0,
    "start_time": "2022-04-20T17:41:03.267Z"
   },
   {
    "duration": 0,
    "start_time": "2022-04-20T17:41:03.268Z"
   },
   {
    "duration": 0,
    "start_time": "2022-04-20T17:41:03.269Z"
   },
   {
    "duration": 1806,
    "start_time": "2022-04-20T17:41:31.048Z"
   },
   {
    "duration": 769,
    "start_time": "2022-04-20T17:41:32.856Z"
   },
   {
    "duration": 70,
    "start_time": "2022-04-20T17:41:33.627Z"
   },
   {
    "duration": 58,
    "start_time": "2022-04-20T17:41:33.700Z"
   },
   {
    "duration": 216,
    "start_time": "2022-04-20T17:41:33.760Z"
   },
   {
    "duration": 324,
    "start_time": "2022-04-20T17:41:33.978Z"
   },
   {
    "duration": 374,
    "start_time": "2022-04-20T17:41:34.304Z"
   },
   {
    "duration": 112,
    "start_time": "2022-04-20T17:41:34.680Z"
   },
   {
    "duration": 67,
    "start_time": "2022-04-20T17:41:34.793Z"
   },
   {
    "duration": 26,
    "start_time": "2022-04-20T17:41:34.863Z"
   },
   {
    "duration": 171,
    "start_time": "2022-04-20T17:41:34.891Z"
   },
   {
    "duration": 93,
    "start_time": "2022-04-20T17:41:35.064Z"
   },
   {
    "duration": 24,
    "start_time": "2022-04-20T17:41:35.159Z"
   },
   {
    "duration": 44,
    "start_time": "2022-04-20T17:41:35.184Z"
   },
   {
    "duration": 33,
    "start_time": "2022-04-20T17:41:35.230Z"
   },
   {
    "duration": 27,
    "start_time": "2022-04-20T17:41:35.265Z"
   },
   {
    "duration": 57,
    "start_time": "2022-04-20T17:41:35.294Z"
   },
   {
    "duration": 46,
    "start_time": "2022-04-20T17:41:35.353Z"
   },
   {
    "duration": 62,
    "start_time": "2022-04-20T17:41:35.401Z"
   },
   {
    "duration": 471,
    "start_time": "2022-04-20T17:41:35.465Z"
   },
   {
    "duration": 3576,
    "start_time": "2022-04-20T17:41:35.938Z"
   },
   {
    "duration": 2,
    "start_time": "2022-04-20T17:41:39.523Z"
   },
   {
    "duration": 21,
    "start_time": "2022-04-20T17:41:39.531Z"
   },
   {
    "duration": 24,
    "start_time": "2022-04-20T17:41:39.554Z"
   },
   {
    "duration": 67,
    "start_time": "2022-04-20T17:41:39.580Z"
   },
   {
    "duration": 34,
    "start_time": "2022-04-20T17:41:39.649Z"
   },
   {
    "duration": 1209,
    "start_time": "2022-04-20T17:41:39.685Z"
   },
   {
    "duration": 716,
    "start_time": "2022-04-20T17:41:40.897Z"
   },
   {
    "duration": 0,
    "start_time": "2022-04-20T17:41:41.615Z"
   },
   {
    "duration": 0,
    "start_time": "2022-04-20T17:41:41.615Z"
   },
   {
    "duration": 0,
    "start_time": "2022-04-20T17:41:41.616Z"
   },
   {
    "duration": 0,
    "start_time": "2022-04-20T17:41:41.624Z"
   },
   {
    "duration": 0,
    "start_time": "2022-04-20T17:41:41.625Z"
   },
   {
    "duration": 0,
    "start_time": "2022-04-20T17:41:41.626Z"
   },
   {
    "duration": 1700,
    "start_time": "2022-04-20T17:42:14.531Z"
   },
   {
    "duration": 747,
    "start_time": "2022-04-20T17:42:16.233Z"
   },
   {
    "duration": 72,
    "start_time": "2022-04-20T17:42:16.981Z"
   },
   {
    "duration": 41,
    "start_time": "2022-04-20T17:42:17.055Z"
   },
   {
    "duration": 220,
    "start_time": "2022-04-20T17:42:17.097Z"
   },
   {
    "duration": 344,
    "start_time": "2022-04-20T17:42:17.319Z"
   },
   {
    "duration": 217,
    "start_time": "2022-04-20T17:42:17.664Z"
   },
   {
    "duration": 65,
    "start_time": "2022-04-20T17:42:17.883Z"
   },
   {
    "duration": 66,
    "start_time": "2022-04-20T17:42:17.950Z"
   },
   {
    "duration": 23,
    "start_time": "2022-04-20T17:42:18.023Z"
   },
   {
    "duration": 95,
    "start_time": "2022-04-20T17:42:18.048Z"
   },
   {
    "duration": 85,
    "start_time": "2022-04-20T17:42:18.144Z"
   },
   {
    "duration": 25,
    "start_time": "2022-04-20T17:42:18.230Z"
   },
   {
    "duration": 35,
    "start_time": "2022-04-20T17:42:18.256Z"
   },
   {
    "duration": 42,
    "start_time": "2022-04-20T17:42:18.292Z"
   },
   {
    "duration": 31,
    "start_time": "2022-04-20T17:42:18.336Z"
   },
   {
    "duration": 25,
    "start_time": "2022-04-20T17:42:18.369Z"
   },
   {
    "duration": 46,
    "start_time": "2022-04-20T17:42:18.395Z"
   },
   {
    "duration": 42,
    "start_time": "2022-04-20T17:42:18.443Z"
   },
   {
    "duration": 292,
    "start_time": "2022-04-20T17:42:18.486Z"
   },
   {
    "duration": 3310,
    "start_time": "2022-04-20T17:42:18.780Z"
   },
   {
    "duration": 2,
    "start_time": "2022-04-20T17:42:22.092Z"
   },
   {
    "duration": 30,
    "start_time": "2022-04-20T17:42:22.096Z"
   },
   {
    "duration": 24,
    "start_time": "2022-04-20T17:42:22.128Z"
   },
   {
    "duration": 39,
    "start_time": "2022-04-20T17:42:22.154Z"
   },
   {
    "duration": 58,
    "start_time": "2022-04-20T17:42:22.195Z"
   },
   {
    "duration": 1223,
    "start_time": "2022-04-20T17:42:22.254Z"
   },
   {
    "duration": 2090,
    "start_time": "2022-04-20T17:42:23.480Z"
   },
   {
    "duration": 1352,
    "start_time": "2022-04-20T17:42:25.572Z"
   },
   {
    "duration": 41659,
    "start_time": "2022-04-20T17:42:26.926Z"
   },
   {
    "duration": 4249,
    "start_time": "2022-04-20T17:43:08.587Z"
   },
   {
    "duration": 2520,
    "start_time": "2022-04-20T17:43:12.838Z"
   },
   {
    "duration": 1731,
    "start_time": "2022-04-20T17:43:40.947Z"
   },
   {
    "duration": 810,
    "start_time": "2022-04-20T17:43:42.680Z"
   },
   {
    "duration": 71,
    "start_time": "2022-04-20T17:43:43.492Z"
   },
   {
    "duration": 40,
    "start_time": "2022-04-20T17:43:43.564Z"
   },
   {
    "duration": 200,
    "start_time": "2022-04-20T17:43:43.607Z"
   },
   {
    "duration": 307,
    "start_time": "2022-04-20T17:43:43.809Z"
   },
   {
    "duration": 219,
    "start_time": "2022-04-20T17:43:44.123Z"
   },
   {
    "duration": 62,
    "start_time": "2022-04-20T17:43:44.344Z"
   },
   {
    "duration": 71,
    "start_time": "2022-04-20T17:43:44.408Z"
   },
   {
    "duration": 24,
    "start_time": "2022-04-20T17:43:44.481Z"
   },
   {
    "duration": 83,
    "start_time": "2022-04-20T17:43:44.523Z"
   },
   {
    "duration": 77,
    "start_time": "2022-04-20T17:43:44.624Z"
   },
   {
    "duration": 40,
    "start_time": "2022-04-20T17:43:44.703Z"
   },
   {
    "duration": 27,
    "start_time": "2022-04-20T17:43:44.747Z"
   },
   {
    "duration": 25,
    "start_time": "2022-04-20T17:43:44.776Z"
   },
   {
    "duration": 28,
    "start_time": "2022-04-20T17:43:44.825Z"
   },
   {
    "duration": 26,
    "start_time": "2022-04-20T17:43:44.855Z"
   },
   {
    "duration": 53,
    "start_time": "2022-04-20T17:43:44.883Z"
   },
   {
    "duration": 41,
    "start_time": "2022-04-20T17:43:44.938Z"
   },
   {
    "duration": 298,
    "start_time": "2022-04-20T17:43:44.981Z"
   },
   {
    "duration": 3254,
    "start_time": "2022-04-20T17:43:45.281Z"
   },
   {
    "duration": 3,
    "start_time": "2022-04-20T17:43:48.537Z"
   },
   {
    "duration": 25,
    "start_time": "2022-04-20T17:43:48.541Z"
   },
   {
    "duration": 24,
    "start_time": "2022-04-20T17:43:48.568Z"
   },
   {
    "duration": 46,
    "start_time": "2022-04-20T17:43:48.594Z"
   },
   {
    "duration": 35,
    "start_time": "2022-04-20T17:43:48.642Z"
   },
   {
    "duration": 1389,
    "start_time": "2022-04-20T17:43:48.679Z"
   },
   {
    "duration": 5159,
    "start_time": "2022-04-20T17:43:50.070Z"
   },
   {
    "duration": 1394,
    "start_time": "2022-04-20T17:43:55.231Z"
   },
   {
    "duration": 1654,
    "start_time": "2022-04-20T17:44:38.858Z"
   },
   {
    "duration": 743,
    "start_time": "2022-04-20T17:44:40.514Z"
   },
   {
    "duration": 77,
    "start_time": "2022-04-20T17:44:41.259Z"
   },
   {
    "duration": 43,
    "start_time": "2022-04-20T17:44:41.339Z"
   },
   {
    "duration": 213,
    "start_time": "2022-04-20T17:44:41.383Z"
   },
   {
    "duration": 342,
    "start_time": "2022-04-20T17:44:41.597Z"
   },
   {
    "duration": 230,
    "start_time": "2022-04-20T17:44:41.940Z"
   },
   {
    "duration": 72,
    "start_time": "2022-04-20T17:44:42.171Z"
   },
   {
    "duration": 56,
    "start_time": "2022-04-20T17:44:42.244Z"
   },
   {
    "duration": 36,
    "start_time": "2022-04-20T17:44:42.303Z"
   },
   {
    "duration": 99,
    "start_time": "2022-04-20T17:44:42.341Z"
   },
   {
    "duration": 89,
    "start_time": "2022-04-20T17:44:42.442Z"
   },
   {
    "duration": 26,
    "start_time": "2022-04-20T17:44:42.532Z"
   },
   {
    "duration": 74,
    "start_time": "2022-04-20T17:44:42.560Z"
   },
   {
    "duration": 46,
    "start_time": "2022-04-20T17:44:42.637Z"
   },
   {
    "duration": 51,
    "start_time": "2022-04-20T17:44:42.686Z"
   },
   {
    "duration": 28,
    "start_time": "2022-04-20T17:44:42.739Z"
   },
   {
    "duration": 27,
    "start_time": "2022-04-20T17:44:42.769Z"
   },
   {
    "duration": 65,
    "start_time": "2022-04-20T17:44:42.798Z"
   },
   {
    "duration": 313,
    "start_time": "2022-04-20T17:44:42.865Z"
   },
   {
    "duration": 3275,
    "start_time": "2022-04-20T17:44:43.180Z"
   },
   {
    "duration": 2,
    "start_time": "2022-04-20T17:44:46.457Z"
   },
   {
    "duration": 23,
    "start_time": "2022-04-20T17:44:46.461Z"
   },
   {
    "duration": 41,
    "start_time": "2022-04-20T17:44:46.486Z"
   },
   {
    "duration": 41,
    "start_time": "2022-04-20T17:44:46.529Z"
   },
   {
    "duration": 53,
    "start_time": "2022-04-20T17:44:46.572Z"
   },
   {
    "duration": 1063,
    "start_time": "2022-04-20T17:44:46.626Z"
   },
   {
    "duration": 15260,
    "start_time": "2022-04-20T17:44:47.694Z"
   },
   {
    "duration": 1370,
    "start_time": "2022-04-20T17:45:02.956Z"
   },
   {
    "duration": 43009,
    "start_time": "2022-04-20T17:45:04.336Z"
   },
   {
    "duration": 3141,
    "start_time": "2022-04-20T17:45:47.346Z"
   },
   {
    "duration": 2104,
    "start_time": "2022-04-20T17:45:50.488Z"
   },
   {
    "duration": 2275,
    "start_time": "2022-04-20T17:47:44.002Z"
   },
   {
    "duration": 887,
    "start_time": "2022-04-20T17:47:46.280Z"
   },
   {
    "duration": 73,
    "start_time": "2022-04-20T17:47:47.169Z"
   },
   {
    "duration": 40,
    "start_time": "2022-04-20T17:47:47.245Z"
   },
   {
    "duration": 197,
    "start_time": "2022-04-20T17:47:47.287Z"
   },
   {
    "duration": 300,
    "start_time": "2022-04-20T17:47:47.486Z"
   },
   {
    "duration": 218,
    "start_time": "2022-04-20T17:47:47.787Z"
   },
   {
    "duration": 68,
    "start_time": "2022-04-20T17:47:48.007Z"
   },
   {
    "duration": 64,
    "start_time": "2022-04-20T17:47:48.077Z"
   },
   {
    "duration": 25,
    "start_time": "2022-04-20T17:47:48.143Z"
   },
   {
    "duration": 95,
    "start_time": "2022-04-20T17:47:48.170Z"
   },
   {
    "duration": 90,
    "start_time": "2022-04-20T17:47:48.267Z"
   },
   {
    "duration": 24,
    "start_time": "2022-04-20T17:47:48.358Z"
   },
   {
    "duration": 66,
    "start_time": "2022-04-20T17:47:48.384Z"
   },
   {
    "duration": 32,
    "start_time": "2022-04-20T17:47:48.451Z"
   },
   {
    "duration": 30,
    "start_time": "2022-04-20T17:47:48.485Z"
   },
   {
    "duration": 29,
    "start_time": "2022-04-20T17:47:48.517Z"
   },
   {
    "duration": 28,
    "start_time": "2022-04-20T17:47:48.548Z"
   },
   {
    "duration": 49,
    "start_time": "2022-04-20T17:47:48.578Z"
   },
   {
    "duration": 306,
    "start_time": "2022-04-20T17:47:48.628Z"
   },
   {
    "duration": 3659,
    "start_time": "2022-04-20T17:47:48.936Z"
   },
   {
    "duration": 3,
    "start_time": "2022-04-20T17:47:52.596Z"
   },
   {
    "duration": 29,
    "start_time": "2022-04-20T17:47:52.601Z"
   },
   {
    "duration": 26,
    "start_time": "2022-04-20T17:47:52.632Z"
   },
   {
    "duration": 40,
    "start_time": "2022-04-20T17:47:52.659Z"
   },
   {
    "duration": 55,
    "start_time": "2022-04-20T17:47:52.700Z"
   },
   {
    "duration": 1069,
    "start_time": "2022-04-20T17:47:52.756Z"
   },
   {
    "duration": 449,
    "start_time": "2022-04-20T17:47:53.829Z"
   },
   {
    "duration": 15488,
    "start_time": "2022-04-20T17:47:54.280Z"
   },
   {
    "duration": 1277,
    "start_time": "2022-04-20T17:48:09.770Z"
   },
   {
    "duration": 61649,
    "start_time": "2022-04-20T17:48:11.049Z"
   },
   {
    "duration": 2878,
    "start_time": "2022-04-20T17:49:12.700Z"
   },
   {
    "duration": 1670,
    "start_time": "2022-04-20T17:49:20.091Z"
   },
   {
    "duration": 732,
    "start_time": "2022-04-20T17:49:21.763Z"
   },
   {
    "duration": 86,
    "start_time": "2022-04-20T17:49:22.496Z"
   },
   {
    "duration": 56,
    "start_time": "2022-04-20T17:49:22.584Z"
   },
   {
    "duration": 200,
    "start_time": "2022-04-20T17:49:22.642Z"
   },
   {
    "duration": 472,
    "start_time": "2022-04-20T17:49:22.844Z"
   },
   {
    "duration": 364,
    "start_time": "2022-04-20T17:49:23.318Z"
   },
   {
    "duration": 68,
    "start_time": "2022-04-20T17:49:23.684Z"
   },
   {
    "duration": 71,
    "start_time": "2022-04-20T17:49:23.753Z"
   },
   {
    "duration": 25,
    "start_time": "2022-04-20T17:49:23.828Z"
   },
   {
    "duration": 152,
    "start_time": "2022-04-20T17:49:23.855Z"
   },
   {
    "duration": 84,
    "start_time": "2022-04-20T17:49:24.009Z"
   },
   {
    "duration": 37,
    "start_time": "2022-04-20T17:49:24.095Z"
   },
   {
    "duration": 28,
    "start_time": "2022-04-20T17:49:24.133Z"
   },
   {
    "duration": 29,
    "start_time": "2022-04-20T17:49:24.163Z"
   },
   {
    "duration": 49,
    "start_time": "2022-04-20T17:49:24.193Z"
   },
   {
    "duration": 43,
    "start_time": "2022-04-20T17:49:24.244Z"
   },
   {
    "duration": 62,
    "start_time": "2022-04-20T17:49:24.289Z"
   },
   {
    "duration": 80,
    "start_time": "2022-04-20T17:49:24.353Z"
   },
   {
    "duration": 493,
    "start_time": "2022-04-20T17:49:24.435Z"
   },
   {
    "duration": 5075,
    "start_time": "2022-04-20T17:49:24.931Z"
   },
   {
    "duration": 3,
    "start_time": "2022-04-20T17:49:30.008Z"
   },
   {
    "duration": 21,
    "start_time": "2022-04-20T17:49:30.024Z"
   },
   {
    "duration": 28,
    "start_time": "2022-04-20T17:49:30.047Z"
   },
   {
    "duration": 74,
    "start_time": "2022-04-20T17:49:30.077Z"
   },
   {
    "duration": 48,
    "start_time": "2022-04-20T17:49:30.153Z"
   },
   {
    "duration": 1097,
    "start_time": "2022-04-20T17:49:30.203Z"
   },
   {
    "duration": 461,
    "start_time": "2022-04-20T17:49:31.303Z"
   },
   {
    "duration": 1778,
    "start_time": "2022-04-20T17:49:31.766Z"
   },
   {
    "duration": 1313,
    "start_time": "2022-04-20T17:49:33.546Z"
   },
   {
    "duration": 43302,
    "start_time": "2022-04-20T17:49:34.862Z"
   },
   {
    "duration": 4105,
    "start_time": "2022-04-20T17:50:18.165Z"
   },
   {
    "duration": 2229,
    "start_time": "2022-04-20T17:50:22.272Z"
   },
   {
    "duration": 1812,
    "start_time": "2022-04-20T17:50:55.057Z"
   },
   {
    "duration": 916,
    "start_time": "2022-04-20T17:50:56.871Z"
   },
   {
    "duration": 83,
    "start_time": "2022-04-20T17:50:57.789Z"
   },
   {
    "duration": 40,
    "start_time": "2022-04-20T17:50:57.874Z"
   },
   {
    "duration": 221,
    "start_time": "2022-04-20T17:50:57.929Z"
   },
   {
    "duration": 404,
    "start_time": "2022-04-20T17:50:58.152Z"
   },
   {
    "duration": 244,
    "start_time": "2022-04-20T17:50:58.557Z"
   },
   {
    "duration": 86,
    "start_time": "2022-04-20T17:50:58.803Z"
   },
   {
    "duration": 91,
    "start_time": "2022-04-20T17:50:58.891Z"
   },
   {
    "duration": 32,
    "start_time": "2022-04-20T17:50:58.985Z"
   },
   {
    "duration": 121,
    "start_time": "2022-04-20T17:50:59.023Z"
   },
   {
    "duration": 87,
    "start_time": "2022-04-20T17:50:59.146Z"
   },
   {
    "duration": 33,
    "start_time": "2022-04-20T17:50:59.235Z"
   },
   {
    "duration": 36,
    "start_time": "2022-04-20T17:50:59.270Z"
   },
   {
    "duration": 43,
    "start_time": "2022-04-20T17:50:59.308Z"
   },
   {
    "duration": 28,
    "start_time": "2022-04-20T17:50:59.353Z"
   },
   {
    "duration": 45,
    "start_time": "2022-04-20T17:50:59.382Z"
   },
   {
    "duration": 34,
    "start_time": "2022-04-20T17:50:59.429Z"
   },
   {
    "duration": 64,
    "start_time": "2022-04-20T17:50:59.465Z"
   },
   {
    "duration": 343,
    "start_time": "2022-04-20T17:50:59.531Z"
   },
   {
    "duration": 3538,
    "start_time": "2022-04-20T17:50:59.876Z"
   },
   {
    "duration": 3,
    "start_time": "2022-04-20T17:51:03.424Z"
   },
   {
    "duration": 23,
    "start_time": "2022-04-20T17:51:03.428Z"
   },
   {
    "duration": 25,
    "start_time": "2022-04-20T17:51:03.453Z"
   },
   {
    "duration": 66,
    "start_time": "2022-04-20T17:51:03.480Z"
   },
   {
    "duration": 37,
    "start_time": "2022-04-20T17:51:03.548Z"
   },
   {
    "duration": 1209,
    "start_time": "2022-04-20T17:51:03.587Z"
   },
   {
    "duration": 476,
    "start_time": "2022-04-20T17:51:04.801Z"
   },
   {
    "duration": 125,
    "start_time": "2022-04-20T17:51:05.278Z"
   },
   {
    "duration": 0,
    "start_time": "2022-04-20T17:51:05.405Z"
   },
   {
    "duration": 0,
    "start_time": "2022-04-20T17:51:05.406Z"
   },
   {
    "duration": 0,
    "start_time": "2022-04-20T17:51:05.407Z"
   },
   {
    "duration": 0,
    "start_time": "2022-04-20T17:51:05.409Z"
   },
   {
    "duration": 0,
    "start_time": "2022-04-20T17:51:05.410Z"
   },
   {
    "duration": 0,
    "start_time": "2022-04-20T17:51:05.412Z"
   },
   {
    "duration": 1845,
    "start_time": "2022-04-20T17:51:30.282Z"
   },
   {
    "duration": 1138,
    "start_time": "2022-04-20T17:51:32.130Z"
   },
   {
    "duration": 109,
    "start_time": "2022-04-20T17:51:33.270Z"
   },
   {
    "duration": 54,
    "start_time": "2022-04-20T17:51:33.381Z"
   },
   {
    "duration": 220,
    "start_time": "2022-04-20T17:51:33.443Z"
   },
   {
    "duration": 359,
    "start_time": "2022-04-20T17:51:33.665Z"
   },
   {
    "duration": 231,
    "start_time": "2022-04-20T17:51:34.026Z"
   },
   {
    "duration": 74,
    "start_time": "2022-04-20T17:51:34.259Z"
   },
   {
    "duration": 57,
    "start_time": "2022-04-20T17:51:34.335Z"
   },
   {
    "duration": 38,
    "start_time": "2022-04-20T17:51:34.395Z"
   },
   {
    "duration": 101,
    "start_time": "2022-04-20T17:51:34.435Z"
   },
   {
    "duration": 92,
    "start_time": "2022-04-20T17:51:34.538Z"
   },
   {
    "duration": 27,
    "start_time": "2022-04-20T17:51:34.632Z"
   },
   {
    "duration": 28,
    "start_time": "2022-04-20T17:51:34.661Z"
   },
   {
    "duration": 44,
    "start_time": "2022-04-20T17:51:34.691Z"
   },
   {
    "duration": 28,
    "start_time": "2022-04-20T17:51:34.736Z"
   },
   {
    "duration": 57,
    "start_time": "2022-04-20T17:51:34.767Z"
   },
   {
    "duration": 28,
    "start_time": "2022-04-20T17:51:34.826Z"
   },
   {
    "duration": 43,
    "start_time": "2022-04-20T17:51:34.856Z"
   },
   {
    "duration": 307,
    "start_time": "2022-04-20T17:51:34.900Z"
   },
   {
    "duration": 3318,
    "start_time": "2022-04-20T17:51:35.209Z"
   },
   {
    "duration": 2,
    "start_time": "2022-04-20T17:51:38.529Z"
   },
   {
    "duration": 22,
    "start_time": "2022-04-20T17:51:38.533Z"
   },
   {
    "duration": 24,
    "start_time": "2022-04-20T17:51:38.556Z"
   },
   {
    "duration": 64,
    "start_time": "2022-04-20T17:51:38.582Z"
   },
   {
    "duration": 35,
    "start_time": "2022-04-20T17:51:38.647Z"
   },
   {
    "duration": 1099,
    "start_time": "2022-04-20T17:51:38.683Z"
   },
   {
    "duration": 450,
    "start_time": "2022-04-20T17:51:39.786Z"
   },
   {
    "duration": 1274,
    "start_time": "2022-04-20T17:51:40.238Z"
   },
   {
    "duration": 1825,
    "start_time": "2022-04-20T17:51:41.513Z"
   },
   {
    "duration": 60859,
    "start_time": "2022-04-20T17:51:43.340Z"
   },
   {
    "duration": 3326,
    "start_time": "2022-04-20T17:52:44.201Z"
   },
   {
    "duration": 2226,
    "start_time": "2022-04-20T17:52:47.529Z"
   },
   {
    "duration": 1543,
    "start_time": "2022-04-20T17:55:26.227Z"
   },
   {
    "duration": 731,
    "start_time": "2022-04-20T17:55:27.771Z"
   },
   {
    "duration": 72,
    "start_time": "2022-04-20T17:55:28.504Z"
   },
   {
    "duration": 53,
    "start_time": "2022-04-20T17:55:28.578Z"
   },
   {
    "duration": 186,
    "start_time": "2022-04-20T17:55:28.634Z"
   },
   {
    "duration": 310,
    "start_time": "2022-04-20T17:55:28.823Z"
   },
   {
    "duration": 223,
    "start_time": "2022-04-20T17:55:29.134Z"
   },
   {
    "duration": 68,
    "start_time": "2022-04-20T17:55:29.358Z"
   },
   {
    "duration": 59,
    "start_time": "2022-04-20T17:55:29.428Z"
   },
   {
    "duration": 46,
    "start_time": "2022-04-20T17:55:29.489Z"
   },
   {
    "duration": 99,
    "start_time": "2022-04-20T17:55:29.537Z"
   },
   {
    "duration": 87,
    "start_time": "2022-04-20T17:55:29.638Z"
   },
   {
    "duration": 25,
    "start_time": "2022-04-20T17:55:29.727Z"
   },
   {
    "duration": 28,
    "start_time": "2022-04-20T17:55:29.756Z"
   },
   {
    "duration": 46,
    "start_time": "2022-04-20T17:55:29.786Z"
   },
   {
    "duration": 28,
    "start_time": "2022-04-20T17:55:29.834Z"
   },
   {
    "duration": 27,
    "start_time": "2022-04-20T17:55:29.864Z"
   },
   {
    "duration": 52,
    "start_time": "2022-04-20T17:55:29.892Z"
   },
   {
    "duration": 41,
    "start_time": "2022-04-20T17:55:29.946Z"
   },
   {
    "duration": 462,
    "start_time": "2022-04-20T17:55:29.989Z"
   },
   {
    "duration": 3490,
    "start_time": "2022-04-20T17:55:30.453Z"
   },
   {
    "duration": 3,
    "start_time": "2022-04-20T17:55:33.944Z"
   },
   {
    "duration": 18,
    "start_time": "2022-04-20T17:55:33.948Z"
   },
   {
    "duration": 26,
    "start_time": "2022-04-20T17:55:33.968Z"
   },
   {
    "duration": 61,
    "start_time": "2022-04-20T17:55:33.996Z"
   },
   {
    "duration": 49,
    "start_time": "2022-04-20T17:55:34.059Z"
   },
   {
    "duration": 1851,
    "start_time": "2022-04-20T17:55:34.110Z"
   },
   {
    "duration": 452,
    "start_time": "2022-04-20T17:55:35.963Z"
   },
   {
    "duration": 126,
    "start_time": "2022-04-20T17:55:36.417Z"
   },
   {
    "duration": 0,
    "start_time": "2022-04-20T17:55:36.545Z"
   },
   {
    "duration": 0,
    "start_time": "2022-04-20T17:55:36.546Z"
   },
   {
    "duration": 0,
    "start_time": "2022-04-20T17:55:36.547Z"
   },
   {
    "duration": 0,
    "start_time": "2022-04-20T17:55:36.548Z"
   },
   {
    "duration": 0,
    "start_time": "2022-04-20T17:55:36.549Z"
   },
   {
    "duration": 0,
    "start_time": "2022-04-20T17:55:36.550Z"
   },
   {
    "duration": 2118,
    "start_time": "2022-04-20T17:55:52.129Z"
   },
   {
    "duration": 1083,
    "start_time": "2022-04-20T17:55:54.250Z"
   },
   {
    "duration": 93,
    "start_time": "2022-04-20T17:55:55.335Z"
   },
   {
    "duration": 52,
    "start_time": "2022-04-20T17:55:55.430Z"
   },
   {
    "duration": 330,
    "start_time": "2022-04-20T17:55:55.484Z"
   },
   {
    "duration": 567,
    "start_time": "2022-04-20T17:55:55.817Z"
   },
   {
    "duration": 362,
    "start_time": "2022-04-20T17:55:56.386Z"
   },
   {
    "duration": 111,
    "start_time": "2022-04-20T17:55:56.750Z"
   },
   {
    "duration": 108,
    "start_time": "2022-04-20T17:55:56.863Z"
   },
   {
    "duration": 50,
    "start_time": "2022-04-20T17:55:56.975Z"
   },
   {
    "duration": 86,
    "start_time": "2022-04-20T17:55:57.026Z"
   },
   {
    "duration": 72,
    "start_time": "2022-04-20T17:55:57.114Z"
   },
   {
    "duration": 39,
    "start_time": "2022-04-20T17:55:57.188Z"
   },
   {
    "duration": 29,
    "start_time": "2022-04-20T17:55:57.229Z"
   },
   {
    "duration": 27,
    "start_time": "2022-04-20T17:55:57.259Z"
   },
   {
    "duration": 39,
    "start_time": "2022-04-20T17:55:57.288Z"
   },
   {
    "duration": 25,
    "start_time": "2022-04-20T17:55:57.328Z"
   },
   {
    "duration": 25,
    "start_time": "2022-04-20T17:55:57.355Z"
   },
   {
    "duration": 59,
    "start_time": "2022-04-20T17:55:57.381Z"
   },
   {
    "duration": 275,
    "start_time": "2022-04-20T17:55:57.442Z"
   },
   {
    "duration": 3459,
    "start_time": "2022-04-20T17:55:57.723Z"
   },
   {
    "duration": 2,
    "start_time": "2022-04-20T17:56:01.184Z"
   },
   {
    "duration": 25,
    "start_time": "2022-04-20T17:56:01.188Z"
   },
   {
    "duration": 26,
    "start_time": "2022-04-20T17:56:01.223Z"
   },
   {
    "duration": 41,
    "start_time": "2022-04-20T17:56:01.251Z"
   },
   {
    "duration": 56,
    "start_time": "2022-04-20T17:56:01.294Z"
   },
   {
    "duration": 1224,
    "start_time": "2022-04-20T17:56:01.352Z"
   },
   {
    "duration": 452,
    "start_time": "2022-04-20T17:56:02.580Z"
   },
   {
    "duration": 1209,
    "start_time": "2022-04-20T17:56:03.033Z"
   },
   {
    "duration": 1280,
    "start_time": "2022-04-20T17:56:04.244Z"
   },
   {
    "duration": 44253,
    "start_time": "2022-04-20T17:56:05.526Z"
   },
   {
    "duration": 4288,
    "start_time": "2022-04-20T17:56:49.781Z"
   },
   {
    "duration": 2196,
    "start_time": "2022-04-20T17:56:54.071Z"
   },
   {
    "duration": 2376,
    "start_time": "2022-04-20T20:31:46.584Z"
   },
   {
    "duration": 1218,
    "start_time": "2022-04-20T20:31:48.963Z"
   },
   {
    "duration": 72,
    "start_time": "2022-04-20T20:31:50.182Z"
   },
   {
    "duration": 54,
    "start_time": "2022-04-20T20:31:50.256Z"
   },
   {
    "duration": 227,
    "start_time": "2022-04-20T20:31:50.313Z"
   },
   {
    "duration": 370,
    "start_time": "2022-04-20T20:31:50.542Z"
   },
   {
    "duration": 266,
    "start_time": "2022-04-20T20:31:50.914Z"
   },
   {
    "duration": 90,
    "start_time": "2022-04-20T20:31:51.182Z"
   },
   {
    "duration": 98,
    "start_time": "2022-04-20T20:31:51.273Z"
   },
   {
    "duration": 31,
    "start_time": "2022-04-20T20:31:51.373Z"
   },
   {
    "duration": 121,
    "start_time": "2022-04-20T20:31:51.405Z"
   },
   {
    "duration": 108,
    "start_time": "2022-04-20T20:31:51.528Z"
   },
   {
    "duration": 34,
    "start_time": "2022-04-20T20:31:51.638Z"
   },
   {
    "duration": 34,
    "start_time": "2022-04-20T20:31:51.692Z"
   },
   {
    "duration": 32,
    "start_time": "2022-04-20T20:31:51.728Z"
   },
   {
    "duration": 51,
    "start_time": "2022-04-20T20:31:51.762Z"
   },
   {
    "duration": 34,
    "start_time": "2022-04-20T20:31:51.815Z"
   },
   {
    "duration": 55,
    "start_time": "2022-04-20T20:31:51.851Z"
   },
   {
    "duration": 56,
    "start_time": "2022-04-20T20:31:51.907Z"
   },
   {
    "duration": 358,
    "start_time": "2022-04-20T20:31:51.965Z"
   },
   {
    "duration": 3848,
    "start_time": "2022-04-20T20:31:52.324Z"
   },
   {
    "duration": 2,
    "start_time": "2022-04-20T20:31:56.174Z"
   },
   {
    "duration": 33,
    "start_time": "2022-04-20T20:31:56.178Z"
   },
   {
    "duration": 28,
    "start_time": "2022-04-20T20:31:56.213Z"
   },
   {
    "duration": 79,
    "start_time": "2022-04-20T20:31:56.243Z"
   },
   {
    "duration": 49,
    "start_time": "2022-04-20T20:31:56.324Z"
   },
   {
    "duration": 1286,
    "start_time": "2022-04-20T20:31:56.375Z"
   },
   {
    "duration": 465,
    "start_time": "2022-04-20T20:31:57.662Z"
   },
   {
    "duration": 1264,
    "start_time": "2022-04-20T20:31:58.128Z"
   },
   {
    "duration": 1503,
    "start_time": "2022-04-20T20:31:59.394Z"
   },
   {
    "duration": 461,
    "start_time": "2022-04-20T20:32:00.900Z"
   },
   {
    "duration": 1808,
    "start_time": "2022-04-20T20:32:58.603Z"
   },
   {
    "duration": 846,
    "start_time": "2022-04-20T20:33:00.414Z"
   },
   {
    "duration": 74,
    "start_time": "2022-04-20T20:33:01.262Z"
   },
   {
    "duration": 42,
    "start_time": "2022-04-20T20:33:01.338Z"
   },
   {
    "duration": 240,
    "start_time": "2022-04-20T20:33:01.393Z"
   },
   {
    "duration": 397,
    "start_time": "2022-04-20T20:33:01.634Z"
   },
   {
    "duration": 264,
    "start_time": "2022-04-20T20:33:02.032Z"
   },
   {
    "duration": 96,
    "start_time": "2022-04-20T20:33:02.298Z"
   },
   {
    "duration": 79,
    "start_time": "2022-04-20T20:33:02.395Z"
   },
   {
    "duration": 45,
    "start_time": "2022-04-20T20:33:02.477Z"
   },
   {
    "duration": 144,
    "start_time": "2022-04-20T20:33:02.524Z"
   },
   {
    "duration": 102,
    "start_time": "2022-04-20T20:33:02.670Z"
   },
   {
    "duration": 43,
    "start_time": "2022-04-20T20:33:02.774Z"
   },
   {
    "duration": 34,
    "start_time": "2022-04-20T20:33:02.819Z"
   },
   {
    "duration": 48,
    "start_time": "2022-04-20T20:33:02.855Z"
   },
   {
    "duration": 39,
    "start_time": "2022-04-20T20:33:02.905Z"
   },
   {
    "duration": 50,
    "start_time": "2022-04-20T20:33:02.946Z"
   },
   {
    "duration": 35,
    "start_time": "2022-04-20T20:33:02.997Z"
   },
   {
    "duration": 118,
    "start_time": "2022-04-20T20:33:03.034Z"
   },
   {
    "duration": 602,
    "start_time": "2022-04-20T20:33:03.154Z"
   },
   {
    "duration": 6069,
    "start_time": "2022-04-20T20:33:03.758Z"
   },
   {
    "duration": 3,
    "start_time": "2022-04-20T20:33:09.829Z"
   },
   {
    "duration": 23,
    "start_time": "2022-04-20T20:33:09.833Z"
   },
   {
    "duration": 36,
    "start_time": "2022-04-20T20:33:09.858Z"
   },
   {
    "duration": 43,
    "start_time": "2022-04-20T20:33:09.896Z"
   },
   {
    "duration": 53,
    "start_time": "2022-04-20T20:33:09.940Z"
   },
   {
    "duration": 1268,
    "start_time": "2022-04-20T20:33:09.995Z"
   },
   {
    "duration": 465,
    "start_time": "2022-04-20T20:33:11.267Z"
   },
   {
    "duration": 1240,
    "start_time": "2022-04-20T20:33:11.734Z"
   },
   {
    "duration": 1531,
    "start_time": "2022-04-20T20:33:12.976Z"
   },
   {
    "duration": 396,
    "start_time": "2022-04-20T20:33:14.593Z"
   },
   {
    "duration": 1773,
    "start_time": "2022-04-20T20:34:52.228Z"
   },
   {
    "duration": 859,
    "start_time": "2022-04-20T20:34:54.004Z"
   },
   {
    "duration": 74,
    "start_time": "2022-04-20T20:34:54.864Z"
   },
   {
    "duration": 57,
    "start_time": "2022-04-20T20:34:54.940Z"
   },
   {
    "duration": 254,
    "start_time": "2022-04-20T20:34:55.001Z"
   },
   {
    "duration": 422,
    "start_time": "2022-04-20T20:34:55.257Z"
   },
   {
    "duration": 281,
    "start_time": "2022-04-20T20:34:55.681Z"
   },
   {
    "duration": 93,
    "start_time": "2022-04-20T20:34:55.964Z"
   },
   {
    "duration": 88,
    "start_time": "2022-04-20T20:34:56.059Z"
   },
   {
    "duration": 47,
    "start_time": "2022-04-20T20:34:56.149Z"
   },
   {
    "duration": 121,
    "start_time": "2022-04-20T20:34:56.198Z"
   },
   {
    "duration": 112,
    "start_time": "2022-04-20T20:34:56.321Z"
   },
   {
    "duration": 33,
    "start_time": "2022-04-20T20:34:56.435Z"
   },
   {
    "duration": 49,
    "start_time": "2022-04-20T20:34:56.472Z"
   },
   {
    "duration": 48,
    "start_time": "2022-04-20T20:34:56.523Z"
   },
   {
    "duration": 36,
    "start_time": "2022-04-20T20:34:56.573Z"
   },
   {
    "duration": 35,
    "start_time": "2022-04-20T20:34:56.610Z"
   },
   {
    "duration": 57,
    "start_time": "2022-04-20T20:34:56.647Z"
   },
   {
    "duration": 58,
    "start_time": "2022-04-20T20:34:56.706Z"
   },
   {
    "duration": 370,
    "start_time": "2022-04-20T20:34:56.765Z"
   },
   {
    "duration": 3927,
    "start_time": "2022-04-20T20:34:57.137Z"
   },
   {
    "duration": 3,
    "start_time": "2022-04-20T20:35:01.065Z"
   },
   {
    "duration": 35,
    "start_time": "2022-04-20T20:35:01.070Z"
   },
   {
    "duration": 25,
    "start_time": "2022-04-20T20:35:01.107Z"
   },
   {
    "duration": 44,
    "start_time": "2022-04-20T20:35:01.133Z"
   },
   {
    "duration": 37,
    "start_time": "2022-04-20T20:35:01.194Z"
   },
   {
    "duration": 1300,
    "start_time": "2022-04-20T20:35:01.233Z"
   },
   {
    "duration": 463,
    "start_time": "2022-04-20T20:35:02.536Z"
   },
   {
    "duration": 1246,
    "start_time": "2022-04-20T20:35:03.001Z"
   },
   {
    "duration": 1546,
    "start_time": "2022-04-20T20:35:04.249Z"
   },
   {
    "duration": 431,
    "start_time": "2022-04-20T20:35:05.802Z"
   },
   {
    "duration": 52958,
    "start_time": "2022-04-20T20:35:06.236Z"
   },
   {
    "duration": 2555,
    "start_time": "2022-04-20T20:35:59.195Z"
   },
   {
    "duration": 1788,
    "start_time": "2022-04-20T20:40:13.240Z"
   },
   {
    "duration": 1026,
    "start_time": "2022-04-20T20:40:15.030Z"
   },
   {
    "duration": 78,
    "start_time": "2022-04-20T20:40:16.058Z"
   },
   {
    "duration": 39,
    "start_time": "2022-04-20T20:40:16.137Z"
   },
   {
    "duration": 232,
    "start_time": "2022-04-20T20:40:16.179Z"
   },
   {
    "duration": 369,
    "start_time": "2022-04-20T20:40:16.413Z"
   },
   {
    "duration": 270,
    "start_time": "2022-04-20T20:40:16.784Z"
   },
   {
    "duration": 92,
    "start_time": "2022-04-20T20:40:17.056Z"
   },
   {
    "duration": 87,
    "start_time": "2022-04-20T20:40:17.149Z"
   },
   {
    "duration": 32,
    "start_time": "2022-04-20T20:40:17.238Z"
   },
   {
    "duration": 130,
    "start_time": "2022-04-20T20:40:17.272Z"
   },
   {
    "duration": 108,
    "start_time": "2022-04-20T20:40:17.404Z"
   },
   {
    "duration": 34,
    "start_time": "2022-04-20T20:40:17.514Z"
   },
   {
    "duration": 51,
    "start_time": "2022-04-20T20:40:17.553Z"
   },
   {
    "duration": 34,
    "start_time": "2022-04-20T20:40:17.607Z"
   },
   {
    "duration": 56,
    "start_time": "2022-04-20T20:40:17.643Z"
   },
   {
    "duration": 33,
    "start_time": "2022-04-20T20:40:17.701Z"
   },
   {
    "duration": 57,
    "start_time": "2022-04-20T20:40:17.736Z"
   },
   {
    "duration": 53,
    "start_time": "2022-04-20T20:40:17.795Z"
   },
   {
    "duration": 345,
    "start_time": "2022-04-20T20:40:17.849Z"
   },
   {
    "duration": 3935,
    "start_time": "2022-04-20T20:40:18.196Z"
   },
   {
    "duration": 3,
    "start_time": "2022-04-20T20:40:22.132Z"
   },
   {
    "duration": 19,
    "start_time": "2022-04-20T20:40:22.136Z"
   },
   {
    "duration": 42,
    "start_time": "2022-04-20T20:40:22.157Z"
   },
   {
    "duration": 41,
    "start_time": "2022-04-20T20:40:22.201Z"
   },
   {
    "duration": 52,
    "start_time": "2022-04-20T20:40:22.244Z"
   },
   {
    "duration": 1248,
    "start_time": "2022-04-20T20:40:22.298Z"
   },
   {
    "duration": 455,
    "start_time": "2022-04-20T20:40:23.548Z"
   },
   {
    "duration": 1252,
    "start_time": "2022-04-20T20:40:24.005Z"
   },
   {
    "duration": 1734,
    "start_time": "2022-04-20T20:40:25.258Z"
   },
   {
    "duration": 355,
    "start_time": "2022-04-20T20:40:26.994Z"
   },
   {
    "duration": 54483,
    "start_time": "2022-04-20T20:40:27.351Z"
   },
   {
    "duration": 230,
    "start_time": "2022-04-20T20:41:21.836Z"
   },
   {
    "duration": 0,
    "start_time": "2022-04-20T20:41:22.068Z"
   },
   {
    "duration": 0,
    "start_time": "2022-04-20T20:41:22.070Z"
   },
   {
    "duration": 0,
    "start_time": "2022-04-20T20:41:22.071Z"
   },
   {
    "duration": 22871,
    "start_time": "2022-04-20T20:41:58.424Z"
   },
   {
    "duration": 2008,
    "start_time": "2022-04-20T20:42:34.801Z"
   },
   {
    "duration": 843,
    "start_time": "2022-04-20T20:42:36.812Z"
   },
   {
    "duration": 78,
    "start_time": "2022-04-20T20:42:37.657Z"
   },
   {
    "duration": 56,
    "start_time": "2022-04-20T20:42:37.738Z"
   },
   {
    "duration": 243,
    "start_time": "2022-04-20T20:42:37.796Z"
   },
   {
    "duration": 405,
    "start_time": "2022-04-20T20:42:38.041Z"
   },
   {
    "duration": 269,
    "start_time": "2022-04-20T20:42:38.448Z"
   },
   {
    "duration": 94,
    "start_time": "2022-04-20T20:42:38.718Z"
   },
   {
    "duration": 90,
    "start_time": "2022-04-20T20:42:38.814Z"
   },
   {
    "duration": 31,
    "start_time": "2022-04-20T20:42:38.907Z"
   },
   {
    "duration": 124,
    "start_time": "2022-04-20T20:42:38.940Z"
   },
   {
    "duration": 106,
    "start_time": "2022-04-20T20:42:39.066Z"
   },
   {
    "duration": 53,
    "start_time": "2022-04-20T20:42:39.174Z"
   },
   {
    "duration": 39,
    "start_time": "2022-04-20T20:42:39.229Z"
   },
   {
    "duration": 38,
    "start_time": "2022-04-20T20:42:39.269Z"
   },
   {
    "duration": 36,
    "start_time": "2022-04-20T20:42:39.309Z"
   },
   {
    "duration": 54,
    "start_time": "2022-04-20T20:42:39.346Z"
   },
   {
    "duration": 34,
    "start_time": "2022-04-20T20:42:39.402Z"
   },
   {
    "duration": 72,
    "start_time": "2022-04-20T20:42:39.437Z"
   },
   {
    "duration": 358,
    "start_time": "2022-04-20T20:42:39.511Z"
   },
   {
    "duration": 3865,
    "start_time": "2022-04-20T20:42:39.870Z"
   },
   {
    "duration": 3,
    "start_time": "2022-04-20T20:42:43.737Z"
   },
   {
    "duration": 20,
    "start_time": "2022-04-20T20:42:43.742Z"
   },
   {
    "duration": 45,
    "start_time": "2022-04-20T20:42:43.764Z"
   },
   {
    "duration": 42,
    "start_time": "2022-04-20T20:42:43.811Z"
   },
   {
    "duration": 58,
    "start_time": "2022-04-20T20:42:43.855Z"
   },
   {
    "duration": 1277,
    "start_time": "2022-04-20T20:42:43.915Z"
   },
   {
    "duration": 469,
    "start_time": "2022-04-20T20:42:45.196Z"
   },
   {
    "duration": 1327,
    "start_time": "2022-04-20T20:42:45.666Z"
   },
   {
    "duration": 1242,
    "start_time": "2022-04-20T20:42:46.995Z"
   },
   {
    "duration": 459,
    "start_time": "2022-04-20T20:42:48.308Z"
   },
   {
    "duration": 54644,
    "start_time": "2022-04-20T20:42:48.769Z"
   },
   {
    "duration": 17528,
    "start_time": "2022-04-20T20:43:43.414Z"
   },
   {
    "duration": 2527,
    "start_time": "2022-04-20T20:44:00.944Z"
   },
   {
    "duration": 2240,
    "start_time": "2022-04-20T20:47:15.078Z"
   },
   {
    "duration": 1479,
    "start_time": "2022-04-20T20:47:17.321Z"
   },
   {
    "duration": 71,
    "start_time": "2022-04-20T20:47:18.803Z"
   },
   {
    "duration": 57,
    "start_time": "2022-04-20T20:47:18.876Z"
   },
   {
    "duration": 235,
    "start_time": "2022-04-20T20:47:18.936Z"
   },
   {
    "duration": 403,
    "start_time": "2022-04-20T20:47:19.173Z"
   },
   {
    "duration": 282,
    "start_time": "2022-04-20T20:47:19.578Z"
   },
   {
    "duration": 92,
    "start_time": "2022-04-20T20:47:19.862Z"
   },
   {
    "duration": 91,
    "start_time": "2022-04-20T20:47:19.956Z"
   },
   {
    "duration": 46,
    "start_time": "2022-04-20T20:47:20.049Z"
   },
   {
    "duration": 116,
    "start_time": "2022-04-20T20:47:20.096Z"
   },
   {
    "duration": 116,
    "start_time": "2022-04-20T20:47:20.215Z"
   },
   {
    "duration": 32,
    "start_time": "2022-04-20T20:47:20.334Z"
   },
   {
    "duration": 47,
    "start_time": "2022-04-20T20:47:20.370Z"
   },
   {
    "duration": 57,
    "start_time": "2022-04-20T20:47:20.420Z"
   },
   {
    "duration": 35,
    "start_time": "2022-04-20T20:47:20.493Z"
   },
   {
    "duration": 35,
    "start_time": "2022-04-20T20:47:20.530Z"
   },
   {
    "duration": 57,
    "start_time": "2022-04-20T20:47:20.567Z"
   },
   {
    "duration": 77,
    "start_time": "2022-04-20T20:47:20.626Z"
   },
   {
    "duration": 367,
    "start_time": "2022-04-20T20:47:20.706Z"
   },
   {
    "duration": 3889,
    "start_time": "2022-04-20T20:47:21.075Z"
   },
   {
    "duration": 3,
    "start_time": "2022-04-20T20:47:24.966Z"
   },
   {
    "duration": 34,
    "start_time": "2022-04-20T20:47:24.970Z"
   },
   {
    "duration": 27,
    "start_time": "2022-04-20T20:47:25.006Z"
   },
   {
    "duration": 58,
    "start_time": "2022-04-20T20:47:25.035Z"
   },
   {
    "duration": 38,
    "start_time": "2022-04-20T20:47:25.095Z"
   },
   {
    "duration": 1303,
    "start_time": "2022-04-20T20:47:25.135Z"
   },
   {
    "duration": 472,
    "start_time": "2022-04-20T20:47:26.440Z"
   },
   {
    "duration": 1302,
    "start_time": "2022-04-20T20:47:26.914Z"
   },
   {
    "duration": 1274,
    "start_time": "2022-04-20T20:47:28.219Z"
   },
   {
    "duration": 445,
    "start_time": "2022-04-20T20:47:29.496Z"
   },
   {
    "duration": 53662,
    "start_time": "2022-04-20T20:47:29.943Z"
   },
   {
    "duration": 18470,
    "start_time": "2022-04-20T20:48:23.608Z"
   },
   {
    "duration": 2746,
    "start_time": "2022-04-20T20:48:42.080Z"
   },
   {
    "duration": 433170,
    "start_time": "2022-04-20T20:48:44.828Z"
   },
   {
    "duration": 126011,
    "start_time": "2022-04-20T20:55:58.000Z"
   },
   {
    "duration": 1843,
    "start_time": "2022-04-20T21:03:13.103Z"
   },
   {
    "duration": 880,
    "start_time": "2022-04-20T21:03:14.948Z"
   },
   {
    "duration": 88,
    "start_time": "2022-04-20T21:03:15.829Z"
   },
   {
    "duration": 40,
    "start_time": "2022-04-20T21:03:15.919Z"
   },
   {
    "duration": 269,
    "start_time": "2022-04-20T21:03:15.961Z"
   },
   {
    "duration": 434,
    "start_time": "2022-04-20T21:03:16.232Z"
   },
   {
    "duration": 291,
    "start_time": "2022-04-20T21:03:16.668Z"
   },
   {
    "duration": 95,
    "start_time": "2022-04-20T21:03:16.961Z"
   },
   {
    "duration": 99,
    "start_time": "2022-04-20T21:03:17.057Z"
   },
   {
    "duration": 43,
    "start_time": "2022-04-20T21:03:17.158Z"
   },
   {
    "duration": 127,
    "start_time": "2022-04-20T21:03:17.205Z"
   },
   {
    "duration": 120,
    "start_time": "2022-04-20T21:03:17.334Z"
   },
   {
    "duration": 42,
    "start_time": "2022-04-20T21:03:17.455Z"
   },
   {
    "duration": 40,
    "start_time": "2022-04-20T21:03:17.500Z"
   },
   {
    "duration": 32,
    "start_time": "2022-04-20T21:03:17.542Z"
   },
   {
    "duration": 43,
    "start_time": "2022-04-20T21:03:17.593Z"
   },
   {
    "duration": 34,
    "start_time": "2022-04-20T21:03:17.638Z"
   },
   {
    "duration": 41,
    "start_time": "2022-04-20T21:03:17.693Z"
   },
   {
    "duration": 67,
    "start_time": "2022-04-20T21:03:17.736Z"
   },
   {
    "duration": 371,
    "start_time": "2022-04-20T21:03:17.804Z"
   },
   {
    "duration": 4311,
    "start_time": "2022-04-20T21:03:18.177Z"
   },
   {
    "duration": 4,
    "start_time": "2022-04-20T21:03:22.495Z"
   },
   {
    "duration": 26,
    "start_time": "2022-04-20T21:03:22.502Z"
   },
   {
    "duration": 28,
    "start_time": "2022-04-20T21:03:22.530Z"
   },
   {
    "duration": 81,
    "start_time": "2022-04-20T21:03:22.561Z"
   },
   {
    "duration": 58,
    "start_time": "2022-04-20T21:03:22.644Z"
   },
   {
    "duration": 1979,
    "start_time": "2022-04-20T21:03:22.704Z"
   },
   {
    "duration": 500,
    "start_time": "2022-04-20T21:03:24.685Z"
   },
   {
    "duration": 1401,
    "start_time": "2022-04-20T21:03:25.187Z"
   },
   {
    "duration": 1805,
    "start_time": "2022-04-20T21:03:26.589Z"
   },
   {
    "duration": 472,
    "start_time": "2022-04-20T21:03:28.397Z"
   },
   {
    "duration": 57086,
    "start_time": "2022-04-20T21:03:28.871Z"
   },
   {
    "duration": 18600,
    "start_time": "2022-04-20T21:04:25.958Z"
   },
   {
    "duration": 48,
    "start_time": "2022-04-20T21:04:44.560Z"
   },
   {
    "duration": 157,
    "start_time": "2022-04-20T21:04:44.610Z"
   },
   {
    "duration": 0,
    "start_time": "2022-04-20T21:04:44.769Z"
   },
   {
    "duration": 0,
    "start_time": "2022-04-20T21:04:44.770Z"
   },
   {
    "duration": 2026,
    "start_time": "2022-04-20T21:10:04.693Z"
   },
   {
    "duration": 838,
    "start_time": "2022-04-20T21:10:06.721Z"
   },
   {
    "duration": 73,
    "start_time": "2022-04-20T21:10:07.561Z"
   },
   {
    "duration": 56,
    "start_time": "2022-04-20T21:10:07.636Z"
   },
   {
    "duration": 232,
    "start_time": "2022-04-20T21:10:07.694Z"
   },
   {
    "duration": 387,
    "start_time": "2022-04-20T21:10:07.927Z"
   },
   {
    "duration": 264,
    "start_time": "2022-04-20T21:10:08.316Z"
   },
   {
    "duration": 96,
    "start_time": "2022-04-20T21:10:08.582Z"
   },
   {
    "duration": 94,
    "start_time": "2022-04-20T21:10:08.680Z"
   },
   {
    "duration": 43,
    "start_time": "2022-04-20T21:10:08.777Z"
   },
   {
    "duration": 128,
    "start_time": "2022-04-20T21:10:08.821Z"
   },
   {
    "duration": 112,
    "start_time": "2022-04-20T21:10:08.951Z"
   },
   {
    "duration": 33,
    "start_time": "2022-04-20T21:10:09.064Z"
   },
   {
    "duration": 45,
    "start_time": "2022-04-20T21:10:09.100Z"
   },
   {
    "duration": 36,
    "start_time": "2022-04-20T21:10:09.147Z"
   },
   {
    "duration": 50,
    "start_time": "2022-04-20T21:10:09.185Z"
   },
   {
    "duration": 33,
    "start_time": "2022-04-20T21:10:09.237Z"
   },
   {
    "duration": 56,
    "start_time": "2022-04-20T21:10:09.272Z"
   },
   {
    "duration": 75,
    "start_time": "2022-04-20T21:10:09.330Z"
   },
   {
    "duration": 344,
    "start_time": "2022-04-20T21:10:09.408Z"
   },
   {
    "duration": 4355,
    "start_time": "2022-04-20T21:10:09.755Z"
   },
   {
    "duration": 3,
    "start_time": "2022-04-20T21:10:14.112Z"
   },
   {
    "duration": 18,
    "start_time": "2022-04-20T21:10:14.117Z"
   },
   {
    "duration": 25,
    "start_time": "2022-04-20T21:10:14.137Z"
   },
   {
    "duration": 72,
    "start_time": "2022-04-20T21:10:14.164Z"
   },
   {
    "duration": 37,
    "start_time": "2022-04-20T21:10:14.238Z"
   },
   {
    "duration": 1401,
    "start_time": "2022-04-20T21:10:14.277Z"
   },
   {
    "duration": 491,
    "start_time": "2022-04-20T21:10:15.681Z"
   },
   {
    "duration": 1257,
    "start_time": "2022-04-20T21:10:16.173Z"
   },
   {
    "duration": 1374,
    "start_time": "2022-04-20T21:10:17.432Z"
   },
   {
    "duration": 432,
    "start_time": "2022-04-20T21:10:18.808Z"
   },
   {
    "duration": 54167,
    "start_time": "2022-04-20T21:10:19.241Z"
   },
   {
    "duration": 17563,
    "start_time": "2022-04-20T21:11:13.410Z"
   },
   {
    "duration": 39,
    "start_time": "2022-04-20T21:11:30.975Z"
   },
   {
    "duration": 4491,
    "start_time": "2022-04-20T21:11:31.015Z"
   },
   {
    "duration": 0,
    "start_time": "2022-04-20T21:11:35.508Z"
   },
   {
    "duration": 0,
    "start_time": "2022-04-20T21:11:35.509Z"
   },
   {
    "duration": 1781,
    "start_time": "2022-04-20T21:12:41.529Z"
   },
   {
    "duration": 850,
    "start_time": "2022-04-20T21:12:43.313Z"
   },
   {
    "duration": 81,
    "start_time": "2022-04-20T21:12:44.164Z"
   },
   {
    "duration": 51,
    "start_time": "2022-04-20T21:12:44.247Z"
   },
   {
    "duration": 232,
    "start_time": "2022-04-20T21:12:44.300Z"
   },
   {
    "duration": 395,
    "start_time": "2022-04-20T21:12:44.534Z"
   },
   {
    "duration": 295,
    "start_time": "2022-04-20T21:12:44.932Z"
   },
   {
    "duration": 102,
    "start_time": "2022-04-20T21:12:45.229Z"
   },
   {
    "duration": 93,
    "start_time": "2022-04-20T21:12:45.332Z"
   },
   {
    "duration": 32,
    "start_time": "2022-04-20T21:12:45.428Z"
   },
   {
    "duration": 136,
    "start_time": "2022-04-20T21:12:45.461Z"
   },
   {
    "duration": 124,
    "start_time": "2022-04-20T21:12:45.598Z"
   },
   {
    "duration": 33,
    "start_time": "2022-04-20T21:12:45.724Z"
   },
   {
    "duration": 55,
    "start_time": "2022-04-20T21:12:45.758Z"
   },
   {
    "duration": 33,
    "start_time": "2022-04-20T21:12:45.815Z"
   },
   {
    "duration": 50,
    "start_time": "2022-04-20T21:12:45.849Z"
   },
   {
    "duration": 37,
    "start_time": "2022-04-20T21:12:45.901Z"
   },
   {
    "duration": 58,
    "start_time": "2022-04-20T21:12:45.940Z"
   },
   {
    "duration": 57,
    "start_time": "2022-04-20T21:12:46.000Z"
   },
   {
    "duration": 377,
    "start_time": "2022-04-20T21:12:46.058Z"
   },
   {
    "duration": 4104,
    "start_time": "2022-04-20T21:12:46.437Z"
   },
   {
    "duration": 3,
    "start_time": "2022-04-20T21:12:50.542Z"
   },
   {
    "duration": 25,
    "start_time": "2022-04-20T21:12:50.547Z"
   },
   {
    "duration": 39,
    "start_time": "2022-04-20T21:12:50.574Z"
   },
   {
    "duration": 47,
    "start_time": "2022-04-20T21:12:50.614Z"
   },
   {
    "duration": 62,
    "start_time": "2022-04-20T21:12:50.662Z"
   },
   {
    "duration": 1349,
    "start_time": "2022-04-20T21:12:50.725Z"
   },
   {
    "duration": 473,
    "start_time": "2022-04-20T21:12:52.078Z"
   },
   {
    "duration": 1386,
    "start_time": "2022-04-20T21:12:52.553Z"
   },
   {
    "duration": 1454,
    "start_time": "2022-04-20T21:12:53.941Z"
   },
   {
    "duration": 454,
    "start_time": "2022-04-20T21:12:55.398Z"
   },
   {
    "duration": 53626,
    "start_time": "2022-04-20T21:12:55.854Z"
   },
   {
    "duration": 17202,
    "start_time": "2022-04-20T21:13:49.482Z"
   },
   {
    "duration": 91,
    "start_time": "2022-04-20T21:14:06.685Z"
   },
   {
    "duration": 4638,
    "start_time": "2022-04-20T21:14:06.777Z"
   },
   {
    "duration": 0,
    "start_time": "2022-04-20T21:14:11.417Z"
   },
   {
    "duration": 0,
    "start_time": "2022-04-20T21:14:11.418Z"
   },
   {
    "duration": 1764,
    "start_time": "2022-04-20T21:27:52.075Z"
   },
   {
    "duration": 821,
    "start_time": "2022-04-20T21:27:53.841Z"
   },
   {
    "duration": 77,
    "start_time": "2022-04-20T21:27:54.663Z"
   },
   {
    "duration": 52,
    "start_time": "2022-04-20T21:27:54.742Z"
   },
   {
    "duration": 214,
    "start_time": "2022-04-20T21:27:54.796Z"
   },
   {
    "duration": 362,
    "start_time": "2022-04-20T21:27:55.012Z"
   },
   {
    "duration": 264,
    "start_time": "2022-04-20T21:27:55.376Z"
   },
   {
    "duration": 88,
    "start_time": "2022-04-20T21:27:55.642Z"
   },
   {
    "duration": 85,
    "start_time": "2022-04-20T21:27:55.732Z"
   },
   {
    "duration": 32,
    "start_time": "2022-04-20T21:27:55.818Z"
   },
   {
    "duration": 128,
    "start_time": "2022-04-20T21:27:55.852Z"
   },
   {
    "duration": 100,
    "start_time": "2022-04-20T21:27:55.981Z"
   },
   {
    "duration": 40,
    "start_time": "2022-04-20T21:27:56.082Z"
   },
   {
    "duration": 34,
    "start_time": "2022-04-20T21:27:56.125Z"
   },
   {
    "duration": 53,
    "start_time": "2022-04-20T21:27:56.161Z"
   },
   {
    "duration": 36,
    "start_time": "2022-04-20T21:27:56.215Z"
   },
   {
    "duration": 49,
    "start_time": "2022-04-20T21:27:56.252Z"
   },
   {
    "duration": 33,
    "start_time": "2022-04-20T21:27:56.302Z"
   },
   {
    "duration": 65,
    "start_time": "2022-04-20T21:27:56.337Z"
   },
   {
    "duration": 344,
    "start_time": "2022-04-20T21:27:56.404Z"
   },
   {
    "duration": 3647,
    "start_time": "2022-04-20T21:27:56.750Z"
   },
   {
    "duration": 2,
    "start_time": "2022-04-20T21:28:00.399Z"
   },
   {
    "duration": 21,
    "start_time": "2022-04-20T21:28:00.403Z"
   },
   {
    "duration": 27,
    "start_time": "2022-04-20T21:28:00.426Z"
   },
   {
    "duration": 67,
    "start_time": "2022-04-20T21:28:00.455Z"
   },
   {
    "duration": 39,
    "start_time": "2022-04-20T21:28:00.525Z"
   },
   {
    "duration": 1385,
    "start_time": "2022-04-20T21:28:00.566Z"
   },
   {
    "duration": 483,
    "start_time": "2022-04-20T21:28:01.953Z"
   },
   {
    "duration": 1313,
    "start_time": "2022-04-20T21:28:02.438Z"
   },
   {
    "duration": 1642,
    "start_time": "2022-04-20T21:28:03.753Z"
   },
   {
    "duration": 438,
    "start_time": "2022-04-20T21:28:05.397Z"
   },
   {
    "duration": 52814,
    "start_time": "2022-04-20T21:28:05.836Z"
   },
   {
    "duration": 18315,
    "start_time": "2022-04-20T21:28:58.651Z"
   },
   {
    "duration": 97,
    "start_time": "2022-04-20T21:29:16.968Z"
   },
   {
    "duration": 150,
    "start_time": "2022-04-20T21:29:17.067Z"
   },
   {
    "duration": 0,
    "start_time": "2022-04-20T21:29:17.219Z"
   },
   {
    "duration": 0,
    "start_time": "2022-04-20T21:29:17.220Z"
   },
   {
    "duration": 1797,
    "start_time": "2022-04-20T21:31:21.281Z"
   },
   {
    "duration": 871,
    "start_time": "2022-04-20T21:31:23.080Z"
   },
   {
    "duration": 69,
    "start_time": "2022-04-20T21:31:23.953Z"
   },
   {
    "duration": 44,
    "start_time": "2022-04-20T21:31:24.024Z"
   },
   {
    "duration": 249,
    "start_time": "2022-04-20T21:31:24.069Z"
   },
   {
    "duration": 389,
    "start_time": "2022-04-20T21:31:24.320Z"
   },
   {
    "duration": 274,
    "start_time": "2022-04-20T21:31:24.712Z"
   },
   {
    "duration": 95,
    "start_time": "2022-04-20T21:31:24.987Z"
   },
   {
    "duration": 94,
    "start_time": "2022-04-20T21:31:25.084Z"
   },
   {
    "duration": 42,
    "start_time": "2022-04-20T21:31:25.181Z"
   },
   {
    "duration": 129,
    "start_time": "2022-04-20T21:31:25.225Z"
   },
   {
    "duration": 118,
    "start_time": "2022-04-20T21:31:25.355Z"
   },
   {
    "duration": 49,
    "start_time": "2022-04-20T21:31:25.474Z"
   },
   {
    "duration": 35,
    "start_time": "2022-04-20T21:31:25.526Z"
   },
   {
    "duration": 61,
    "start_time": "2022-04-20T21:31:25.563Z"
   },
   {
    "duration": 35,
    "start_time": "2022-04-20T21:31:25.626Z"
   },
   {
    "duration": 54,
    "start_time": "2022-04-20T21:31:25.663Z"
   },
   {
    "duration": 36,
    "start_time": "2022-04-20T21:31:25.719Z"
   },
   {
    "duration": 82,
    "start_time": "2022-04-20T21:31:25.757Z"
   },
   {
    "duration": 364,
    "start_time": "2022-04-20T21:31:25.841Z"
   },
   {
    "duration": 3949,
    "start_time": "2022-04-20T21:31:26.208Z"
   },
   {
    "duration": 4,
    "start_time": "2022-04-20T21:31:30.159Z"
   },
   {
    "duration": 43,
    "start_time": "2022-04-20T21:31:30.165Z"
   },
   {
    "duration": 27,
    "start_time": "2022-04-20T21:31:30.211Z"
   },
   {
    "duration": 64,
    "start_time": "2022-04-20T21:31:30.240Z"
   },
   {
    "duration": 37,
    "start_time": "2022-04-20T21:31:30.307Z"
   },
   {
    "duration": 1327,
    "start_time": "2022-04-20T21:31:30.346Z"
   },
   {
    "duration": 473,
    "start_time": "2022-04-20T21:31:31.677Z"
   },
   {
    "duration": 1269,
    "start_time": "2022-04-20T21:31:32.152Z"
   },
   {
    "duration": 1585,
    "start_time": "2022-04-20T21:31:33.423Z"
   },
   {
    "duration": 431,
    "start_time": "2022-04-20T21:31:35.010Z"
   },
   {
    "duration": 53822,
    "start_time": "2022-04-20T21:31:35.443Z"
   },
   {
    "duration": 17611,
    "start_time": "2022-04-20T21:32:29.267Z"
   },
   {
    "duration": 93,
    "start_time": "2022-04-20T21:32:46.880Z"
   },
   {
    "duration": 4195,
    "start_time": "2022-04-20T21:32:46.975Z"
   },
   {
    "duration": 0,
    "start_time": "2022-04-20T21:32:51.172Z"
   },
   {
    "duration": 0,
    "start_time": "2022-04-20T21:32:51.173Z"
   },
   {
    "duration": 2509,
    "start_time": "2022-04-21T14:12:29.363Z"
   },
   {
    "duration": 3051,
    "start_time": "2022-04-21T14:12:31.875Z"
   },
   {
    "duration": 107,
    "start_time": "2022-04-21T14:12:34.928Z"
   },
   {
    "duration": 56,
    "start_time": "2022-04-21T14:12:35.053Z"
   },
   {
    "duration": 328,
    "start_time": "2022-04-21T14:12:35.111Z"
   },
   {
    "duration": 521,
    "start_time": "2022-04-21T14:12:35.442Z"
   },
   {
    "duration": 377,
    "start_time": "2022-04-21T14:12:35.966Z"
   },
   {
    "duration": 115,
    "start_time": "2022-04-21T14:12:36.345Z"
   },
   {
    "duration": 101,
    "start_time": "2022-04-21T14:12:36.463Z"
   },
   {
    "duration": 44,
    "start_time": "2022-04-21T14:12:36.569Z"
   },
   {
    "duration": 158,
    "start_time": "2022-04-21T14:12:36.616Z"
   },
   {
    "duration": 138,
    "start_time": "2022-04-21T14:12:36.776Z"
   },
   {
    "duration": 48,
    "start_time": "2022-04-21T14:12:36.917Z"
   },
   {
    "duration": 51,
    "start_time": "2022-04-21T14:12:36.967Z"
   },
   {
    "duration": 56,
    "start_time": "2022-04-21T14:12:37.020Z"
   },
   {
    "duration": 55,
    "start_time": "2022-04-21T14:12:37.081Z"
   },
   {
    "duration": 46,
    "start_time": "2022-04-21T14:12:37.138Z"
   },
   {
    "duration": 42,
    "start_time": "2022-04-21T14:12:37.187Z"
   },
   {
    "duration": 82,
    "start_time": "2022-04-21T14:12:37.231Z"
   },
   {
    "duration": 505,
    "start_time": "2022-04-21T14:12:37.315Z"
   },
   {
    "duration": 5545,
    "start_time": "2022-04-21T14:12:37.823Z"
   },
   {
    "duration": 3,
    "start_time": "2022-04-21T14:12:43.370Z"
   },
   {
    "duration": 33,
    "start_time": "2022-04-21T14:12:43.376Z"
   },
   {
    "duration": 54,
    "start_time": "2022-04-21T14:12:43.411Z"
   },
   {
    "duration": 57,
    "start_time": "2022-04-21T14:12:43.468Z"
   },
   {
    "duration": 71,
    "start_time": "2022-04-21T14:12:43.528Z"
   },
   {
    "duration": 1941,
    "start_time": "2022-04-21T14:12:43.601Z"
   },
   {
    "duration": 779,
    "start_time": "2022-04-21T14:12:45.546Z"
   },
   {
    "duration": 1818,
    "start_time": "2022-04-21T14:12:46.328Z"
   },
   {
    "duration": 1629,
    "start_time": "2022-04-21T14:12:48.152Z"
   },
   {
    "duration": 515,
    "start_time": "2022-04-21T14:12:49.858Z"
   },
   {
    "duration": 87221,
    "start_time": "2022-04-21T14:12:50.375Z"
   },
   {
    "duration": 28026,
    "start_time": "2022-04-21T14:14:17.598Z"
   },
   {
    "duration": 0,
    "start_time": "2022-04-21T14:14:45.627Z"
   },
   {
    "duration": 0,
    "start_time": "2022-04-21T14:14:45.628Z"
   },
   {
    "duration": 0,
    "start_time": "2022-04-21T14:14:45.630Z"
   },
   {
    "duration": 0,
    "start_time": "2022-04-21T14:14:45.631Z"
   },
   {
    "duration": 2424,
    "start_time": "2022-04-21T14:21:59.261Z"
   },
   {
    "duration": 2012,
    "start_time": "2022-04-21T14:22:01.689Z"
   },
   {
    "duration": 114,
    "start_time": "2022-04-21T14:22:03.703Z"
   },
   {
    "duration": 74,
    "start_time": "2022-04-21T14:22:03.820Z"
   },
   {
    "duration": 498,
    "start_time": "2022-04-21T14:22:03.898Z"
   },
   {
    "duration": 850,
    "start_time": "2022-04-21T14:22:04.398Z"
   },
   {
    "duration": 469,
    "start_time": "2022-04-21T14:22:05.255Z"
   },
   {
    "duration": 137,
    "start_time": "2022-04-21T14:22:05.726Z"
   },
   {
    "duration": 167,
    "start_time": "2022-04-21T14:22:05.868Z"
   },
   {
    "duration": 60,
    "start_time": "2022-04-21T14:22:06.041Z"
   },
   {
    "duration": 160,
    "start_time": "2022-04-21T14:22:06.103Z"
   },
   {
    "duration": 154,
    "start_time": "2022-04-21T14:22:06.265Z"
   },
   {
    "duration": 71,
    "start_time": "2022-04-21T14:22:06.422Z"
   },
   {
    "duration": 70,
    "start_time": "2022-04-21T14:22:06.495Z"
   },
   {
    "duration": 43,
    "start_time": "2022-04-21T14:22:06.567Z"
   },
   {
    "duration": 84,
    "start_time": "2022-04-21T14:22:06.612Z"
   },
   {
    "duration": 81,
    "start_time": "2022-04-21T14:22:06.699Z"
   },
   {
    "duration": 90,
    "start_time": "2022-04-21T14:22:06.783Z"
   },
   {
    "duration": 115,
    "start_time": "2022-04-21T14:22:06.876Z"
   },
   {
    "duration": 587,
    "start_time": "2022-04-21T14:22:06.994Z"
   },
   {
    "duration": 7280,
    "start_time": "2022-04-21T14:22:07.583Z"
   },
   {
    "duration": 3,
    "start_time": "2022-04-21T14:22:14.868Z"
   },
   {
    "duration": 37,
    "start_time": "2022-04-21T14:22:14.874Z"
   },
   {
    "duration": 60,
    "start_time": "2022-04-21T14:22:14.913Z"
   },
   {
    "duration": 77,
    "start_time": "2022-04-21T14:22:14.975Z"
   },
   {
    "duration": 55,
    "start_time": "2022-04-21T14:22:15.060Z"
   },
   {
    "duration": 2625,
    "start_time": "2022-04-21T14:22:15.118Z"
   },
   {
    "duration": 807,
    "start_time": "2022-04-21T14:22:17.752Z"
   },
   {
    "duration": 1881,
    "start_time": "2022-04-21T14:22:18.562Z"
   },
   {
    "duration": 2127,
    "start_time": "2022-04-21T14:22:20.450Z"
   },
   {
    "duration": 493,
    "start_time": "2022-04-21T14:22:22.580Z"
   },
   {
    "duration": 88890,
    "start_time": "2022-04-21T14:22:23.076Z"
   },
   {
    "duration": 9,
    "start_time": "2022-04-21T14:23:51.968Z"
   },
   {
    "duration": 0,
    "start_time": "2022-04-21T14:23:51.983Z"
   },
   {
    "duration": 0,
    "start_time": "2022-04-21T14:23:51.985Z"
   },
   {
    "duration": 0,
    "start_time": "2022-04-21T14:23:51.987Z"
   },
   {
    "duration": 0,
    "start_time": "2022-04-21T14:23:51.988Z"
   },
   {
    "duration": 2832,
    "start_time": "2022-04-21T14:31:48.553Z"
   },
   {
    "duration": 1142,
    "start_time": "2022-04-21T14:31:51.388Z"
   },
   {
    "duration": 101,
    "start_time": "2022-04-21T14:31:52.533Z"
   },
   {
    "duration": 65,
    "start_time": "2022-04-21T14:31:52.654Z"
   },
   {
    "duration": 330,
    "start_time": "2022-04-21T14:31:52.721Z"
   },
   {
    "duration": 519,
    "start_time": "2022-04-21T14:31:53.054Z"
   },
   {
    "duration": 397,
    "start_time": "2022-04-21T14:31:53.575Z"
   },
   {
    "duration": 113,
    "start_time": "2022-04-21T14:31:53.974Z"
   },
   {
    "duration": 108,
    "start_time": "2022-04-21T14:31:54.089Z"
   },
   {
    "duration": 56,
    "start_time": "2022-04-21T14:31:54.201Z"
   },
   {
    "duration": 149,
    "start_time": "2022-04-21T14:31:54.260Z"
   },
   {
    "duration": 147,
    "start_time": "2022-04-21T14:31:54.411Z"
   },
   {
    "duration": 39,
    "start_time": "2022-04-21T14:31:54.561Z"
   },
   {
    "duration": 99,
    "start_time": "2022-04-21T14:31:54.603Z"
   },
   {
    "duration": 82,
    "start_time": "2022-04-21T14:31:54.705Z"
   },
   {
    "duration": 93,
    "start_time": "2022-04-21T14:31:54.789Z"
   },
   {
    "duration": 72,
    "start_time": "2022-04-21T14:31:54.885Z"
   },
   {
    "duration": 43,
    "start_time": "2022-04-21T14:31:54.959Z"
   },
   {
    "duration": 84,
    "start_time": "2022-04-21T14:31:55.005Z"
   },
   {
    "duration": 497,
    "start_time": "2022-04-21T14:31:55.091Z"
   },
   {
    "duration": 5404,
    "start_time": "2022-04-21T14:31:55.591Z"
   },
   {
    "duration": 4,
    "start_time": "2022-04-21T14:32:00.997Z"
   },
   {
    "duration": 43,
    "start_time": "2022-04-21T14:32:01.003Z"
   },
   {
    "duration": 34,
    "start_time": "2022-04-21T14:32:01.060Z"
   },
   {
    "duration": 76,
    "start_time": "2022-04-21T14:32:01.097Z"
   },
   {
    "duration": 53,
    "start_time": "2022-04-21T14:32:01.175Z"
   },
   {
    "duration": 1900,
    "start_time": "2022-04-21T14:32:01.230Z"
   },
   {
    "duration": 1101,
    "start_time": "2022-04-21T14:32:03.135Z"
   },
   {
    "duration": 2496,
    "start_time": "2022-04-21T14:32:04.239Z"
   },
   {
    "duration": 1725,
    "start_time": "2022-04-21T14:32:06.738Z"
   },
   {
    "duration": 700,
    "start_time": "2022-04-21T14:32:08.471Z"
   },
   {
    "duration": 79528,
    "start_time": "2022-04-21T14:32:09.174Z"
   },
   {
    "duration": 22434,
    "start_time": "2022-04-21T14:33:28.704Z"
   },
   {
    "duration": 151,
    "start_time": "2022-04-21T14:33:51.142Z"
   },
   {
    "duration": 3713,
    "start_time": "2022-04-21T14:33:51.296Z"
   },
   {
    "duration": 0,
    "start_time": "2022-04-21T14:33:55.012Z"
   },
   {
    "duration": 0,
    "start_time": "2022-04-21T14:33:55.014Z"
   },
   {
    "duration": 1876,
    "start_time": "2022-04-21T16:21:29.266Z"
   },
   {
    "duration": 758,
    "start_time": "2022-04-21T16:21:31.144Z"
   },
   {
    "duration": 61,
    "start_time": "2022-04-21T16:21:31.903Z"
   },
   {
    "duration": 52,
    "start_time": "2022-04-21T16:21:31.965Z"
   },
   {
    "duration": 205,
    "start_time": "2022-04-21T16:21:32.018Z"
   },
   {
    "duration": 325,
    "start_time": "2022-04-21T16:21:32.225Z"
   },
   {
    "duration": 237,
    "start_time": "2022-04-21T16:21:32.552Z"
   },
   {
    "duration": 75,
    "start_time": "2022-04-21T16:21:32.790Z"
   },
   {
    "duration": 80,
    "start_time": "2022-04-21T16:21:32.866Z"
   },
   {
    "duration": 27,
    "start_time": "2022-04-21T16:21:32.949Z"
   },
   {
    "duration": 123,
    "start_time": "2022-04-21T16:21:32.978Z"
   },
   {
    "duration": 100,
    "start_time": "2022-04-21T16:21:33.103Z"
   },
   {
    "duration": 30,
    "start_time": "2022-04-21T16:21:33.205Z"
   },
   {
    "duration": 31,
    "start_time": "2022-04-21T16:21:33.236Z"
   },
   {
    "duration": 46,
    "start_time": "2022-04-21T16:21:33.269Z"
   },
   {
    "duration": 31,
    "start_time": "2022-04-21T16:21:33.316Z"
   },
   {
    "duration": 29,
    "start_time": "2022-04-21T16:21:33.349Z"
   },
   {
    "duration": 47,
    "start_time": "2022-04-21T16:21:33.379Z"
   },
   {
    "duration": 49,
    "start_time": "2022-04-21T16:21:33.427Z"
   },
   {
    "duration": 308,
    "start_time": "2022-04-21T16:21:33.478Z"
   },
   {
    "duration": 3259,
    "start_time": "2022-04-21T16:21:33.788Z"
   },
   {
    "duration": 2,
    "start_time": "2022-04-21T16:21:37.049Z"
   },
   {
    "duration": 18,
    "start_time": "2022-04-21T16:21:37.052Z"
   },
   {
    "duration": 41,
    "start_time": "2022-04-21T16:21:37.072Z"
   },
   {
    "duration": 38,
    "start_time": "2022-04-21T16:21:37.114Z"
   },
   {
    "duration": 48,
    "start_time": "2022-04-21T16:21:37.154Z"
   },
   {
    "duration": 1045,
    "start_time": "2022-04-21T16:21:37.203Z"
   },
   {
    "duration": 392,
    "start_time": "2022-04-21T16:21:38.251Z"
   },
   {
    "duration": 1126,
    "start_time": "2022-04-21T16:21:38.644Z"
   },
   {
    "duration": 1430,
    "start_time": "2022-04-21T16:21:39.771Z"
   },
   {
    "duration": 396,
    "start_time": "2022-04-21T16:21:41.204Z"
   },
   {
    "duration": 45320,
    "start_time": "2022-04-21T16:21:41.602Z"
   },
   {
    "duration": 14952,
    "start_time": "2022-04-21T16:22:26.924Z"
   },
   {
    "duration": 86,
    "start_time": "2022-04-21T16:22:41.878Z"
   },
   {
    "duration": 13,
    "start_time": "2022-04-21T16:22:41.966Z"
   },
   {
    "duration": 5622,
    "start_time": "2022-04-21T16:22:41.981Z"
   },
   {
    "duration": 0,
    "start_time": "2022-04-21T16:22:47.605Z"
   },
   {
    "duration": 0,
    "start_time": "2022-04-21T16:22:47.606Z"
   },
   {
    "duration": 0,
    "start_time": "2022-04-21T16:22:47.607Z"
   },
   {
    "duration": 8,
    "start_time": "2022-04-21T16:23:14.589Z"
   },
   {
    "duration": 1740,
    "start_time": "2022-04-21T16:28:16.909Z"
   },
   {
    "duration": 752,
    "start_time": "2022-04-21T16:28:18.650Z"
   },
   {
    "duration": 64,
    "start_time": "2022-04-21T16:28:19.404Z"
   },
   {
    "duration": 50,
    "start_time": "2022-04-21T16:28:19.469Z"
   },
   {
    "duration": 255,
    "start_time": "2022-04-21T16:28:19.521Z"
   },
   {
    "duration": 539,
    "start_time": "2022-04-21T16:28:19.778Z"
   },
   {
    "duration": 262,
    "start_time": "2022-04-21T16:28:20.319Z"
   },
   {
    "duration": 75,
    "start_time": "2022-04-21T16:28:20.583Z"
   },
   {
    "duration": 75,
    "start_time": "2022-04-21T16:28:20.659Z"
   },
   {
    "duration": 29,
    "start_time": "2022-04-21T16:28:20.735Z"
   },
   {
    "duration": 102,
    "start_time": "2022-04-21T16:28:20.766Z"
   },
   {
    "duration": 99,
    "start_time": "2022-04-21T16:28:20.870Z"
   },
   {
    "duration": 35,
    "start_time": "2022-04-21T16:28:20.970Z"
   },
   {
    "duration": 30,
    "start_time": "2022-04-21T16:28:21.008Z"
   },
   {
    "duration": 29,
    "start_time": "2022-04-21T16:28:21.039Z"
   },
   {
    "duration": 66,
    "start_time": "2022-04-21T16:28:21.069Z"
   },
   {
    "duration": 41,
    "start_time": "2022-04-21T16:28:21.138Z"
   },
   {
    "duration": 42,
    "start_time": "2022-04-21T16:28:21.181Z"
   },
   {
    "duration": 48,
    "start_time": "2022-04-21T16:28:21.224Z"
   },
   {
    "duration": 299,
    "start_time": "2022-04-21T16:28:21.273Z"
   },
   {
    "duration": 3317,
    "start_time": "2022-04-21T16:28:21.574Z"
   },
   {
    "duration": 7,
    "start_time": "2022-04-21T16:28:24.893Z"
   },
   {
    "duration": 18,
    "start_time": "2022-04-21T16:28:24.901Z"
   },
   {
    "duration": 23,
    "start_time": "2022-04-21T16:28:24.921Z"
   },
   {
    "duration": 56,
    "start_time": "2022-04-21T16:28:24.946Z"
   },
   {
    "duration": 32,
    "start_time": "2022-04-21T16:28:25.004Z"
   },
   {
    "duration": 1096,
    "start_time": "2022-04-21T16:28:25.037Z"
   },
   {
    "duration": 416,
    "start_time": "2022-04-21T16:28:26.134Z"
   },
   {
    "duration": 1187,
    "start_time": "2022-04-21T16:28:26.552Z"
   },
   {
    "duration": 1659,
    "start_time": "2022-04-21T16:28:27.741Z"
   },
   {
    "duration": 312,
    "start_time": "2022-04-21T16:28:29.402Z"
   },
   {
    "duration": 45347,
    "start_time": "2022-04-21T16:28:29.716Z"
   },
   {
    "duration": 14607,
    "start_time": "2022-04-21T16:29:15.065Z"
   },
   {
    "duration": 91,
    "start_time": "2022-04-21T16:29:29.674Z"
   },
   {
    "duration": 8,
    "start_time": "2022-04-21T16:29:29.767Z"
   },
   {
    "duration": 146,
    "start_time": "2022-04-21T16:29:29.777Z"
   },
   {
    "duration": 1720,
    "start_time": "2022-04-21T16:29:29.924Z"
   },
   {
    "duration": 21050,
    "start_time": "2022-04-21T16:29:31.645Z"
   },
   {
    "duration": 449403,
    "start_time": "2022-04-21T16:29:52.697Z"
   },
   {
    "duration": 106697,
    "start_time": "2022-04-21T16:39:08.636Z"
   },
   {
    "duration": 1827,
    "start_time": "2022-04-21T16:41:05.686Z"
   },
   {
    "duration": 757,
    "start_time": "2022-04-21T16:41:07.515Z"
   },
   {
    "duration": 73,
    "start_time": "2022-04-21T16:41:08.274Z"
   },
   {
    "duration": 54,
    "start_time": "2022-04-21T16:41:08.349Z"
   },
   {
    "duration": 201,
    "start_time": "2022-04-21T16:41:08.406Z"
   },
   {
    "duration": 323,
    "start_time": "2022-04-21T16:41:08.609Z"
   },
   {
    "duration": 230,
    "start_time": "2022-04-21T16:41:08.934Z"
   },
   {
    "duration": 76,
    "start_time": "2022-04-21T16:41:09.166Z"
   },
   {
    "duration": 69,
    "start_time": "2022-04-21T16:41:09.244Z"
   },
   {
    "duration": 27,
    "start_time": "2022-04-21T16:41:09.314Z"
   },
   {
    "duration": 110,
    "start_time": "2022-04-21T16:41:09.343Z"
   },
   {
    "duration": 95,
    "start_time": "2022-04-21T16:41:09.455Z"
   },
   {
    "duration": 29,
    "start_time": "2022-04-21T16:41:09.552Z"
   },
   {
    "duration": 39,
    "start_time": "2022-04-21T16:41:09.585Z"
   },
   {
    "duration": 28,
    "start_time": "2022-04-21T16:41:09.626Z"
   },
   {
    "duration": 45,
    "start_time": "2022-04-21T16:41:09.655Z"
   },
   {
    "duration": 30,
    "start_time": "2022-04-21T16:41:09.701Z"
   },
   {
    "duration": 28,
    "start_time": "2022-04-21T16:41:09.732Z"
   },
   {
    "duration": 67,
    "start_time": "2022-04-21T16:41:09.762Z"
   },
   {
    "duration": 294,
    "start_time": "2022-04-21T16:41:09.831Z"
   },
   {
    "duration": 3261,
    "start_time": "2022-04-21T16:41:10.126Z"
   },
   {
    "duration": 11,
    "start_time": "2022-04-21T16:41:13.389Z"
   },
   {
    "duration": 21,
    "start_time": "2022-04-21T16:41:13.402Z"
   },
   {
    "duration": 28,
    "start_time": "2022-04-21T16:41:13.426Z"
   },
   {
    "duration": 79,
    "start_time": "2022-04-21T16:41:13.456Z"
   },
   {
    "duration": 34,
    "start_time": "2022-04-21T16:41:13.536Z"
   },
   {
    "duration": 1118,
    "start_time": "2022-04-21T16:41:13.572Z"
   },
   {
    "duration": 414,
    "start_time": "2022-04-21T16:41:14.699Z"
   },
   {
    "duration": 1149,
    "start_time": "2022-04-21T16:41:15.115Z"
   },
   {
    "duration": 1744,
    "start_time": "2022-04-21T16:41:16.265Z"
   },
   {
    "duration": 406,
    "start_time": "2022-04-21T16:41:18.011Z"
   },
   {
    "duration": 45565,
    "start_time": "2022-04-21T16:41:18.419Z"
   },
   {
    "duration": 15480,
    "start_time": "2022-04-21T16:42:03.986Z"
   },
   {
    "duration": 91,
    "start_time": "2022-04-21T16:42:19.467Z"
   },
   {
    "duration": 12,
    "start_time": "2022-04-21T16:42:19.560Z"
   },
   {
    "duration": 163,
    "start_time": "2022-04-21T16:42:19.573Z"
   },
   {
    "duration": 1950,
    "start_time": "2022-04-21T16:42:19.739Z"
   },
   {
    "duration": 14582,
    "start_time": "2022-04-21T16:42:21.691Z"
   },
   {
    "duration": 277,
    "start_time": "2022-04-21T16:42:36.274Z"
   },
   {
    "duration": 1901,
    "start_time": "2022-04-21T16:43:03.783Z"
   },
   {
    "duration": 736,
    "start_time": "2022-04-21T16:43:05.686Z"
   },
   {
    "duration": 64,
    "start_time": "2022-04-21T16:43:06.423Z"
   },
   {
    "duration": 47,
    "start_time": "2022-04-21T16:43:06.489Z"
   },
   {
    "duration": 204,
    "start_time": "2022-04-21T16:43:06.538Z"
   },
   {
    "duration": 330,
    "start_time": "2022-04-21T16:43:06.744Z"
   },
   {
    "duration": 233,
    "start_time": "2022-04-21T16:43:07.076Z"
   },
   {
    "duration": 70,
    "start_time": "2022-04-21T16:43:07.310Z"
   },
   {
    "duration": 78,
    "start_time": "2022-04-21T16:43:07.381Z"
   },
   {
    "duration": 27,
    "start_time": "2022-04-21T16:43:07.461Z"
   },
   {
    "duration": 102,
    "start_time": "2022-04-21T16:43:07.501Z"
   },
   {
    "duration": 95,
    "start_time": "2022-04-21T16:43:07.605Z"
   },
   {
    "duration": 30,
    "start_time": "2022-04-21T16:43:07.702Z"
   },
   {
    "duration": 31,
    "start_time": "2022-04-21T16:43:07.736Z"
   },
   {
    "duration": 46,
    "start_time": "2022-04-21T16:43:07.768Z"
   },
   {
    "duration": 36,
    "start_time": "2022-04-21T16:43:07.816Z"
   },
   {
    "duration": 29,
    "start_time": "2022-04-21T16:43:07.853Z"
   },
   {
    "duration": 42,
    "start_time": "2022-04-21T16:43:07.884Z"
   },
   {
    "duration": 48,
    "start_time": "2022-04-21T16:43:07.928Z"
   },
   {
    "duration": 310,
    "start_time": "2022-04-21T16:43:07.977Z"
   },
   {
    "duration": 3217,
    "start_time": "2022-04-21T16:43:08.289Z"
   },
   {
    "duration": 2,
    "start_time": "2022-04-21T16:43:11.508Z"
   },
   {
    "duration": 18,
    "start_time": "2022-04-21T16:43:11.511Z"
   },
   {
    "duration": 22,
    "start_time": "2022-04-21T16:43:11.530Z"
   },
   {
    "duration": 57,
    "start_time": "2022-04-21T16:43:11.553Z"
   },
   {
    "duration": 30,
    "start_time": "2022-04-21T16:43:11.612Z"
   },
   {
    "duration": 1077,
    "start_time": "2022-04-21T16:43:11.644Z"
   },
   {
    "duration": 528,
    "start_time": "2022-04-21T16:43:12.723Z"
   },
   {
    "duration": 1162,
    "start_time": "2022-04-21T16:43:13.253Z"
   },
   {
    "duration": 1192,
    "start_time": "2022-04-21T16:43:14.417Z"
   },
   {
    "duration": 401,
    "start_time": "2022-04-21T16:43:15.611Z"
   },
   {
    "duration": 44265,
    "start_time": "2022-04-21T16:43:16.014Z"
   },
   {
    "duration": 15176,
    "start_time": "2022-04-21T16:44:00.281Z"
   },
   {
    "duration": 91,
    "start_time": "2022-04-21T16:44:15.458Z"
   },
   {
    "duration": 8,
    "start_time": "2022-04-21T16:44:15.550Z"
   },
   {
    "duration": 152,
    "start_time": "2022-04-21T16:44:15.559Z"
   },
   {
    "duration": 2895,
    "start_time": "2022-04-21T16:44:15.713Z"
   },
   {
    "duration": 21287,
    "start_time": "2022-04-21T16:44:18.609Z"
   },
   {
    "duration": 339,
    "start_time": "2022-04-21T16:44:39.898Z"
   },
   {
    "duration": 1702,
    "start_time": "2022-04-21T16:45:29.423Z"
   },
   {
    "duration": 759,
    "start_time": "2022-04-21T16:45:31.127Z"
   },
   {
    "duration": 76,
    "start_time": "2022-04-21T16:45:31.887Z"
   },
   {
    "duration": 51,
    "start_time": "2022-04-21T16:45:31.965Z"
   },
   {
    "duration": 215,
    "start_time": "2022-04-21T16:45:32.018Z"
   },
   {
    "duration": 356,
    "start_time": "2022-04-21T16:45:32.235Z"
   },
   {
    "duration": 336,
    "start_time": "2022-04-21T16:45:32.601Z"
   },
   {
    "duration": 78,
    "start_time": "2022-04-21T16:45:32.939Z"
   },
   {
    "duration": 66,
    "start_time": "2022-04-21T16:45:33.019Z"
   },
   {
    "duration": 27,
    "start_time": "2022-04-21T16:45:33.099Z"
   },
   {
    "duration": 106,
    "start_time": "2022-04-21T16:45:33.127Z"
   },
   {
    "duration": 93,
    "start_time": "2022-04-21T16:45:33.234Z"
   },
   {
    "duration": 27,
    "start_time": "2022-04-21T16:45:33.328Z"
   },
   {
    "duration": 31,
    "start_time": "2022-04-21T16:45:33.357Z"
   },
   {
    "duration": 29,
    "start_time": "2022-04-21T16:45:33.400Z"
   },
   {
    "duration": 31,
    "start_time": "2022-04-21T16:45:33.431Z"
   },
   {
    "duration": 44,
    "start_time": "2022-04-21T16:45:33.464Z"
   },
   {
    "duration": 29,
    "start_time": "2022-04-21T16:45:33.509Z"
   },
   {
    "duration": 62,
    "start_time": "2022-04-21T16:45:33.539Z"
   },
   {
    "duration": 292,
    "start_time": "2022-04-21T16:45:33.602Z"
   },
   {
    "duration": 3162,
    "start_time": "2022-04-21T16:45:33.900Z"
   },
   {
    "duration": 3,
    "start_time": "2022-04-21T16:45:37.063Z"
   },
   {
    "duration": 20,
    "start_time": "2022-04-21T16:45:37.067Z"
   },
   {
    "duration": 22,
    "start_time": "2022-04-21T16:45:37.100Z"
   },
   {
    "duration": 36,
    "start_time": "2022-04-21T16:45:37.123Z"
   },
   {
    "duration": 48,
    "start_time": "2022-04-21T16:45:37.160Z"
   },
   {
    "duration": 1139,
    "start_time": "2022-04-21T16:45:37.210Z"
   },
   {
    "duration": 387,
    "start_time": "2022-04-21T16:45:38.352Z"
   },
   {
    "duration": 1105,
    "start_time": "2022-04-21T16:45:38.741Z"
   },
   {
    "duration": 1356,
    "start_time": "2022-04-21T16:45:39.847Z"
   },
   {
    "duration": 394,
    "start_time": "2022-04-21T16:45:41.206Z"
   },
   {
    "duration": 45180,
    "start_time": "2022-04-21T16:45:41.602Z"
   },
   {
    "duration": 15152,
    "start_time": "2022-04-21T16:46:26.783Z"
   },
   {
    "duration": 88,
    "start_time": "2022-04-21T16:46:41.937Z"
   },
   {
    "duration": 8,
    "start_time": "2022-04-21T16:46:42.026Z"
   },
   {
    "duration": 151,
    "start_time": "2022-04-21T16:46:42.036Z"
   },
   {
    "duration": 1775,
    "start_time": "2022-04-21T16:46:42.188Z"
   },
   {
    "duration": 14200,
    "start_time": "2022-04-21T16:46:43.964Z"
   },
   {
    "duration": 16250,
    "start_time": "2022-04-21T16:46:58.165Z"
   },
   {
    "duration": 95797,
    "start_time": "2022-04-21T16:47:14.417Z"
   },
   {
    "duration": 2036,
    "start_time": "2022-04-22T19:19:18.876Z"
   },
   {
    "duration": 1034,
    "start_time": "2022-04-22T19:19:20.914Z"
   },
   {
    "duration": 70,
    "start_time": "2022-04-22T19:19:21.950Z"
   },
   {
    "duration": 66,
    "start_time": "2022-04-22T19:19:22.023Z"
   },
   {
    "duration": 209,
    "start_time": "2022-04-22T19:19:22.091Z"
   },
   {
    "duration": 360,
    "start_time": "2022-04-22T19:19:22.302Z"
   },
   {
    "duration": 266,
    "start_time": "2022-04-22T19:19:22.664Z"
   },
   {
    "duration": 143,
    "start_time": "2022-04-22T19:19:22.933Z"
   },
   {
    "duration": 137,
    "start_time": "2022-04-22T19:19:23.078Z"
   },
   {
    "duration": 41,
    "start_time": "2022-04-22T19:19:23.218Z"
   },
   {
    "duration": 177,
    "start_time": "2022-04-22T19:19:23.262Z"
   },
   {
    "duration": 105,
    "start_time": "2022-04-22T19:19:23.447Z"
   },
   {
    "duration": 28,
    "start_time": "2022-04-22T19:19:23.554Z"
   },
   {
    "duration": 44,
    "start_time": "2022-04-22T19:19:23.583Z"
   },
   {
    "duration": 43,
    "start_time": "2022-04-22T19:19:23.628Z"
   },
   {
    "duration": 33,
    "start_time": "2022-04-22T19:19:23.673Z"
   },
   {
    "duration": 48,
    "start_time": "2022-04-22T19:19:23.708Z"
   },
   {
    "duration": 30,
    "start_time": "2022-04-22T19:19:23.758Z"
   },
   {
    "duration": 68,
    "start_time": "2022-04-22T19:19:23.789Z"
   },
   {
    "duration": 29,
    "start_time": "2022-04-22T19:19:23.859Z"
   },
   {
    "duration": 201,
    "start_time": "2022-04-22T19:19:23.890Z"
   },
   {
    "duration": 0,
    "start_time": "2022-04-22T19:19:24.093Z"
   },
   {
    "duration": 0,
    "start_time": "2022-04-22T19:19:24.094Z"
   },
   {
    "duration": 0,
    "start_time": "2022-04-22T19:19:24.095Z"
   },
   {
    "duration": 0,
    "start_time": "2022-04-22T19:19:24.096Z"
   },
   {
    "duration": 0,
    "start_time": "2022-04-22T19:19:24.101Z"
   },
   {
    "duration": 0,
    "start_time": "2022-04-22T19:19:24.103Z"
   },
   {
    "duration": 0,
    "start_time": "2022-04-22T19:19:24.104Z"
   },
   {
    "duration": 0,
    "start_time": "2022-04-22T19:19:24.105Z"
   },
   {
    "duration": 0,
    "start_time": "2022-04-22T19:19:24.107Z"
   },
   {
    "duration": 0,
    "start_time": "2022-04-22T19:19:24.108Z"
   },
   {
    "duration": 0,
    "start_time": "2022-04-22T19:19:24.109Z"
   },
   {
    "duration": 0,
    "start_time": "2022-04-22T19:19:24.110Z"
   },
   {
    "duration": 0,
    "start_time": "2022-04-22T19:19:24.111Z"
   },
   {
    "duration": 0,
    "start_time": "2022-04-22T19:19:24.112Z"
   },
   {
    "duration": 0,
    "start_time": "2022-04-22T19:19:24.113Z"
   },
   {
    "duration": 0,
    "start_time": "2022-04-22T19:19:24.114Z"
   },
   {
    "duration": 0,
    "start_time": "2022-04-22T19:19:24.115Z"
   },
   {
    "duration": 0,
    "start_time": "2022-04-22T19:19:24.148Z"
   },
   {
    "duration": 0,
    "start_time": "2022-04-22T19:19:24.149Z"
   },
   {
    "duration": 0,
    "start_time": "2022-04-22T19:19:24.150Z"
   },
   {
    "duration": 1767,
    "start_time": "2022-04-22T19:22:05.819Z"
   },
   {
    "duration": 1121,
    "start_time": "2022-04-22T19:22:07.589Z"
   },
   {
    "duration": 79,
    "start_time": "2022-04-22T19:22:08.712Z"
   },
   {
    "duration": 40,
    "start_time": "2022-04-22T19:22:08.793Z"
   },
   {
    "duration": 216,
    "start_time": "2022-04-22T19:22:08.848Z"
   },
   {
    "duration": 371,
    "start_time": "2022-04-22T19:22:09.065Z"
   },
   {
    "duration": 236,
    "start_time": "2022-04-22T19:22:09.438Z"
   },
   {
    "duration": 83,
    "start_time": "2022-04-22T19:22:09.676Z"
   },
   {
    "duration": 68,
    "start_time": "2022-04-22T19:22:09.761Z"
   },
   {
    "duration": 45,
    "start_time": "2022-04-22T19:22:09.830Z"
   },
   {
    "duration": 108,
    "start_time": "2022-04-22T19:22:09.876Z"
   },
   {
    "duration": 101,
    "start_time": "2022-04-22T19:22:09.985Z"
   },
   {
    "duration": 29,
    "start_time": "2022-04-22T19:22:10.088Z"
   },
   {
    "duration": 41,
    "start_time": "2022-04-22T19:22:10.121Z"
   },
   {
    "duration": 28,
    "start_time": "2022-04-22T19:22:10.164Z"
   },
   {
    "duration": 70,
    "start_time": "2022-04-22T19:22:10.194Z"
   },
   {
    "duration": 56,
    "start_time": "2022-04-22T19:22:10.266Z"
   },
   {
    "duration": 71,
    "start_time": "2022-04-22T19:22:10.324Z"
   },
   {
    "duration": 98,
    "start_time": "2022-04-22T19:22:10.397Z"
   },
   {
    "duration": 3,
    "start_time": "2022-04-22T19:22:10.497Z"
   },
   {
    "duration": 113,
    "start_time": "2022-04-22T19:22:10.502Z"
   },
   {
    "duration": 0,
    "start_time": "2022-04-22T19:22:10.617Z"
   },
   {
    "duration": 0,
    "start_time": "2022-04-22T19:22:10.618Z"
   },
   {
    "duration": 0,
    "start_time": "2022-04-22T19:22:10.619Z"
   },
   {
    "duration": 0,
    "start_time": "2022-04-22T19:22:10.621Z"
   },
   {
    "duration": 0,
    "start_time": "2022-04-22T19:22:10.622Z"
   },
   {
    "duration": 0,
    "start_time": "2022-04-22T19:22:10.623Z"
   },
   {
    "duration": 0,
    "start_time": "2022-04-22T19:22:10.625Z"
   },
   {
    "duration": 0,
    "start_time": "2022-04-22T19:22:10.626Z"
   },
   {
    "duration": 0,
    "start_time": "2022-04-22T19:22:10.627Z"
   },
   {
    "duration": 0,
    "start_time": "2022-04-22T19:22:10.628Z"
   },
   {
    "duration": 0,
    "start_time": "2022-04-22T19:22:10.630Z"
   },
   {
    "duration": 0,
    "start_time": "2022-04-22T19:22:10.631Z"
   },
   {
    "duration": 0,
    "start_time": "2022-04-22T19:22:10.633Z"
   },
   {
    "duration": 0,
    "start_time": "2022-04-22T19:22:10.634Z"
   },
   {
    "duration": 0,
    "start_time": "2022-04-22T19:22:10.635Z"
   },
   {
    "duration": 0,
    "start_time": "2022-04-22T19:22:10.637Z"
   },
   {
    "duration": 0,
    "start_time": "2022-04-22T19:22:10.638Z"
   },
   {
    "duration": 0,
    "start_time": "2022-04-22T19:22:10.639Z"
   },
   {
    "duration": 0,
    "start_time": "2022-04-22T19:22:10.641Z"
   },
   {
    "duration": 0,
    "start_time": "2022-04-22T19:22:10.643Z"
   },
   {
    "duration": 101,
    "start_time": "2022-04-22T19:23:13.729Z"
   },
   {
    "duration": 120,
    "start_time": "2022-04-22T19:23:20.055Z"
   },
   {
    "duration": 1999,
    "start_time": "2022-04-22T19:24:02.112Z"
   },
   {
    "duration": 756,
    "start_time": "2022-04-22T19:24:04.113Z"
   },
   {
    "duration": 81,
    "start_time": "2022-04-22T19:24:04.871Z"
   },
   {
    "duration": 33,
    "start_time": "2022-04-22T19:24:04.954Z"
   },
   {
    "duration": 213,
    "start_time": "2022-04-22T19:24:04.990Z"
   },
   {
    "duration": 398,
    "start_time": "2022-04-22T19:24:05.205Z"
   },
   {
    "duration": 237,
    "start_time": "2022-04-22T19:24:05.605Z"
   },
   {
    "duration": 76,
    "start_time": "2022-04-22T19:24:05.843Z"
   },
   {
    "duration": 81,
    "start_time": "2022-04-22T19:24:05.920Z"
   },
   {
    "duration": 45,
    "start_time": "2022-04-22T19:24:06.002Z"
   },
   {
    "duration": 110,
    "start_time": "2022-04-22T19:24:06.049Z"
   },
   {
    "duration": 161,
    "start_time": "2022-04-22T19:24:06.161Z"
   },
   {
    "duration": 58,
    "start_time": "2022-04-22T19:24:06.324Z"
   },
   {
    "duration": 30,
    "start_time": "2022-04-22T19:24:06.385Z"
   },
   {
    "duration": 50,
    "start_time": "2022-04-22T19:24:06.417Z"
   },
   {
    "duration": 33,
    "start_time": "2022-04-22T19:24:06.468Z"
   },
   {
    "duration": 48,
    "start_time": "2022-04-22T19:24:06.503Z"
   },
   {
    "duration": 48,
    "start_time": "2022-04-22T19:24:06.553Z"
   },
   {
    "duration": 101,
    "start_time": "2022-04-22T19:24:06.604Z"
   },
   {
    "duration": 2,
    "start_time": "2022-04-22T19:24:06.707Z"
   },
   {
    "duration": 122,
    "start_time": "2022-04-22T19:24:06.711Z"
   },
   {
    "duration": 0,
    "start_time": "2022-04-22T19:24:06.834Z"
   },
   {
    "duration": 0,
    "start_time": "2022-04-22T19:24:06.836Z"
   },
   {
    "duration": 0,
    "start_time": "2022-04-22T19:24:06.836Z"
   },
   {
    "duration": 0,
    "start_time": "2022-04-22T19:24:06.837Z"
   },
   {
    "duration": 0,
    "start_time": "2022-04-22T19:24:06.847Z"
   },
   {
    "duration": 0,
    "start_time": "2022-04-22T19:24:06.848Z"
   },
   {
    "duration": 0,
    "start_time": "2022-04-22T19:24:06.849Z"
   },
   {
    "duration": 0,
    "start_time": "2022-04-22T19:24:06.851Z"
   },
   {
    "duration": 0,
    "start_time": "2022-04-22T19:24:06.852Z"
   },
   {
    "duration": 0,
    "start_time": "2022-04-22T19:24:06.852Z"
   },
   {
    "duration": 0,
    "start_time": "2022-04-22T19:24:06.853Z"
   },
   {
    "duration": 0,
    "start_time": "2022-04-22T19:24:06.854Z"
   },
   {
    "duration": 0,
    "start_time": "2022-04-22T19:24:06.855Z"
   },
   {
    "duration": 0,
    "start_time": "2022-04-22T19:24:06.856Z"
   },
   {
    "duration": 0,
    "start_time": "2022-04-22T19:24:06.857Z"
   },
   {
    "duration": 0,
    "start_time": "2022-04-22T19:24:06.857Z"
   },
   {
    "duration": 0,
    "start_time": "2022-04-22T19:24:06.858Z"
   },
   {
    "duration": 0,
    "start_time": "2022-04-22T19:24:06.859Z"
   },
   {
    "duration": 0,
    "start_time": "2022-04-22T19:24:06.860Z"
   },
   {
    "duration": 0,
    "start_time": "2022-04-22T19:24:06.861Z"
   },
   {
    "duration": 294,
    "start_time": "2022-04-22T19:25:43.371Z"
   },
   {
    "duration": 1738,
    "start_time": "2022-04-22T19:30:09.367Z"
   },
   {
    "duration": 869,
    "start_time": "2022-04-22T19:30:11.108Z"
   },
   {
    "duration": 76,
    "start_time": "2022-04-22T19:30:11.979Z"
   },
   {
    "duration": 39,
    "start_time": "2022-04-22T19:30:12.057Z"
   },
   {
    "duration": 206,
    "start_time": "2022-04-22T19:30:12.097Z"
   },
   {
    "duration": 437,
    "start_time": "2022-04-22T19:30:12.305Z"
   },
   {
    "duration": 234,
    "start_time": "2022-04-22T19:30:12.743Z"
   },
   {
    "duration": 78,
    "start_time": "2022-04-22T19:30:12.979Z"
   },
   {
    "duration": 66,
    "start_time": "2022-04-22T19:30:13.059Z"
   },
   {
    "duration": 45,
    "start_time": "2022-04-22T19:30:13.128Z"
   },
   {
    "duration": 114,
    "start_time": "2022-04-22T19:30:13.174Z"
   },
   {
    "duration": 104,
    "start_time": "2022-04-22T19:30:13.289Z"
   },
   {
    "duration": 27,
    "start_time": "2022-04-22T19:30:13.395Z"
   },
   {
    "duration": 41,
    "start_time": "2022-04-22T19:30:13.424Z"
   },
   {
    "duration": 29,
    "start_time": "2022-04-22T19:30:13.466Z"
   },
   {
    "duration": 52,
    "start_time": "2022-04-22T19:30:13.497Z"
   },
   {
    "duration": 32,
    "start_time": "2022-04-22T19:30:13.551Z"
   },
   {
    "duration": 32,
    "start_time": "2022-04-22T19:30:13.584Z"
   },
   {
    "duration": 74,
    "start_time": "2022-04-22T19:30:13.618Z"
   },
   {
    "duration": 2,
    "start_time": "2022-04-22T19:30:13.694Z"
   },
   {
    "duration": 121,
    "start_time": "2022-04-22T19:30:13.697Z"
   },
   {
    "duration": 0,
    "start_time": "2022-04-22T19:30:13.820Z"
   },
   {
    "duration": 0,
    "start_time": "2022-04-22T19:30:13.822Z"
   },
   {
    "duration": 0,
    "start_time": "2022-04-22T19:30:13.823Z"
   },
   {
    "duration": 0,
    "start_time": "2022-04-22T19:30:13.824Z"
   },
   {
    "duration": 0,
    "start_time": "2022-04-22T19:30:13.825Z"
   },
   {
    "duration": 0,
    "start_time": "2022-04-22T19:30:13.826Z"
   },
   {
    "duration": 0,
    "start_time": "2022-04-22T19:30:13.827Z"
   },
   {
    "duration": 1,
    "start_time": "2022-04-22T19:30:13.828Z"
   },
   {
    "duration": 0,
    "start_time": "2022-04-22T19:30:13.829Z"
   },
   {
    "duration": 0,
    "start_time": "2022-04-22T19:30:13.830Z"
   },
   {
    "duration": 0,
    "start_time": "2022-04-22T19:30:13.848Z"
   },
   {
    "duration": 0,
    "start_time": "2022-04-22T19:30:13.850Z"
   },
   {
    "duration": 0,
    "start_time": "2022-04-22T19:30:13.851Z"
   },
   {
    "duration": 0,
    "start_time": "2022-04-22T19:30:13.852Z"
   },
   {
    "duration": 0,
    "start_time": "2022-04-22T19:30:13.853Z"
   },
   {
    "duration": 0,
    "start_time": "2022-04-22T19:30:13.855Z"
   },
   {
    "duration": 0,
    "start_time": "2022-04-22T19:30:13.856Z"
   },
   {
    "duration": 0,
    "start_time": "2022-04-22T19:30:13.857Z"
   },
   {
    "duration": 0,
    "start_time": "2022-04-22T19:30:13.858Z"
   },
   {
    "duration": 0,
    "start_time": "2022-04-22T19:30:13.859Z"
   },
   {
    "duration": 1903,
    "start_time": "2022-04-22T19:30:34.008Z"
   },
   {
    "duration": 1137,
    "start_time": "2022-04-22T19:30:35.913Z"
   },
   {
    "duration": 63,
    "start_time": "2022-04-22T19:30:37.052Z"
   },
   {
    "duration": 56,
    "start_time": "2022-04-22T19:30:37.117Z"
   },
   {
    "duration": 317,
    "start_time": "2022-04-22T19:30:37.175Z"
   },
   {
    "duration": 534,
    "start_time": "2022-04-22T19:30:37.494Z"
   },
   {
    "duration": 394,
    "start_time": "2022-04-22T19:30:38.030Z"
   },
   {
    "duration": 137,
    "start_time": "2022-04-22T19:30:38.426Z"
   },
   {
    "duration": 135,
    "start_time": "2022-04-22T19:30:38.565Z"
   },
   {
    "duration": 56,
    "start_time": "2022-04-22T19:30:38.703Z"
   },
   {
    "duration": 122,
    "start_time": "2022-04-22T19:30:38.761Z"
   },
   {
    "duration": 102,
    "start_time": "2022-04-22T19:30:38.884Z"
   },
   {
    "duration": 29,
    "start_time": "2022-04-22T19:30:38.988Z"
   },
   {
    "duration": 42,
    "start_time": "2022-04-22T19:30:39.018Z"
   },
   {
    "duration": 29,
    "start_time": "2022-04-22T19:30:39.062Z"
   },
   {
    "duration": 30,
    "start_time": "2022-04-22T19:30:39.093Z"
   },
   {
    "duration": 50,
    "start_time": "2022-04-22T19:30:39.125Z"
   },
   {
    "duration": 32,
    "start_time": "2022-04-22T19:30:39.176Z"
   },
   {
    "duration": 69,
    "start_time": "2022-04-22T19:30:39.209Z"
   },
   {
    "duration": 3,
    "start_time": "2022-04-22T19:30:39.279Z"
   },
   {
    "duration": 190,
    "start_time": "2022-04-22T19:30:39.284Z"
   },
   {
    "duration": 0,
    "start_time": "2022-04-22T19:30:39.477Z"
   },
   {
    "duration": 0,
    "start_time": "2022-04-22T19:30:39.478Z"
   },
   {
    "duration": 0,
    "start_time": "2022-04-22T19:30:39.480Z"
   },
   {
    "duration": 0,
    "start_time": "2022-04-22T19:30:39.481Z"
   },
   {
    "duration": 0,
    "start_time": "2022-04-22T19:30:39.482Z"
   },
   {
    "duration": 0,
    "start_time": "2022-04-22T19:30:39.483Z"
   },
   {
    "duration": 0,
    "start_time": "2022-04-22T19:30:39.485Z"
   },
   {
    "duration": 0,
    "start_time": "2022-04-22T19:30:39.486Z"
   },
   {
    "duration": 0,
    "start_time": "2022-04-22T19:30:39.487Z"
   },
   {
    "duration": 0,
    "start_time": "2022-04-22T19:30:39.488Z"
   },
   {
    "duration": 0,
    "start_time": "2022-04-22T19:30:39.489Z"
   },
   {
    "duration": 0,
    "start_time": "2022-04-22T19:30:39.490Z"
   },
   {
    "duration": 0,
    "start_time": "2022-04-22T19:30:39.491Z"
   },
   {
    "duration": 0,
    "start_time": "2022-04-22T19:30:39.492Z"
   },
   {
    "duration": 0,
    "start_time": "2022-04-22T19:30:39.493Z"
   },
   {
    "duration": 0,
    "start_time": "2022-04-22T19:30:39.494Z"
   },
   {
    "duration": 0,
    "start_time": "2022-04-22T19:30:39.496Z"
   },
   {
    "duration": 0,
    "start_time": "2022-04-22T19:30:39.497Z"
   },
   {
    "duration": 0,
    "start_time": "2022-04-22T19:30:39.498Z"
   },
   {
    "duration": 0,
    "start_time": "2022-04-22T19:30:39.499Z"
   },
   {
    "duration": 1535,
    "start_time": "2022-04-22T19:31:47.387Z"
   },
   {
    "duration": 747,
    "start_time": "2022-04-22T19:31:48.924Z"
   },
   {
    "duration": 77,
    "start_time": "2022-04-22T19:31:49.672Z"
   },
   {
    "duration": 40,
    "start_time": "2022-04-22T19:31:49.751Z"
   },
   {
    "duration": 327,
    "start_time": "2022-04-22T19:31:49.792Z"
   },
   {
    "duration": 534,
    "start_time": "2022-04-22T19:31:50.121Z"
   },
   {
    "duration": 395,
    "start_time": "2022-04-22T19:31:50.657Z"
   },
   {
    "duration": 138,
    "start_time": "2022-04-22T19:31:51.054Z"
   },
   {
    "duration": 131,
    "start_time": "2022-04-22T19:31:51.194Z"
   },
   {
    "duration": 56,
    "start_time": "2022-04-22T19:31:51.328Z"
   },
   {
    "duration": 110,
    "start_time": "2022-04-22T19:31:51.386Z"
   },
   {
    "duration": 96,
    "start_time": "2022-04-22T19:31:51.498Z"
   },
   {
    "duration": 28,
    "start_time": "2022-04-22T19:31:51.596Z"
   },
   {
    "duration": 42,
    "start_time": "2022-04-22T19:31:51.625Z"
   },
   {
    "duration": 29,
    "start_time": "2022-04-22T19:31:51.668Z"
   },
   {
    "duration": 47,
    "start_time": "2022-04-22T19:31:51.700Z"
   },
   {
    "duration": 29,
    "start_time": "2022-04-22T19:31:51.749Z"
   },
   {
    "duration": 30,
    "start_time": "2022-04-22T19:31:51.780Z"
   },
   {
    "duration": 71,
    "start_time": "2022-04-22T19:31:51.812Z"
   },
   {
    "duration": 3,
    "start_time": "2022-04-22T19:31:51.884Z"
   },
   {
    "duration": 123,
    "start_time": "2022-04-22T19:31:51.888Z"
   },
   {
    "duration": 0,
    "start_time": "2022-04-22T19:31:52.013Z"
   },
   {
    "duration": 0,
    "start_time": "2022-04-22T19:31:52.014Z"
   },
   {
    "duration": 0,
    "start_time": "2022-04-22T19:31:52.015Z"
   },
   {
    "duration": 0,
    "start_time": "2022-04-22T19:31:52.016Z"
   },
   {
    "duration": 0,
    "start_time": "2022-04-22T19:31:52.017Z"
   },
   {
    "duration": 0,
    "start_time": "2022-04-22T19:31:52.018Z"
   },
   {
    "duration": 0,
    "start_time": "2022-04-22T19:31:52.019Z"
   },
   {
    "duration": 0,
    "start_time": "2022-04-22T19:31:52.020Z"
   },
   {
    "duration": 0,
    "start_time": "2022-04-22T19:31:52.021Z"
   },
   {
    "duration": 0,
    "start_time": "2022-04-22T19:31:52.022Z"
   },
   {
    "duration": 0,
    "start_time": "2022-04-22T19:31:52.023Z"
   },
   {
    "duration": 0,
    "start_time": "2022-04-22T19:31:52.024Z"
   },
   {
    "duration": 0,
    "start_time": "2022-04-22T19:31:52.025Z"
   },
   {
    "duration": 0,
    "start_time": "2022-04-22T19:31:52.026Z"
   },
   {
    "duration": 0,
    "start_time": "2022-04-22T19:31:52.048Z"
   },
   {
    "duration": 0,
    "start_time": "2022-04-22T19:31:52.049Z"
   },
   {
    "duration": 0,
    "start_time": "2022-04-22T19:31:52.050Z"
   },
   {
    "duration": 0,
    "start_time": "2022-04-22T19:31:52.051Z"
   },
   {
    "duration": 0,
    "start_time": "2022-04-22T19:31:52.051Z"
   },
   {
    "duration": 0,
    "start_time": "2022-04-22T19:31:52.052Z"
   },
   {
    "duration": 1913,
    "start_time": "2022-04-22T19:32:51.268Z"
   },
   {
    "duration": 765,
    "start_time": "2022-04-22T19:32:53.183Z"
   },
   {
    "duration": 78,
    "start_time": "2022-04-22T19:32:53.950Z"
   },
   {
    "duration": 55,
    "start_time": "2022-04-22T19:32:54.031Z"
   },
   {
    "duration": 318,
    "start_time": "2022-04-22T19:32:54.088Z"
   },
   {
    "duration": 535,
    "start_time": "2022-04-22T19:32:54.408Z"
   },
   {
    "duration": 400,
    "start_time": "2022-04-22T19:32:54.948Z"
   },
   {
    "duration": 141,
    "start_time": "2022-04-22T19:32:55.350Z"
   },
   {
    "duration": 133,
    "start_time": "2022-04-22T19:32:55.493Z"
   },
   {
    "duration": 57,
    "start_time": "2022-04-22T19:32:55.629Z"
   },
   {
    "duration": 174,
    "start_time": "2022-04-22T19:32:55.688Z"
   },
   {
    "duration": 162,
    "start_time": "2022-04-22T19:32:55.864Z"
   },
   {
    "duration": 47,
    "start_time": "2022-04-22T19:32:56.028Z"
   },
   {
    "duration": 33,
    "start_time": "2022-04-22T19:32:56.077Z"
   },
   {
    "duration": 48,
    "start_time": "2022-04-22T19:32:56.111Z"
   },
   {
    "duration": 51,
    "start_time": "2022-04-22T19:32:56.161Z"
   },
   {
    "duration": 52,
    "start_time": "2022-04-22T19:32:56.214Z"
   },
   {
    "duration": 33,
    "start_time": "2022-04-22T19:32:56.267Z"
   },
   {
    "duration": 70,
    "start_time": "2022-04-22T19:32:56.302Z"
   },
   {
    "duration": 4,
    "start_time": "2022-04-22T19:32:56.373Z"
   },
   {
    "duration": 789,
    "start_time": "2022-04-22T19:32:56.379Z"
   },
   {
    "duration": 5592,
    "start_time": "2022-04-22T19:32:57.170Z"
   },
   {
    "duration": 2,
    "start_time": "2022-04-22T19:33:02.765Z"
   },
   {
    "duration": 18,
    "start_time": "2022-04-22T19:33:02.769Z"
   },
   {
    "duration": 25,
    "start_time": "2022-04-22T19:33:02.788Z"
   },
   {
    "duration": 63,
    "start_time": "2022-04-22T19:33:02.814Z"
   },
   {
    "duration": 34,
    "start_time": "2022-04-22T19:33:02.879Z"
   },
   {
    "duration": 1435,
    "start_time": "2022-04-22T19:33:02.916Z"
   },
   {
    "duration": 412,
    "start_time": "2022-04-22T19:33:04.353Z"
   },
   {
    "duration": 1231,
    "start_time": "2022-04-22T19:33:04.766Z"
   },
   {
    "duration": 1481,
    "start_time": "2022-04-22T19:33:05.999Z"
   },
   {
    "duration": 436,
    "start_time": "2022-04-22T19:33:07.547Z"
   },
   {
    "duration": 55901,
    "start_time": "2022-04-22T19:33:07.985Z"
   },
   {
    "duration": 17632,
    "start_time": "2022-04-22T19:34:03.887Z"
   },
   {
    "duration": 109,
    "start_time": "2022-04-22T19:34:21.521Z"
   },
   {
    "duration": 16,
    "start_time": "2022-04-22T19:34:21.632Z"
   },
   {
    "duration": 183,
    "start_time": "2022-04-22T19:34:21.650Z"
   },
   {
    "duration": 1790,
    "start_time": "2022-04-22T19:34:21.835Z"
   },
   {
    "duration": 17282,
    "start_time": "2022-04-22T19:34:23.627Z"
   },
   {
    "duration": 1918,
    "start_time": "2022-04-22T19:36:09.371Z"
   },
   {
    "duration": 1142,
    "start_time": "2022-04-22T19:36:11.291Z"
   },
   {
    "duration": 75,
    "start_time": "2022-04-22T19:36:12.435Z"
   },
   {
    "duration": 49,
    "start_time": "2022-04-22T19:36:12.513Z"
   },
   {
    "duration": 226,
    "start_time": "2022-04-22T19:36:12.563Z"
   },
   {
    "duration": 369,
    "start_time": "2022-04-22T19:36:12.791Z"
   },
   {
    "duration": 252,
    "start_time": "2022-04-22T19:36:13.162Z"
   },
   {
    "duration": 80,
    "start_time": "2022-04-22T19:36:13.416Z"
   },
   {
    "duration": 76,
    "start_time": "2022-04-22T19:36:13.498Z"
   },
   {
    "duration": 51,
    "start_time": "2022-04-22T19:36:13.578Z"
   },
   {
    "duration": 117,
    "start_time": "2022-04-22T19:36:13.631Z"
   },
   {
    "duration": 104,
    "start_time": "2022-04-22T19:36:13.750Z"
   },
   {
    "duration": 31,
    "start_time": "2022-04-22T19:36:13.856Z"
   },
   {
    "duration": 31,
    "start_time": "2022-04-22T19:36:13.889Z"
   },
   {
    "duration": 52,
    "start_time": "2022-04-22T19:36:13.922Z"
   },
   {
    "duration": 31,
    "start_time": "2022-04-22T19:36:13.976Z"
   },
   {
    "duration": 57,
    "start_time": "2022-04-22T19:36:14.009Z"
   },
   {
    "duration": 52,
    "start_time": "2022-04-22T19:36:14.068Z"
   },
   {
    "duration": 104,
    "start_time": "2022-04-22T19:36:14.122Z"
   },
   {
    "duration": 3,
    "start_time": "2022-04-22T19:36:14.228Z"
   },
   {
    "duration": 118,
    "start_time": "2022-04-22T19:36:14.233Z"
   },
   {
    "duration": 0,
    "start_time": "2022-04-22T19:36:14.354Z"
   },
   {
    "duration": 0,
    "start_time": "2022-04-22T19:36:14.355Z"
   },
   {
    "duration": 0,
    "start_time": "2022-04-22T19:36:14.356Z"
   },
   {
    "duration": 1,
    "start_time": "2022-04-22T19:36:14.357Z"
   },
   {
    "duration": 0,
    "start_time": "2022-04-22T19:36:14.358Z"
   },
   {
    "duration": 0,
    "start_time": "2022-04-22T19:36:14.360Z"
   },
   {
    "duration": 0,
    "start_time": "2022-04-22T19:36:14.361Z"
   },
   {
    "duration": 0,
    "start_time": "2022-04-22T19:36:14.362Z"
   },
   {
    "duration": 0,
    "start_time": "2022-04-22T19:36:14.363Z"
   },
   {
    "duration": 0,
    "start_time": "2022-04-22T19:36:14.364Z"
   },
   {
    "duration": 0,
    "start_time": "2022-04-22T19:36:14.365Z"
   },
   {
    "duration": 0,
    "start_time": "2022-04-22T19:36:14.366Z"
   },
   {
    "duration": 0,
    "start_time": "2022-04-22T19:36:14.367Z"
   },
   {
    "duration": 0,
    "start_time": "2022-04-22T19:36:14.368Z"
   },
   {
    "duration": 0,
    "start_time": "2022-04-22T19:36:14.369Z"
   },
   {
    "duration": 0,
    "start_time": "2022-04-22T19:36:14.371Z"
   },
   {
    "duration": 0,
    "start_time": "2022-04-22T19:36:14.372Z"
   },
   {
    "duration": 0,
    "start_time": "2022-04-22T19:36:14.373Z"
   },
   {
    "duration": 0,
    "start_time": "2022-04-22T19:36:14.374Z"
   },
   {
    "duration": 0,
    "start_time": "2022-04-22T19:36:14.375Z"
   },
   {
    "duration": 1846,
    "start_time": "2022-04-22T19:36:41.791Z"
   },
   {
    "duration": 1113,
    "start_time": "2022-04-22T19:36:43.639Z"
   },
   {
    "duration": 75,
    "start_time": "2022-04-22T19:36:44.754Z"
   },
   {
    "duration": 48,
    "start_time": "2022-04-22T19:36:44.847Z"
   },
   {
    "duration": 321,
    "start_time": "2022-04-22T19:36:44.898Z"
   },
   {
    "duration": 538,
    "start_time": "2022-04-22T19:36:45.221Z"
   },
   {
    "duration": 234,
    "start_time": "2022-04-22T19:36:45.761Z"
   },
   {
    "duration": 84,
    "start_time": "2022-04-22T19:36:45.996Z"
   },
   {
    "duration": 76,
    "start_time": "2022-04-22T19:36:46.082Z"
   },
   {
    "duration": 29,
    "start_time": "2022-04-22T19:36:46.159Z"
   },
   {
    "duration": 115,
    "start_time": "2022-04-22T19:36:46.190Z"
   },
   {
    "duration": 97,
    "start_time": "2022-04-22T19:36:46.307Z"
   },
   {
    "duration": 28,
    "start_time": "2022-04-22T19:36:46.406Z"
   },
   {
    "duration": 30,
    "start_time": "2022-04-22T19:36:46.450Z"
   },
   {
    "duration": 29,
    "start_time": "2022-04-22T19:36:46.482Z"
   },
   {
    "duration": 76,
    "start_time": "2022-04-22T19:36:46.514Z"
   },
   {
    "duration": 64,
    "start_time": "2022-04-22T19:36:46.592Z"
   },
   {
    "duration": 41,
    "start_time": "2022-04-22T19:36:46.657Z"
   },
   {
    "duration": 66,
    "start_time": "2022-04-22T19:36:46.700Z"
   },
   {
    "duration": 3,
    "start_time": "2022-04-22T19:36:46.767Z"
   },
   {
    "duration": 477,
    "start_time": "2022-04-22T19:36:46.771Z"
   },
   {
    "duration": 3329,
    "start_time": "2022-04-22T19:36:47.250Z"
   },
   {
    "duration": 3,
    "start_time": "2022-04-22T19:36:50.581Z"
   },
   {
    "duration": 18,
    "start_time": "2022-04-22T19:36:50.585Z"
   },
   {
    "duration": 18,
    "start_time": "2022-04-22T19:36:50.605Z"
   },
   {
    "duration": 61,
    "start_time": "2022-04-22T19:36:50.625Z"
   },
   {
    "duration": 35,
    "start_time": "2022-04-22T19:36:50.687Z"
   },
   {
    "duration": 1161,
    "start_time": "2022-04-22T19:36:50.724Z"
   },
   {
    "duration": 424,
    "start_time": "2022-04-22T19:36:51.887Z"
   },
   {
    "duration": 1191,
    "start_time": "2022-04-22T19:36:52.313Z"
   },
   {
    "duration": 1449,
    "start_time": "2022-04-22T19:36:53.506Z"
   },
   {
    "duration": 427,
    "start_time": "2022-04-22T19:36:54.958Z"
   },
   {
    "duration": 54146,
    "start_time": "2022-04-22T19:36:55.387Z"
   },
   {
    "duration": 16357,
    "start_time": "2022-04-22T19:37:49.535Z"
   },
   {
    "duration": 99,
    "start_time": "2022-04-22T19:38:05.893Z"
   },
   {
    "duration": 10,
    "start_time": "2022-04-22T19:38:05.994Z"
   },
   {
    "duration": 176,
    "start_time": "2022-04-22T19:38:06.006Z"
   },
   {
    "duration": 1782,
    "start_time": "2022-04-22T19:38:06.184Z"
   },
   {
    "duration": 16018,
    "start_time": "2022-04-22T19:38:07.968Z"
   },
   {
    "duration": 1793,
    "start_time": "2022-04-22T19:38:30.736Z"
   },
   {
    "duration": 1036,
    "start_time": "2022-04-22T19:38:32.531Z"
   },
   {
    "duration": 91,
    "start_time": "2022-04-22T19:38:33.568Z"
   },
   {
    "duration": 51,
    "start_time": "2022-04-22T19:38:33.661Z"
   },
   {
    "duration": 327,
    "start_time": "2022-04-22T19:38:33.714Z"
   },
   {
    "duration": 534,
    "start_time": "2022-04-22T19:38:34.043Z"
   },
   {
    "duration": 400,
    "start_time": "2022-04-22T19:38:34.579Z"
   },
   {
    "duration": 144,
    "start_time": "2022-04-22T19:38:34.980Z"
   },
   {
    "duration": 135,
    "start_time": "2022-04-22T19:38:35.126Z"
   },
   {
    "duration": 49,
    "start_time": "2022-04-22T19:38:35.263Z"
   },
   {
    "duration": 183,
    "start_time": "2022-04-22T19:38:35.313Z"
   },
   {
    "duration": 158,
    "start_time": "2022-04-22T19:38:35.498Z"
   },
   {
    "duration": 50,
    "start_time": "2022-04-22T19:38:35.657Z"
   },
   {
    "duration": 64,
    "start_time": "2022-04-22T19:38:35.710Z"
   },
   {
    "duration": 49,
    "start_time": "2022-04-22T19:38:35.775Z"
   },
   {
    "duration": 69,
    "start_time": "2022-04-22T19:38:35.826Z"
   },
   {
    "duration": 63,
    "start_time": "2022-04-22T19:38:35.897Z"
   },
   {
    "duration": 50,
    "start_time": "2022-04-22T19:38:35.962Z"
   },
   {
    "duration": 72,
    "start_time": "2022-04-22T19:38:36.014Z"
   },
   {
    "duration": 3,
    "start_time": "2022-04-22T19:38:36.087Z"
   },
   {
    "duration": 119,
    "start_time": "2022-04-22T19:38:36.091Z"
   },
   {
    "duration": 0,
    "start_time": "2022-04-22T19:38:36.212Z"
   },
   {
    "duration": 0,
    "start_time": "2022-04-22T19:38:36.213Z"
   },
   {
    "duration": 0,
    "start_time": "2022-04-22T19:38:36.214Z"
   },
   {
    "duration": 0,
    "start_time": "2022-04-22T19:38:36.215Z"
   },
   {
    "duration": 0,
    "start_time": "2022-04-22T19:38:36.216Z"
   },
   {
    "duration": 0,
    "start_time": "2022-04-22T19:38:36.217Z"
   },
   {
    "duration": 0,
    "start_time": "2022-04-22T19:38:36.218Z"
   },
   {
    "duration": 0,
    "start_time": "2022-04-22T19:38:36.218Z"
   },
   {
    "duration": 0,
    "start_time": "2022-04-22T19:38:36.219Z"
   },
   {
    "duration": 0,
    "start_time": "2022-04-22T19:38:36.220Z"
   },
   {
    "duration": 0,
    "start_time": "2022-04-22T19:38:36.221Z"
   },
   {
    "duration": 0,
    "start_time": "2022-04-22T19:38:36.221Z"
   },
   {
    "duration": 0,
    "start_time": "2022-04-22T19:38:36.222Z"
   },
   {
    "duration": 0,
    "start_time": "2022-04-22T19:38:36.224Z"
   },
   {
    "duration": 0,
    "start_time": "2022-04-22T19:38:36.224Z"
   },
   {
    "duration": 0,
    "start_time": "2022-04-22T19:38:36.247Z"
   },
   {
    "duration": 0,
    "start_time": "2022-04-22T19:38:36.248Z"
   },
   {
    "duration": 0,
    "start_time": "2022-04-22T19:38:36.249Z"
   },
   {
    "duration": 0,
    "start_time": "2022-04-22T19:38:36.251Z"
   },
   {
    "duration": 0,
    "start_time": "2022-04-22T19:38:36.251Z"
   },
   {
    "duration": 1777,
    "start_time": "2022-04-22T19:39:29.809Z"
   },
   {
    "duration": 761,
    "start_time": "2022-04-22T19:39:31.588Z"
   },
   {
    "duration": 62,
    "start_time": "2022-04-22T19:39:32.351Z"
   },
   {
    "duration": 59,
    "start_time": "2022-04-22T19:39:32.415Z"
   },
   {
    "duration": 230,
    "start_time": "2022-04-22T19:39:32.475Z"
   },
   {
    "duration": 368,
    "start_time": "2022-04-22T19:39:32.706Z"
   },
   {
    "duration": 246,
    "start_time": "2022-04-22T19:39:33.076Z"
   },
   {
    "duration": 79,
    "start_time": "2022-04-22T19:39:33.323Z"
   },
   {
    "duration": 76,
    "start_time": "2022-04-22T19:39:33.404Z"
   },
   {
    "duration": 28,
    "start_time": "2022-04-22T19:39:33.483Z"
   },
   {
    "duration": 115,
    "start_time": "2022-04-22T19:39:33.513Z"
   },
   {
    "duration": 96,
    "start_time": "2022-04-22T19:39:33.629Z"
   },
   {
    "duration": 40,
    "start_time": "2022-04-22T19:39:33.727Z"
   },
   {
    "duration": 52,
    "start_time": "2022-04-22T19:39:33.769Z"
   },
   {
    "duration": 42,
    "start_time": "2022-04-22T19:39:33.822Z"
   },
   {
    "duration": 31,
    "start_time": "2022-04-22T19:39:33.866Z"
   },
   {
    "duration": 57,
    "start_time": "2022-04-22T19:39:33.899Z"
   },
   {
    "duration": 52,
    "start_time": "2022-04-22T19:39:33.958Z"
   },
   {
    "duration": 101,
    "start_time": "2022-04-22T19:39:34.012Z"
   },
   {
    "duration": 2,
    "start_time": "2022-04-22T19:39:34.115Z"
   },
   {
    "duration": 175,
    "start_time": "2022-04-22T19:39:34.119Z"
   },
   {
    "duration": 0,
    "start_time": "2022-04-22T19:39:34.296Z"
   },
   {
    "duration": 0,
    "start_time": "2022-04-22T19:39:34.298Z"
   },
   {
    "duration": 0,
    "start_time": "2022-04-22T19:39:34.299Z"
   },
   {
    "duration": 0,
    "start_time": "2022-04-22T19:39:34.300Z"
   },
   {
    "duration": 0,
    "start_time": "2022-04-22T19:39:34.302Z"
   },
   {
    "duration": 0,
    "start_time": "2022-04-22T19:39:34.303Z"
   },
   {
    "duration": 0,
    "start_time": "2022-04-22T19:39:34.304Z"
   },
   {
    "duration": 0,
    "start_time": "2022-04-22T19:39:34.306Z"
   },
   {
    "duration": 0,
    "start_time": "2022-04-22T19:39:34.308Z"
   },
   {
    "duration": 0,
    "start_time": "2022-04-22T19:39:34.309Z"
   },
   {
    "duration": 0,
    "start_time": "2022-04-22T19:39:34.310Z"
   },
   {
    "duration": 0,
    "start_time": "2022-04-22T19:39:34.312Z"
   },
   {
    "duration": 0,
    "start_time": "2022-04-22T19:39:34.313Z"
   },
   {
    "duration": 0,
    "start_time": "2022-04-22T19:39:34.314Z"
   },
   {
    "duration": 0,
    "start_time": "2022-04-22T19:39:34.349Z"
   },
   {
    "duration": 1,
    "start_time": "2022-04-22T19:39:34.350Z"
   },
   {
    "duration": 0,
    "start_time": "2022-04-22T19:39:34.352Z"
   },
   {
    "duration": 0,
    "start_time": "2022-04-22T19:39:34.353Z"
   },
   {
    "duration": 0,
    "start_time": "2022-04-22T19:39:34.354Z"
   },
   {
    "duration": 0,
    "start_time": "2022-04-22T19:39:34.356Z"
   },
   {
    "duration": 1591,
    "start_time": "2022-04-22T19:40:25.591Z"
   },
   {
    "duration": 780,
    "start_time": "2022-04-22T19:40:27.184Z"
   },
   {
    "duration": 67,
    "start_time": "2022-04-22T19:40:27.966Z"
   },
   {
    "duration": 41,
    "start_time": "2022-04-22T19:40:28.049Z"
   },
   {
    "duration": 209,
    "start_time": "2022-04-22T19:40:28.091Z"
   },
   {
    "duration": 329,
    "start_time": "2022-04-22T19:40:28.301Z"
   },
   {
    "duration": 235,
    "start_time": "2022-04-22T19:40:28.632Z"
   },
   {
    "duration": 86,
    "start_time": "2022-04-22T19:40:28.869Z"
   },
   {
    "duration": 71,
    "start_time": "2022-04-22T19:40:28.957Z"
   },
   {
    "duration": 27,
    "start_time": "2022-04-22T19:40:29.047Z"
   },
   {
    "duration": 106,
    "start_time": "2022-04-22T19:40:29.076Z"
   },
   {
    "duration": 99,
    "start_time": "2022-04-22T19:40:29.183Z"
   },
   {
    "duration": 29,
    "start_time": "2022-04-22T19:40:29.283Z"
   },
   {
    "duration": 43,
    "start_time": "2022-04-22T19:40:29.313Z"
   },
   {
    "duration": 31,
    "start_time": "2022-04-22T19:40:29.357Z"
   },
   {
    "duration": 31,
    "start_time": "2022-04-22T19:40:29.390Z"
   },
   {
    "duration": 46,
    "start_time": "2022-04-22T19:40:29.422Z"
   },
   {
    "duration": 29,
    "start_time": "2022-04-22T19:40:29.470Z"
   },
   {
    "duration": 68,
    "start_time": "2022-04-22T19:40:29.501Z"
   },
   {
    "duration": 3,
    "start_time": "2022-04-22T19:40:29.571Z"
   },
   {
    "duration": 489,
    "start_time": "2022-04-22T19:40:29.576Z"
   },
   {
    "duration": 4048,
    "start_time": "2022-04-22T19:40:30.067Z"
   },
   {
    "duration": 3,
    "start_time": "2022-04-22T19:40:34.117Z"
   },
   {
    "duration": 34,
    "start_time": "2022-04-22T19:40:34.122Z"
   },
   {
    "duration": 18,
    "start_time": "2022-04-22T19:40:34.158Z"
   },
   {
    "duration": 69,
    "start_time": "2022-04-22T19:40:34.178Z"
   },
   {
    "duration": 46,
    "start_time": "2022-04-22T19:40:34.249Z"
   },
   {
    "duration": 1189,
    "start_time": "2022-04-22T19:40:34.299Z"
   },
   {
    "duration": 413,
    "start_time": "2022-04-22T19:40:35.490Z"
   },
   {
    "duration": 1219,
    "start_time": "2022-04-22T19:40:35.905Z"
   },
   {
    "duration": 1256,
    "start_time": "2022-04-22T19:40:37.126Z"
   },
   {
    "duration": 450,
    "start_time": "2022-04-22T19:40:38.447Z"
   },
   {
    "duration": 49508,
    "start_time": "2022-04-22T19:40:38.898Z"
   },
   {
    "duration": 18285,
    "start_time": "2022-04-22T19:41:28.408Z"
   },
   {
    "duration": 111,
    "start_time": "2022-04-22T19:41:46.696Z"
   },
   {
    "duration": 12,
    "start_time": "2022-04-22T19:41:46.809Z"
   },
   {
    "duration": 184,
    "start_time": "2022-04-22T19:41:46.822Z"
   },
   {
    "duration": 1761,
    "start_time": "2022-04-22T19:41:47.008Z"
   },
   {
    "duration": 18182,
    "start_time": "2022-04-22T19:41:48.771Z"
   },
   {
    "duration": 1803,
    "start_time": "2022-04-22T19:42:54.750Z"
   },
   {
    "duration": 752,
    "start_time": "2022-04-22T19:42:56.554Z"
   },
   {
    "duration": 76,
    "start_time": "2022-04-22T19:42:57.308Z"
   },
   {
    "duration": 63,
    "start_time": "2022-04-22T19:42:57.386Z"
   },
   {
    "duration": 334,
    "start_time": "2022-04-22T19:42:57.452Z"
   },
   {
    "duration": 577,
    "start_time": "2022-04-22T19:42:57.787Z"
   },
   {
    "duration": 401,
    "start_time": "2022-04-22T19:42:58.366Z"
   },
   {
    "duration": 143,
    "start_time": "2022-04-22T19:42:58.769Z"
   },
   {
    "duration": 140,
    "start_time": "2022-04-22T19:42:58.914Z"
   },
   {
    "duration": 27,
    "start_time": "2022-04-22T19:42:59.056Z"
   },
   {
    "duration": 175,
    "start_time": "2022-04-22T19:42:59.085Z"
   },
   {
    "duration": 159,
    "start_time": "2022-04-22T19:42:59.262Z"
   },
   {
    "duration": 36,
    "start_time": "2022-04-22T19:42:59.423Z"
   },
   {
    "duration": 30,
    "start_time": "2022-04-22T19:42:59.462Z"
   },
   {
    "duration": 29,
    "start_time": "2022-04-22T19:42:59.494Z"
   },
   {
    "duration": 51,
    "start_time": "2022-04-22T19:42:59.525Z"
   },
   {
    "duration": 29,
    "start_time": "2022-04-22T19:42:59.578Z"
   },
   {
    "duration": 64,
    "start_time": "2022-04-22T19:42:59.609Z"
   },
   {
    "duration": 88,
    "start_time": "2022-04-22T19:42:59.675Z"
   },
   {
    "duration": 3,
    "start_time": "2022-04-22T19:42:59.765Z"
   },
   {
    "duration": 146,
    "start_time": "2022-04-22T19:42:59.769Z"
   },
   {
    "duration": 0,
    "start_time": "2022-04-22T19:42:59.917Z"
   },
   {
    "duration": 0,
    "start_time": "2022-04-22T19:42:59.918Z"
   },
   {
    "duration": 0,
    "start_time": "2022-04-22T19:42:59.919Z"
   },
   {
    "duration": 0,
    "start_time": "2022-04-22T19:42:59.920Z"
   },
   {
    "duration": 0,
    "start_time": "2022-04-22T19:42:59.921Z"
   },
   {
    "duration": 0,
    "start_time": "2022-04-22T19:42:59.923Z"
   },
   {
    "duration": 0,
    "start_time": "2022-04-22T19:42:59.923Z"
   },
   {
    "duration": 0,
    "start_time": "2022-04-22T19:42:59.924Z"
   },
   {
    "duration": 0,
    "start_time": "2022-04-22T19:42:59.925Z"
   },
   {
    "duration": 0,
    "start_time": "2022-04-22T19:42:59.926Z"
   },
   {
    "duration": 0,
    "start_time": "2022-04-22T19:42:59.927Z"
   },
   {
    "duration": 0,
    "start_time": "2022-04-22T19:42:59.948Z"
   },
   {
    "duration": 0,
    "start_time": "2022-04-22T19:42:59.949Z"
   },
   {
    "duration": 0,
    "start_time": "2022-04-22T19:42:59.950Z"
   },
   {
    "duration": 0,
    "start_time": "2022-04-22T19:42:59.951Z"
   },
   {
    "duration": 0,
    "start_time": "2022-04-22T19:42:59.952Z"
   },
   {
    "duration": 0,
    "start_time": "2022-04-22T19:42:59.953Z"
   },
   {
    "duration": 0,
    "start_time": "2022-04-22T19:42:59.954Z"
   },
   {
    "duration": 0,
    "start_time": "2022-04-22T19:42:59.955Z"
   },
   {
    "duration": 0,
    "start_time": "2022-04-22T19:42:59.956Z"
   },
   {
    "duration": 1791,
    "start_time": "2022-04-22T19:44:14.609Z"
   },
   {
    "duration": 801,
    "start_time": "2022-04-22T19:44:16.402Z"
   },
   {
    "duration": 82,
    "start_time": "2022-04-22T19:44:17.205Z"
   },
   {
    "duration": 39,
    "start_time": "2022-04-22T19:44:17.289Z"
   },
   {
    "duration": 218,
    "start_time": "2022-04-22T19:44:17.330Z"
   },
   {
    "duration": 340,
    "start_time": "2022-04-22T19:44:17.550Z"
   },
   {
    "duration": 236,
    "start_time": "2022-04-22T19:44:17.892Z"
   },
   {
    "duration": 79,
    "start_time": "2022-04-22T19:44:18.130Z"
   },
   {
    "duration": 77,
    "start_time": "2022-04-22T19:44:18.211Z"
   },
   {
    "duration": 28,
    "start_time": "2022-04-22T19:44:18.291Z"
   },
   {
    "duration": 117,
    "start_time": "2022-04-22T19:44:18.321Z"
   },
   {
    "duration": 87,
    "start_time": "2022-04-22T19:44:18.448Z"
   },
   {
    "duration": 30,
    "start_time": "2022-04-22T19:44:18.547Z"
   },
   {
    "duration": 31,
    "start_time": "2022-04-22T19:44:18.578Z"
   },
   {
    "duration": 47,
    "start_time": "2022-04-22T19:44:18.611Z"
   },
   {
    "duration": 32,
    "start_time": "2022-04-22T19:44:18.660Z"
   },
   {
    "duration": 30,
    "start_time": "2022-04-22T19:44:18.693Z"
   },
   {
    "duration": 52,
    "start_time": "2022-04-22T19:44:18.724Z"
   },
   {
    "duration": 71,
    "start_time": "2022-04-22T19:44:18.777Z"
   },
   {
    "duration": 3,
    "start_time": "2022-04-22T19:44:18.849Z"
   },
   {
    "duration": 318,
    "start_time": "2022-04-22T19:44:18.853Z"
   },
   {
    "duration": 3398,
    "start_time": "2022-04-22T19:44:19.173Z"
   },
   {
    "duration": 2,
    "start_time": "2022-04-22T19:44:22.573Z"
   },
   {
    "duration": 22,
    "start_time": "2022-04-22T19:44:22.577Z"
   },
   {
    "duration": 19,
    "start_time": "2022-04-22T19:44:22.601Z"
   },
   {
    "duration": 57,
    "start_time": "2022-04-22T19:44:22.622Z"
   },
   {
    "duration": 34,
    "start_time": "2022-04-22T19:44:22.681Z"
   },
   {
    "duration": 1162,
    "start_time": "2022-04-22T19:44:22.718Z"
   },
   {
    "duration": 454,
    "start_time": "2022-04-22T19:44:23.883Z"
   },
   {
    "duration": 1212,
    "start_time": "2022-04-22T19:44:24.339Z"
   },
   {
    "duration": 1236,
    "start_time": "2022-04-22T19:44:25.553Z"
   },
   {
    "duration": 459,
    "start_time": "2022-04-22T19:44:26.849Z"
   },
   {
    "duration": 2490,
    "start_time": "2022-04-22T22:17:03.284Z"
   },
   {
    "duration": 1113,
    "start_time": "2022-04-22T22:17:05.778Z"
   },
   {
    "duration": 126,
    "start_time": "2022-04-22T22:17:06.895Z"
   },
   {
    "duration": 64,
    "start_time": "2022-04-22T22:17:07.024Z"
   },
   {
    "duration": 319,
    "start_time": "2022-04-22T22:17:07.093Z"
   },
   {
    "duration": 529,
    "start_time": "2022-04-22T22:17:07.414Z"
   },
   {
    "duration": 373,
    "start_time": "2022-04-22T22:17:07.946Z"
   },
   {
    "duration": 111,
    "start_time": "2022-04-22T22:17:08.322Z"
   },
   {
    "duration": 104,
    "start_time": "2022-04-22T22:17:08.435Z"
   },
   {
    "duration": 39,
    "start_time": "2022-04-22T22:17:08.551Z"
   },
   {
    "duration": 160,
    "start_time": "2022-04-22T22:17:08.593Z"
   },
   {
    "duration": 141,
    "start_time": "2022-04-22T22:17:08.755Z"
   },
   {
    "duration": 39,
    "start_time": "2022-04-22T22:17:08.898Z"
   },
   {
    "duration": 43,
    "start_time": "2022-04-22T22:17:08.955Z"
   },
   {
    "duration": 56,
    "start_time": "2022-04-22T22:17:09.000Z"
   },
   {
    "duration": 44,
    "start_time": "2022-04-22T22:17:09.058Z"
   },
   {
    "duration": 68,
    "start_time": "2022-04-22T22:17:09.105Z"
   },
   {
    "duration": 43,
    "start_time": "2022-04-22T22:17:09.176Z"
   },
   {
    "duration": 86,
    "start_time": "2022-04-22T22:17:09.223Z"
   },
   {
    "duration": 4,
    "start_time": "2022-04-22T22:17:09.311Z"
   },
   {
    "duration": 315,
    "start_time": "2022-04-22T22:17:09.318Z"
   },
   {
    "duration": 0,
    "start_time": "2022-04-22T22:17:09.636Z"
   },
   {
    "duration": 0,
    "start_time": "2022-04-22T22:17:09.637Z"
   },
   {
    "duration": 0,
    "start_time": "2022-04-22T22:17:09.651Z"
   },
   {
    "duration": 0,
    "start_time": "2022-04-22T22:17:09.652Z"
   },
   {
    "duration": 0,
    "start_time": "2022-04-22T22:17:09.655Z"
   },
   {
    "duration": 0,
    "start_time": "2022-04-22T22:17:09.656Z"
   },
   {
    "duration": 0,
    "start_time": "2022-04-22T22:17:09.658Z"
   },
   {
    "duration": 0,
    "start_time": "2022-04-22T22:17:09.659Z"
   },
   {
    "duration": 0,
    "start_time": "2022-04-22T22:17:09.661Z"
   },
   {
    "duration": 0,
    "start_time": "2022-04-22T22:17:09.662Z"
   },
   {
    "duration": 0,
    "start_time": "2022-04-22T22:17:09.664Z"
   },
   {
    "duration": 0,
    "start_time": "2022-04-22T22:17:09.665Z"
   },
   {
    "duration": 0,
    "start_time": "2022-04-22T22:17:09.667Z"
   },
   {
    "duration": 0,
    "start_time": "2022-04-22T22:17:09.668Z"
   },
   {
    "duration": 1,
    "start_time": "2022-04-22T22:17:09.669Z"
   },
   {
    "duration": 0,
    "start_time": "2022-04-22T22:17:09.671Z"
   },
   {
    "duration": 0,
    "start_time": "2022-04-22T22:17:09.672Z"
   },
   {
    "duration": 0,
    "start_time": "2022-04-22T22:17:09.674Z"
   },
   {
    "duration": 0,
    "start_time": "2022-04-22T22:17:09.675Z"
   },
   {
    "duration": 0,
    "start_time": "2022-04-22T22:17:09.676Z"
   },
   {
    "duration": 2157,
    "start_time": "2022-04-22T22:18:07.647Z"
   },
   {
    "duration": 1089,
    "start_time": "2022-04-22T22:18:09.807Z"
   },
   {
    "duration": 114,
    "start_time": "2022-04-22T22:18:10.898Z"
   },
   {
    "duration": 62,
    "start_time": "2022-04-22T22:18:11.014Z"
   },
   {
    "duration": 305,
    "start_time": "2022-04-22T22:18:11.079Z"
   },
   {
    "duration": 508,
    "start_time": "2022-04-22T22:18:11.386Z"
   },
   {
    "duration": 380,
    "start_time": "2022-04-22T22:18:11.896Z"
   },
   {
    "duration": 107,
    "start_time": "2022-04-22T22:18:12.278Z"
   },
   {
    "duration": 101,
    "start_time": "2022-04-22T22:18:12.388Z"
   },
   {
    "duration": 37,
    "start_time": "2022-04-22T22:18:12.491Z"
   },
   {
    "duration": 147,
    "start_time": "2022-04-22T22:18:12.552Z"
   },
   {
    "duration": 139,
    "start_time": "2022-04-22T22:18:12.701Z"
   },
   {
    "duration": 38,
    "start_time": "2022-04-22T22:18:12.851Z"
   },
   {
    "duration": 45,
    "start_time": "2022-04-22T22:18:12.893Z"
   },
   {
    "duration": 39,
    "start_time": "2022-04-22T22:18:12.953Z"
   },
   {
    "duration": 65,
    "start_time": "2022-04-22T22:18:12.995Z"
   },
   {
    "duration": 43,
    "start_time": "2022-04-22T22:18:13.063Z"
   },
   {
    "duration": 68,
    "start_time": "2022-04-22T22:18:13.108Z"
   },
   {
    "duration": 79,
    "start_time": "2022-04-22T22:18:13.178Z"
   },
   {
    "duration": 4,
    "start_time": "2022-04-22T22:18:13.259Z"
   },
   {
    "duration": 192,
    "start_time": "2022-04-22T22:18:13.264Z"
   },
   {
    "duration": 0,
    "start_time": "2022-04-22T22:18:13.458Z"
   },
   {
    "duration": 0,
    "start_time": "2022-04-22T22:18:13.460Z"
   },
   {
    "duration": 0,
    "start_time": "2022-04-22T22:18:13.462Z"
   },
   {
    "duration": 0,
    "start_time": "2022-04-22T22:18:13.463Z"
   },
   {
    "duration": 0,
    "start_time": "2022-04-22T22:18:13.465Z"
   },
   {
    "duration": 0,
    "start_time": "2022-04-22T22:18:13.466Z"
   },
   {
    "duration": 0,
    "start_time": "2022-04-22T22:18:13.468Z"
   },
   {
    "duration": 0,
    "start_time": "2022-04-22T22:18:13.470Z"
   },
   {
    "duration": 0,
    "start_time": "2022-04-22T22:18:13.472Z"
   },
   {
    "duration": 0,
    "start_time": "2022-04-22T22:18:13.473Z"
   },
   {
    "duration": 0,
    "start_time": "2022-04-22T22:18:13.475Z"
   },
   {
    "duration": 0,
    "start_time": "2022-04-22T22:18:13.476Z"
   },
   {
    "duration": 0,
    "start_time": "2022-04-22T22:18:13.477Z"
   },
   {
    "duration": 0,
    "start_time": "2022-04-22T22:18:13.479Z"
   },
   {
    "duration": 0,
    "start_time": "2022-04-22T22:18:13.481Z"
   },
   {
    "duration": 0,
    "start_time": "2022-04-22T22:18:13.483Z"
   },
   {
    "duration": 0,
    "start_time": "2022-04-22T22:18:13.484Z"
   },
   {
    "duration": 0,
    "start_time": "2022-04-22T22:18:13.485Z"
   },
   {
    "duration": 0,
    "start_time": "2022-04-22T22:18:13.487Z"
   },
   {
    "duration": 0,
    "start_time": "2022-04-22T22:18:13.489Z"
   },
   {
    "duration": 2205,
    "start_time": "2022-04-22T22:18:45.633Z"
   },
   {
    "duration": 1090,
    "start_time": "2022-04-22T22:18:47.840Z"
   },
   {
    "duration": 104,
    "start_time": "2022-04-22T22:18:48.933Z"
   },
   {
    "duration": 72,
    "start_time": "2022-04-22T22:18:49.039Z"
   },
   {
    "duration": 323,
    "start_time": "2022-04-22T22:18:49.115Z"
   },
   {
    "duration": 503,
    "start_time": "2022-04-22T22:18:49.440Z"
   },
   {
    "duration": 371,
    "start_time": "2022-04-22T22:18:49.952Z"
   },
   {
    "duration": 109,
    "start_time": "2022-04-22T22:18:50.325Z"
   },
   {
    "duration": 115,
    "start_time": "2022-04-22T22:18:50.436Z"
   },
   {
    "duration": 45,
    "start_time": "2022-04-22T22:18:50.553Z"
   },
   {
    "duration": 244,
    "start_time": "2022-04-22T22:18:50.601Z"
   },
   {
    "duration": 227,
    "start_time": "2022-04-22T22:18:50.852Z"
   },
   {
    "duration": 81,
    "start_time": "2022-04-22T22:18:51.081Z"
   },
   {
    "duration": 86,
    "start_time": "2022-04-22T22:18:51.169Z"
   },
   {
    "duration": 67,
    "start_time": "2022-04-22T22:18:51.258Z"
   },
   {
    "duration": 84,
    "start_time": "2022-04-22T22:18:51.328Z"
   },
   {
    "duration": 61,
    "start_time": "2022-04-22T22:18:51.415Z"
   },
   {
    "duration": 47,
    "start_time": "2022-04-22T22:18:51.478Z"
   },
   {
    "duration": 85,
    "start_time": "2022-04-22T22:18:51.528Z"
   },
   {
    "duration": 9,
    "start_time": "2022-04-22T22:18:51.616Z"
   },
   {
    "duration": 761,
    "start_time": "2022-04-22T22:18:51.628Z"
   },
   {
    "duration": 5063,
    "start_time": "2022-04-22T22:18:52.392Z"
   },
   {
    "duration": 3,
    "start_time": "2022-04-22T22:18:57.458Z"
   },
   {
    "duration": 27,
    "start_time": "2022-04-22T22:18:57.464Z"
   },
   {
    "duration": 67,
    "start_time": "2022-04-22T22:18:57.494Z"
   },
   {
    "duration": 57,
    "start_time": "2022-04-22T22:18:57.564Z"
   },
   {
    "duration": 75,
    "start_time": "2022-04-22T22:18:57.624Z"
   },
   {
    "duration": 1662,
    "start_time": "2022-04-22T22:18:57.702Z"
   },
   {
    "duration": 756,
    "start_time": "2022-04-22T22:18:59.366Z"
   },
   {
    "duration": 1880,
    "start_time": "2022-04-22T22:19:00.124Z"
   },
   {
    "duration": 1855,
    "start_time": "2022-04-22T22:19:02.006Z"
   },
   {
    "duration": 700,
    "start_time": "2022-04-22T22:19:03.864Z"
   },
   {
    "duration": 74415,
    "start_time": "2022-04-22T22:19:04.567Z"
   },
   {
    "duration": 23279,
    "start_time": "2022-04-22T22:20:18.984Z"
   },
   {
    "duration": 136,
    "start_time": "2022-04-22T22:20:42.265Z"
   },
   {
    "duration": 13,
    "start_time": "2022-04-22T22:20:42.404Z"
   },
   {
    "duration": 193,
    "start_time": "2022-04-22T22:20:42.420Z"
   },
   {
    "duration": 2822,
    "start_time": "2022-04-22T22:20:42.615Z"
   },
   {
    "duration": 32251,
    "start_time": "2022-04-22T22:20:45.439Z"
   },
   {
    "duration": 2546,
    "start_time": "2022-04-22T22:25:27.135Z"
   },
   {
    "duration": 1126,
    "start_time": "2022-04-22T22:25:29.684Z"
   },
   {
    "duration": 115,
    "start_time": "2022-04-22T22:25:30.813Z"
   },
   {
    "duration": 73,
    "start_time": "2022-04-22T22:25:30.930Z"
   },
   {
    "duration": 317,
    "start_time": "2022-04-22T22:25:31.006Z"
   },
   {
    "duration": 525,
    "start_time": "2022-04-22T22:25:31.326Z"
   },
   {
    "duration": 380,
    "start_time": "2022-04-22T22:25:31.853Z"
   },
   {
    "duration": 104,
    "start_time": "2022-04-22T22:25:32.235Z"
   },
   {
    "duration": 102,
    "start_time": "2022-04-22T22:25:32.351Z"
   },
   {
    "duration": 40,
    "start_time": "2022-04-22T22:25:32.455Z"
   },
   {
    "duration": 159,
    "start_time": "2022-04-22T22:25:32.498Z"
   },
   {
    "duration": 147,
    "start_time": "2022-04-22T22:25:32.660Z"
   },
   {
    "duration": 53,
    "start_time": "2022-04-22T22:25:32.810Z"
   },
   {
    "duration": 60,
    "start_time": "2022-04-22T22:25:32.869Z"
   },
   {
    "duration": 47,
    "start_time": "2022-04-22T22:25:32.932Z"
   },
   {
    "duration": 53,
    "start_time": "2022-04-22T22:25:32.981Z"
   },
   {
    "duration": 52,
    "start_time": "2022-04-22T22:25:33.036Z"
   },
   {
    "duration": 43,
    "start_time": "2022-04-22T22:25:33.090Z"
   },
   {
    "duration": 64,
    "start_time": "2022-04-22T22:25:33.153Z"
   },
   {
    "duration": 7,
    "start_time": "2022-04-22T22:25:33.220Z"
   },
   {
    "duration": 714,
    "start_time": "2022-04-22T22:25:33.251Z"
   },
   {
    "duration": 5076,
    "start_time": "2022-04-22T22:25:33.967Z"
   },
   {
    "duration": 8,
    "start_time": "2022-04-22T22:25:39.046Z"
   },
   {
    "duration": 40,
    "start_time": "2022-04-22T22:25:39.057Z"
   },
   {
    "duration": 53,
    "start_time": "2022-04-22T22:25:39.100Z"
   },
   {
    "duration": 71,
    "start_time": "2022-04-22T22:25:39.156Z"
   },
   {
    "duration": 82,
    "start_time": "2022-04-22T22:25:39.230Z"
   },
   {
    "duration": 2647,
    "start_time": "2022-04-22T22:25:39.315Z"
   },
   {
    "duration": 1106,
    "start_time": "2022-04-22T22:25:41.964Z"
   },
   {
    "duration": 41,
    "start_time": "2022-04-22T22:25:43.073Z"
   },
   {
    "duration": 2326,
    "start_time": "2022-04-22T22:25:43.117Z"
   },
   {
    "duration": 2301,
    "start_time": "2022-04-22T22:25:45.453Z"
   },
   {
    "duration": 604,
    "start_time": "2022-04-22T22:25:47.757Z"
   },
   {
    "duration": 2232,
    "start_time": "2022-04-22T22:27:02.427Z"
   },
   {
    "duration": 1149,
    "start_time": "2022-04-22T22:27:04.661Z"
   },
   {
    "duration": 116,
    "start_time": "2022-04-22T22:27:05.812Z"
   },
   {
    "duration": 65,
    "start_time": "2022-04-22T22:27:05.932Z"
   },
   {
    "duration": 326,
    "start_time": "2022-04-22T22:27:06.000Z"
   },
   {
    "duration": 523,
    "start_time": "2022-04-22T22:27:06.330Z"
   },
   {
    "duration": 384,
    "start_time": "2022-04-22T22:27:06.856Z"
   },
   {
    "duration": 115,
    "start_time": "2022-04-22T22:27:07.242Z"
   },
   {
    "duration": 102,
    "start_time": "2022-04-22T22:27:07.360Z"
   },
   {
    "duration": 38,
    "start_time": "2022-04-22T22:27:07.466Z"
   },
   {
    "duration": 153,
    "start_time": "2022-04-22T22:27:07.507Z"
   },
   {
    "duration": 139,
    "start_time": "2022-04-22T22:27:07.663Z"
   },
   {
    "duration": 48,
    "start_time": "2022-04-22T22:27:07.805Z"
   },
   {
    "duration": 43,
    "start_time": "2022-04-22T22:27:07.855Z"
   },
   {
    "duration": 56,
    "start_time": "2022-04-22T22:27:07.900Z"
   },
   {
    "duration": 41,
    "start_time": "2022-04-22T22:27:07.959Z"
   },
   {
    "duration": 65,
    "start_time": "2022-04-22T22:27:08.003Z"
   },
   {
    "duration": 42,
    "start_time": "2022-04-22T22:27:08.070Z"
   },
   {
    "duration": 82,
    "start_time": "2022-04-22T22:27:08.115Z"
   },
   {
    "duration": 4,
    "start_time": "2022-04-22T22:27:08.199Z"
   },
   {
    "duration": 709,
    "start_time": "2022-04-22T22:27:08.205Z"
   },
   {
    "duration": 4835,
    "start_time": "2022-04-22T22:27:08.916Z"
   },
   {
    "duration": 3,
    "start_time": "2022-04-22T22:27:13.754Z"
   },
   {
    "duration": 33,
    "start_time": "2022-04-22T22:27:13.760Z"
   },
   {
    "duration": 39,
    "start_time": "2022-04-22T22:27:13.796Z"
   },
   {
    "duration": 73,
    "start_time": "2022-04-22T22:27:13.852Z"
   },
   {
    "duration": 85,
    "start_time": "2022-04-22T22:27:13.928Z"
   },
   {
    "duration": 2658,
    "start_time": "2022-04-22T22:27:14.020Z"
   },
   {
    "duration": 747,
    "start_time": "2022-04-22T22:27:16.681Z"
   },
   {
    "duration": 39,
    "start_time": "2022-04-22T22:27:17.430Z"
   },
   {
    "duration": 1697,
    "start_time": "2022-04-22T22:27:17.471Z"
   },
   {
    "duration": 53,
    "start_time": "2022-04-22T22:27:19.170Z"
   },
   {
    "duration": 1728,
    "start_time": "2022-04-22T22:27:19.225Z"
   },
   {
    "duration": 461,
    "start_time": "2022-04-22T22:27:20.957Z"
   },
   {
    "duration": 73622,
    "start_time": "2022-04-22T22:27:21.420Z"
   },
   {
    "duration": 31972,
    "start_time": "2022-04-22T22:28:35.052Z"
   },
   {
    "duration": 140,
    "start_time": "2022-04-22T22:29:07.027Z"
   },
   {
    "duration": 17,
    "start_time": "2022-04-22T22:29:07.170Z"
   },
   {
    "duration": 207,
    "start_time": "2022-04-22T22:29:07.189Z"
   },
   {
    "duration": 4765,
    "start_time": "2022-04-22T22:29:07.399Z"
   },
   {
    "duration": 33769,
    "start_time": "2022-04-22T22:29:12.167Z"
   },
   {
    "duration": 323253,
    "start_time": "2022-04-22T22:29:45.939Z"
   },
   {
    "duration": 150492,
    "start_time": "2022-04-22T22:35:09.194Z"
   },
   {
    "duration": 2232,
    "start_time": "2022-04-23T00:20:02.642Z"
   },
   {
    "duration": 1133,
    "start_time": "2022-04-23T00:20:04.877Z"
   },
   {
    "duration": 109,
    "start_time": "2022-04-23T00:20:06.012Z"
   },
   {
    "duration": 74,
    "start_time": "2022-04-23T00:20:06.123Z"
   },
   {
    "duration": 347,
    "start_time": "2022-04-23T00:20:06.200Z"
   },
   {
    "duration": 560,
    "start_time": "2022-04-23T00:20:06.552Z"
   },
   {
    "duration": 381,
    "start_time": "2022-04-23T00:20:07.114Z"
   },
   {
    "duration": 109,
    "start_time": "2022-04-23T00:20:07.497Z"
   },
   {
    "duration": 104,
    "start_time": "2022-04-23T00:20:07.608Z"
   },
   {
    "duration": 50,
    "start_time": "2022-04-23T00:20:07.716Z"
   },
   {
    "duration": 158,
    "start_time": "2022-04-23T00:20:07.768Z"
   },
   {
    "duration": 139,
    "start_time": "2022-04-23T00:20:07.928Z"
   },
   {
    "duration": 39,
    "start_time": "2022-04-23T00:20:08.069Z"
   },
   {
    "duration": 62,
    "start_time": "2022-04-23T00:20:08.110Z"
   },
   {
    "duration": 78,
    "start_time": "2022-04-23T00:20:08.175Z"
   },
   {
    "duration": 42,
    "start_time": "2022-04-23T00:20:08.256Z"
   },
   {
    "duration": 72,
    "start_time": "2022-04-23T00:20:08.300Z"
   },
   {
    "duration": 43,
    "start_time": "2022-04-23T00:20:08.374Z"
   },
   {
    "duration": 92,
    "start_time": "2022-04-23T00:20:08.419Z"
   },
   {
    "duration": 4,
    "start_time": "2022-04-23T00:20:08.513Z"
   },
   {
    "duration": 720,
    "start_time": "2022-04-23T00:20:08.519Z"
   },
   {
    "duration": 4954,
    "start_time": "2022-04-23T00:20:09.241Z"
   },
   {
    "duration": 3,
    "start_time": "2022-04-23T00:20:14.198Z"
   },
   {
    "duration": 28,
    "start_time": "2022-04-23T00:20:14.203Z"
   },
   {
    "duration": 49,
    "start_time": "2022-04-23T00:20:14.233Z"
   },
   {
    "duration": 77,
    "start_time": "2022-04-23T00:20:14.284Z"
   },
   {
    "duration": 50,
    "start_time": "2022-04-23T00:20:14.363Z"
   },
   {
    "duration": 1787,
    "start_time": "2022-04-23T00:20:14.418Z"
   },
   {
    "duration": 750,
    "start_time": "2022-04-23T00:20:16.208Z"
   },
   {
    "duration": 32,
    "start_time": "2022-04-23T00:20:16.960Z"
   },
   {
    "duration": 1731,
    "start_time": "2022-04-23T00:20:16.994Z"
   },
   {
    "duration": 65,
    "start_time": "2022-04-23T00:20:18.727Z"
   },
   {
    "duration": 1757,
    "start_time": "2022-04-23T00:20:18.794Z"
   },
   {
    "duration": 397,
    "start_time": "2022-04-23T00:20:20.553Z"
   },
   {
    "duration": 1740,
    "start_time": "2022-04-23T09:58:12.084Z"
   },
   {
    "duration": 1088,
    "start_time": "2022-04-23T09:58:13.826Z"
   },
   {
    "duration": 56,
    "start_time": "2022-04-23T09:58:14.915Z"
   },
   {
    "duration": 34,
    "start_time": "2022-04-23T09:58:14.973Z"
   },
   {
    "duration": 168,
    "start_time": "2022-04-23T09:58:15.023Z"
   },
   {
    "duration": 294,
    "start_time": "2022-04-23T09:58:15.193Z"
   },
   {
    "duration": 207,
    "start_time": "2022-04-23T09:58:15.489Z"
   },
   {
    "duration": 63,
    "start_time": "2022-04-23T09:58:15.697Z"
   },
   {
    "duration": 63,
    "start_time": "2022-04-23T09:58:15.761Z"
   },
   {
    "duration": 23,
    "start_time": "2022-04-23T09:58:15.825Z"
   },
   {
    "duration": 89,
    "start_time": "2022-04-23T09:58:15.850Z"
   },
   {
    "duration": 68,
    "start_time": "2022-04-23T09:58:15.940Z"
   },
   {
    "duration": 36,
    "start_time": "2022-04-23T09:58:16.009Z"
   },
   {
    "duration": 26,
    "start_time": "2022-04-23T09:58:16.048Z"
   },
   {
    "duration": 25,
    "start_time": "2022-04-23T09:58:16.076Z"
   },
   {
    "duration": 55,
    "start_time": "2022-04-23T09:58:16.103Z"
   },
   {
    "duration": 39,
    "start_time": "2022-04-23T09:58:16.159Z"
   },
   {
    "duration": 52,
    "start_time": "2022-04-23T09:58:16.200Z"
   },
   {
    "duration": 78,
    "start_time": "2022-04-23T09:58:16.254Z"
   },
   {
    "duration": 2,
    "start_time": "2022-04-23T09:58:16.334Z"
   },
   {
    "duration": 200,
    "start_time": "2022-04-23T09:58:16.338Z"
   },
   {
    "duration": 0,
    "start_time": "2022-04-23T09:58:16.539Z"
   },
   {
    "duration": 0,
    "start_time": "2022-04-23T09:58:16.541Z"
   },
   {
    "duration": 0,
    "start_time": "2022-04-23T09:58:16.542Z"
   },
   {
    "duration": 0,
    "start_time": "2022-04-23T09:58:16.543Z"
   },
   {
    "duration": 1,
    "start_time": "2022-04-23T09:58:16.544Z"
   },
   {
    "duration": 0,
    "start_time": "2022-04-23T09:58:16.545Z"
   },
   {
    "duration": 0,
    "start_time": "2022-04-23T09:58:16.547Z"
   },
   {
    "duration": 0,
    "start_time": "2022-04-23T09:58:16.548Z"
   },
   {
    "duration": 0,
    "start_time": "2022-04-23T09:58:16.549Z"
   },
   {
    "duration": 0,
    "start_time": "2022-04-23T09:58:16.551Z"
   },
   {
    "duration": 0,
    "start_time": "2022-04-23T09:58:16.552Z"
   },
   {
    "duration": 0,
    "start_time": "2022-04-23T09:58:16.553Z"
   },
   {
    "duration": 0,
    "start_time": "2022-04-23T09:58:16.554Z"
   },
   {
    "duration": 0,
    "start_time": "2022-04-23T09:58:16.555Z"
   },
   {
    "duration": 0,
    "start_time": "2022-04-23T09:58:16.556Z"
   },
   {
    "duration": 0,
    "start_time": "2022-04-23T09:58:16.557Z"
   },
   {
    "duration": 0,
    "start_time": "2022-04-23T09:58:16.558Z"
   },
   {
    "duration": 0,
    "start_time": "2022-04-23T09:58:16.559Z"
   },
   {
    "duration": 0,
    "start_time": "2022-04-23T09:58:16.560Z"
   },
   {
    "duration": 0,
    "start_time": "2022-04-23T09:58:16.561Z"
   },
   {
    "duration": 0,
    "start_time": "2022-04-23T09:58:16.562Z"
   },
   {
    "duration": 0,
    "start_time": "2022-04-23T09:58:16.563Z"
   },
   {
    "duration": 1539,
    "start_time": "2022-04-23T09:58:36.744Z"
   },
   {
    "duration": 662,
    "start_time": "2022-04-23T09:58:38.285Z"
   },
   {
    "duration": 58,
    "start_time": "2022-04-23T09:58:38.949Z"
   },
   {
    "duration": 36,
    "start_time": "2022-04-23T09:58:39.023Z"
   },
   {
    "duration": 224,
    "start_time": "2022-04-23T09:58:39.061Z"
   },
   {
    "duration": 413,
    "start_time": "2022-04-23T09:58:39.287Z"
   },
   {
    "duration": 249,
    "start_time": "2022-04-23T09:58:39.702Z"
   },
   {
    "duration": 60,
    "start_time": "2022-04-23T09:58:39.953Z"
   },
   {
    "duration": 55,
    "start_time": "2022-04-23T09:58:40.024Z"
   },
   {
    "duration": 26,
    "start_time": "2022-04-23T09:58:40.082Z"
   },
   {
    "duration": 95,
    "start_time": "2022-04-23T09:58:40.110Z"
   },
   {
    "duration": 81,
    "start_time": "2022-04-23T09:58:40.206Z"
   },
   {
    "duration": 37,
    "start_time": "2022-04-23T09:58:40.289Z"
   },
   {
    "duration": 31,
    "start_time": "2022-04-23T09:58:40.327Z"
   },
   {
    "duration": 25,
    "start_time": "2022-04-23T09:58:40.359Z"
   },
   {
    "duration": 41,
    "start_time": "2022-04-23T09:58:40.386Z"
   },
   {
    "duration": 27,
    "start_time": "2022-04-23T09:58:40.428Z"
   },
   {
    "duration": 24,
    "start_time": "2022-04-23T09:58:40.456Z"
   },
   {
    "duration": 61,
    "start_time": "2022-04-23T09:58:40.481Z"
   },
   {
    "duration": 5,
    "start_time": "2022-04-23T09:58:40.543Z"
   },
   {
    "duration": 428,
    "start_time": "2022-04-23T09:58:40.549Z"
   },
   {
    "duration": 2962,
    "start_time": "2022-04-23T09:58:40.978Z"
   },
   {
    "duration": 3,
    "start_time": "2022-04-23T09:58:43.941Z"
   },
   {
    "duration": 20,
    "start_time": "2022-04-23T09:58:43.945Z"
   },
   {
    "duration": 31,
    "start_time": "2022-04-23T09:58:43.966Z"
   },
   {
    "duration": 43,
    "start_time": "2022-04-23T09:58:43.999Z"
   },
   {
    "duration": 32,
    "start_time": "2022-04-23T09:58:44.044Z"
   },
   {
    "duration": 968,
    "start_time": "2022-04-23T09:58:44.079Z"
   },
   {
    "duration": 396,
    "start_time": "2022-04-23T09:58:45.049Z"
   },
   {
    "duration": 22,
    "start_time": "2022-04-23T09:58:45.447Z"
   },
   {
    "duration": 1170,
    "start_time": "2022-04-23T09:58:45.470Z"
   },
   {
    "duration": 35,
    "start_time": "2022-04-23T09:58:46.641Z"
   },
   {
    "duration": 1183,
    "start_time": "2022-04-23T09:58:46.677Z"
   },
   {
    "duration": 407,
    "start_time": "2022-04-23T09:58:47.927Z"
   },
   {
    "duration": 45943,
    "start_time": "2022-04-23T09:58:48.336Z"
   },
   {
    "duration": 15023,
    "start_time": "2022-04-23T09:59:34.281Z"
   },
   {
    "duration": 88,
    "start_time": "2022-04-23T09:59:49.305Z"
   },
   {
    "duration": 8,
    "start_time": "2022-04-23T09:59:49.395Z"
   },
   {
    "duration": 153,
    "start_time": "2022-04-23T09:59:49.404Z"
   },
   {
    "duration": 2027,
    "start_time": "2022-04-23T09:59:49.558Z"
   },
   {
    "duration": 13927,
    "start_time": "2022-04-23T09:59:51.587Z"
   },
   {
    "duration": 13212,
    "start_time": "2022-04-23T10:00:05.515Z"
   },
   {
    "duration": 84311,
    "start_time": "2022-04-23T10:00:18.728Z"
   },
   {
    "duration": 1494,
    "start_time": "2022-04-23T10:07:23.133Z"
   },
   {
    "duration": 668,
    "start_time": "2022-04-23T10:07:24.628Z"
   },
   {
    "duration": 65,
    "start_time": "2022-04-23T10:07:25.297Z"
   },
   {
    "duration": 37,
    "start_time": "2022-04-23T10:07:25.363Z"
   },
   {
    "duration": 180,
    "start_time": "2022-04-23T10:07:25.402Z"
   },
   {
    "duration": 289,
    "start_time": "2022-04-23T10:07:25.583Z"
   },
   {
    "duration": 204,
    "start_time": "2022-04-23T10:07:25.873Z"
   },
   {
    "duration": 64,
    "start_time": "2022-04-23T10:07:26.079Z"
   },
   {
    "duration": 54,
    "start_time": "2022-04-23T10:07:26.145Z"
   },
   {
    "duration": 39,
    "start_time": "2022-04-23T10:07:26.200Z"
   },
   {
    "duration": 88,
    "start_time": "2022-04-23T10:07:26.241Z"
   },
   {
    "duration": 75,
    "start_time": "2022-04-23T10:07:26.330Z"
   },
   {
    "duration": 37,
    "start_time": "2022-04-23T10:07:26.406Z"
   },
   {
    "duration": 26,
    "start_time": "2022-04-23T10:07:26.448Z"
   },
   {
    "duration": 48,
    "start_time": "2022-04-23T10:07:26.476Z"
   },
   {
    "duration": 26,
    "start_time": "2022-04-23T10:07:26.526Z"
   },
   {
    "duration": 26,
    "start_time": "2022-04-23T10:07:26.554Z"
   },
   {
    "duration": 54,
    "start_time": "2022-04-23T10:07:26.582Z"
   },
   {
    "duration": 39,
    "start_time": "2022-04-23T10:07:26.638Z"
   },
   {
    "duration": 3,
    "start_time": "2022-04-23T10:07:26.679Z"
   },
   {
    "duration": 411,
    "start_time": "2022-04-23T10:07:26.683Z"
   },
   {
    "duration": 3498,
    "start_time": "2022-04-23T10:07:27.096Z"
   },
   {
    "duration": 2,
    "start_time": "2022-04-23T10:07:30.597Z"
   },
   {
    "duration": 49,
    "start_time": "2022-04-23T10:07:30.601Z"
   },
   {
    "duration": 28,
    "start_time": "2022-04-23T10:07:30.652Z"
   },
   {
    "duration": 54,
    "start_time": "2022-04-23T10:07:30.683Z"
   },
   {
    "duration": 46,
    "start_time": "2022-04-23T10:07:30.739Z"
   },
   {
    "duration": 1521,
    "start_time": "2022-04-23T10:07:30.787Z"
   },
   {
    "duration": 402,
    "start_time": "2022-04-23T10:07:32.310Z"
   },
   {
    "duration": 26,
    "start_time": "2022-04-23T10:07:32.714Z"
   },
   {
    "duration": 1075,
    "start_time": "2022-04-23T10:07:32.742Z"
   },
   {
    "duration": 31,
    "start_time": "2022-04-23T10:07:33.823Z"
   },
   {
    "duration": 1267,
    "start_time": "2022-04-23T10:07:33.856Z"
   },
   {
    "duration": 573,
    "start_time": "2022-04-23T10:07:35.127Z"
   },
   {
    "duration": 1702,
    "start_time": "2022-04-23T10:08:01.355Z"
   },
   {
    "duration": 772,
    "start_time": "2022-04-23T10:08:03.060Z"
   },
   {
    "duration": 63,
    "start_time": "2022-04-23T10:08:03.833Z"
   },
   {
    "duration": 56,
    "start_time": "2022-04-23T10:08:03.898Z"
   },
   {
    "duration": 189,
    "start_time": "2022-04-23T10:08:03.956Z"
   },
   {
    "duration": 372,
    "start_time": "2022-04-23T10:08:04.147Z"
   },
   {
    "duration": 242,
    "start_time": "2022-04-23T10:08:04.523Z"
   },
   {
    "duration": 61,
    "start_time": "2022-04-23T10:08:04.766Z"
   },
   {
    "duration": 74,
    "start_time": "2022-04-23T10:08:04.830Z"
   },
   {
    "duration": 36,
    "start_time": "2022-04-23T10:08:04.907Z"
   },
   {
    "duration": 85,
    "start_time": "2022-04-23T10:08:04.944Z"
   },
   {
    "duration": 80,
    "start_time": "2022-04-23T10:08:05.031Z"
   },
   {
    "duration": 31,
    "start_time": "2022-04-23T10:08:05.123Z"
   },
   {
    "duration": 36,
    "start_time": "2022-04-23T10:08:05.155Z"
   },
   {
    "duration": 46,
    "start_time": "2022-04-23T10:08:05.192Z"
   },
   {
    "duration": 35,
    "start_time": "2022-04-23T10:08:05.240Z"
   },
   {
    "duration": 24,
    "start_time": "2022-04-23T10:08:05.276Z"
   },
   {
    "duration": 41,
    "start_time": "2022-04-23T10:08:05.302Z"
   },
   {
    "duration": 38,
    "start_time": "2022-04-23T10:08:05.345Z"
   },
   {
    "duration": 2,
    "start_time": "2022-04-23T10:08:05.384Z"
   },
   {
    "duration": 453,
    "start_time": "2022-04-23T10:08:05.388Z"
   },
   {
    "duration": 3786,
    "start_time": "2022-04-23T10:08:05.842Z"
   },
   {
    "duration": 3,
    "start_time": "2022-04-23T10:08:09.631Z"
   },
   {
    "duration": 25,
    "start_time": "2022-04-23T10:08:09.635Z"
   },
   {
    "duration": 24,
    "start_time": "2022-04-23T10:08:09.661Z"
   },
   {
    "duration": 62,
    "start_time": "2022-04-23T10:08:09.686Z"
   },
   {
    "duration": 34,
    "start_time": "2022-04-23T10:08:09.750Z"
   },
   {
    "duration": 1304,
    "start_time": "2022-04-23T10:08:09.788Z"
   },
   {
    "duration": 590,
    "start_time": "2022-04-23T10:08:11.094Z"
   },
   {
    "duration": 20,
    "start_time": "2022-04-23T10:08:11.685Z"
   },
   {
    "duration": 1048,
    "start_time": "2022-04-23T10:08:11.706Z"
   },
   {
    "duration": 36,
    "start_time": "2022-04-23T10:08:12.756Z"
   },
   {
    "duration": 1642,
    "start_time": "2022-04-23T10:08:12.793Z"
   },
   {
    "duration": 470,
    "start_time": "2022-04-23T10:08:14.438Z"
   },
   {
    "duration": 1541,
    "start_time": "2022-04-23T10:08:57.517Z"
   },
   {
    "duration": 668,
    "start_time": "2022-04-23T10:08:59.060Z"
   },
   {
    "duration": 58,
    "start_time": "2022-04-23T10:08:59.729Z"
   },
   {
    "duration": 51,
    "start_time": "2022-04-23T10:08:59.789Z"
   },
   {
    "duration": 183,
    "start_time": "2022-04-23T10:08:59.842Z"
   },
   {
    "duration": 302,
    "start_time": "2022-04-23T10:09:00.026Z"
   },
   {
    "duration": 216,
    "start_time": "2022-04-23T10:09:00.329Z"
   },
   {
    "duration": 58,
    "start_time": "2022-04-23T10:09:00.547Z"
   },
   {
    "duration": 66,
    "start_time": "2022-04-23T10:09:00.607Z"
   },
   {
    "duration": 34,
    "start_time": "2022-04-23T10:09:00.675Z"
   },
   {
    "duration": 85,
    "start_time": "2022-04-23T10:09:00.711Z"
   },
   {
    "duration": 82,
    "start_time": "2022-04-23T10:09:00.797Z"
   },
   {
    "duration": 24,
    "start_time": "2022-04-23T10:09:00.881Z"
   },
   {
    "duration": 43,
    "start_time": "2022-04-23T10:09:00.908Z"
   },
   {
    "duration": 42,
    "start_time": "2022-04-23T10:09:00.952Z"
   },
   {
    "duration": 38,
    "start_time": "2022-04-23T10:09:00.996Z"
   },
   {
    "duration": 26,
    "start_time": "2022-04-23T10:09:01.036Z"
   },
   {
    "duration": 25,
    "start_time": "2022-04-23T10:09:01.064Z"
   },
   {
    "duration": 48,
    "start_time": "2022-04-23T10:09:01.090Z"
   },
   {
    "duration": 4,
    "start_time": "2022-04-23T10:09:01.139Z"
   },
   {
    "duration": 407,
    "start_time": "2022-04-23T10:09:01.144Z"
   },
   {
    "duration": 3316,
    "start_time": "2022-04-23T10:09:01.553Z"
   },
   {
    "duration": 2,
    "start_time": "2022-04-23T10:09:04.871Z"
   },
   {
    "duration": 25,
    "start_time": "2022-04-23T10:09:04.875Z"
   },
   {
    "duration": 30,
    "start_time": "2022-04-23T10:09:04.902Z"
   },
   {
    "duration": 35,
    "start_time": "2022-04-23T10:09:04.934Z"
   },
   {
    "duration": 32,
    "start_time": "2022-04-23T10:09:04.971Z"
   },
   {
    "duration": 983,
    "start_time": "2022-04-23T10:09:05.005Z"
   },
   {
    "duration": 502,
    "start_time": "2022-04-23T10:09:05.989Z"
   },
   {
    "duration": 19,
    "start_time": "2022-04-23T10:09:06.492Z"
   },
   {
    "duration": 1643,
    "start_time": "2022-04-23T10:09:06.524Z"
   },
   {
    "duration": 34,
    "start_time": "2022-04-23T10:09:08.169Z"
   },
   {
    "duration": 1419,
    "start_time": "2022-04-23T10:09:08.205Z"
   },
   {
    "duration": 502,
    "start_time": "2022-04-23T10:09:09.627Z"
   },
   {
    "duration": 43595,
    "start_time": "2022-04-23T10:09:10.131Z"
   },
   {
    "duration": 14903,
    "start_time": "2022-04-23T10:09:53.727Z"
   },
   {
    "duration": 80,
    "start_time": "2022-04-23T10:10:08.632Z"
   },
   {
    "duration": 8,
    "start_time": "2022-04-23T10:10:08.723Z"
   },
   {
    "duration": 146,
    "start_time": "2022-04-23T10:10:08.732Z"
   },
   {
    "duration": 1883,
    "start_time": "2022-04-23T10:10:08.880Z"
   },
   {
    "duration": 14826,
    "start_time": "2022-04-23T10:10:10.766Z"
   },
   {
    "duration": 47831,
    "start_time": "2022-04-23T10:10:25.594Z"
   },
   {
    "duration": 102762,
    "start_time": "2022-04-23T10:11:13.427Z"
   },
   {
    "duration": 1555,
    "start_time": "2022-04-23T10:18:38.281Z"
   },
   {
    "duration": 663,
    "start_time": "2022-04-23T10:18:39.838Z"
   },
   {
    "duration": 69,
    "start_time": "2022-04-23T10:18:40.503Z"
   },
   {
    "duration": 32,
    "start_time": "2022-04-23T10:18:40.574Z"
   },
   {
    "duration": 186,
    "start_time": "2022-04-23T10:18:40.607Z"
   },
   {
    "duration": 286,
    "start_time": "2022-04-23T10:18:40.795Z"
   },
   {
    "duration": 209,
    "start_time": "2022-04-23T10:18:41.083Z"
   },
   {
    "duration": 64,
    "start_time": "2022-04-23T10:18:41.294Z"
   },
   {
    "duration": 54,
    "start_time": "2022-04-23T10:18:41.359Z"
   },
   {
    "duration": 23,
    "start_time": "2022-04-23T10:18:41.425Z"
   },
   {
    "duration": 94,
    "start_time": "2022-04-23T10:18:41.450Z"
   },
   {
    "duration": 79,
    "start_time": "2022-04-23T10:18:41.546Z"
   },
   {
    "duration": 22,
    "start_time": "2022-04-23T10:18:41.627Z"
   },
   {
    "duration": 27,
    "start_time": "2022-04-23T10:18:41.651Z"
   },
   {
    "duration": 25,
    "start_time": "2022-04-23T10:18:41.680Z"
   },
   {
    "duration": 26,
    "start_time": "2022-04-23T10:18:41.723Z"
   },
   {
    "duration": 25,
    "start_time": "2022-04-23T10:18:41.751Z"
   },
   {
    "duration": 49,
    "start_time": "2022-04-23T10:18:41.777Z"
   },
   {
    "duration": 37,
    "start_time": "2022-04-23T10:18:41.828Z"
   },
   {
    "duration": 2,
    "start_time": "2022-04-23T10:18:41.867Z"
   },
   {
    "duration": 405,
    "start_time": "2022-04-23T10:18:41.870Z"
   },
   {
    "duration": 2912,
    "start_time": "2022-04-23T10:18:42.276Z"
   },
   {
    "duration": 3,
    "start_time": "2022-04-23T10:18:45.190Z"
   },
   {
    "duration": 17,
    "start_time": "2022-04-23T10:18:45.195Z"
   },
   {
    "duration": 23,
    "start_time": "2022-04-23T10:18:45.223Z"
   },
   {
    "duration": 35,
    "start_time": "2022-04-23T10:18:45.248Z"
   },
   {
    "duration": 49,
    "start_time": "2022-04-23T10:18:45.284Z"
   },
   {
    "duration": 953,
    "start_time": "2022-04-23T10:18:45.336Z"
   },
   {
    "duration": 392,
    "start_time": "2022-04-23T10:18:46.290Z"
   },
   {
    "duration": 18,
    "start_time": "2022-04-23T10:18:46.684Z"
   },
   {
    "duration": 2,
    "start_time": "2022-04-23T10:18:46.704Z"
   },
   {
    "duration": 493,
    "start_time": "2022-04-23T10:18:46.707Z"
   },
   {
    "duration": 24,
    "start_time": "2022-04-23T10:18:47.202Z"
   },
   {
    "duration": 167,
    "start_time": "2022-04-23T10:18:47.228Z"
   },
   {
    "duration": 0,
    "start_time": "2022-04-23T10:18:47.397Z"
   },
   {
    "duration": 0,
    "start_time": "2022-04-23T10:18:47.398Z"
   },
   {
    "duration": 0,
    "start_time": "2022-04-23T10:18:47.399Z"
   },
   {
    "duration": 0,
    "start_time": "2022-04-23T10:18:47.400Z"
   },
   {
    "duration": 0,
    "start_time": "2022-04-23T10:18:47.400Z"
   },
   {
    "duration": 0,
    "start_time": "2022-04-23T10:18:47.401Z"
   },
   {
    "duration": 0,
    "start_time": "2022-04-23T10:18:47.402Z"
   },
   {
    "duration": 0,
    "start_time": "2022-04-23T10:18:47.403Z"
   },
   {
    "duration": 0,
    "start_time": "2022-04-23T10:18:47.404Z"
   },
   {
    "duration": 0,
    "start_time": "2022-04-23T10:18:47.405Z"
   },
   {
    "duration": 1486,
    "start_time": "2022-04-23T10:21:21.471Z"
   },
   {
    "duration": 670,
    "start_time": "2022-04-23T10:21:22.959Z"
   },
   {
    "duration": 59,
    "start_time": "2022-04-23T10:21:23.630Z"
   },
   {
    "duration": 53,
    "start_time": "2022-04-23T10:21:23.691Z"
   },
   {
    "duration": 182,
    "start_time": "2022-04-23T10:21:23.746Z"
   },
   {
    "duration": 315,
    "start_time": "2022-04-23T10:21:23.930Z"
   },
   {
    "duration": 209,
    "start_time": "2022-04-23T10:21:24.246Z"
   },
   {
    "duration": 74,
    "start_time": "2022-04-23T10:21:24.457Z"
   },
   {
    "duration": 54,
    "start_time": "2022-04-23T10:21:24.533Z"
   },
   {
    "duration": 36,
    "start_time": "2022-04-23T10:21:24.588Z"
   },
   {
    "duration": 87,
    "start_time": "2022-04-23T10:21:24.626Z"
   },
   {
    "duration": 90,
    "start_time": "2022-04-23T10:21:24.714Z"
   },
   {
    "duration": 48,
    "start_time": "2022-04-23T10:21:24.805Z"
   },
   {
    "duration": 49,
    "start_time": "2022-04-23T10:21:24.857Z"
   },
   {
    "duration": 50,
    "start_time": "2022-04-23T10:21:24.908Z"
   },
   {
    "duration": 43,
    "start_time": "2022-04-23T10:21:24.959Z"
   },
   {
    "duration": 39,
    "start_time": "2022-04-23T10:21:25.004Z"
   },
   {
    "duration": 26,
    "start_time": "2022-04-23T10:21:25.044Z"
   },
   {
    "duration": 56,
    "start_time": "2022-04-23T10:21:25.071Z"
   },
   {
    "duration": 3,
    "start_time": "2022-04-23T10:21:25.128Z"
   },
   {
    "duration": 427,
    "start_time": "2022-04-23T10:21:25.133Z"
   },
   {
    "duration": 3065,
    "start_time": "2022-04-23T10:21:25.561Z"
   },
   {
    "duration": 3,
    "start_time": "2022-04-23T10:21:28.627Z"
   },
   {
    "duration": 19,
    "start_time": "2022-04-23T10:21:28.631Z"
   },
   {
    "duration": 24,
    "start_time": "2022-04-23T10:21:28.651Z"
   },
   {
    "duration": 54,
    "start_time": "2022-04-23T10:21:28.676Z"
   },
   {
    "duration": 33,
    "start_time": "2022-04-23T10:21:28.731Z"
   },
   {
    "duration": 983,
    "start_time": "2022-04-23T10:21:28.765Z"
   },
   {
    "duration": 409,
    "start_time": "2022-04-23T10:21:29.750Z"
   },
   {
    "duration": 18,
    "start_time": "2022-04-23T10:21:30.161Z"
   },
   {
    "duration": 2,
    "start_time": "2022-04-23T10:21:30.181Z"
   },
   {
    "duration": 448,
    "start_time": "2022-04-23T10:21:30.185Z"
   },
   {
    "duration": 12,
    "start_time": "2022-04-23T10:21:30.635Z"
   },
   {
    "duration": 176,
    "start_time": "2022-04-23T10:21:30.649Z"
   },
   {
    "duration": 127,
    "start_time": "2022-04-23T10:21:30.828Z"
   },
   {
    "duration": 5476,
    "start_time": "2022-04-23T10:21:30.957Z"
   },
   {
    "duration": 1990,
    "start_time": "2022-04-23T10:21:36.435Z"
   },
   {
    "duration": 22,
    "start_time": "2022-04-23T10:21:38.427Z"
   },
   {
    "duration": 7,
    "start_time": "2022-04-23T10:21:38.451Z"
   },
   {
    "duration": 24,
    "start_time": "2022-04-23T10:21:38.460Z"
   },
   {
    "duration": 393,
    "start_time": "2022-04-23T10:21:38.487Z"
   },
   {
    "duration": 3331,
    "start_time": "2022-04-23T10:21:38.882Z"
   },
   {
    "duration": 16610,
    "start_time": "2022-04-23T10:21:42.215Z"
   },
   {
    "duration": 18099,
    "start_time": "2022-04-23T10:21:58.827Z"
   },
   {
    "duration": 1632,
    "start_time": "2022-04-23T10:31:11.611Z"
   },
   {
    "duration": 652,
    "start_time": "2022-04-23T10:31:13.244Z"
   },
   {
    "duration": 66,
    "start_time": "2022-04-23T10:31:13.897Z"
   },
   {
    "duration": 33,
    "start_time": "2022-04-23T10:31:13.964Z"
   },
   {
    "duration": 180,
    "start_time": "2022-04-23T10:31:13.999Z"
   },
   {
    "duration": 290,
    "start_time": "2022-04-23T10:31:14.181Z"
   },
   {
    "duration": 206,
    "start_time": "2022-04-23T10:31:14.472Z"
   },
   {
    "duration": 62,
    "start_time": "2022-04-23T10:31:14.680Z"
   },
   {
    "duration": 52,
    "start_time": "2022-04-23T10:31:14.744Z"
   },
   {
    "duration": 34,
    "start_time": "2022-04-23T10:31:14.797Z"
   },
   {
    "duration": 91,
    "start_time": "2022-04-23T10:31:14.833Z"
   },
   {
    "duration": 71,
    "start_time": "2022-04-23T10:31:14.926Z"
   },
   {
    "duration": 37,
    "start_time": "2022-04-23T10:31:14.999Z"
   },
   {
    "duration": 39,
    "start_time": "2022-04-23T10:31:15.039Z"
   },
   {
    "duration": 28,
    "start_time": "2022-04-23T10:31:15.079Z"
   },
   {
    "duration": 29,
    "start_time": "2022-04-23T10:31:15.109Z"
   },
   {
    "duration": 24,
    "start_time": "2022-04-23T10:31:15.140Z"
   },
   {
    "duration": 25,
    "start_time": "2022-04-23T10:31:15.165Z"
   },
   {
    "duration": 58,
    "start_time": "2022-04-23T10:31:15.191Z"
   },
   {
    "duration": 1,
    "start_time": "2022-04-23T10:31:15.251Z"
   },
   {
    "duration": 115,
    "start_time": "2022-04-23T10:31:15.254Z"
   },
   {
    "duration": 0,
    "start_time": "2022-04-23T10:31:15.371Z"
   },
   {
    "duration": 0,
    "start_time": "2022-04-23T10:31:15.372Z"
   },
   {
    "duration": 0,
    "start_time": "2022-04-23T10:31:15.373Z"
   },
   {
    "duration": 0,
    "start_time": "2022-04-23T10:31:15.374Z"
   },
   {
    "duration": 0,
    "start_time": "2022-04-23T10:31:15.375Z"
   },
   {
    "duration": 0,
    "start_time": "2022-04-23T10:31:15.376Z"
   },
   {
    "duration": 0,
    "start_time": "2022-04-23T10:31:15.377Z"
   },
   {
    "duration": 0,
    "start_time": "2022-04-23T10:31:15.377Z"
   },
   {
    "duration": 0,
    "start_time": "2022-04-23T10:31:15.378Z"
   },
   {
    "duration": 0,
    "start_time": "2022-04-23T10:31:15.379Z"
   },
   {
    "duration": 0,
    "start_time": "2022-04-23T10:31:15.379Z"
   },
   {
    "duration": 0,
    "start_time": "2022-04-23T10:31:15.380Z"
   },
   {
    "duration": 0,
    "start_time": "2022-04-23T10:31:15.381Z"
   },
   {
    "duration": 0,
    "start_time": "2022-04-23T10:31:15.382Z"
   },
   {
    "duration": 0,
    "start_time": "2022-04-23T10:31:15.382Z"
   },
   {
    "duration": 0,
    "start_time": "2022-04-23T10:31:15.383Z"
   },
   {
    "duration": 0,
    "start_time": "2022-04-23T10:31:15.384Z"
   },
   {
    "duration": 0,
    "start_time": "2022-04-23T10:31:15.385Z"
   },
   {
    "duration": 0,
    "start_time": "2022-04-23T10:31:15.385Z"
   },
   {
    "duration": 0,
    "start_time": "2022-04-23T10:31:15.386Z"
   },
   {
    "duration": 0,
    "start_time": "2022-04-23T10:31:15.387Z"
   },
   {
    "duration": 0,
    "start_time": "2022-04-23T10:31:15.388Z"
   },
   {
    "duration": 0,
    "start_time": "2022-04-23T10:31:15.389Z"
   },
   {
    "duration": 1506,
    "start_time": "2022-04-23T10:35:32.948Z"
   },
   {
    "duration": 713,
    "start_time": "2022-04-23T10:35:34.456Z"
   },
   {
    "duration": 72,
    "start_time": "2022-04-23T10:35:35.171Z"
   },
   {
    "duration": 37,
    "start_time": "2022-04-23T10:35:35.245Z"
   },
   {
    "duration": 206,
    "start_time": "2022-04-23T10:35:35.284Z"
   },
   {
    "duration": 338,
    "start_time": "2022-04-23T10:35:35.491Z"
   },
   {
    "duration": 232,
    "start_time": "2022-04-23T10:35:35.830Z"
   },
   {
    "duration": 71,
    "start_time": "2022-04-23T10:35:36.063Z"
   },
   {
    "duration": 54,
    "start_time": "2022-04-23T10:35:36.136Z"
   },
   {
    "duration": 42,
    "start_time": "2022-04-23T10:35:36.193Z"
   },
   {
    "duration": 95,
    "start_time": "2022-04-23T10:35:36.236Z"
   },
   {
    "duration": 73,
    "start_time": "2022-04-23T10:35:36.333Z"
   },
   {
    "duration": 38,
    "start_time": "2022-04-23T10:35:36.407Z"
   },
   {
    "duration": 27,
    "start_time": "2022-04-23T10:35:36.447Z"
   },
   {
    "duration": 49,
    "start_time": "2022-04-23T10:35:36.475Z"
   },
   {
    "duration": 29,
    "start_time": "2022-04-23T10:35:36.526Z"
   },
   {
    "duration": 25,
    "start_time": "2022-04-23T10:35:36.556Z"
   },
   {
    "duration": 46,
    "start_time": "2022-04-23T10:35:36.583Z"
   },
   {
    "duration": 41,
    "start_time": "2022-04-23T10:35:36.630Z"
   },
   {
    "duration": 3,
    "start_time": "2022-04-23T10:35:36.672Z"
   },
   {
    "duration": 594,
    "start_time": "2022-04-23T10:35:36.676Z"
   },
   {
    "duration": 3108,
    "start_time": "2022-04-23T10:35:37.272Z"
   },
   {
    "duration": 3,
    "start_time": "2022-04-23T10:35:40.381Z"
   },
   {
    "duration": 17,
    "start_time": "2022-04-23T10:35:40.385Z"
   },
   {
    "duration": 34,
    "start_time": "2022-04-23T10:35:40.404Z"
   },
   {
    "duration": 40,
    "start_time": "2022-04-23T10:35:40.440Z"
   },
   {
    "duration": 51,
    "start_time": "2022-04-23T10:35:40.482Z"
   },
   {
    "duration": 979,
    "start_time": "2022-04-23T10:35:40.538Z"
   },
   {
    "duration": 404,
    "start_time": "2022-04-23T10:35:41.519Z"
   },
   {
    "duration": 19,
    "start_time": "2022-04-23T10:35:41.925Z"
   },
   {
    "duration": 3,
    "start_time": "2022-04-23T10:35:41.945Z"
   },
   {
    "duration": 477,
    "start_time": "2022-04-23T10:35:41.949Z"
   },
   {
    "duration": 12,
    "start_time": "2022-04-23T10:35:42.428Z"
   },
   {
    "duration": 101,
    "start_time": "2022-04-23T10:35:42.442Z"
   },
   {
    "duration": 125,
    "start_time": "2022-04-23T10:35:42.625Z"
   },
   {
    "duration": 5627,
    "start_time": "2022-04-23T10:35:42.752Z"
   },
   {
    "duration": 1973,
    "start_time": "2022-04-23T10:35:48.380Z"
   },
   {
    "duration": 22,
    "start_time": "2022-04-23T10:35:50.355Z"
   },
   {
    "duration": 8,
    "start_time": "2022-04-23T10:35:50.379Z"
   },
   {
    "duration": 43,
    "start_time": "2022-04-23T10:35:50.388Z"
   },
   {
    "duration": 292,
    "start_time": "2022-04-23T10:35:50.433Z"
   },
   {
    "duration": 2844,
    "start_time": "2022-04-23T10:35:50.726Z"
   },
   {
    "duration": 5357,
    "start_time": "2022-04-23T10:35:53.572Z"
   },
   {
    "duration": 16903,
    "start_time": "2022-04-23T10:35:58.930Z"
   },
   {
    "duration": 1478,
    "start_time": "2022-04-23T10:39:16.369Z"
   },
   {
    "duration": 681,
    "start_time": "2022-04-23T10:39:17.848Z"
   },
   {
    "duration": 62,
    "start_time": "2022-04-23T10:39:18.530Z"
   },
   {
    "duration": 52,
    "start_time": "2022-04-23T10:39:18.594Z"
   },
   {
    "duration": 185,
    "start_time": "2022-04-23T10:39:18.648Z"
   },
   {
    "duration": 289,
    "start_time": "2022-04-23T10:39:18.834Z"
   },
   {
    "duration": 217,
    "start_time": "2022-04-23T10:39:19.125Z"
   },
   {
    "duration": 60,
    "start_time": "2022-04-23T10:39:19.344Z"
   },
   {
    "duration": 70,
    "start_time": "2022-04-23T10:39:19.406Z"
   },
   {
    "duration": 23,
    "start_time": "2022-04-23T10:39:19.478Z"
   },
   {
    "duration": 96,
    "start_time": "2022-04-23T10:39:19.503Z"
   },
   {
    "duration": 79,
    "start_time": "2022-04-23T10:39:19.600Z"
   },
   {
    "duration": 25,
    "start_time": "2022-04-23T10:39:19.680Z"
   },
   {
    "duration": 32,
    "start_time": "2022-04-23T10:39:19.709Z"
   },
   {
    "duration": 24,
    "start_time": "2022-04-23T10:39:19.742Z"
   },
   {
    "duration": 26,
    "start_time": "2022-04-23T10:39:19.767Z"
   },
   {
    "duration": 46,
    "start_time": "2022-04-23T10:39:19.794Z"
   },
   {
    "duration": 25,
    "start_time": "2022-04-23T10:39:19.841Z"
   },
   {
    "duration": 60,
    "start_time": "2022-04-23T10:39:19.867Z"
   },
   {
    "duration": 2,
    "start_time": "2022-04-23T10:39:19.928Z"
   },
   {
    "duration": 107,
    "start_time": "2022-04-23T10:39:19.932Z"
   },
   {
    "duration": 0,
    "start_time": "2022-04-23T10:39:20.041Z"
   },
   {
    "duration": 0,
    "start_time": "2022-04-23T10:39:20.042Z"
   },
   {
    "duration": 0,
    "start_time": "2022-04-23T10:39:20.043Z"
   },
   {
    "duration": 0,
    "start_time": "2022-04-23T10:39:20.044Z"
   },
   {
    "duration": 0,
    "start_time": "2022-04-23T10:39:20.044Z"
   },
   {
    "duration": 0,
    "start_time": "2022-04-23T10:39:20.045Z"
   },
   {
    "duration": 0,
    "start_time": "2022-04-23T10:39:20.046Z"
   },
   {
    "duration": 0,
    "start_time": "2022-04-23T10:39:20.047Z"
   },
   {
    "duration": 0,
    "start_time": "2022-04-23T10:39:20.048Z"
   },
   {
    "duration": 0,
    "start_time": "2022-04-23T10:39:20.049Z"
   },
   {
    "duration": 0,
    "start_time": "2022-04-23T10:39:20.050Z"
   },
   {
    "duration": 0,
    "start_time": "2022-04-23T10:39:20.051Z"
   },
   {
    "duration": 0,
    "start_time": "2022-04-23T10:39:20.052Z"
   },
   {
    "duration": 0,
    "start_time": "2022-04-23T10:39:20.052Z"
   },
   {
    "duration": 0,
    "start_time": "2022-04-23T10:39:20.053Z"
   },
   {
    "duration": 0,
    "start_time": "2022-04-23T10:39:20.054Z"
   },
   {
    "duration": 0,
    "start_time": "2022-04-23T10:39:20.055Z"
   },
   {
    "duration": 0,
    "start_time": "2022-04-23T10:39:20.056Z"
   },
   {
    "duration": 0,
    "start_time": "2022-04-23T10:39:20.057Z"
   },
   {
    "duration": 0,
    "start_time": "2022-04-23T10:39:20.057Z"
   },
   {
    "duration": 0,
    "start_time": "2022-04-23T10:39:20.059Z"
   },
   {
    "duration": 0,
    "start_time": "2022-04-23T10:39:20.059Z"
   },
   {
    "duration": 0,
    "start_time": "2022-04-23T10:39:20.060Z"
   },
   {
    "duration": 1581,
    "start_time": "2022-04-23T10:40:03.416Z"
   },
   {
    "duration": 670,
    "start_time": "2022-04-23T10:40:04.999Z"
   },
   {
    "duration": 77,
    "start_time": "2022-04-23T10:40:05.670Z"
   },
   {
    "duration": 38,
    "start_time": "2022-04-23T10:40:05.748Z"
   },
   {
    "duration": 187,
    "start_time": "2022-04-23T10:40:05.788Z"
   },
   {
    "duration": 301,
    "start_time": "2022-04-23T10:40:05.977Z"
   },
   {
    "duration": 218,
    "start_time": "2022-04-23T10:40:06.279Z"
   },
   {
    "duration": 60,
    "start_time": "2022-04-23T10:40:06.499Z"
   },
   {
    "duration": 66,
    "start_time": "2022-04-23T10:40:06.561Z"
   },
   {
    "duration": 25,
    "start_time": "2022-04-23T10:40:06.628Z"
   },
   {
    "duration": 99,
    "start_time": "2022-04-23T10:40:06.654Z"
   },
   {
    "duration": 85,
    "start_time": "2022-04-23T10:40:06.754Z"
   },
   {
    "duration": 26,
    "start_time": "2022-04-23T10:40:06.841Z"
   },
   {
    "duration": 26,
    "start_time": "2022-04-23T10:40:06.870Z"
   },
   {
    "duration": 42,
    "start_time": "2022-04-23T10:40:06.897Z"
   },
   {
    "duration": 26,
    "start_time": "2022-04-23T10:40:06.941Z"
   },
   {
    "duration": 23,
    "start_time": "2022-04-23T10:40:06.969Z"
   },
   {
    "duration": 48,
    "start_time": "2022-04-23T10:40:06.993Z"
   },
   {
    "duration": 38,
    "start_time": "2022-04-23T10:40:07.043Z"
   },
   {
    "duration": 9,
    "start_time": "2022-04-23T10:40:07.082Z"
   },
   {
    "duration": 464,
    "start_time": "2022-04-23T10:40:07.093Z"
   },
   {
    "duration": 2873,
    "start_time": "2022-04-23T10:40:07.558Z"
   },
   {
    "duration": 2,
    "start_time": "2022-04-23T10:40:10.432Z"
   },
   {
    "duration": 16,
    "start_time": "2022-04-23T10:40:10.436Z"
   },
   {
    "duration": 16,
    "start_time": "2022-04-23T10:40:10.453Z"
   },
   {
    "duration": 53,
    "start_time": "2022-04-23T10:40:10.471Z"
   },
   {
    "duration": 31,
    "start_time": "2022-04-23T10:40:10.526Z"
   },
   {
    "duration": 985,
    "start_time": "2022-04-23T10:40:10.558Z"
   },
   {
    "duration": 422,
    "start_time": "2022-04-23T10:40:11.545Z"
   },
   {
    "duration": 19,
    "start_time": "2022-04-23T10:40:11.969Z"
   },
   {
    "duration": 2,
    "start_time": "2022-04-23T10:40:11.989Z"
   },
   {
    "duration": 450,
    "start_time": "2022-04-23T10:40:11.993Z"
   },
   {
    "duration": 13,
    "start_time": "2022-04-23T10:40:12.445Z"
   },
   {
    "duration": 90,
    "start_time": "2022-04-23T10:40:12.459Z"
   },
   {
    "duration": 191,
    "start_time": "2022-04-23T10:40:12.551Z"
   },
   {
    "duration": 5504,
    "start_time": "2022-04-23T10:40:12.744Z"
   },
   {
    "duration": 1829,
    "start_time": "2022-04-23T10:40:18.250Z"
   },
   {
    "duration": 21,
    "start_time": "2022-04-23T10:40:20.081Z"
   },
   {
    "duration": 8,
    "start_time": "2022-04-23T10:40:20.104Z"
   },
   {
    "duration": 21,
    "start_time": "2022-04-23T10:40:20.124Z"
   },
   {
    "duration": 282,
    "start_time": "2022-04-23T10:40:20.149Z"
   },
   {
    "duration": 2734,
    "start_time": "2022-04-23T10:40:20.432Z"
   },
   {
    "duration": 2662,
    "start_time": "2022-04-23T10:40:23.167Z"
   },
   {
    "duration": 18599,
    "start_time": "2022-04-23T10:40:25.831Z"
   },
   {
    "duration": 118,
    "start_time": "2022-04-23T10:42:56.251Z"
   },
   {
    "duration": 136,
    "start_time": "2022-04-23T10:43:01.509Z"
   },
   {
    "duration": 1557,
    "start_time": "2022-04-23T10:49:39.891Z"
   },
   {
    "duration": 666,
    "start_time": "2022-04-23T10:49:41.449Z"
   },
   {
    "duration": 67,
    "start_time": "2022-04-23T10:49:42.117Z"
   },
   {
    "duration": 51,
    "start_time": "2022-04-23T10:49:42.185Z"
   },
   {
    "duration": 186,
    "start_time": "2022-04-23T10:49:42.238Z"
   },
   {
    "duration": 298,
    "start_time": "2022-04-23T10:49:42.426Z"
   },
   {
    "duration": 319,
    "start_time": "2022-04-23T10:49:42.726Z"
   },
   {
    "duration": 60,
    "start_time": "2022-04-23T10:49:43.047Z"
   },
   {
    "duration": 63,
    "start_time": "2022-04-23T10:49:43.108Z"
   },
   {
    "duration": 26,
    "start_time": "2022-04-23T10:49:43.172Z"
   },
   {
    "duration": 95,
    "start_time": "2022-04-23T10:49:43.200Z"
   },
   {
    "duration": 77,
    "start_time": "2022-04-23T10:49:43.297Z"
   },
   {
    "duration": 23,
    "start_time": "2022-04-23T10:49:43.375Z"
   },
   {
    "duration": 34,
    "start_time": "2022-04-23T10:49:43.401Z"
   },
   {
    "duration": 23,
    "start_time": "2022-04-23T10:49:43.437Z"
   },
   {
    "duration": 25,
    "start_time": "2022-04-23T10:49:43.461Z"
   },
   {
    "duration": 40,
    "start_time": "2022-04-23T10:49:43.487Z"
   },
   {
    "duration": 23,
    "start_time": "2022-04-23T10:49:43.528Z"
   },
   {
    "duration": 37,
    "start_time": "2022-04-23T10:49:43.553Z"
   },
   {
    "duration": 2,
    "start_time": "2022-04-23T10:49:43.591Z"
   },
   {
    "duration": 442,
    "start_time": "2022-04-23T10:49:43.595Z"
   },
   {
    "duration": 2902,
    "start_time": "2022-04-23T10:49:44.039Z"
   },
   {
    "duration": 2,
    "start_time": "2022-04-23T10:49:46.943Z"
   },
   {
    "duration": 18,
    "start_time": "2022-04-23T10:49:46.946Z"
   },
   {
    "duration": 15,
    "start_time": "2022-04-23T10:49:46.965Z"
   },
   {
    "duration": 56,
    "start_time": "2022-04-23T10:49:46.981Z"
   },
   {
    "duration": 32,
    "start_time": "2022-04-23T10:49:47.038Z"
   },
   {
    "duration": 1027,
    "start_time": "2022-04-23T10:49:47.071Z"
   },
   {
    "duration": 401,
    "start_time": "2022-04-23T10:49:48.100Z"
   },
   {
    "duration": 27,
    "start_time": "2022-04-23T10:49:48.503Z"
   },
   {
    "duration": 2,
    "start_time": "2022-04-23T10:49:48.531Z"
   },
   {
    "duration": 433,
    "start_time": "2022-04-23T10:49:48.535Z"
   },
   {
    "duration": 13,
    "start_time": "2022-04-23T10:49:48.969Z"
   },
   {
    "duration": 150,
    "start_time": "2022-04-23T10:49:48.983Z"
   },
   {
    "duration": 125,
    "start_time": "2022-04-23T10:49:49.134Z"
   },
   {
    "duration": 5871,
    "start_time": "2022-04-23T10:49:49.260Z"
   },
   {
    "duration": 1792,
    "start_time": "2022-04-23T10:49:55.133Z"
   },
   {
    "duration": 22,
    "start_time": "2022-04-23T10:49:56.926Z"
   },
   {
    "duration": 8,
    "start_time": "2022-04-23T10:49:56.950Z"
   },
   {
    "duration": 25,
    "start_time": "2022-04-23T10:49:56.959Z"
   },
   {
    "duration": 269,
    "start_time": "2022-04-23T10:49:56.988Z"
   },
   {
    "duration": 2808,
    "start_time": "2022-04-23T10:49:57.258Z"
   },
   {
    "duration": 2867,
    "start_time": "2022-04-23T10:50:00.067Z"
   },
   {
    "duration": 1517,
    "start_time": "2022-04-23T10:50:18.737Z"
   },
   {
    "duration": 672,
    "start_time": "2022-04-23T10:50:20.256Z"
   },
   {
    "duration": 61,
    "start_time": "2022-04-23T10:50:20.930Z"
   },
   {
    "duration": 51,
    "start_time": "2022-04-23T10:50:20.993Z"
   },
   {
    "duration": 178,
    "start_time": "2022-04-23T10:50:21.046Z"
   },
   {
    "duration": 318,
    "start_time": "2022-04-23T10:50:21.226Z"
   },
   {
    "duration": 210,
    "start_time": "2022-04-23T10:50:21.546Z"
   },
   {
    "duration": 67,
    "start_time": "2022-04-23T10:50:21.758Z"
   },
   {
    "duration": 54,
    "start_time": "2022-04-23T10:50:21.826Z"
   },
   {
    "duration": 22,
    "start_time": "2022-04-23T10:50:21.882Z"
   },
   {
    "duration": 96,
    "start_time": "2022-04-23T10:50:21.906Z"
   },
   {
    "duration": 77,
    "start_time": "2022-04-23T10:50:22.004Z"
   },
   {
    "duration": 23,
    "start_time": "2022-04-23T10:50:22.083Z"
   },
   {
    "duration": 45,
    "start_time": "2022-04-23T10:50:22.108Z"
   },
   {
    "duration": 23,
    "start_time": "2022-04-23T10:50:22.154Z"
   },
   {
    "duration": 25,
    "start_time": "2022-04-23T10:50:22.178Z"
   },
   {
    "duration": 45,
    "start_time": "2022-04-23T10:50:22.204Z"
   },
   {
    "duration": 24,
    "start_time": "2022-04-23T10:50:22.251Z"
   },
   {
    "duration": 54,
    "start_time": "2022-04-23T10:50:22.277Z"
   },
   {
    "duration": 3,
    "start_time": "2022-04-23T10:50:22.332Z"
   },
   {
    "duration": 413,
    "start_time": "2022-04-23T10:50:22.336Z"
   },
   {
    "duration": 2998,
    "start_time": "2022-04-23T10:50:22.751Z"
   },
   {
    "duration": 2,
    "start_time": "2022-04-23T10:50:25.750Z"
   },
   {
    "duration": 16,
    "start_time": "2022-04-23T10:50:25.754Z"
   },
   {
    "duration": 22,
    "start_time": "2022-04-23T10:50:25.771Z"
   },
   {
    "duration": 52,
    "start_time": "2022-04-23T10:50:25.795Z"
   },
   {
    "duration": 30,
    "start_time": "2022-04-23T10:50:25.848Z"
   },
   {
    "duration": 975,
    "start_time": "2022-04-23T10:50:25.881Z"
   },
   {
    "duration": 386,
    "start_time": "2022-04-23T10:50:26.858Z"
   },
   {
    "duration": 18,
    "start_time": "2022-04-23T10:50:27.245Z"
   },
   {
    "duration": 2,
    "start_time": "2022-04-23T10:50:27.265Z"
   },
   {
    "duration": 428,
    "start_time": "2022-04-23T10:50:27.268Z"
   },
   {
    "duration": 13,
    "start_time": "2022-04-23T10:50:27.697Z"
   },
   {
    "duration": 207,
    "start_time": "2022-04-23T10:50:27.723Z"
   },
   {
    "duration": 125,
    "start_time": "2022-04-23T10:50:27.932Z"
   },
   {
    "duration": 5814,
    "start_time": "2022-04-23T10:50:28.058Z"
   },
   {
    "duration": 1846,
    "start_time": "2022-04-23T10:50:33.873Z"
   },
   {
    "duration": 21,
    "start_time": "2022-04-23T10:50:35.723Z"
   },
   {
    "duration": 8,
    "start_time": "2022-04-23T10:50:35.745Z"
   },
   {
    "duration": 22,
    "start_time": "2022-04-23T10:50:35.754Z"
   },
   {
    "duration": 281,
    "start_time": "2022-04-23T10:50:35.778Z"
   },
   {
    "duration": 2820,
    "start_time": "2022-04-23T10:50:36.060Z"
   },
   {
    "duration": 2744,
    "start_time": "2022-04-23T10:50:38.881Z"
   },
   {
    "duration": 24498,
    "start_time": "2022-04-23T10:50:41.627Z"
   },
   {
    "duration": 1591,
    "start_time": "2022-04-23T10:56:24.739Z"
   },
   {
    "duration": 727,
    "start_time": "2022-04-23T10:56:26.332Z"
   },
   {
    "duration": 78,
    "start_time": "2022-04-23T10:56:27.061Z"
   },
   {
    "duration": 38,
    "start_time": "2022-04-23T10:56:27.140Z"
   },
   {
    "duration": 192,
    "start_time": "2022-04-23T10:56:27.180Z"
   },
   {
    "duration": 309,
    "start_time": "2022-04-23T10:56:27.373Z"
   },
   {
    "duration": 229,
    "start_time": "2022-04-23T10:56:27.684Z"
   },
   {
    "duration": 64,
    "start_time": "2022-04-23T10:56:27.915Z"
   },
   {
    "duration": 63,
    "start_time": "2022-04-23T10:56:27.980Z"
   },
   {
    "duration": 23,
    "start_time": "2022-04-23T10:56:28.045Z"
   },
   {
    "duration": 100,
    "start_time": "2022-04-23T10:56:28.069Z"
   },
   {
    "duration": 82,
    "start_time": "2022-04-23T10:56:28.171Z"
   },
   {
    "duration": 24,
    "start_time": "2022-04-23T10:56:28.255Z"
   },
   {
    "duration": 26,
    "start_time": "2022-04-23T10:56:28.282Z"
   },
   {
    "duration": 25,
    "start_time": "2022-04-23T10:56:28.323Z"
   },
   {
    "duration": 25,
    "start_time": "2022-04-23T10:56:28.350Z"
   },
   {
    "duration": 23,
    "start_time": "2022-04-23T10:56:28.376Z"
   },
   {
    "duration": 45,
    "start_time": "2022-04-23T10:56:28.400Z"
   },
   {
    "duration": 37,
    "start_time": "2022-04-23T10:56:28.447Z"
   },
   {
    "duration": 2,
    "start_time": "2022-04-23T10:56:28.486Z"
   },
   {
    "duration": 418,
    "start_time": "2022-04-23T10:56:28.489Z"
   },
   {
    "duration": 3398,
    "start_time": "2022-04-23T10:56:28.909Z"
   },
   {
    "duration": 2,
    "start_time": "2022-04-23T10:56:32.308Z"
   },
   {
    "duration": 26,
    "start_time": "2022-04-23T10:56:32.311Z"
   },
   {
    "duration": 24,
    "start_time": "2022-04-23T10:56:32.338Z"
   },
   {
    "duration": 36,
    "start_time": "2022-04-23T10:56:32.363Z"
   },
   {
    "duration": 49,
    "start_time": "2022-04-23T10:56:32.401Z"
   },
   {
    "duration": 1033,
    "start_time": "2022-04-23T10:56:32.452Z"
   },
   {
    "duration": 400,
    "start_time": "2022-04-23T10:56:33.486Z"
   },
   {
    "duration": 18,
    "start_time": "2022-04-23T10:56:33.888Z"
   },
   {
    "duration": 15,
    "start_time": "2022-04-23T10:56:33.908Z"
   },
   {
    "duration": 438,
    "start_time": "2022-04-23T10:56:33.925Z"
   },
   {
    "duration": 12,
    "start_time": "2022-04-23T10:56:34.365Z"
   },
   {
    "duration": 150,
    "start_time": "2022-04-23T10:56:34.379Z"
   },
   {
    "duration": 128,
    "start_time": "2022-04-23T10:56:34.530Z"
   },
   {
    "duration": 5506,
    "start_time": "2022-04-23T10:56:34.659Z"
   },
   {
    "duration": 1835,
    "start_time": "2022-04-23T10:56:40.167Z"
   },
   {
    "duration": 29,
    "start_time": "2022-04-23T10:56:42.003Z"
   },
   {
    "duration": 8,
    "start_time": "2022-04-23T10:56:42.033Z"
   },
   {
    "duration": 29,
    "start_time": "2022-04-23T10:56:42.042Z"
   },
   {
    "duration": 264,
    "start_time": "2022-04-23T10:56:42.075Z"
   },
   {
    "duration": 2820,
    "start_time": "2022-04-23T10:56:42.341Z"
   },
   {
    "duration": 2774,
    "start_time": "2022-04-23T10:56:45.163Z"
   },
   {
    "duration": 15895,
    "start_time": "2022-04-23T10:56:47.939Z"
   },
   {
    "duration": 13280,
    "start_time": "2022-04-23T14:02:00.545Z"
   },
   {
    "duration": 0,
    "start_time": "2022-04-23T14:02:13.827Z"
   },
   {
    "duration": 0,
    "start_time": "2022-04-23T14:02:13.829Z"
   },
   {
    "duration": 0,
    "start_time": "2022-04-23T14:02:13.830Z"
   },
   {
    "duration": 0,
    "start_time": "2022-04-23T14:02:13.832Z"
   },
   {
    "duration": 0,
    "start_time": "2022-04-23T14:02:13.833Z"
   },
   {
    "duration": 0,
    "start_time": "2022-04-23T14:02:13.835Z"
   },
   {
    "duration": 0,
    "start_time": "2022-04-23T14:02:13.836Z"
   },
   {
    "duration": 0,
    "start_time": "2022-04-23T14:02:13.838Z"
   },
   {
    "duration": 0,
    "start_time": "2022-04-23T14:02:13.839Z"
   },
   {
    "duration": 0,
    "start_time": "2022-04-23T14:02:13.840Z"
   },
   {
    "duration": 0,
    "start_time": "2022-04-23T14:02:13.841Z"
   },
   {
    "duration": 0,
    "start_time": "2022-04-23T14:02:13.842Z"
   },
   {
    "duration": 0,
    "start_time": "2022-04-23T14:02:13.844Z"
   },
   {
    "duration": 0,
    "start_time": "2022-04-23T14:02:13.845Z"
   },
   {
    "duration": 0,
    "start_time": "2022-04-23T14:02:13.848Z"
   },
   {
    "duration": 0,
    "start_time": "2022-04-23T14:02:13.849Z"
   },
   {
    "duration": 0,
    "start_time": "2022-04-23T14:02:13.851Z"
   },
   {
    "duration": 0,
    "start_time": "2022-04-23T14:02:13.852Z"
   },
   {
    "duration": 0,
    "start_time": "2022-04-23T14:02:13.853Z"
   },
   {
    "duration": 0,
    "start_time": "2022-04-23T14:02:13.855Z"
   },
   {
    "duration": 42074,
    "start_time": "2022-04-23T14:02:16.300Z"
   },
   {
    "duration": 854,
    "start_time": "2022-04-23T14:02:58.377Z"
   },
   {
    "duration": 70,
    "start_time": "2022-04-23T14:02:59.233Z"
   },
   {
    "duration": 51,
    "start_time": "2022-04-23T14:02:59.323Z"
   },
   {
    "duration": 221,
    "start_time": "2022-04-23T14:02:59.377Z"
   },
   {
    "duration": 438,
    "start_time": "2022-04-23T14:02:59.599Z"
   },
   {
    "duration": 225,
    "start_time": "2022-04-23T14:03:00.039Z"
   },
   {
    "duration": 70,
    "start_time": "2022-04-23T14:03:00.266Z"
   },
   {
    "duration": 57,
    "start_time": "2022-04-23T14:03:00.338Z"
   },
   {
    "duration": 44,
    "start_time": "2022-04-23T14:03:00.397Z"
   },
   {
    "duration": 100,
    "start_time": "2022-04-23T14:03:00.443Z"
   },
   {
    "duration": 83,
    "start_time": "2022-04-23T14:03:00.545Z"
   },
   {
    "duration": 27,
    "start_time": "2022-04-23T14:03:00.630Z"
   },
   {
    "duration": 56,
    "start_time": "2022-04-23T14:03:00.659Z"
   },
   {
    "duration": 26,
    "start_time": "2022-04-23T14:03:00.724Z"
   },
   {
    "duration": 58,
    "start_time": "2022-04-23T14:03:00.752Z"
   },
   {
    "duration": 52,
    "start_time": "2022-04-23T14:03:00.812Z"
   },
   {
    "duration": 60,
    "start_time": "2022-04-23T14:03:00.866Z"
   },
   {
    "duration": 46,
    "start_time": "2022-04-23T14:03:00.928Z"
   },
   {
    "duration": 8,
    "start_time": "2022-04-23T14:03:00.976Z"
   },
   {
    "duration": 23,
    "start_time": "2022-04-23T14:03:49.510Z"
   },
   {
    "duration": 3,
    "start_time": "2022-04-23T14:04:03.984Z"
   },
   {
    "duration": 33,
    "start_time": "2022-04-23T14:04:09.158Z"
   },
   {
    "duration": 266,
    "start_time": "2022-04-23T14:04:37.089Z"
   },
   {
    "duration": 259,
    "start_time": "2022-04-23T14:04:41.555Z"
   },
   {
    "duration": 261,
    "start_time": "2022-04-23T14:04:44.347Z"
   },
   {
    "duration": 17,
    "start_time": "2022-04-23T14:04:57.130Z"
   },
   {
    "duration": 496,
    "start_time": "2022-04-23T14:05:03.996Z"
   },
   {
    "duration": 25,
    "start_time": "2022-04-23T14:05:23.603Z"
   },
   {
    "duration": 435,
    "start_time": "2022-04-23T14:05:40.127Z"
   },
   {
    "duration": 7,
    "start_time": "2022-04-23T14:05:58.887Z"
   },
   {
    "duration": 1165,
    "start_time": "2022-04-23T14:05:59.188Z"
   },
   {
    "duration": 35,
    "start_time": "2022-04-23T14:06:02.976Z"
   },
   {
    "duration": 20,
    "start_time": "2022-04-23T14:06:05.808Z"
   },
   {
    "duration": 34,
    "start_time": "2022-04-23T14:06:12.856Z"
   },
   {
    "duration": 167,
    "start_time": "2022-04-23T14:06:15.369Z"
   },
   {
    "duration": 409,
    "start_time": "2022-04-23T14:06:15.538Z"
   },
   {
    "duration": 213,
    "start_time": "2022-04-23T14:06:18.950Z"
   },
   {
    "duration": 61,
    "start_time": "2022-04-23T14:06:23.743Z"
   },
   {
    "duration": 57,
    "start_time": "2022-04-23T14:06:25.853Z"
   },
   {
    "duration": 25,
    "start_time": "2022-04-23T14:06:26.307Z"
   },
   {
    "duration": 84,
    "start_time": "2022-04-23T14:06:28.942Z"
   },
   {
    "duration": 17,
    "start_time": "2022-04-23T14:06:31.114Z"
   },
   {
    "duration": 641,
    "start_time": "2022-04-23T14:06:43.071Z"
   },
   {
    "duration": 51,
    "start_time": "2022-04-23T14:06:45.919Z"
   },
   {
    "duration": 26,
    "start_time": "2022-04-23T14:06:49.331Z"
   },
   {
    "duration": 156,
    "start_time": "2022-04-23T14:06:58.942Z"
   },
   {
    "duration": 285,
    "start_time": "2022-04-23T14:06:59.123Z"
   },
   {
    "duration": 17,
    "start_time": "2022-04-23T14:07:00.452Z"
   },
   {
    "duration": 661,
    "start_time": "2022-04-23T14:07:43.841Z"
   },
   {
    "duration": 39,
    "start_time": "2022-04-23T14:07:44.861Z"
   },
   {
    "duration": 37,
    "start_time": "2022-04-23T14:07:47.268Z"
   },
   {
    "duration": 312,
    "start_time": "2022-04-23T14:07:48.373Z"
   },
   {
    "duration": 562,
    "start_time": "2022-04-23T14:07:48.688Z"
   },
   {
    "duration": 1385,
    "start_time": "2022-04-23T14:07:49.253Z"
   },
   {
    "duration": 232,
    "start_time": "2022-04-23T14:07:50.640Z"
   },
   {
    "duration": 642,
    "start_time": "2022-04-23T14:07:50.874Z"
   },
   {
    "duration": 1466,
    "start_time": "2022-04-23T14:07:51.518Z"
   },
   {
    "duration": 1892,
    "start_time": "2022-04-23T14:07:52.985Z"
   },
   {
    "duration": 1432,
    "start_time": "2022-04-23T14:07:54.878Z"
   },
   {
    "duration": 145,
    "start_time": "2022-04-23T14:07:56.312Z"
   },
   {
    "duration": 29,
    "start_time": "2022-04-23T14:07:56.459Z"
   },
   {
    "duration": 28,
    "start_time": "2022-04-23T14:07:56.489Z"
   },
   {
    "duration": 27,
    "start_time": "2022-04-23T14:07:56.524Z"
   },
   {
    "duration": 29,
    "start_time": "2022-04-23T14:07:56.552Z"
   },
   {
    "duration": 64,
    "start_time": "2022-04-23T14:07:56.583Z"
   },
   {
    "duration": 42,
    "start_time": "2022-04-23T14:07:58.118Z"
   },
   {
    "duration": 2,
    "start_time": "2022-04-23T14:07:58.259Z"
   },
   {
    "duration": 15,
    "start_time": "2022-04-23T14:08:08.621Z"
   },
   {
    "duration": 406,
    "start_time": "2022-04-23T14:08:14.992Z"
   },
   {
    "duration": 26,
    "start_time": "2022-04-23T14:12:15.340Z"
   },
   {
    "duration": 1126,
    "start_time": "2022-04-23T14:12:20.675Z"
   },
   {
    "duration": 67,
    "start_time": "2022-04-23T14:12:21.803Z"
   },
   {
    "duration": 28,
    "start_time": "2022-04-23T14:12:21.872Z"
   },
   {
    "duration": 177,
    "start_time": "2022-04-23T14:12:21.902Z"
   },
   {
    "duration": 532,
    "start_time": "2022-04-23T14:12:22.080Z"
   },
   {
    "duration": 351,
    "start_time": "2022-04-23T14:12:22.614Z"
   },
   {
    "duration": 114,
    "start_time": "2022-04-23T14:12:22.968Z"
   },
   {
    "duration": 112,
    "start_time": "2022-04-23T14:12:23.084Z"
   },
   {
    "duration": 46,
    "start_time": "2022-04-23T14:12:23.198Z"
   },
   {
    "duration": 146,
    "start_time": "2022-04-23T14:12:23.247Z"
   },
   {
    "duration": 128,
    "start_time": "2022-04-23T14:12:23.726Z"
   },
   {
    "duration": 35,
    "start_time": "2022-04-23T14:12:24.045Z"
   },
   {
    "duration": 24,
    "start_time": "2022-04-23T14:12:24.181Z"
   },
   {
    "duration": 26,
    "start_time": "2022-04-23T14:12:24.294Z"
   },
   {
    "duration": 41,
    "start_time": "2022-04-23T14:12:25.112Z"
   },
   {
    "duration": 44,
    "start_time": "2022-04-23T14:12:25.271Z"
   },
   {
    "duration": 43,
    "start_time": "2022-04-23T14:12:25.383Z"
   },
   {
    "duration": 40,
    "start_time": "2022-04-23T14:12:25.587Z"
   },
   {
    "duration": 3,
    "start_time": "2022-04-23T14:12:25.925Z"
   },
   {
    "duration": 15,
    "start_time": "2022-04-23T14:12:26.789Z"
   },
   {
    "duration": 428,
    "start_time": "2022-04-23T14:12:30.924Z"
   },
   {
    "duration": 720,
    "start_time": "2022-04-23T14:13:00.690Z"
   },
   {
    "duration": 59,
    "start_time": "2022-04-23T14:13:01.412Z"
   },
   {
    "duration": 53,
    "start_time": "2022-04-23T14:13:01.534Z"
   },
   {
    "duration": 176,
    "start_time": "2022-04-23T14:13:01.669Z"
   },
   {
    "duration": 314,
    "start_time": "2022-04-23T14:13:01.847Z"
   },
   {
    "duration": 302,
    "start_time": "2022-04-23T14:13:02.163Z"
   },
   {
    "duration": 63,
    "start_time": "2022-04-23T14:13:02.512Z"
   },
   {
    "duration": 60,
    "start_time": "2022-04-23T14:13:02.693Z"
   },
   {
    "duration": 43,
    "start_time": "2022-04-23T14:13:03.147Z"
   },
   {
    "duration": 73,
    "start_time": "2022-04-23T14:13:03.349Z"
   },
   {
    "duration": 75,
    "start_time": "2022-04-23T14:13:05.373Z"
   },
   {
    "duration": 26,
    "start_time": "2022-04-23T14:13:06.399Z"
   },
   {
    "duration": 34,
    "start_time": "2022-04-23T14:13:06.802Z"
   },
   {
    "duration": 39,
    "start_time": "2022-04-23T14:13:07.236Z"
   },
   {
    "duration": 25,
    "start_time": "2022-04-23T14:13:08.147Z"
   },
   {
    "duration": 35,
    "start_time": "2022-04-23T14:13:08.761Z"
   },
   {
    "duration": 34,
    "start_time": "2022-04-23T14:13:09.487Z"
   },
   {
    "duration": 40,
    "start_time": "2022-04-23T14:13:09.851Z"
   },
   {
    "duration": 2,
    "start_time": "2022-04-23T14:13:10.236Z"
   },
   {
    "duration": 24,
    "start_time": "2022-04-23T14:13:10.640Z"
   },
   {
    "duration": 407,
    "start_time": "2022-04-23T14:13:11.740Z"
   },
   {
    "duration": 634,
    "start_time": "2022-04-23T14:14:29.892Z"
   },
   {
    "duration": 46,
    "start_time": "2022-04-23T14:14:30.529Z"
   },
   {
    "duration": 39,
    "start_time": "2022-04-23T14:14:30.843Z"
   },
   {
    "duration": 251,
    "start_time": "2022-04-23T14:14:31.003Z"
   },
   {
    "duration": 507,
    "start_time": "2022-04-23T14:14:31.256Z"
   },
   {
    "duration": 311,
    "start_time": "2022-04-23T14:14:31.766Z"
   },
   {
    "duration": 104,
    "start_time": "2022-04-23T14:14:32.232Z"
   },
   {
    "duration": 97,
    "start_time": "2022-04-23T14:14:32.527Z"
   },
   {
    "duration": 25,
    "start_time": "2022-04-23T14:14:33.120Z"
   },
   {
    "duration": 82,
    "start_time": "2022-04-23T14:14:33.302Z"
   },
   {
    "duration": 75,
    "start_time": "2022-04-23T14:14:34.144Z"
   },
   {
    "duration": 24,
    "start_time": "2022-04-23T14:14:34.779Z"
   },
   {
    "duration": 28,
    "start_time": "2022-04-23T14:14:35.004Z"
   },
   {
    "duration": 38,
    "start_time": "2022-04-23T14:14:35.371Z"
   },
   {
    "duration": 33,
    "start_time": "2022-04-23T14:14:36.121Z"
   },
   {
    "duration": 25,
    "start_time": "2022-04-23T14:14:36.845Z"
   },
   {
    "duration": 26,
    "start_time": "2022-04-23T14:14:39.547Z"
   },
   {
    "duration": 39,
    "start_time": "2022-04-23T14:14:40.000Z"
   },
   {
    "duration": 2,
    "start_time": "2022-04-23T14:14:40.453Z"
   },
   {
    "duration": 18,
    "start_time": "2022-04-23T14:14:40.890Z"
   },
   {
    "duration": 409,
    "start_time": "2022-04-23T14:14:44.981Z"
   }
  ],
  "kernelspec": {
   "display_name": "Python 3 (ipykernel)",
   "language": "python",
   "name": "python3"
  },
  "language_info": {
   "codemirror_mode": {
    "name": "ipython",
    "version": 3
   },
   "file_extension": ".py",
   "mimetype": "text/x-python",
   "name": "python",
   "nbconvert_exporter": "python",
   "pygments_lexer": "ipython3",
   "version": "3.9.5"
  },
  "toc": {
   "base_numbering": 1,
   "nav_menu": {},
   "number_sections": true,
   "sideBar": true,
   "skip_h1_title": true,
   "title_cell": "Table of Contents",
   "title_sidebar": "Contents",
   "toc_cell": false,
   "toc_position": {},
   "toc_section_display": true,
   "toc_window_display": false
  }
 },
 "nbformat": 4,
 "nbformat_minor": 2
}
